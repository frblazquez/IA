{
 "cells": [
  {
   "cell_type": "markdown",
   "metadata": {},
   "source": [
    "# Grupo 05 IA | Práctica 1\n",
    "\n",
    "* Boris Carballa Corredoira\n",
    "* Juan Carlos Villanueva Quirós\n",
    "* Francisco Javier Blázquez Martínez\n",
    "\n",
    "# Parte 3: Regresión\n"
   ]
  },
  {
   "cell_type": "code",
   "execution_count": 1,
   "metadata": {},
   "outputs": [],
   "source": [
    "import numpy  as np\n",
    "import pandas as pd\n",
    "import matplotlib.pyplot as plt\n",
    "\n",
    "from sklearn.preprocessing   import StandardScaler\n",
    "from sklearn.neural_network  import MLPRegressor\n",
    "from sklearn.model_selection import cross_val_score\n",
    "from sklearn.metrics         import mean_squared_error"
   ]
  },
  {
   "cell_type": "markdown",
   "metadata": {},
   "source": [
    "### 1) Conjunto de datos\n",
    "\n",
    "Obtención y limpieza de datos. Desechamos el campo \"región\" del dataframe obtenido y todas las entradas con valores no inicializados."
   ]
  },
  {
   "cell_type": "code",
   "execution_count": 2,
   "metadata": {
    "scrolled": true
   },
   "outputs": [
    {
     "data": {
      "text/html": [
       "<div>\n",
       "<style scoped>\n",
       "    .dataframe tbody tr th:only-of-type {\n",
       "        vertical-align: middle;\n",
       "    }\n",
       "\n",
       "    .dataframe tbody tr th {\n",
       "        vertical-align: top;\n",
       "    }\n",
       "\n",
       "    .dataframe thead th {\n",
       "        text-align: right;\n",
       "    }\n",
       "</style>\n",
       "<table border=\"1\" class=\"dataframe\">\n",
       "  <thead>\n",
       "    <tr style=\"text-align: right;\">\n",
       "      <th></th>\n",
       "      <th>Country</th>\n",
       "      <th>Population</th>\n",
       "      <th>Area (sq. mi.)</th>\n",
       "      <th>Pop. Density (per sq. mi.)</th>\n",
       "      <th>Coastline (coast/area ratio)</th>\n",
       "      <th>Net migration</th>\n",
       "      <th>Infant mortality (per 1000 births)</th>\n",
       "      <th>GDP (USD per capita)</th>\n",
       "      <th>Literacy (%)</th>\n",
       "      <th>Phones (per 1000)</th>\n",
       "      <th>Arable (%)</th>\n",
       "      <th>Crops (%)</th>\n",
       "      <th>Other (%)</th>\n",
       "      <th>Climate</th>\n",
       "      <th>Birthrate</th>\n",
       "      <th>Deathrate</th>\n",
       "      <th>Agriculture</th>\n",
       "      <th>Industry</th>\n",
       "      <th>Service</th>\n",
       "    </tr>\n",
       "  </thead>\n",
       "  <tbody>\n",
       "    <tr>\n",
       "      <th>0</th>\n",
       "      <td>Afghanistan</td>\n",
       "      <td>31056997</td>\n",
       "      <td>647500</td>\n",
       "      <td>48.0</td>\n",
       "      <td>0.00</td>\n",
       "      <td>23.06</td>\n",
       "      <td>163.07</td>\n",
       "      <td>700.0</td>\n",
       "      <td>36.0</td>\n",
       "      <td>3.2</td>\n",
       "      <td>12.13</td>\n",
       "      <td>0.22</td>\n",
       "      <td>87.65</td>\n",
       "      <td>1.0</td>\n",
       "      <td>46.60</td>\n",
       "      <td>20.34</td>\n",
       "      <td>0.380</td>\n",
       "      <td>0.240</td>\n",
       "      <td>0.380</td>\n",
       "    </tr>\n",
       "    <tr>\n",
       "      <th>1</th>\n",
       "      <td>Albania</td>\n",
       "      <td>3581655</td>\n",
       "      <td>28748</td>\n",
       "      <td>124.6</td>\n",
       "      <td>1.26</td>\n",
       "      <td>-4.93</td>\n",
       "      <td>21.52</td>\n",
       "      <td>4500.0</td>\n",
       "      <td>86.5</td>\n",
       "      <td>71.2</td>\n",
       "      <td>21.09</td>\n",
       "      <td>4.42</td>\n",
       "      <td>74.49</td>\n",
       "      <td>3.0</td>\n",
       "      <td>15.11</td>\n",
       "      <td>5.22</td>\n",
       "      <td>0.232</td>\n",
       "      <td>0.188</td>\n",
       "      <td>0.579</td>\n",
       "    </tr>\n",
       "    <tr>\n",
       "      <th>2</th>\n",
       "      <td>Algeria</td>\n",
       "      <td>32930091</td>\n",
       "      <td>2381740</td>\n",
       "      <td>13.8</td>\n",
       "      <td>0.04</td>\n",
       "      <td>-0.39</td>\n",
       "      <td>31.00</td>\n",
       "      <td>6000.0</td>\n",
       "      <td>70.0</td>\n",
       "      <td>78.1</td>\n",
       "      <td>3.22</td>\n",
       "      <td>0.25</td>\n",
       "      <td>96.53</td>\n",
       "      <td>1.0</td>\n",
       "      <td>17.14</td>\n",
       "      <td>4.61</td>\n",
       "      <td>0.101</td>\n",
       "      <td>0.600</td>\n",
       "      <td>0.298</td>\n",
       "    </tr>\n",
       "    <tr>\n",
       "      <th>6</th>\n",
       "      <td>Anguilla</td>\n",
       "      <td>13477</td>\n",
       "      <td>102</td>\n",
       "      <td>132.1</td>\n",
       "      <td>59.80</td>\n",
       "      <td>10.76</td>\n",
       "      <td>21.03</td>\n",
       "      <td>8600.0</td>\n",
       "      <td>95.0</td>\n",
       "      <td>460.0</td>\n",
       "      <td>0.00</td>\n",
       "      <td>0.00</td>\n",
       "      <td>100.00</td>\n",
       "      <td>2.0</td>\n",
       "      <td>14.17</td>\n",
       "      <td>5.34</td>\n",
       "      <td>0.040</td>\n",
       "      <td>0.180</td>\n",
       "      <td>0.780</td>\n",
       "    </tr>\n",
       "    <tr>\n",
       "      <th>7</th>\n",
       "      <td>Antigua &amp; Barbuda</td>\n",
       "      <td>69108</td>\n",
       "      <td>443</td>\n",
       "      <td>156.0</td>\n",
       "      <td>34.54</td>\n",
       "      <td>-6.15</td>\n",
       "      <td>19.46</td>\n",
       "      <td>11000.0</td>\n",
       "      <td>89.0</td>\n",
       "      <td>549.9</td>\n",
       "      <td>18.18</td>\n",
       "      <td>4.55</td>\n",
       "      <td>77.27</td>\n",
       "      <td>2.0</td>\n",
       "      <td>16.93</td>\n",
       "      <td>5.37</td>\n",
       "      <td>0.038</td>\n",
       "      <td>0.220</td>\n",
       "      <td>0.743</td>\n",
       "    </tr>\n",
       "    <tr>\n",
       "      <th>...</th>\n",
       "      <td>...</td>\n",
       "      <td>...</td>\n",
       "      <td>...</td>\n",
       "      <td>...</td>\n",
       "      <td>...</td>\n",
       "      <td>...</td>\n",
       "      <td>...</td>\n",
       "      <td>...</td>\n",
       "      <td>...</td>\n",
       "      <td>...</td>\n",
       "      <td>...</td>\n",
       "      <td>...</td>\n",
       "      <td>...</td>\n",
       "      <td>...</td>\n",
       "      <td>...</td>\n",
       "      <td>...</td>\n",
       "      <td>...</td>\n",
       "      <td>...</td>\n",
       "      <td>...</td>\n",
       "    </tr>\n",
       "    <tr>\n",
       "      <th>218</th>\n",
       "      <td>Venezuela</td>\n",
       "      <td>25730435</td>\n",
       "      <td>912050</td>\n",
       "      <td>28.2</td>\n",
       "      <td>0.31</td>\n",
       "      <td>-0.04</td>\n",
       "      <td>22.20</td>\n",
       "      <td>4800.0</td>\n",
       "      <td>93.4</td>\n",
       "      <td>140.1</td>\n",
       "      <td>2.95</td>\n",
       "      <td>0.92</td>\n",
       "      <td>96.13</td>\n",
       "      <td>2.0</td>\n",
       "      <td>18.71</td>\n",
       "      <td>4.92</td>\n",
       "      <td>0.040</td>\n",
       "      <td>0.419</td>\n",
       "      <td>0.541</td>\n",
       "    </tr>\n",
       "    <tr>\n",
       "      <th>219</th>\n",
       "      <td>Vietnam</td>\n",
       "      <td>84402966</td>\n",
       "      <td>329560</td>\n",
       "      <td>256.1</td>\n",
       "      <td>1.05</td>\n",
       "      <td>-0.45</td>\n",
       "      <td>25.95</td>\n",
       "      <td>2500.0</td>\n",
       "      <td>90.3</td>\n",
       "      <td>187.7</td>\n",
       "      <td>19.97</td>\n",
       "      <td>5.95</td>\n",
       "      <td>74.08</td>\n",
       "      <td>2.0</td>\n",
       "      <td>16.86</td>\n",
       "      <td>6.22</td>\n",
       "      <td>0.209</td>\n",
       "      <td>0.410</td>\n",
       "      <td>0.381</td>\n",
       "    </tr>\n",
       "    <tr>\n",
       "      <th>224</th>\n",
       "      <td>Yemen</td>\n",
       "      <td>21456188</td>\n",
       "      <td>527970</td>\n",
       "      <td>40.6</td>\n",
       "      <td>0.36</td>\n",
       "      <td>0.00</td>\n",
       "      <td>61.50</td>\n",
       "      <td>800.0</td>\n",
       "      <td>50.2</td>\n",
       "      <td>37.2</td>\n",
       "      <td>2.78</td>\n",
       "      <td>0.24</td>\n",
       "      <td>96.98</td>\n",
       "      <td>1.0</td>\n",
       "      <td>42.89</td>\n",
       "      <td>8.30</td>\n",
       "      <td>0.135</td>\n",
       "      <td>0.472</td>\n",
       "      <td>0.393</td>\n",
       "    </tr>\n",
       "    <tr>\n",
       "      <th>225</th>\n",
       "      <td>Zambia</td>\n",
       "      <td>11502010</td>\n",
       "      <td>752614</td>\n",
       "      <td>15.3</td>\n",
       "      <td>0.00</td>\n",
       "      <td>0.00</td>\n",
       "      <td>88.29</td>\n",
       "      <td>800.0</td>\n",
       "      <td>80.6</td>\n",
       "      <td>8.2</td>\n",
       "      <td>7.08</td>\n",
       "      <td>0.03</td>\n",
       "      <td>92.90</td>\n",
       "      <td>2.0</td>\n",
       "      <td>41.00</td>\n",
       "      <td>19.93</td>\n",
       "      <td>0.220</td>\n",
       "      <td>0.290</td>\n",
       "      <td>0.489</td>\n",
       "    </tr>\n",
       "    <tr>\n",
       "      <th>226</th>\n",
       "      <td>Zimbabwe</td>\n",
       "      <td>12236805</td>\n",
       "      <td>390580</td>\n",
       "      <td>31.3</td>\n",
       "      <td>0.00</td>\n",
       "      <td>0.00</td>\n",
       "      <td>67.69</td>\n",
       "      <td>1900.0</td>\n",
       "      <td>90.7</td>\n",
       "      <td>26.8</td>\n",
       "      <td>8.32</td>\n",
       "      <td>0.34</td>\n",
       "      <td>91.34</td>\n",
       "      <td>2.0</td>\n",
       "      <td>28.01</td>\n",
       "      <td>21.84</td>\n",
       "      <td>0.179</td>\n",
       "      <td>0.243</td>\n",
       "      <td>0.579</td>\n",
       "    </tr>\n",
       "  </tbody>\n",
       "</table>\n",
       "<p>179 rows × 19 columns</p>\n",
       "</div>"
      ],
      "text/plain": [
       "                Country  Population  Area (sq. mi.)  \\\n",
       "0          Afghanistan     31056997          647500   \n",
       "1              Albania      3581655           28748   \n",
       "2              Algeria     32930091         2381740   \n",
       "6             Anguilla        13477             102   \n",
       "7    Antigua & Barbuda        69108             443   \n",
       "..                  ...         ...             ...   \n",
       "218          Venezuela     25730435          912050   \n",
       "219            Vietnam     84402966          329560   \n",
       "224              Yemen     21456188          527970   \n",
       "225             Zambia     11502010          752614   \n",
       "226           Zimbabwe     12236805          390580   \n",
       "\n",
       "     Pop. Density (per sq. mi.)  Coastline (coast/area ratio)  Net migration  \\\n",
       "0                          48.0                          0.00          23.06   \n",
       "1                         124.6                          1.26          -4.93   \n",
       "2                          13.8                          0.04          -0.39   \n",
       "6                         132.1                         59.80          10.76   \n",
       "7                         156.0                         34.54          -6.15   \n",
       "..                          ...                           ...            ...   \n",
       "218                        28.2                          0.31          -0.04   \n",
       "219                       256.1                          1.05          -0.45   \n",
       "224                        40.6                          0.36           0.00   \n",
       "225                        15.3                          0.00           0.00   \n",
       "226                        31.3                          0.00           0.00   \n",
       "\n",
       "     Infant mortality (per 1000 births)  GDP (USD per capita)  Literacy (%)  \\\n",
       "0                                163.07                 700.0          36.0   \n",
       "1                                 21.52                4500.0          86.5   \n",
       "2                                 31.00                6000.0          70.0   \n",
       "6                                 21.03                8600.0          95.0   \n",
       "7                                 19.46               11000.0          89.0   \n",
       "..                                  ...                   ...           ...   \n",
       "218                               22.20                4800.0          93.4   \n",
       "219                               25.95                2500.0          90.3   \n",
       "224                               61.50                 800.0          50.2   \n",
       "225                               88.29                 800.0          80.6   \n",
       "226                               67.69                1900.0          90.7   \n",
       "\n",
       "     Phones (per 1000)  Arable (%)  Crops (%)  Other (%)  Climate  Birthrate  \\\n",
       "0                  3.2       12.13       0.22      87.65      1.0      46.60   \n",
       "1                 71.2       21.09       4.42      74.49      3.0      15.11   \n",
       "2                 78.1        3.22       0.25      96.53      1.0      17.14   \n",
       "6                460.0        0.00       0.00     100.00      2.0      14.17   \n",
       "7                549.9       18.18       4.55      77.27      2.0      16.93   \n",
       "..                 ...         ...        ...        ...      ...        ...   \n",
       "218              140.1        2.95       0.92      96.13      2.0      18.71   \n",
       "219              187.7       19.97       5.95      74.08      2.0      16.86   \n",
       "224               37.2        2.78       0.24      96.98      1.0      42.89   \n",
       "225                8.2        7.08       0.03      92.90      2.0      41.00   \n",
       "226               26.8        8.32       0.34      91.34      2.0      28.01   \n",
       "\n",
       "     Deathrate  Agriculture  Industry  Service  \n",
       "0        20.34        0.380     0.240    0.380  \n",
       "1         5.22        0.232     0.188    0.579  \n",
       "2         4.61        0.101     0.600    0.298  \n",
       "6         5.34        0.040     0.180    0.780  \n",
       "7         5.37        0.038     0.220    0.743  \n",
       "..         ...          ...       ...      ...  \n",
       "218       4.92        0.040     0.419    0.541  \n",
       "219       6.22        0.209     0.410    0.381  \n",
       "224       8.30        0.135     0.472    0.393  \n",
       "225      19.93        0.220     0.290    0.489  \n",
       "226      21.84        0.179     0.243    0.579  \n",
       "\n",
       "[179 rows x 19 columns]"
      ]
     },
     "execution_count": 2,
     "metadata": {},
     "output_type": "execute_result"
    }
   ],
   "source": [
    "## Data can be found at: https://www.kaggle.com/noxmoon/world-countries-predicting-gdp\n",
    "paises = pd.read_csv(\"countries.csv\")\n",
    "paises = paises.drop(['Region'], axis=1)\n",
    "paises = paises.dropna()\n",
    "paises"
   ]
  },
  {
   "cell_type": "markdown",
   "metadata": {},
   "source": [
    "En este punto tenemos cargado ya nuestro DataFrame **paises**. Este contiene información sobre distintos paises (población, tasa de nacimientos, **PIB**...). En concreto las variables de las que se tiene información para cada país son las siguientes:"
   ]
  },
  {
   "cell_type": "code",
   "execution_count": 3,
   "metadata": {
    "scrolled": false
   },
   "outputs": [
    {
     "data": {
      "text/plain": [
       "Country                                object\n",
       "Population                              int64\n",
       "Area (sq. mi.)                          int64\n",
       "Pop. Density (per sq. mi.)            float64\n",
       "Coastline (coast/area ratio)          float64\n",
       "Net migration                         float64\n",
       "Infant mortality (per 1000 births)    float64\n",
       "GDP (USD per capita)                  float64\n",
       "Literacy (%)                          float64\n",
       "Phones (per 1000)                     float64\n",
       "Arable (%)                            float64\n",
       "Crops (%)                             float64\n",
       "Other (%)                             float64\n",
       "Climate                               float64\n",
       "Birthrate                             float64\n",
       "Deathrate                             float64\n",
       "Agriculture                           float64\n",
       "Industry                              float64\n",
       "Service                               float64\n",
       "dtype: object"
      ]
     },
     "execution_count": 3,
     "metadata": {},
     "output_type": "execute_result"
    }
   ],
   "source": [
    "paises.dtypes"
   ]
  },
  {
   "cell_type": "markdown",
   "metadata": {},
   "source": [
    "Un sencillo análisis de estas variables por separado nos arroja los siguientes indicadores, de los que cabe destacar en absolutamente todos los parámetros controlados la enorme diferencia entre el país con valor máximo y mínimo junto con una desviación típica grande. Esto es un buen indicativo pues si nuestros datos no se distribuyen de forma anómala, cabe esperar tener información de todas las regiones de nuestro espacio muestral. "
   ]
  },
  {
   "cell_type": "code",
   "execution_count": 4,
   "metadata": {
    "scrolled": true
   },
   "outputs": [
    {
     "data": {
      "text/html": [
       "<div>\n",
       "<style scoped>\n",
       "    .dataframe tbody tr th:only-of-type {\n",
       "        vertical-align: middle;\n",
       "    }\n",
       "\n",
       "    .dataframe tbody tr th {\n",
       "        vertical-align: top;\n",
       "    }\n",
       "\n",
       "    .dataframe thead th {\n",
       "        text-align: right;\n",
       "    }\n",
       "</style>\n",
       "<table border=\"1\" class=\"dataframe\">\n",
       "  <thead>\n",
       "    <tr style=\"text-align: right;\">\n",
       "      <th></th>\n",
       "      <th>count</th>\n",
       "      <th>mean</th>\n",
       "      <th>std</th>\n",
       "      <th>min</th>\n",
       "      <th>25%</th>\n",
       "      <th>50%</th>\n",
       "      <th>75%</th>\n",
       "      <th>max</th>\n",
       "    </tr>\n",
       "  </thead>\n",
       "  <tbody>\n",
       "    <tr>\n",
       "      <th>Population</th>\n",
       "      <td>179.0</td>\n",
       "      <td>3.421415e+07</td>\n",
       "      <td>1.317639e+08</td>\n",
       "      <td>13477.000</td>\n",
       "      <td>1.188580e+06</td>\n",
       "      <td>6940432.000</td>\n",
       "      <td>2.086014e+07</td>\n",
       "      <td>1.313974e+09</td>\n",
       "    </tr>\n",
       "    <tr>\n",
       "      <th>Area (sq. mi.)</th>\n",
       "      <td>179.0</td>\n",
       "      <td>5.641830e+05</td>\n",
       "      <td>1.395657e+06</td>\n",
       "      <td>28.000</td>\n",
       "      <td>1.991500e+04</td>\n",
       "      <td>118480.000</td>\n",
       "      <td>4.964410e+05</td>\n",
       "      <td>9.631420e+06</td>\n",
       "    </tr>\n",
       "    <tr>\n",
       "      <th>Pop. Density (per sq. mi.)</th>\n",
       "      <td>179.0</td>\n",
       "      <td>2.948050e+02</td>\n",
       "      <td>1.379353e+03</td>\n",
       "      <td>1.800</td>\n",
       "      <td>2.680000e+01</td>\n",
       "      <td>66.900</td>\n",
       "      <td>1.647000e+02</td>\n",
       "      <td>1.618300e+04</td>\n",
       "    </tr>\n",
       "    <tr>\n",
       "      <th>Coastline (coast/area ratio)</th>\n",
       "      <td>179.0</td>\n",
       "      <td>1.649520e+01</td>\n",
       "      <td>7.397760e+01</td>\n",
       "      <td>0.000</td>\n",
       "      <td>9.000000e-02</td>\n",
       "      <td>0.630</td>\n",
       "      <td>5.355000e+00</td>\n",
       "      <td>8.706600e+02</td>\n",
       "    </tr>\n",
       "    <tr>\n",
       "      <th>Net migration</th>\n",
       "      <td>179.0</td>\n",
       "      <td>-2.065363e-01</td>\n",
       "      <td>4.751216e+00</td>\n",
       "      <td>-20.990</td>\n",
       "      <td>-1.315000e+00</td>\n",
       "      <td>0.000</td>\n",
       "      <td>3.950000e-01</td>\n",
       "      <td>2.306000e+01</td>\n",
       "    </tr>\n",
       "    <tr>\n",
       "      <th>Infant mortality (per 1000 births)</th>\n",
       "      <td>179.0</td>\n",
       "      <td>3.889816e+01</td>\n",
       "      <td>3.535300e+01</td>\n",
       "      <td>2.290</td>\n",
       "      <td>9.990000e+00</td>\n",
       "      <td>24.310</td>\n",
       "      <td>6.460500e+01</td>\n",
       "      <td>1.630700e+02</td>\n",
       "    </tr>\n",
       "    <tr>\n",
       "      <th>GDP (USD per capita)</th>\n",
       "      <td>179.0</td>\n",
       "      <td>9.125698e+03</td>\n",
       "      <td>9.644123e+03</td>\n",
       "      <td>500.000</td>\n",
       "      <td>1.800000e+03</td>\n",
       "      <td>5100.000</td>\n",
       "      <td>1.295000e+04</td>\n",
       "      <td>3.780000e+04</td>\n",
       "    </tr>\n",
       "    <tr>\n",
       "      <th>Literacy (%)</th>\n",
       "      <td>179.0</td>\n",
       "      <td>8.194413e+01</td>\n",
       "      <td>1.983754e+01</td>\n",
       "      <td>17.600</td>\n",
       "      <td>6.995000e+01</td>\n",
       "      <td>90.900</td>\n",
       "      <td>9.780000e+01</td>\n",
       "      <td>1.000000e+02</td>\n",
       "    </tr>\n",
       "    <tr>\n",
       "      <th>Phones (per 1000)</th>\n",
       "      <td>179.0</td>\n",
       "      <td>2.081520e+02</td>\n",
       "      <td>2.101219e+02</td>\n",
       "      <td>0.200</td>\n",
       "      <td>2.710000e+01</td>\n",
       "      <td>137.100</td>\n",
       "      <td>3.350000e+02</td>\n",
       "      <td>8.980000e+02</td>\n",
       "    </tr>\n",
       "    <tr>\n",
       "      <th>Arable (%)</th>\n",
       "      <td>179.0</td>\n",
       "      <td>1.400045e+01</td>\n",
       "      <td>1.315240e+01</td>\n",
       "      <td>0.000</td>\n",
       "      <td>3.675000e+00</td>\n",
       "      <td>10.530</td>\n",
       "      <td>2.000000e+01</td>\n",
       "      <td>6.211000e+01</td>\n",
       "    </tr>\n",
       "    <tr>\n",
       "      <th>Crops (%)</th>\n",
       "      <td>179.0</td>\n",
       "      <td>4.440838e+00</td>\n",
       "      <td>8.090331e+00</td>\n",
       "      <td>0.000</td>\n",
       "      <td>2.300000e-01</td>\n",
       "      <td>1.030</td>\n",
       "      <td>4.600000e+00</td>\n",
       "      <td>4.896000e+01</td>\n",
       "    </tr>\n",
       "    <tr>\n",
       "      <th>Other (%)</th>\n",
       "      <td>179.0</td>\n",
       "      <td>8.155821e+01</td>\n",
       "      <td>1.610375e+01</td>\n",
       "      <td>33.330</td>\n",
       "      <td>7.282500e+01</td>\n",
       "      <td>86.070</td>\n",
       "      <td>9.481000e+01</td>\n",
       "      <td>1.000000e+02</td>\n",
       "    </tr>\n",
       "    <tr>\n",
       "      <th>Climate</th>\n",
       "      <td>179.0</td>\n",
       "      <td>2.108939e+00</td>\n",
       "      <td>6.976111e-01</td>\n",
       "      <td>1.000</td>\n",
       "      <td>2.000000e+00</td>\n",
       "      <td>2.000</td>\n",
       "      <td>2.500000e+00</td>\n",
       "      <td>4.000000e+00</td>\n",
       "    </tr>\n",
       "    <tr>\n",
       "      <th>Birthrate</th>\n",
       "      <td>179.0</td>\n",
       "      <td>2.306749e+01</td>\n",
       "      <td>1.128721e+01</td>\n",
       "      <td>7.290</td>\n",
       "      <td>1.389000e+01</td>\n",
       "      <td>20.460</td>\n",
       "      <td>3.231500e+01</td>\n",
       "      <td>5.073000e+01</td>\n",
       "    </tr>\n",
       "    <tr>\n",
       "      <th>Deathrate</th>\n",
       "      <td>179.0</td>\n",
       "      <td>9.465140e+00</td>\n",
       "      <td>5.210083e+00</td>\n",
       "      <td>2.410</td>\n",
       "      <td>5.795000e+00</td>\n",
       "      <td>7.840</td>\n",
       "      <td>1.166000e+01</td>\n",
       "      <td>2.974000e+01</td>\n",
       "    </tr>\n",
       "    <tr>\n",
       "      <th>Agriculture</th>\n",
       "      <td>179.0</td>\n",
       "      <td>1.569050e-01</td>\n",
       "      <td>1.513428e-01</td>\n",
       "      <td>0.000</td>\n",
       "      <td>3.900000e-02</td>\n",
       "      <td>0.101</td>\n",
       "      <td>2.330000e-01</td>\n",
       "      <td>7.690000e-01</td>\n",
       "    </tr>\n",
       "    <tr>\n",
       "      <th>Industry</th>\n",
       "      <td>179.0</td>\n",
       "      <td>2.880279e-01</td>\n",
       "      <td>1.403096e-01</td>\n",
       "      <td>0.032</td>\n",
       "      <td>1.970000e-01</td>\n",
       "      <td>0.274</td>\n",
       "      <td>3.490000e-01</td>\n",
       "      <td>9.060000e-01</td>\n",
       "    </tr>\n",
       "    <tr>\n",
       "      <th>Service</th>\n",
       "      <td>179.0</td>\n",
       "      <td>5.545084e-01</td>\n",
       "      <td>1.656696e-01</td>\n",
       "      <td>0.062</td>\n",
       "      <td>4.245000e-01</td>\n",
       "      <td>0.559</td>\n",
       "      <td>6.685000e-01</td>\n",
       "      <td>9.540000e-01</td>\n",
       "    </tr>\n",
       "  </tbody>\n",
       "</table>\n",
       "</div>"
      ],
      "text/plain": [
       "                                    count          mean           std  \\\n",
       "Population                          179.0  3.421415e+07  1.317639e+08   \n",
       "Area (sq. mi.)                      179.0  5.641830e+05  1.395657e+06   \n",
       "Pop. Density (per sq. mi.)          179.0  2.948050e+02  1.379353e+03   \n",
       "Coastline (coast/area ratio)        179.0  1.649520e+01  7.397760e+01   \n",
       "Net migration                       179.0 -2.065363e-01  4.751216e+00   \n",
       "Infant mortality (per 1000 births)  179.0  3.889816e+01  3.535300e+01   \n",
       "GDP (USD per capita)                179.0  9.125698e+03  9.644123e+03   \n",
       "Literacy (%)                        179.0  8.194413e+01  1.983754e+01   \n",
       "Phones (per 1000)                   179.0  2.081520e+02  2.101219e+02   \n",
       "Arable (%)                          179.0  1.400045e+01  1.315240e+01   \n",
       "Crops (%)                           179.0  4.440838e+00  8.090331e+00   \n",
       "Other (%)                           179.0  8.155821e+01  1.610375e+01   \n",
       "Climate                             179.0  2.108939e+00  6.976111e-01   \n",
       "Birthrate                           179.0  2.306749e+01  1.128721e+01   \n",
       "Deathrate                           179.0  9.465140e+00  5.210083e+00   \n",
       "Agriculture                         179.0  1.569050e-01  1.513428e-01   \n",
       "Industry                            179.0  2.880279e-01  1.403096e-01   \n",
       "Service                             179.0  5.545084e-01  1.656696e-01   \n",
       "\n",
       "                                          min           25%          50%  \\\n",
       "Population                          13477.000  1.188580e+06  6940432.000   \n",
       "Area (sq. mi.)                         28.000  1.991500e+04   118480.000   \n",
       "Pop. Density (per sq. mi.)              1.800  2.680000e+01       66.900   \n",
       "Coastline (coast/area ratio)            0.000  9.000000e-02        0.630   \n",
       "Net migration                         -20.990 -1.315000e+00        0.000   \n",
       "Infant mortality (per 1000 births)      2.290  9.990000e+00       24.310   \n",
       "GDP (USD per capita)                  500.000  1.800000e+03     5100.000   \n",
       "Literacy (%)                           17.600  6.995000e+01       90.900   \n",
       "Phones (per 1000)                       0.200  2.710000e+01      137.100   \n",
       "Arable (%)                              0.000  3.675000e+00       10.530   \n",
       "Crops (%)                               0.000  2.300000e-01        1.030   \n",
       "Other (%)                              33.330  7.282500e+01       86.070   \n",
       "Climate                                 1.000  2.000000e+00        2.000   \n",
       "Birthrate                               7.290  1.389000e+01       20.460   \n",
       "Deathrate                               2.410  5.795000e+00        7.840   \n",
       "Agriculture                             0.000  3.900000e-02        0.101   \n",
       "Industry                                0.032  1.970000e-01        0.274   \n",
       "Service                                 0.062  4.245000e-01        0.559   \n",
       "\n",
       "                                             75%           max  \n",
       "Population                          2.086014e+07  1.313974e+09  \n",
       "Area (sq. mi.)                      4.964410e+05  9.631420e+06  \n",
       "Pop. Density (per sq. mi.)          1.647000e+02  1.618300e+04  \n",
       "Coastline (coast/area ratio)        5.355000e+00  8.706600e+02  \n",
       "Net migration                       3.950000e-01  2.306000e+01  \n",
       "Infant mortality (per 1000 births)  6.460500e+01  1.630700e+02  \n",
       "GDP (USD per capita)                1.295000e+04  3.780000e+04  \n",
       "Literacy (%)                        9.780000e+01  1.000000e+02  \n",
       "Phones (per 1000)                   3.350000e+02  8.980000e+02  \n",
       "Arable (%)                          2.000000e+01  6.211000e+01  \n",
       "Crops (%)                           4.600000e+00  4.896000e+01  \n",
       "Other (%)                           9.481000e+01  1.000000e+02  \n",
       "Climate                             2.500000e+00  4.000000e+00  \n",
       "Birthrate                           3.231500e+01  5.073000e+01  \n",
       "Deathrate                           1.166000e+01  2.974000e+01  \n",
       "Agriculture                         2.330000e-01  7.690000e-01  \n",
       "Industry                            3.490000e-01  9.060000e-01  \n",
       "Service                             6.685000e-01  9.540000e-01  "
      ]
     },
     "execution_count": 4,
     "metadata": {},
     "output_type": "execute_result"
    }
   ],
   "source": [
    "paises.describe().transpose()"
   ]
  },
  {
   "cell_type": "markdown",
   "metadata": {},
   "source": [
    "\n"
   ]
  },
  {
   "cell_type": "markdown",
   "metadata": {},
   "source": [
    "**El problema al que nos enfrentamos en este punto consiste en crear un estimador del PIB (GPD siglas en inglés) de un pais dadas las variables anteriormente presentadas.**"
   ]
  },
  {
   "cell_type": "markdown",
   "metadata": {},
   "source": [
    "\n"
   ]
  },
  {
   "cell_type": "markdown",
   "metadata": {},
   "source": [
    "### 2) Elección de variables\n",
    "\n",
    "Para saber qué variables son más relevantes a la hora de estimar el PIB de un pais analizamos el coeficiente de correlación de estas en nuestros datos."
   ]
  },
  {
   "cell_type": "code",
   "execution_count": 5,
   "metadata": {},
   "outputs": [
    {
     "data": {
      "text/plain": [
       "Population                           -0.033618\n",
       "Area (sq. mi.)                        0.068356\n",
       "Pop. Density (per sq. mi.)            0.190122\n",
       "Coastline (coast/area ratio)          0.035815\n",
       "Net migration                         0.378790\n",
       "Infant mortality (per 1000 births)   -0.639090\n",
       "GDP (USD per capita)                  1.000000\n",
       "Literacy (%)                          0.522880\n",
       "Phones (per 1000)                     0.883520\n",
       "Arable (%)                            0.046465\n",
       "Crops (%)                            -0.207844\n",
       "Other (%)                             0.066445\n",
       "Climate                               0.360567\n",
       "Birthrate                            -0.658795\n",
       "Deathrate                            -0.247562\n",
       "Agriculture                          -0.616919\n",
       "Industry                              0.032855\n",
       "Service                               0.536551\n",
       "Name: GDP (USD per capita), dtype: float64"
      ]
     },
     "execution_count": 5,
     "metadata": {},
     "output_type": "execute_result"
    }
   ],
   "source": [
    "corr_matrix = paises.corr()\n",
    "corr_matrix['GDP (USD per capita)']"
   ]
  },
  {
   "cell_type": "markdown",
   "metadata": {},
   "source": [
    "Sorprende la bajísima correlación de un elemento tan importante en la economía de los paises desarrollados como es el grado de industrialización. A su vez soprprende la altísima correlación de factores a priori no relacionados de forma directa como la mortalidad infantil y sorprende a su vez que en nuestros datos la tasa de nacimientos se relaciona de forma inversa con el PIB (más nacimientos se correlaciona con menos PIB).\n",
    "\n",
    "Optamos por cosiderar relevantes aquellas variables con un coeficiente de correlación (positivo o negativo) mayor que $1/2$. De esta forma únicamente rechazamos el clima y la tasa de migración como variables con una correlación alta ($> 1/3$) en nuestro modelo."
   ]
  },
  {
   "cell_type": "code",
   "execution_count": 6,
   "metadata": {
    "scrolled": false
   },
   "outputs": [
    {
     "data": {
      "text/plain": [
       "Infant mortality (per 1000 births)   -0.639090\n",
       "Literacy (%)                          0.522880\n",
       "Phones (per 1000)                     0.883520\n",
       "Birthrate                            -0.658795\n",
       "Agriculture                          -0.616919\n",
       "Service                               0.536551\n",
       "Name: GDP (USD per capita), dtype: float64"
      ]
     },
     "execution_count": 6,
     "metadata": {},
     "output_type": "execute_result"
    }
   ],
   "source": [
    "# Variables con coef. de correlación >1/2 con el PIB en nuestros datos quitando la variable PIB\n",
    "corr_matrix[abs(corr_matrix['GDP (USD per capita)']) > 0.5]['GDP (USD per capita)'].drop('GDP (USD per capita)')"
   ]
  },
  {
   "cell_type": "markdown",
   "metadata": {},
   "source": [
    "Tabla con únicamente las variables que nos interesan para el modelo de predicción de PIB."
   ]
  },
  {
   "cell_type": "code",
   "execution_count": 7,
   "metadata": {},
   "outputs": [],
   "source": [
    "# Nos quedamos únicamente con las columnas que nos interesan\n",
    "paises_corr = paises.loc[:,[\n",
    "'Infant mortality (per 1000 births)',\n",
    "'Literacy (%)',\n",
    "'Phones (per 1000)',                     \n",
    "'Birthrate',                           \n",
    "'Agriculture',                          \n",
    "'Service'\n",
    "]]\n",
    "\n",
    "# Guardamos también el resultado esperado\n",
    "paises_pib = paises.loc[:,['GDP (USD per capita)']]"
   ]
  },
  {
   "cell_type": "markdown",
   "metadata": {},
   "source": [
    "### 3) Normalización de datos\n",
    "A pesar de no ser estrictamente necesario, debido a que el número de datos de entrenamiento no es en absoluto alto y para disminuir también el tiempo de entrenamiento hemos optado por normalizar los datos que emplea nuestro MLP."
   ]
  },
  {
   "cell_type": "code",
   "execution_count": 8,
   "metadata": {},
   "outputs": [],
   "source": [
    "# Escalado de los datos de entrada\n",
    "scaler_x = StandardScaler()\n",
    "paises_escalados = scaler_x.fit_transform(paises_corr)\n",
    "\n",
    "# Escalado de los datos de salida\n",
    "scaler_y = StandardScaler()\n",
    "paises_pib_escalado = scaler_y.fit_transform(paises_pib) \n",
    "\n",
    "# pd.DataFrame(scaler_x.inverse_transform(paises_escalados))\n",
    "# pd.DataFrame(scaler_y.inverse_transform(paises_pib_escalado))"
   ]
  },
  {
   "cell_type": "markdown",
   "metadata": {},
   "source": [
    "### 4) MLPs y análisis con validación cruzada\n",
    "\n",
    "Una vez que tenemos los datos escalados, vamos a entrenar a un MLP de una única capa interna con 200 neuronas y analizar su comportamiento para distintos valores de regulación (funciones de activación elegidas tipo ReLU)."
   ]
  },
  {
   "cell_type": "code",
   "execution_count": 9,
   "metadata": {},
   "outputs": [],
   "source": [
    "regul_param_range = 10.0 ** -np.arange(1, 7) \n",
    "\n",
    "cv_scores_mean=[]\n",
    "cv_scores_std=[]\n",
    "\n",
    "for regul_param in regul_param_range:\n",
    "    # aumentamos el parámetro max_iter hasta que converja\n",
    "    mlp=MLPRegressor(hidden_layer_sizes=200, activation='relu', solver='adam', alpha=regul_param, batch_size='auto', learning_rate='constant', learning_rate_init=0.001, max_iter=500)\n",
    "    \n",
    "    # El error es neg_mean_squared_error el MSE en negativo!! Más pequeño peor.\n",
    "    scores = cross_val_score(mlp, paises_escalados, paises_pib_escalado.ravel(), cv=5, scoring='neg_mean_squared_error')\n",
    "    \n",
    "    cv_scores_mean.append(scores.mean())\n",
    "    cv_scores_std.append(scores.std())"
   ]
  },
  {
   "cell_type": "code",
   "execution_count": 10,
   "metadata": {},
   "outputs": [
    {
     "data": {
      "image/png": "[encoded data removed]",
      "text/plain": [
       "<Figure size 432x288 with 1 Axes>"
      ]
     },
     "metadata": {
      "needs_background": "light"
     },
     "output_type": "display_data"
    }
   ],
   "source": [
    "# Dibujamos la línea de la exactitud media en las partes de test\n",
    "plt.plot(np.log10(regul_param_range), cv_scores_mean, color=\"g\", label=\"Test\")\n",
    "\n",
    "# Dibujamos la banda de la desviación típica\n",
    "lower_limit=np.array(cv_scores_mean)-np.array(cv_scores_std)\n",
    "upper_limit=np.array(cv_scores_mean)+np.array(cv_scores_std)\n",
    "plt.fill_between(np.log10(regul_param_range), lower_limit, upper_limit, color=\"#DDDDDD\")\n",
    "\n",
    "# Creamos el gráfico\n",
    "plt.title(\"Curva de aprendizaje\")\n",
    "plt.xlabel(\"Regularización 10^{-X}\"), plt.ylabel(\"negative MSE\"), plt.legend(loc=\"best\")\n",
    "plt.tight_layout()\n",
    "plt.show()"
   ]
  },
  {
   "cell_type": "markdown",
   "metadata": {},
   "source": [
    "Ahora analizamos el comportamiento de un MLP con las mismas características variando únicamente el número de capas y su tamaño, dos capas de 50 neuronas cada una. "
   ]
  },
  {
   "cell_type": "code",
   "execution_count": 11,
   "metadata": {},
   "outputs": [],
   "source": [
    "regul_param_range = 10.0 ** -np.arange(1, 7) \n",
    "\n",
    "cv_scores_mean=[]\n",
    "cv_scores_std=[]\n",
    "\n",
    "for regul_param in regul_param_range:\n",
    "    # aumentamos el parámetro max_iter hasta que converja\n",
    "    mlp=MLPRegressor(hidden_layer_sizes=(50,50), activation='relu', solver='adam', alpha=regul_param, batch_size='auto', learning_rate='constant', learning_rate_init=0.001, max_iter=500)\n",
    "    \n",
    "    # El error es neg_mean_squared_error el MSE en negativo!! Más pequeño peor.\n",
    "    scores = cross_val_score(mlp, paises_escalados, paises_pib_escalado.ravel(), cv=5, scoring='neg_mean_squared_error')\n",
    "    \n",
    "    cv_scores_mean.append(scores.mean())\n",
    "    cv_scores_std.append(scores.std())"
   ]
  },
  {
   "cell_type": "code",
   "execution_count": 12,
   "metadata": {},
   "outputs": [
    {
     "data": {
      "image/png": "[encoded data removed]",
      "text/plain": [
       "<Figure size 432x288 with 1 Axes>"
      ]
     },
     "metadata": {
      "needs_background": "light"
     },
     "output_type": "display_data"
    }
   ],
   "source": [
    "# Dibujamos la línea de la exactitud media en las partes de test\n",
    "plt.plot(np.log10(regul_param_range), cv_scores_mean, color=\"g\", label=\"Test\")\n",
    "\n",
    "# Dibujamos la banda de la desviación típica\n",
    "lower_limit=np.array(cv_scores_mean)-np.array(cv_scores_std)\n",
    "upper_limit=np.array(cv_scores_mean)+np.array(cv_scores_std)\n",
    "plt.fill_between(np.log10(regul_param_range), lower_limit, upper_limit, color=\"#DDDDDD\")\n",
    "\n",
    "# Creamos el gráfico\n",
    "plt.title(\"Curva de aprendizaje\")\n",
    "plt.xlabel(\"Regularización 10^{-X}\"), plt.ylabel(\"negative MSE\"), plt.legend(loc=\"best\")\n",
    "plt.tight_layout()\n",
    "plt.show()"
   ]
  },
  {
   "cell_type": "markdown",
   "metadata": {},
   "source": [
    "### 5) Análisis de errores:\n",
    "Tras varios entrenamientos y validaciones cruzadas hemos observado que el MLP con una única capa oculta de 200 neuronas se mantiene para estable para todos los valores de regulación en torno a un ECM de 0.14 puntos (medido con las variables estandarizadas). El MLP constituido con dos capas ocultas de 50 neuronas presenta un mejor comportamiento en las validaciones cruzadas para todos los valores de regulación pero en especial para $10^{-3}$ (ECM inferior incluso a 0.12)."
   ]
  },
  {
   "cell_type": "code",
   "execution_count": 13,
   "metadata": {},
   "outputs": [],
   "source": [
    "regul_param=10**-3\n",
    "\n",
    "mlp=MLPRegressor(hidden_layer_sizes=(50,50), activation='relu', solver='adam', alpha=regul_param, batch_size='auto', learning_rate='constant', learning_rate_init=0.001, max_iter=500)\n",
    "mlp.fit(paises_escalados, paises_pib_escalado.ravel())\n",
    "predicciones = scaler_y.inverse_transform(mlp.predict(paises_escalados))\n",
    "#paises_pib.values "
   ]
  },
  {
   "cell_type": "code",
   "execution_count": 14,
   "metadata": {},
   "outputs": [
    {
     "data": {
      "text/plain": [
       "Text(0.5, 1.0, 'Y Vs Y_pred')"
      ]
     },
     "execution_count": 14,
     "metadata": {},
     "output_type": "execute_result"
    },
    {
     "data": {
      "image/png": "[encoded data removed]",
      "text/plain": [
       "<Figure size 432x288 with 1 Axes>"
      ]
     },
     "metadata": {
      "needs_background": "light"
     },
     "output_type": "display_data"
    }
   ],
   "source": [
    "fig = plt.figure()\n",
    "ax = plt.axes()\n",
    "\n",
    "# dibujamos los errores: la distancia a la recta indica el nivel de error\n",
    "ax.scatter(paises_pib.values, predicciones) \n",
    "# Pintamos la referencia de la predicción perfecta\n",
    "ax.plot(paises_pib.values, paises_pib.values, color='k') \n",
    "\n",
    "plt.title('Y Vs Y_pred')"
   ]
  },
  {
   "cell_type": "markdown",
   "metadata": {},
   "source": [
    "Vemos una aproximación bastante razonable pero con algunos puntos anómalos (donde el pib se subestima o sobreestima demasiado). Vamos a analizar estos puntos de error."
   ]
  },
  {
   "cell_type": "code",
   "execution_count": 15,
   "metadata": {
    "scrolled": true
   },
   "outputs": [
    {
     "data": {
      "text/html": [
       "<div>\n",
       "<style scoped>\n",
       "    .dataframe tbody tr th:only-of-type {\n",
       "        vertical-align: middle;\n",
       "    }\n",
       "\n",
       "    .dataframe tbody tr th {\n",
       "        vertical-align: top;\n",
       "    }\n",
       "\n",
       "    .dataframe thead th {\n",
       "        text-align: right;\n",
       "    }\n",
       "</style>\n",
       "<table border=\"1\" class=\"dataframe\">\n",
       "  <thead>\n",
       "    <tr style=\"text-align: right;\">\n",
       "      <th></th>\n",
       "      <th>Country</th>\n",
       "      <th>Infant mortality (per 1000 births)</th>\n",
       "      <th>Literacy (%)</th>\n",
       "      <th>Phones (per 1000)</th>\n",
       "      <th>Birthrate</th>\n",
       "      <th>Agriculture</th>\n",
       "      <th>Service</th>\n",
       "      <th>GDP (USD per capita)</th>\n",
       "      <th>GPD prediction</th>\n",
       "    </tr>\n",
       "  </thead>\n",
       "  <tbody>\n",
       "    <tr>\n",
       "      <th>24</th>\n",
       "      <td>Bolivia</td>\n",
       "      <td>53.11</td>\n",
       "      <td>87.2</td>\n",
       "      <td>71.9</td>\n",
       "      <td>23.30</td>\n",
       "      <td>0.128</td>\n",
       "      <td>0.520</td>\n",
       "      <td>2400.0</td>\n",
       "      <td>4851.849931</td>\n",
       "    </tr>\n",
       "    <tr>\n",
       "      <th>63</th>\n",
       "      <td>Eritrea</td>\n",
       "      <td>74.87</td>\n",
       "      <td>58.6</td>\n",
       "      <td>7.9</td>\n",
       "      <td>34.33</td>\n",
       "      <td>0.102</td>\n",
       "      <td>0.643</td>\n",
       "      <td>700.0</td>\n",
       "      <td>1402.343100</td>\n",
       "    </tr>\n",
       "    <tr>\n",
       "      <th>224</th>\n",
       "      <td>Yemen</td>\n",
       "      <td>61.50</td>\n",
       "      <td>50.2</td>\n",
       "      <td>37.2</td>\n",
       "      <td>42.89</td>\n",
       "      <td>0.135</td>\n",
       "      <td>0.393</td>\n",
       "      <td>800.0</td>\n",
       "      <td>1918.813752</td>\n",
       "    </tr>\n",
       "  </tbody>\n",
       "</table>\n",
       "</div>"
      ],
      "text/plain": [
       "      Country  Infant mortality (per 1000 births)  Literacy (%)  \\\n",
       "24   Bolivia                                53.11          87.2   \n",
       "63   Eritrea                                74.87          58.6   \n",
       "224    Yemen                                61.50          50.2   \n",
       "\n",
       "     Phones (per 1000)  Birthrate  Agriculture  Service  GDP (USD per capita)  \\\n",
       "24                71.9      23.30        0.128    0.520                2400.0   \n",
       "63                 7.9      34.33        0.102    0.643                 700.0   \n",
       "224               37.2      42.89        0.135    0.393                 800.0   \n",
       "\n",
       "     GPD prediction  \n",
       "24      4851.849931  \n",
       "63      1402.343100  \n",
       "224     1918.813752  "
      ]
     },
     "execution_count": 15,
     "metadata": {},
     "output_type": "execute_result"
    }
   ],
   "source": [
    "paises_err = paises.loc[:,[\n",
    "'Country',\n",
    "'Infant mortality (per 1000 births)',\n",
    "'Literacy (%)',\n",
    "'Phones (per 1000)',                     \n",
    "'Birthrate',                           \n",
    "'Agriculture',                          \n",
    "'Service',\n",
    "'GDP (USD per capita)'\n",
    "]]\n",
    "paises_err['GPD prediction'] = predicciones\n",
    "paises_err[abs(paises_err['GDP (USD per capita)']-paises_err['GPD prediction'])>(paises_err['GDP (USD per capita)'])]"
   ]
  },
  {
   "cell_type": "markdown",
   "metadata": {},
   "source": [
    "En la tabla superior se muestra lo que serían los errores abismales, aquellos en los que el error en la estimación es mayor al 100% de esta.\n",
    "\n",
    "Recordando la tabla de variables que habíamos elegido para hacer nuestro estimador MLP el por qué de estos cobra sentido. Países como el Congo, Comoros, Jamaica, Malawi... son sobreestimados por tener una alta alfabetización y una gran importancia del sector servicios. Cuando además se une a esto una alto número de móbiles por cada mil habitantes como es el caso de Saint Kitts el error en la estimación del PIB crece a casi 9000 USD por habitante.\n",
    "\n",
    "En el caso de Noruega sucede el efecto contrario, pese a tener buenos indicadores, nuestros datos lo sitúan como un país donde más de la mitad de los habitantes no tienen teléfono y esto penaliza enormemente la predicción de su PIB."
   ]
  },
  {
   "cell_type": "code",
   "execution_count": 16,
   "metadata": {},
   "outputs": [
    {
     "data": {
      "text/html": [
       "<div>\n",
       "<style scoped>\n",
       "    .dataframe tbody tr th:only-of-type {\n",
       "        vertical-align: middle;\n",
       "    }\n",
       "\n",
       "    .dataframe tbody tr th {\n",
       "        vertical-align: top;\n",
       "    }\n",
       "\n",
       "    .dataframe thead th {\n",
       "        text-align: right;\n",
       "    }\n",
       "</style>\n",
       "<table border=\"1\" class=\"dataframe\">\n",
       "  <thead>\n",
       "    <tr style=\"text-align: right;\">\n",
       "      <th></th>\n",
       "      <th>Country</th>\n",
       "      <th>Infant mortality (per 1000 births)</th>\n",
       "      <th>Literacy (%)</th>\n",
       "      <th>Phones (per 1000)</th>\n",
       "      <th>Birthrate</th>\n",
       "      <th>Agriculture</th>\n",
       "      <th>Service</th>\n",
       "      <th>GDP (USD per capita)</th>\n",
       "      <th>GPD prediction</th>\n",
       "    </tr>\n",
       "  </thead>\n",
       "  <tbody>\n",
       "    <tr>\n",
       "      <th>154</th>\n",
       "      <td>Norway</td>\n",
       "      <td>3.7</td>\n",
       "      <td>100.0</td>\n",
       "      <td>461.7</td>\n",
       "      <td>11.46</td>\n",
       "      <td>0.021</td>\n",
       "      <td>0.564</td>\n",
       "      <td>37800.0</td>\n",
       "      <td>28609.741486</td>\n",
       "    </tr>\n",
       "    <tr>\n",
       "      <th>214</th>\n",
       "      <td>United States</td>\n",
       "      <td>6.5</td>\n",
       "      <td>97.0</td>\n",
       "      <td>898.0</td>\n",
       "      <td>14.14</td>\n",
       "      <td>0.010</td>\n",
       "      <td>0.787</td>\n",
       "      <td>37800.0</td>\n",
       "      <td>34603.538177</td>\n",
       "    </tr>\n",
       "  </tbody>\n",
       "</table>\n",
       "</div>"
      ],
      "text/plain": [
       "            Country  Infant mortality (per 1000 births)  Literacy (%)  \\\n",
       "154         Norway                                  3.7         100.0   \n",
       "214  United States                                  6.5          97.0   \n",
       "\n",
       "     Phones (per 1000)  Birthrate  Agriculture  Service  GDP (USD per capita)  \\\n",
       "154              461.7      11.46        0.021    0.564               37800.0   \n",
       "214              898.0      14.14        0.010    0.787               37800.0   \n",
       "\n",
       "     GPD prediction  \n",
       "154    28609.741486  \n",
       "214    34603.538177  "
      ]
     },
     "execution_count": 16,
     "metadata": {},
     "output_type": "execute_result"
    }
   ],
   "source": [
    "paises_err[paises_err['GDP (USD per capita)']>37000]"
   ]
  },
  {
   "cell_type": "markdown",
   "metadata": {},
   "source": [
    "### 6) Análisis de otras alternativas\n",
    "Por último vamos a analizar el comportamiento de nuestro estimador MLP añadiendo la variable que mide el grado de industrialización a pesar de su bajísima correlación. (Se ha apreciado un comportamiento muy variable en función de los entrenamientos, se opta como parámetro de regulación por $10^{-2}$)"
   ]
  },
  {
   "cell_type": "code",
   "execution_count": 17,
   "metadata": {},
   "outputs": [],
   "source": [
    "# Nos quedamos únicamente con las columnas que nos interesan\n",
    "paises_corr = paises.loc[:,[\n",
    "'Infant mortality (per 1000 births)',\n",
    "'Literacy (%)',\n",
    "'Phones (per 1000)',                     \n",
    "'Birthrate',                           \n",
    "'Agriculture',                          \n",
    "'Service',\n",
    "'Industry'\n",
    "]]\n",
    "\n",
    "# Guardamos también el resultado esperado\n",
    "paises_pib = paises.loc[:,['GDP (USD per capita)']]"
   ]
  },
  {
   "cell_type": "code",
   "execution_count": 18,
   "metadata": {},
   "outputs": [],
   "source": [
    "# Escalado de los datos de entrada\n",
    "scaler_x = StandardScaler()\n",
    "paises_escalados = scaler_x.fit_transform(paises_corr)\n",
    "\n",
    "# Escalado de los datos de salida\n",
    "scaler_y = StandardScaler()\n",
    "paises_pib_escalado = scaler_y.fit_transform(paises_pib) "
   ]
  },
  {
   "cell_type": "code",
   "execution_count": 19,
   "metadata": {},
   "outputs": [],
   "source": [
    "regul_param=10**-2\n",
    "\n",
    "mlp=MLPRegressor(hidden_layer_sizes=(50,50), activation='relu', solver='adam', alpha=regul_param, batch_size='auto', learning_rate='constant', learning_rate_init=0.001, max_iter=500)\n",
    "mlp.fit(paises_escalados, paises_pib_escalado.ravel())\n",
    "predicciones = scaler_y.inverse_transform(mlp.predict(paises_escalados))\n",
    "#paises_pib.values "
   ]
  },
  {
   "cell_type": "code",
   "execution_count": 20,
   "metadata": {},
   "outputs": [
    {
     "data": {
      "text/plain": [
       "Text(0.5, 1.0, 'Y Vs Y_pred')"
      ]
     },
     "execution_count": 20,
     "metadata": {},
     "output_type": "execute_result"
    },
    {
     "data": {
      "image/png": "[encoded data removed]",
      "text/plain": [
       "<Figure size 432x288 with 1 Axes>"
      ]
     },
     "metadata": {
      "needs_background": "light"
     },
     "output_type": "display_data"
    }
   ],
   "source": [
    "fig = plt.figure()\n",
    "ax = plt.axes()\n",
    "\n",
    "# dibujamos los errores: la distancia a la recta indica el nivel de error\n",
    "ax.scatter(paises_pib.values, predicciones) \n",
    "# Pintamos la referencia de la predicción perfecta\n",
    "ax.plot(paises_pib.values, paises_pib.values, color='k') \n",
    "\n",
    "plt.title('Y Vs Y_pred')"
   ]
  },
  {
   "cell_type": "markdown",
   "metadata": {},
   "source": [
    "Y en efecto el comportamiento no se ha visto significativamente afectado. Si por contra hubiéramos elegido como límite de correlación de nuestras variables de decisión $1/3$ (añadimos clima y migración neta) las predicciones sí que experimentan una ligera mejora."
   ]
  },
  {
   "cell_type": "code",
   "execution_count": 21,
   "metadata": {},
   "outputs": [],
   "source": [
    "# Nos quedamos únicamente con las columnas que nos interesan\n",
    "paises_corr = paises.loc[:,[\n",
    "'Infant mortality (per 1000 births)',\n",
    "'Literacy (%)',\n",
    "'Phones (per 1000)',                     \n",
    "'Birthrate',                           \n",
    "'Agriculture',                          \n",
    "'Service',\n",
    "'Net migration',\n",
    "'Climate',\n",
    "'Industry'\n",
    "]]\n",
    "\n",
    "# Guardamos también el resultado esperado\n",
    "paises_pib = paises.loc[:,['GDP (USD per capita)']]"
   ]
  },
  {
   "cell_type": "code",
   "execution_count": 22,
   "metadata": {},
   "outputs": [],
   "source": [
    "# Escalado de los datos de entrada\n",
    "scaler_x = StandardScaler()\n",
    "paises_escalados = scaler_x.fit_transform(paises_corr)\n",
    "\n",
    "# Escalado de los datos de salida\n",
    "scaler_y = StandardScaler()\n",
    "paises_pib_escalado = scaler_y.fit_transform(paises_pib) "
   ]
  },
  {
   "cell_type": "code",
   "execution_count": 23,
   "metadata": {},
   "outputs": [],
   "source": [
    "regul_param=10**-2\n",
    "\n",
    "mlp=MLPRegressor(hidden_layer_sizes=(50,50), activation='relu', solver='adam', alpha=regul_param, batch_size='auto', learning_rate='constant', learning_rate_init=0.001, max_iter=500)\n",
    "mlp.fit(paises_escalados, paises_pib_escalado.ravel())\n",
    "predicciones = scaler_y.inverse_transform(mlp.predict(paises_escalados))\n",
    "#paises_pib.values "
   ]
  },
  {
   "cell_type": "code",
   "execution_count": 24,
   "metadata": {},
   "outputs": [
    {
     "data": {
      "text/plain": [
       "Text(0.5, 1.0, 'Y Vs Y_pred')"
      ]
     },
     "execution_count": 24,
     "metadata": {},
     "output_type": "execute_result"
    },
    {
     "data": {
      "image/png": "[encoded data removed]",
      "text/plain": [
       "<Figure size 432x288 with 1 Axes>"
      ]
     },
     "metadata": {
      "needs_background": "light"
     },
     "output_type": "display_data"
    }
   ],
   "source": [
    "fig = plt.figure()\n",
    "ax = plt.axes()\n",
    "\n",
    "# dibujamos los errores: la distancia a la recta indica el nivel de error\n",
    "ax.scatter(paises_pib.values, predicciones) \n",
    "# Pintamos la referencia de la predicción perfecta\n",
    "ax.plot(paises_pib.values, paises_pib.values, color='k') \n",
    "\n",
    "plt.title('Y Vs Y_pred')"
   ]
  },
  {
   "cell_type": "code",
   "execution_count": null,
   "metadata": {},
   "outputs": [],
   "source": []
  }
 ],
 "metadata": {
  "kernelspec": {
   "display_name": "Python 3",
   "language": "python",
   "name": "python3"
  },
  "language_info": {
   "codemirror_mode": {
    "name": "ipython",
    "version": 3
   },
   "file_extension": ".py",
   "mimetype": "text/x-python",
   "name": "python",
   "nbconvert_exporter": "python",
   "pygments_lexer": "ipython3",
   "version": "3.6.9"
  }
 },
 "nbformat": 4,
 "nbformat_minor": 4
}
