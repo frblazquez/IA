{
 "cells": [
  {
   "cell_type": "markdown",
   "metadata": {},
   "source": [
    "Problema simplificado de los ascensores, primera instancia del problema en el que el edificio contiene un único bloque y todos los ascensores presentan las mismas características."
   ]
  },
  {
   "cell_type": "code",
   "execution_count": 1,
   "metadata": {},
   "outputs": [],
   "source": [
    "from search import *\n",
    "import copy"
   ]
  },
  {
   "cell_type": "code",
   "execution_count": 2,
   "metadata": {},
   "outputs": [],
   "source": [
    "NUM_PLANTAS    = 5\n",
    "NUM_PERSONAS   = 3\n",
    "NUM_ASCENSORES = 1\n",
    "CAP_ASCENSORES = 2\n",
    "EN_ASCENSOR = -1\n",
    "\n",
    "BAJAR=0\n",
    "SUBIR=1\n",
    "COGER_PERSONA=2\n",
    "DEJAR_PERSONA=3"
   ]
  },
  {
   "cell_type": "code",
   "execution_count": 3,
   "metadata": {},
   "outputs": [],
   "source": [
    "personas_pos_ini = [0]\n",
    "personas_pos_fin = [1]"
   ]
  },
  {
   "cell_type": "code",
   "execution_count": 45,
   "metadata": {},
   "outputs": [],
   "source": [
    "class NodeState:\n",
    "\n",
    "    def __init__(self, init_personas):\n",
    "        self.personas = init_personas\n",
    "        self.ascensor_pos = 0\n",
    "        self.ascensor_personas = []\n",
    "        "
   ]
  },
  {
   "cell_type": "code",
   "execution_count": 46,
   "metadata": {},
   "outputs": [],
   "source": [
    "init = NodeState(personas_pos_ini)"
   ]
  },
  {
   "cell_type": "code",
   "execution_count": 47,
   "metadata": {},
   "outputs": [],
   "source": [
    "goal = NodeState(personas_pos_fin)"
   ]
  },
  {
   "cell_type": "code",
   "execution_count": 48,
   "metadata": {},
   "outputs": [],
   "source": [
    "class AscensoresSimplificado(Problem) :    \n",
    "   \n",
    "    # Hecho\n",
    "    def __init__(self, initial, goal=None):        \n",
    "        self.initial = initial\n",
    "        self.goal = goal\n",
    "\n",
    "    def actions(self, state):\n",
    "        accs = list()\n",
    "        #Para cada ascensor\n",
    "        num_ascensor = 0\n",
    "        ascensor_pos = state.ascensor_pos\n",
    "        ascensor_personas = state.ascensor_personas\n",
    "        personas = state.personas\n",
    "        \n",
    "        print(\"Lista acciones en estado -> Ascensor:\"+str(ascensor_pos)+\",Posicion_persona:\"+str(personas[0])+\n",
    "             \",Gente en el ascensor: \"+str(ascensor_personas))\n",
    "        \n",
    "        #si alguien ha llegado a su destino, hay que forzar que salga\n",
    "        forzar_salida = -1\n",
    "        for persona in ascensor_personas:\n",
    "            if ascensor_pos==self.goal.personas[persona]:\n",
    "                forzar_salida = persona\n",
    "        if forzar_salida !=-1:\n",
    "            print(\"Puedes forzar\")\n",
    "            accs.append((DEJAR_PERSONA,num_ascensor,forzar_salida))\n",
    "            return accs\n",
    "        \n",
    "        #si hay alguien en un ascensor, marca si el ascensor sube o baja\n",
    "        #maximo del bloque\n",
    "        if ascensor_pos != NUM_PLANTAS and not(len(ascensor_personas)>0 and self.goal.personas[ascensor_personas[0]]<ascensor_pos):\n",
    "            accs.append((SUBIR,num_ascensor))\n",
    "            print(\"Puedes subir\")\n",
    "        #minimo del bloque\n",
    "        if ascensor_pos != 0 and not(len(ascensor_personas)>0 and self.goal.personas[ascensor_personas[0]]>ascensor_pos):\n",
    "            accs.append((BAJAR,num_ascensor))\n",
    "            print(\"Puedes bajar\")\n",
    "        for personaInterior in ascensor_personas:\n",
    "            accs.append((DEJAR_PERSONA,num_ascensor,personaInterior))\n",
    "            print(\"Puedes dejar persona \"+str(personaInterior))\n",
    "        if len(ascensor_personas)<CAP_ASCENSORES:\n",
    "            for i in range(0,len(personas)):\n",
    "                if personas[i]==ascensor_pos: #la gente en ascensor tiene pos EN_ASCENSOR\n",
    "                    accs.append((COGER_PERSONA,num_ascensor,i))\n",
    "                    print(\"Puedes coger persona \"+str(i))\n",
    "        \n",
    "        return accs\n",
    "\n",
    "    def result(self, state, action):\n",
    "        estado_nuevo = copy.deepcopy(state)\n",
    "        ascensor = action[1]\n",
    "        ascensor_pos = state.ascensor_pos\n",
    "        ascensor_personas = state.ascensor_personas\n",
    "        personas = state.personas\n",
    "        print(\"Accion ejecutada: \"+str(action[0]))\n",
    "        print(\"Antes -> Ascensor:\"+str(ascensor_pos)+\",Posicion_persona:\"+str(personas[0]))\n",
    "        if action[0]==BAJAR:\n",
    "            nueva_pos_ascensor = 0 #min bloque\n",
    "            #si hay gente dentro:\n",
    "            if(len(ascensor_personas)>0):\n",
    "                nueva_pos_ascensor = max([self.goal.personas[i] for i in ascensor_personas])\n",
    "            for i in range(0,len(personas)):\n",
    "                if nueva_pos_ascensor<personas[i] and personas[i]<ascensor_pos:\n",
    "                    nueva_pos_ascensor = personas[i]\n",
    "            estado_nuevo.ascensor_pos = nueva_pos_ascensor\n",
    "            print(\"Bajar de planta \" + str(ascensor_pos)+ \" a \" +str(nueva_pos_ascensor))\n",
    "        elif action[0]==SUBIR:\n",
    "            nueva_pos_ascensor = NUM_PLANTAS #max bloque\n",
    "            #si hay gente dentro:\n",
    "            if(len(ascensor_personas)>0):\n",
    "                nueva_pos_ascensor = min([self.goal.personas[i] for i in ascensor_personas])\n",
    "            for i in range(0,len(personas)):\n",
    "                if nueva_pos_ascensor>personas[i] and personas[i]>ascensor_pos:\n",
    "                    nueva_pos_ascensor = personas[i]\n",
    "            estado_nuevo.ascensor_pos = nueva_pos_ascensor\n",
    "            print(\"Subir de planta \" + str(ascensor_pos)+ \" a \" +str(nueva_pos_ascensor))\n",
    "        elif action[0]==COGER_PERSONA:\n",
    "            estado_nuevo.ascensor_personas.append(action[2])\n",
    "            estado_nuevo.personas[action[2]] = EN_ASCENSOR\n",
    "            print(\"Coger persona \"+str(action[2])+\" en planta \"+str(ascensor_pos))\n",
    "        else:\n",
    "            estado_nuevo.ascensor_personas.remove(action[2])\n",
    "            estado_nuevo.personas[action[2]] = ascensor_pos\n",
    "            print(\"Dejar persona \"+str(action[2])+\" en planta \"+str(ascensor_pos))\n",
    "        \n",
    "        print(\"Despues -> Ascensor:\"+str(estado_nuevo.ascensor_pos)+\",Posicion_persona:\"+str(estado_nuevo.personas[0])+\n",
    "             \",Gente en el ascensor: \"+str(estado_nuevo.ascensor_personas))\n",
    "        return estado_nuevo\n",
    "\n",
    "    # Hecho\n",
    "    def goal_test(self, state):\n",
    "        return state.personas == self.goal.personas\n",
    "\n",
    "    def path_cost(self, c, state1, action, state2):\n",
    "        return 1\n",
    "\n",
    "    def value(self, state):\n",
    "        raise NotImplementedError"
   ]
  },
  {
   "cell_type": "code",
   "execution_count": null,
   "metadata": {},
   "outputs": [],
   "source": []
  },
  {
   "cell_type": "code",
   "execution_count": 49,
   "metadata": {},
   "outputs": [],
   "source": [
    "problem = AscensoresSimplificado(init, goal)"
   ]
  },
  {
   "cell_type": "code",
   "execution_count": 50,
   "metadata": {},
   "outputs": [
    {
     "name": "stdout",
     "output_type": "stream",
     "text": [
      "Lista acciones en estado -> Ascensor:0,Posicion_persona:0,Gente en el ascensor: []\n",
      "Puedes subir\n",
      "Puedes coger persona 0\n",
      "Accion ejecutada: 1\n",
      "Antes -> Ascensor:0,Posicion_persona:0\n",
      "Subir de planta 0 a 5\n",
      "Despues -> Ascensor:5,Posicion_persona:0,Gente en el ascensor: []\n",
      "Accion ejecutada: 2\n",
      "Antes -> Ascensor:0,Posicion_persona:0\n",
      "Coger persona 0 en planta 0\n",
      "Despues -> Ascensor:0,Posicion_persona:-1,Gente en el ascensor: [0]\n",
      "Lista acciones en estado -> Ascensor:5,Posicion_persona:0,Gente en el ascensor: []\n",
      "Puedes bajar\n",
      "Accion ejecutada: 0\n",
      "Antes -> Ascensor:5,Posicion_persona:0\n",
      "Bajar de planta 5 a 0\n",
      "Despues -> Ascensor:0,Posicion_persona:0,Gente en el ascensor: []\n",
      "Lista acciones en estado -> Ascensor:0,Posicion_persona:-1,Gente en el ascensor: [0]\n",
      "Puedes subir\n",
      "Puedes dejar persona 0\n",
      "Accion ejecutada: 1\n",
      "Antes -> Ascensor:0,Posicion_persona:-1\n",
      "Subir de planta 0 a 1\n",
      "Despues -> Ascensor:1,Posicion_persona:-1,Gente en el ascensor: [0]\n",
      "Accion ejecutada: 3\n",
      "Antes -> Ascensor:0,Posicion_persona:-1\n",
      "Dejar persona 0 en planta 0\n",
      "Despues -> Ascensor:0,Posicion_persona:0,Gente en el ascensor: []\n",
      "Lista acciones en estado -> Ascensor:0,Posicion_persona:0,Gente en el ascensor: []\n",
      "Puedes subir\n",
      "Puedes coger persona 0\n",
      "Accion ejecutada: 1\n",
      "Antes -> Ascensor:0,Posicion_persona:0\n",
      "Subir de planta 0 a 5\n",
      "Despues -> Ascensor:5,Posicion_persona:0,Gente en el ascensor: []\n",
      "Accion ejecutada: 2\n",
      "Antes -> Ascensor:0,Posicion_persona:0\n",
      "Coger persona 0 en planta 0\n",
      "Despues -> Ascensor:0,Posicion_persona:-1,Gente en el ascensor: [0]\n",
      "Lista acciones en estado -> Ascensor:1,Posicion_persona:-1,Gente en el ascensor: [0]\n",
      "Puedes forzar\n",
      "Accion ejecutada: 3\n",
      "Antes -> Ascensor:1,Posicion_persona:-1\n",
      "Dejar persona 0 en planta 1\n",
      "Despues -> Ascensor:1,Posicion_persona:1,Gente en el ascensor: []\n"
     ]
    },
    {
     "data": {
      "text/plain": [
       "[(2, 0, 0), (1, 0), (3, 0, 0)]"
      ]
     },
     "execution_count": 50,
     "metadata": {},
     "output_type": "execute_result"
    }
   ],
   "source": [
    "breadth_first_graph_search(problem).solution()"
   ]
  },
  {
   "cell_type": "code",
   "execution_count": null,
   "metadata": {},
   "outputs": [],
   "source": []
  },
  {
   "cell_type": "code",
   "execution_count": null,
   "metadata": {},
   "outputs": [],
   "source": []
  }
 ],
 "metadata": {
  "kernelspec": {
   "display_name": "Python 3",
   "language": "python",
   "name": "python3"
  },
  "language_info": {
   "codemirror_mode": {
    "name": "ipython",
    "version": 3
   },
   "file_extension": ".py",
   "mimetype": "text/x-python",
   "name": "python",
   "nbconvert_exporter": "python",
   "pygments_lexer": "ipython3",
   "version": "3.6.8"
  }
 },
 "nbformat": 4,
 "nbformat_minor": 2
}
