{
 "cells": [
  {
   "cell_type": "code",
   "execution_count": null,
   "metadata": {},
   "outputs": [],
   "source": [
    "class Ascensores(Problem):\n",
    "\n",
    "    def __init__(self, initial, goal):\n",
    "        self.initial = initial\n",
    "        self.goal = goal\n",
    "\n",
    "    def actions(self, state):\n",
    "        accs = list();\n",
    "        # state = (gente[],ascensores[])\n",
    "        # gente tiene la planta en la que está y si está en el ascensor en esa planta\n",
    "        # ascensores es ( planta, plantasPosibles[], capacidad, genteInterior[], velocidad )\n",
    "        gente = state[0]\n",
    "        ascensores= state[1]\n",
    "        for numAsc in range(0,len(ascensores)-1)\n",
    "            asc = ascensores[numAsc]\n",
    "            planta = asc[0]\n",
    "            plantasPosibles = asc[1]\n",
    "            capacidad = asc[2]\n",
    "            genteInterior = asc[3]\n",
    "            #velocidad = asc[4]\n",
    "            if planta != plantasPosibles[0]\n",
    "                accs.append(\"BAJAR A\"+numAsc) #A de ascensor, no de preposicion\n",
    "            if planta != plantasPosibles[len(posibles)-1]\n",
    "                accs.append(\"SUBIR A\"+numAsc)\n",
    "            for numPersonaInterior in genteInterior\n",
    "                accs.append(\"SALIR A\"+numAsc +\" P\"+numPersonaInterior)\n",
    "            if len(genteInterior) < capacidad\n",
    "                for numPersona in range(0,len(gente)-1)\n",
    "                    persona = gente[numPersona]\n",
    "                    plantaPersona = persona[0]\n",
    "                    estaPersonaEnAscensor = persona[1]\n",
    "                    if plantaPersona == planta and !estaPersonaEnAscensor\n",
    "                        accs.append(\"ENTRAR A\"+numAsc+\" P\"+numPersona)\n",
    "            \n",
    "        return accs\n",
    "\n",
    "    def result(self, state, action):\n",
    "        accionPorPalabras = action.split( )\n",
    "        nombreAccion = accionPorPalabras[0]\n",
    "        ascensorAccion = int(accionPorPalabras[1][1:]) #ascensorAccion es numAsc\n",
    "        if len(accionPorPalabras)==3\n",
    "           personaAccion = int(accionPorPalabras[2][1:]) #personaAccion es numPersona\n",
    "            \n",
    "        if nombreAccion==\"BAJAR\"\n",
    "            return state\n",
    "        \n",
    "\n",
    "    def goal_test(self, state):\n",
    "        return state[0] == goal[0]\n",
    "\n",
    "    def path_cost(self, c, state1, action, state2):\n",
    "        \n",
    "        return c + 1\n",
    "\n",
    "    def value(self, state):\n",
    "\n",
    "        raise NotImplementedError\n",
    "\n",
    "    def coste_de_aplicar_accion(self, estado, accion):\n",
    "\n",
    "        return 1"
   ]
  },
  {
   "cell_type": "code",
   "execution_count": 4,
   "metadata": {},
   "outputs": [
    {
     "name": "stdout",
     "output_type": "stream",
     "text": [
      "[1, 2, 3, 4]\n",
      "[1, 2, 3]\n"
     ]
    }
   ],
   "source": [
    "lista1 = [1,2,3]\n",
    "lista2 = lista1.copy()\n",
    "lista2.append(4)\n",
    "print(lista2)\n",
    "print(lista1)"
   ]
  },
  {
   "cell_type": "code",
   "execution_count": null,
   "metadata": {},
   "outputs": [],
   "source": []
  }
 ],
 "metadata": {
  "kernelspec": {
   "display_name": "Python 3",
   "language": "python",
   "name": "python3"
  },
  "language_info": {
   "codemirror_mode": {
    "name": "ipython",
    "version": 3
   },
   "file_extension": ".py",
   "mimetype": "text/x-python",
   "name": "python",
   "nbconvert_exporter": "python",
   "pygments_lexer": "ipython3",
   "version": "3.7.4"
  }
 },
 "nbformat": 4,
 "nbformat_minor": 2
}
