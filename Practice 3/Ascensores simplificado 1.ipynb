{
 "cells": [
  {
   "cell_type": "markdown",
   "metadata": {},
   "source": [
    "# <u> Problema de los ascensores</u> (Primera Versión)\n"
   ]
  },
  {
   "cell_type": "markdown",
   "metadata": {},
   "source": [
    "### G05 - Boris Carballa Corredoira, Juan Carlos Villanueva Quirós, Francisco Javier Blázquez Martínez"
   ]
  },
  {
   "cell_type": "markdown",
   "metadata": {},
   "source": [
    "Primera aproximación al problema, el edificio consta de un único bloque con un único ascensor."
   ]
  },
  {
   "cell_type": "code",
   "execution_count": 40,
   "metadata": {},
   "outputs": [],
   "source": [
    "from search import *\n",
    "import copy\n",
    "import time"
   ]
  },
  {
   "cell_type": "markdown",
   "metadata": {},
   "source": [
    "#### Constantes\n",
    "+ *CAP_ASCENSOR*: Capacidad de los ascensores\n",
    "+ *EN_ASCENSOR*: Nos indica que una persona se encuentra dentro de un ascensor\n",
    "+ *NINGUNA*: Usada para indicar que una lista es vacia\n",
    "+ *EN_DESTINO*: Denota que una persona ha llegado a su destino"
   ]
  },
  {
   "cell_type": "code",
   "execution_count": 41,
   "metadata": {},
   "outputs": [],
   "source": [
    "CAP_ASCENSOR = 2\n",
    "EN_ASCENSOR = -1\n",
    "NINGUNA = -1\n",
    "EN_DESTINO = -2"
   ]
  },
  {
   "cell_type": "markdown",
   "metadata": {},
   "source": [
    "#### Solution Manager\n",
    "Importamos el notebook *SolutionManager* en el cual tenemos almacenados todos los procedimientos que se ejecutan una vez calculada la solución para mejorar la visualización de la misma."
   ]
  },
  {
   "cell_type": "code",
   "execution_count": 42,
   "metadata": {},
   "outputs": [],
   "source": [
    "%run SolutionManager.ipynb"
   ]
  },
  {
   "cell_type": "markdown",
   "metadata": {},
   "source": [
    "#### Clase NodeState\n",
    "\n",
    "Clase que representa un nodo del espacio de exploración. El estado de dicho nodo se compone de:\n",
    "\n",
    " + *personas*: Lista con la planta en la que se encuentra cada persona, si una persona se encuentra dentro del ascensor toma el  valor de la constante EN_ASCENSOR, si se encuentra en su destino toma el valor de la costante EN_DESTINO\n",
    " + *ascensor_pos*: Planta en la que se encuentra el ascensor\n",
    " + *ascensor_personas*: Lista con las personas (índices de la lista \"personas\") que se encuentran dentro del ascensor\n",
    " \n",
    "Por otro lado, hemos definido los operadores igual (**eq**), menor que (**lt**) y **hash** para permitir la comparación entre nodos y posibilitar así la correcta inserción de estos en estructuras de datos para que las búsquedas usen control de repetidos."
   ]
  },
  {
   "cell_type": "code",
   "execution_count": 43,
   "metadata": {},
   "outputs": [],
   "source": [
    "class NodeState:\n",
    "\n",
    "    def __init__(self, init_personas):\n",
    "        self.personas = init_personas\n",
    "        self.ascensor_pos = 0\n",
    "        self.ascensor_personas = []\n",
    "        \n",
    "    def __eq__(self, nodo):\n",
    "        return self.personas == nodo.personas and self.ascensor_pos == nodo.ascensor_pos and self.ascensor_personas == nodo.ascensor_personas\n",
    "    \n",
    "    # No hemos definido un orden en los nodos, sin embargo, diversos algoritmos \n",
    "    # requieren tener este métdodo implementado.\n",
    "    def __lt__(self,nodo):\n",
    "        return True\n",
    "    \n",
    "    def __hash__(self):\n",
    "        return hash((tuple(self.personas), self.ascensor_pos, tuple(self.ascensor_personas)))"
   ]
  },
  {
   "cell_type": "markdown",
   "metadata": {},
   "source": [
    "#### Clase AscensoresSuperSimplificado\n",
    "Clase que representa el problema en su primera versión (un único bloque con un único ascensor). Consta de varias funciones:\n",
    "\n",
    "+ **Init**: Dado un nodo inicial y un nodo objetivo, inicializa la clase\n",
    "\n",
    "    + *initial*: nodo desde el que empezamos a buscar\n",
    "    + *goal*: Plantas a las que quieren llegar las respectivas personas\n",
    "    + *analizados*: número de nodos analizados hasta el momento\n",
    "\n",
    "+ **Actions**: Dado un nodo, devuelve las acciones posibles que podemos ejecutar desde dicho nodo. Las acciones posibles son: subir, bajar,coger_persona y dejar_persona.\n",
    " \n",
    "    + *Codificación Acciones*. Hemos decidido codificar las acciones posibles de la siguiente manera:\n",
    "        + (subir, i, j) &rArr; El ascensor i sube j plantas\n",
    "        + (bajar, i, j) &rArr; El ascensor i baja j plantas\n",
    "        + (coger_persona, i, j) &rArr; El ascensor i coge a la persona j\n",
    "        + (dejar_persona, i, j) &rArr; El ascesnro i deja a la persona j\n",
    "      \n",
    "    + *Variables locales*:\n",
    "        + personas_esta_planta_suben: Lista de las personas que se encuentran en la planta del ascensor y su planta objetivo está por encima\n",
    "        + personas_esta_planta_bajan: Lista de las personas que se encuentran en la planta del ascensor y su planta objetivo está por debajo\n",
    "        + persona_menos_arriba: Menor planta de las personas que se encuentran por encima del ascensor\n",
    "        + persona_menos_abajo: Mayor planta de las personas que se encuentran por debajo del ascensor\n",
    "        + destino_menos_arriba: Menor destino de las personas que se encuentran dentro del ascensor\n",
    "        + destino_menos_abajo: Mayor destino de las personas que se encuentran dentro del ascensor\n",
    "        \n",
    "    + *Restricciones*. Hemos decidido implementar una serie de restricciones basadas en invariantes implicitos del problema que nos permiten no dar una acción cuando sea innecesario (no nos aporta un camino hacia la solución óptima) eliminando ramas sin perder optimalidad. Todas estas restricciones han sido probadas válidas en las hipótesis del problema (de las cuales cabe destacar la no penalización por parada de los ascensores) por el método de reducción de diferencias:\n",
    "        1. Un ascensor nunca tiene dentro personas que quieran subir y bajar. O bien tiene dentro a gente que quiere bajar, o bien a gente que quiere subir. De esta forma, evitamos alejar de su objetivo innecesariamente a las personas que quieren bajar cuando el ascensor sube y viceversa\n",
    "        2. Si alguien llega a su planta objetivo, forzamos a que esta baje del ascensor, es decir, devolvemos como única acción posible dejar a dicha persona. Siempre será más óptimo dejar a la persona una vez alcance su objetivo y no alejarla de este\n",
    "        3. Solo subimos cuando haya una persona esperando en una planta por encima del ascensor o cuando haya alguna persona dentro del ascensor cuya planta objetivo esté por encima. De esta manera, nos evitamos dar la opción de subir cuando no aporte nada al problema. (Respectivamente con bajar)\n",
    "        4. No subimos cuando haya un hueco en el ascensor y alguien en la planta que quiera subir. De esta forma, obligamos a coger a esa persona antes de subir pues siempre será más eficiente acercarla si es posible. (Respectivamente con bajar)\n",
    "\n",
    "+ **Result**. Dado un nodo y una acción, devuelve el resultado de aplicar al nodo dicha acción\n",
    "\n",
    "+ **Goal_test**. Dado un nodo, comprueba si hemos alcanzado la solución. Habremos alcanzado el objetivo cuando todas las personas tengan el valor EN_DESTINO\n",
    "\n",
    "+ **path_cost**. Si la acción que aplicamos es *subir* o *bajar*, incrementamos el coste en el número de plantas que subimos o bajamos. El coste total será la suma de las plantas que subimos  o bajamos\n",
    "\n",
    "+ **h**. Heurística a usar en la búsqueda *A\\**. Hemos elegido para esta primera versión que sea la suma para cada persona de las diferencias entre la planta en la que se encuentra y la planta objetivo dividido esto entre la constante CAP_ASCENSOR (ya que únicamente contamos con un ascensor). La heurística es admisible y consistente (h(s1) <= c(s1,a,s2) + h(s2)). No dividir por esta constante implica usar una heurística no consistente (y por tanto no llegar a solución óptima necesariamente) pero obtener soluciones en un tiempo de ejecución menor."
   ]
  },
  {
   "cell_type": "code",
   "execution_count": 81,
   "metadata": {},
   "outputs": [],
   "source": [
    "class AscensoresSuperSimplificado(Problem) :    \n",
    "   \n",
    "    def __init__(self, initial, goal=None):        \n",
    "        self.initial = initial\n",
    "        self.goal = goal\n",
    "        self.analizados = 0\n",
    "\n",
    "    def actions(self, state):\n",
    "        \n",
    "        num_ascensor = 0\n",
    "        personas          = state.personas\n",
    "        ascensor_pos      = state.ascensor_pos\n",
    "        ascensor_personas = state.ascensor_personas\n",
    "        ascensor_vacio    = not ascensor_personas\n",
    "        ascensor_lleno    = (len(ascensor_personas)==CAP_ASCENSOR)\n",
    "        \n",
    "        personas_esta_planta_suben = [i for i in range(len(personas)) if personas[i] == ascensor_pos and self.goal[i] > ascensor_pos]\n",
    "        personas_esta_planta_bajan = [i for i in range(len(personas)) if personas[i] == ascensor_pos and self.goal[i] < ascensor_pos]\n",
    "    \n",
    "        # 1.- Si alguien ha llegado a su destino, forzamos que baje del ascensor, \n",
    "        #     devolviendo como unica accion posible DEJAR PERSONA. (Restriccion 2)\n",
    "        for persona in ascensor_personas:\n",
    "            if ascensor_pos==self.goal[persona]:\n",
    "                return [(DEJAR_PERSONA,num_ascensor,persona)]\n",
    "        \n",
    "        \n",
    "        accs = list()\n",
    "        \n",
    "        # 2.- SUBIR:\n",
    "        \n",
    "        persona_menos_arriba = min([person for person in personas if person>ascensor_pos], default=NINGUNA)\n",
    "        \n",
    "        # Si el ascensor está vacío sólo subimos si hay alguna persona por arriba \n",
    "        # y no hay gente en esta planta que quiera subir (Restriccion 3 y 4)\n",
    "        if ascensor_vacio:\n",
    "            if persona_menos_arriba!=NINGUNA and not(personas_esta_planta_suben):\n",
    "                accs.append((SUBIR,num_ascensor,persona_menos_arriba-ascensor_pos))\n",
    "        \n",
    "        # Si el ascensor no está vacío, comprobamos que sus personas suben y vamos\n",
    "        # al mínimo entre a donde suben estas y donde hay una persona por encima\n",
    "        # siempre que no nos quede espacio o no haya gente en esa planta que quiere subir\n",
    "        # en cuyo caso cogeremos a dichar persona para acercarla lo maximo posible (Restriccion 4)\n",
    "        elif self.goal[ascensor_personas[0]]>ascensor_pos:\n",
    "            destino_menos_arriba = min([self.goal[i] for i in ascensor_personas])\n",
    "            \n",
    "            if ascensor_lleno or not(personas_esta_planta_suben):\n",
    "                if persona_menos_arriba==NINGUNA:\n",
    "                    accs.append((SUBIR,num_ascensor,destino_menos_arriba-ascensor_pos))\n",
    "                else:\n",
    "                    accs.append((SUBIR,num_ascensor,min(persona_menos_arriba, destino_menos_arriba)-ascensor_pos))\n",
    "                             \n",
    "                             \n",
    "        # 3.- BAJAR. La acción bajar es totalmente dual a la acción subir, mismas lógica en\n",
    "        #     las condiciones. \n",
    "        \n",
    "        persona_menos_abajo = max([person for person in personas if person<ascensor_pos and person!=EN_ASCENSOR and person!=EN_DESTINO], default=NINGUNA)\n",
    "        \n",
    "        if ascensor_vacio:\n",
    "            if persona_menos_abajo!=NINGUNA and not(personas_esta_planta_bajan):\n",
    "                accs.append((BAJAR,num_ascensor,ascensor_pos-persona_menos_abajo))\n",
    "        elif self.goal[ascensor_personas[0]]<ascensor_pos:\n",
    "            destino_menos_abajo = max([self.goal[i] for i in ascensor_personas])\n",
    "            \n",
    "            if ascensor_lleno  or not(personas_esta_planta_bajan):\n",
    "                if persona_menos_abajo==NINGUNA:\n",
    "                    accs.append((BAJAR,num_ascensor,ascensor_pos-destino_menos_abajo))\n",
    "                else:\n",
    "                    accs.append((BAJAR,num_ascensor,ascensor_pos-max(persona_menos_abajo, destino_menos_abajo)))\n",
    "        \n",
    "        # 4.- DEJAR PERSONA: Para cada persona del ascensor, podemos dejarla\n",
    "        for personaInterior in ascensor_personas:\n",
    "            accs.append((DEJAR_PERSONA,num_ascensor,personaInterior))\n",
    "        \n",
    "        # 5. COGER PERSONA. En el interior de ascensor todos suben, o bajan, no ambas (Restriccion 1)\n",
    "        if not ascensor_lleno:\n",
    "            #Si el ascensor esta vacio, podemos coger a cualquiera, suban o bajen\n",
    "            if ascensor_vacio:\n",
    "                for persona in personas_esta_planta_suben:\n",
    "                    accs.append((COGER_PERSONA,num_ascensor,persona))\n",
    "                for persona in personas_esta_planta_bajan:\n",
    "                    accs.append((COGER_PERSONA,num_ascensor,persona))\n",
    "            else:\n",
    "                #Si el ascensor tiene a alguien que baja, solo cogemos a gente que baje\n",
    "                if self.goal[ascensor_personas[0]]<ascensor_pos:\n",
    "                    for persona in personas_esta_planta_bajan:\n",
    "                        accs.append((COGER_PERSONA,num_ascensor,persona))\n",
    "                else:\n",
    "                #Si el ascensor tiene a alguien que sube, solo cogemos a gente que suba\n",
    "                    for persona in personas_esta_planta_suben:\n",
    "                        accs.append((COGER_PERSONA,num_ascensor,persona))\n",
    "        \n",
    "        return accs\n",
    "\n",
    "    def result(self, state, action):\n",
    "        estado_nuevo = copy.deepcopy(state)\n",
    "        \n",
    "        ascensor = action[1]\n",
    "        ascensor_pos = state.ascensor_pos\n",
    "        ascensor_personas = state.ascensor_personas\n",
    "        personas = state.personas\n",
    "        \n",
    "        #Si bajamos, la nueva posicion del ascensor será la actual menos las plantas a bajar\n",
    "        if action[0]==BAJAR:\n",
    "            estado_nuevo.ascensor_pos = estado_nuevo.ascensor_pos - action[2]\n",
    "        #Si subimos, la nueva posicion del ascensor será la actual más las plantas a subir\n",
    "        elif action[0]==SUBIR:\n",
    "            estado_nuevo.ascensor_pos = estado_nuevo.ascensor_pos + action[2]\n",
    "        #Si cogemos persona, introducimos en ascensor_personas la persona que cogemos. Además indicamos en\n",
    "        #personas que se encuentra EN_ASCENSOR\n",
    "        elif action[0]==COGER_PERSONA:\n",
    "            estado_nuevo.ascensor_personas.append(action[2])\n",
    "            estado_nuevo.personas[action[2]] = EN_ASCENSOR\n",
    "        #Si dejamos persona, la quitamos de ascensor_personas. Si ha llegado a su destino, ponemos EN_DESTINO\n",
    "        #y si no, la nueva planta en la que se encuentra (la del ascensor)\n",
    "        else:\n",
    "            estado_nuevo.ascensor_personas.remove(action[2])\n",
    "            \n",
    "            if self.goal[action[2]]==ascensor_pos:\n",
    "                estado_nuevo.personas[action[2]] = EN_DESTINO\n",
    "            else:\n",
    "                estado_nuevo.personas[action[2]] = ascensor_pos\n",
    "        \n",
    "        return estado_nuevo\n",
    "    \n",
    "    def goal_test(self, state):\n",
    "        self.analizados +=1\n",
    "        return state.personas == [EN_DESTINO for persona in state.personas]\n",
    "    \n",
    "    # Un único ascensor, el coste es el número de plantas que se desplaza\n",
    "    def path_cost(self, c, state1, action, state2):\n",
    "        if action[0]==BAJAR or action[0]==SUBIR:\n",
    "            return c + action[2]\n",
    "        else:\n",
    "            return c\n",
    "    \n",
    "    # Heurística que garantiza solución óptima, eliminando la división por la\n",
    "    # constante CAP_ASCENSOR obtenemos una heurística que alcanza solución \n",
    "    # (aunque no necesariamente óptima) en un menor tiempo. \n",
    "    def h(self,node):\n",
    "        suma  = sum([abs(self.goal[i]-node.state.personas[i]) for i in range(0,len(node.state.personas)) if node.state.personas[i]!=EN_DESTINO and node.state.personas[i]!=EN_ASCENSOR])\n",
    "        suma += sum([abs(self.goal[persona]-node.state.ascensor_pos) for persona in node.state.ascensor_personas])\n",
    "        return suma/CAP_ASCENSOR\n",
    "        \n",
    "    def value(self, state):\n",
    "        raise NotImplementedError"
   ]
  },
  {
   "cell_type": "markdown",
   "metadata": {},
   "source": [
    "#### Probando nuestra primera versión\n",
    "Inicializamos el nodo init con las plantas donde se encuentran al comienzo cada persona y la lista goal con las plantas a las que quieren ir. Declaramos el problema con dichos nodos y ejecutamos la búsqueda. Posteriormente, decodificamos la lista de acciones obtenidas (Módulo SolutionManager) para visualizarla cómodamente con una interpretación y no como tuplas codificadas.\n",
    "\n",
    "Como podemos observar, logramos hallar una solución al problema para una gran cantidad de personas en un tiempo muy disminuido."
   ]
  },
  {
   "cell_type": "code",
   "execution_count": 46,
   "metadata": {},
   "outputs": [
    {
     "name": "stdout",
     "output_type": "stream",
     "text": [
      "El ascensor 0 coge a la persona 0\n",
      "El ascensor 0 sube 1 planta\n",
      "El ascensor 0 deja a la persona 0\n",
      "El ascensor 0 coge a la persona 1\n",
      "El ascensor 0 baja 1 planta\n",
      "El ascensor 0 deja a la persona 1\n"
     ]
    }
   ],
   "source": [
    "#Caso sencillo\n",
    "init = NodeState([0,1])\n",
    "goal = [1,0]\n",
    "problem = AscensoresSuperSimplificado(init, goal)\n",
    "start = time.time()\n",
    "acciones = astar_search(problem).solution()\n",
    "end = time.time()\n",
    "decodificador_acciones(fusionador_acciones(acciones))"
   ]
  },
  {
   "cell_type": "code",
   "execution_count": 53,
   "metadata": {},
   "outputs": [
    {
     "name": "stdout",
     "output_type": "stream",
     "text": [
      "Nodos analizados: 5934\n",
      "Coste secuencial: 34\n",
      "Tiempo de búsqueda: 2.7810983657836914 s\n"
     ]
    }
   ],
   "source": [
    "print(\"Nodos analizados: \" + str(problem.analizados))\n",
    "print(\"Coste secuencial: \" + str(coste_acciones(acciones)))\n",
    "print(\"Tiempo de búsqueda: \" + str(end-start) + \" s\")"
   ]
  },
  {
   "cell_type": "code",
   "execution_count": 48,
   "metadata": {},
   "outputs": [
    {
     "name": "stdout",
     "output_type": "stream",
     "text": [
      "El ascensor 0 sube 1 planta\n",
      "El ascensor 0 coge a las personas 4, 2\n",
      "El ascensor 0 sube 1 planta\n",
      "El ascensor 0 deja a la persona 4\n",
      "El ascensor 0 coge a la persona 4\n",
      "El ascensor 0 sube 6 plantas\n",
      "El ascensor 0 deja a la persona 2\n",
      "El ascensor 0 coge a la persona 2\n",
      "El ascensor 0 sube 1 planta\n",
      "El ascensor 0 deja a las personas 4, 2\n",
      "El ascensor 0 baja 1 planta\n",
      "El ascensor 0 coge a la persona 3\n",
      "El ascensor 0 baja 7 plantas\n",
      "El ascensor 0 deja a la persona 3\n",
      "El ascensor 0 sube 1 planta\n",
      "El ascensor 0 coge a la persona 0\n",
      "El ascensor 0 sube 1 planta\n",
      "El ascensor 0 deja a la persona 0\n",
      "El ascensor 0 sube 1 planta\n",
      "El ascensor 0 coge a la persona 1\n",
      "El ascensor 0 sube 5 plantas\n",
      "El ascensor 0 coge a la persona 2\n",
      "El ascensor 0 sube 2 plantas\n",
      "El ascensor 0 deja a la persona 1\n",
      "El ascensor 0 sube 1 planta\n",
      "El ascensor 0 deja a la persona 2\n"
     ]
    }
   ],
   "source": [
    "#Caso del enunciado\n",
    "init = NodeState([2,4,1,8,1])\n",
    "goal = [3,11,12,1,9]\n",
    "problem = AscensoresSuperSimplificado(init, goal)\n",
    "start = time.time()\n",
    "acciones = astar_search(problem).solution()\n",
    "end = time.time()\n",
    "decodificador_acciones(fusionador_acciones(acciones))"
   ]
  },
  {
   "cell_type": "code",
   "execution_count": 52,
   "metadata": {},
   "outputs": [
    {
     "name": "stdout",
     "output_type": "stream",
     "text": [
      "Nodos analizados: 5934\n",
      "Coste secuencial: 34\n",
      "Tiempo de búsqueda: 2.7810983657836914 s\n"
     ]
    }
   ],
   "source": [
    "print(\"Nodos analizados: \" + str(problem.analizados))\n",
    "print(\"Coste secuencial: \" + str(coste_acciones(acciones)))\n",
    "print(\"Tiempo de búsqueda: \" + str(end-start) + \" s\")"
   ]
  },
  {
   "cell_type": "code",
   "execution_count": 50,
   "metadata": {
    "scrolled": false
   },
   "outputs": [
    {
     "name": "stdout",
     "output_type": "stream",
     "text": [
      "El ascensor 0 sube 1 planta\n",
      "El ascensor 0 coge a la persona 2\n",
      "El ascensor 0 sube 1 planta\n",
      "El ascensor 0 coge a la persona 9\n",
      "El ascensor 0 deja a la persona 2\n",
      "El ascensor 0 coge a la persona 2\n",
      "El ascensor 0 sube 2 plantas\n",
      "El ascensor 0 deja a la persona 2\n",
      "El ascensor 0 sube 2 plantas\n",
      "El ascensor 0 coge a la persona 8\n",
      "El ascensor 0 deja a la persona 9\n",
      "El ascensor 0 coge a la persona 9\n",
      "El ascensor 0 sube 1 planta\n",
      "El ascensor 0 deja a la persona 9\n",
      "El ascensor 0 sube 2 plantas\n",
      "El ascensor 0 deja a la persona 8\n",
      "El ascensor 0 coge a la persona 5\n",
      "El ascensor 0 sube 1 planta\n",
      "El ascensor 0 deja a la persona 5\n",
      "El ascensor 0 sube 2 plantas\n",
      "El ascensor 0 coge a la persona 3\n",
      "El ascensor 0 baja 1 planta\n",
      "El ascensor 0 coge a la persona 7\n",
      "El ascensor 0 baja 6 plantas\n",
      "El ascensor 0 deja a la persona 3\n",
      "El ascensor 0 coge a la persona 6\n",
      "El ascensor 0 deja a la persona 7\n",
      "El ascensor 0 coge a la persona 7\n",
      "El ascensor 0 baja 1 planta\n",
      "El ascensor 0 deja a las personas 7, 6\n",
      "El ascensor 0 sube 6 plantas\n",
      "El ascensor 0 coge a la persona 0\n",
      "El ascensor 0 baja 2 plantas\n",
      "El ascensor 0 coge a la persona 1\n",
      "El ascensor 0 deja a la persona 0\n",
      "El ascensor 0 coge a la persona 0\n",
      "El ascensor 0 baja 1 planta\n",
      "El ascensor 0 deja a la persona 0\n",
      "El ascensor 0 coge a la persona 4\n",
      "El ascensor 0 deja a la persona 1\n",
      "El ascensor 0 coge a la persona 1\n",
      "El ascensor 0 baja 1 planta\n",
      "El ascensor 0 deja a la persona 4\n",
      "El ascensor 0 baja 2 plantas\n",
      "El ascensor 0 coge a la persona 6\n",
      "El ascensor 0 baja 1 planta\n",
      "El ascensor 0 deja a la persona 1\n",
      "El ascensor 0 baja 1 planta\n",
      "El ascensor 0 deja a la persona 6\n"
     ]
    }
   ],
   "source": [
    "#Caso 10 personas, 12 plantas:\n",
    "init = NodeState([10, 8, 1, 12, 7, 9, 5, 11, 6, 2])\n",
    "goal = [7, 3, 4, 5, 6, 10, 2, 4, 9, 7]\n",
    "problem = AscensoresSuperSimplificado(init, goal)\n",
    "start = time.time()\n",
    "acciones = astar_search(problem).solution()\n",
    "end = time.time()\n",
    "decodificador_acciones(fusionador_acciones(acciones))"
   ]
  },
  {
   "cell_type": "code",
   "execution_count": 54,
   "metadata": {},
   "outputs": [
    {
     "name": "stdout",
     "output_type": "stream",
     "text": [
      "Nodos analizados: 5934\n",
      "Coste secuencial: 34\n",
      "Tiempo de búsqueda: 2.7810983657836914 s\n"
     ]
    }
   ],
   "source": [
    "print(\"Nodos analizados: \" + str(problem.analizados))\n",
    "print(\"Coste secuencial: \" + str(coste_acciones(acciones)))\n",
    "print(\"Tiempo de búsqueda: \" + str(end-start) + \" s\")"
   ]
  },
  {
   "cell_type": "markdown",
   "metadata": {},
   "source": [
    "#### Casos de alta complejidad:"
   ]
  },
  {
   "cell_type": "markdown",
   "metadata": {},
   "source": [
    "Los casos siguientes resultan demasiado lentos para la heurística consistente. Sin embargo si renunciamos a obtener siempre la solución óptima (en términos de minimizar el número de plantas que tiene que desplazarse) obtenemos soluciones muy rápidas. Se debe usar la siguiente heurística:"
   ]
  },
  {
   "cell_type": "code",
   "execution_count": 65,
   "metadata": {},
   "outputs": [],
   "source": [
    "def h(node):\n",
    "    suma  = sum([abs(goal[i]-node.state.personas[i]) for i in range(0,len(node.state.personas)) if node.state.personas[i]!=EN_DESTINO and node.state.personas[i]!=EN_ASCENSOR])\n",
    "    suma += sum([abs(goal[persona]-node.state.ascensor_pos) for persona in node.state.ascensor_personas])\n",
    "    return suma"
   ]
  },
  {
   "cell_type": "code",
   "execution_count": 74,
   "metadata": {},
   "outputs": [
    {
     "name": "stdout",
     "output_type": "stream",
     "text": [
      "El ascensor 0 sube 1 planta\n",
      "El ascensor 0 coge a la persona 2\n",
      "El ascensor 0 sube 1 planta\n",
      "El ascensor 0 coge a la persona 12\n",
      "El ascensor 0 sube 9 plantas\n",
      "El ascensor 0 deja a las personas 12, 2\n",
      "El ascensor 0 coge a la persona 7\n",
      "El ascensor 0 baja 1 planta\n",
      "El ascensor 0 coge a la persona 0\n",
      "El ascensor 0 baja 3 plantas\n",
      "El ascensor 0 deja a la persona 0\n",
      "El ascensor 0 coge a la persona 4\n",
      "El ascensor 0 baja 1 planta\n",
      "El ascensor 0 deja a las personas 4, 7\n",
      "El ascensor 0 coge a la persona 8\n",
      "El ascensor 0 sube 1 planta\n",
      "El ascensor 0 coge a la persona 13\n",
      "El ascensor 0 sube 2 plantas\n",
      "El ascensor 0 deja a la persona 8\n",
      "El ascensor 0 coge a la persona 5\n",
      "El ascensor 0 sube 1 planta\n",
      "El ascensor 0 deja a la persona 5\n",
      "El ascensor 0 sube 1 planta\n",
      "El ascensor 0 coge a la persona 2\n",
      "El ascensor 0 sube 1 planta\n",
      "El ascensor 0 deja a las personas 13, 2\n",
      "El ascensor 0 coge a la persona 3\n",
      "El ascensor 0 baja 4 plantas\n",
      "El ascensor 0 coge a la persona 1\n",
      "El ascensor 0 baja 3 plantas\n",
      "El ascensor 0 deja a la persona 3\n",
      "El ascensor 0 coge a la persona 6\n",
      "El ascensor 0 baja 2 plantas\n",
      "El ascensor 0 deja a la persona 1\n",
      "El ascensor 0 baja 1 planta\n",
      "El ascensor 0 deja a la persona 6\n",
      "El ascensor 0 coge a la persona 9\n",
      "El ascensor 0 sube 2 plantas\n",
      "El ascensor 0 coge a la persona 10\n",
      "El ascensor 0 sube 7 plantas\n",
      "El ascensor 0 deja a la persona 9\n",
      "El ascensor 0 sube 5 plantas\n",
      "El ascensor 0 deja a la persona 10\n",
      "El ascensor 0 sube 2 plantas\n",
      "El ascensor 0 coge a la persona 11\n",
      "El ascensor 0 baja 12 plantas\n",
      "El ascensor 0 coge a la persona 7\n",
      "El ascensor 0 baja 2 plantas\n",
      "El ascensor 0 deja a la persona 7\n",
      "El ascensor 0 baja 2 plantas\n",
      "El ascensor 0 deja a la persona 11\n",
      "El ascensor 0 sube 3 plantas\n",
      "El ascensor 0 coge a la persona 14\n",
      "El ascensor 0 sube 13 plantas\n",
      "El ascensor 0 deja a la persona 14\n"
     ]
    }
   ],
   "source": [
    "#Caso 15 personas, 20 plantas:\n",
    "init = NodeState([10, 8, 1, 12, 7, 9, 5, 11, 6, 2, 4, 18, 2, 7, 5])\n",
    "goal = [7, 3, 12, 5, 6, 10, 2, 4, 9, 11, 16, 2, 11, 12, 18]\n",
    "problem = AscensoresSuperSimplificado(init, goal)\n",
    "start = time.time()\n",
    "acciones = astar_search(problem,h).solution()\n",
    "end = time.time()\n",
    "decodificador_acciones(fusionador_acciones(acciones))"
   ]
  },
  {
   "cell_type": "code",
   "execution_count": 75,
   "metadata": {},
   "outputs": [
    {
     "name": "stdout",
     "output_type": "stream",
     "text": [
      "Nodos analizados: 93\n",
      "Coste secuencial: 80\n",
      "Tiempo de búsqueda: 0.016496658325195312 s\n"
     ]
    }
   ],
   "source": [
    "print(\"Nodos analizados: \" + str(problem.analizados))\n",
    "print(\"Coste secuencial: \" + str(coste_acciones(acciones)))\n",
    "print(\"Tiempo de búsqueda: \" + str(end-start) + \" s\")"
   ]
  },
  {
   "cell_type": "code",
   "execution_count": 79,
   "metadata": {
    "scrolled": false
   },
   "outputs": [
    {
     "name": "stdout",
     "output_type": "stream",
     "text": [
      "El ascensor 0 coge a la persona 13\n",
      "El ascensor 0 sube 3 plantas\n",
      "El ascensor 0 coge a la persona 7\n",
      "El ascensor 0 sube 58 plantas\n",
      "El ascensor 0 deja a la persona 13\n",
      "El ascensor 0 sube 1 planta\n",
      "El ascensor 0 coge a la persona 27\n",
      "El ascensor 0 sube 19 plantas\n",
      "El ascensor 0 deja a la persona 7\n",
      "El ascensor 0 sube 2 plantas\n",
      "El ascensor 0 deja a la persona 27\n",
      "El ascensor 0 coge a la persona 5\n",
      "El ascensor 0 baja 4 plantas\n",
      "El ascensor 0 coge a la persona 25\n",
      "El ascensor 0 baja 11 plantas\n",
      "El ascensor 0 deja a la persona 5\n",
      "El ascensor 0 baja 1 planta\n",
      "El ascensor 0 deja a la persona 25\n",
      "El ascensor 0 coge a la persona 20\n",
      "El ascensor 0 sube 2 plantas\n",
      "El ascensor 0 deja a la persona 20\n",
      "El ascensor 0 coge a la persona 17\n",
      "El ascensor 0 baja 2 plantas\n",
      "El ascensor 0 coge a la persona 25\n",
      "El ascensor 0 baja 1 planta\n",
      "El ascensor 0 deja a la persona 25\n",
      "El ascensor 0 coge a la persona 9\n",
      "El ascensor 0 baja 3 plantas\n",
      "El ascensor 0 deja a la persona 17\n",
      "El ascensor 0 coge a la persona 24\n",
      "El ascensor 0 baja 36 plantas\n",
      "El ascensor 0 deja a las personas 9, 24\n",
      "El ascensor 0 coge a la persona 29\n",
      "El ascensor 0 sube 2 plantas\n",
      "El ascensor 0 coge a la persona 6\n",
      "El ascensor 0 sube 45 plantas\n",
      "El ascensor 0 deja a la persona 6\n",
      "El ascensor 0 sube 9 plantas\n",
      "El ascensor 0 deja a la persona 29\n",
      "El ascensor 0 coge a la persona 27\n",
      "El ascensor 0 sube 3 plantas\n",
      "El ascensor 0 deja a la persona 27\n",
      "El ascensor 0 sube 3 plantas\n",
      "El ascensor 0 coge a la persona 11\n",
      "El ascensor 0 baja 18 plantas\n",
      "El ascensor 0 coge a la persona 14\n",
      "El ascensor 0 baja 1 planta\n",
      "El ascensor 0 deja a la persona 11\n",
      "El ascensor 0 baja 19 plantas\n",
      "El ascensor 0 coge a la persona 3\n",
      "El ascensor 0 baja 23 plantas\n",
      "El ascensor 0 deja a la persona 3\n",
      "El ascensor 0 baja 1 planta\n",
      "El ascensor 0 coge a la persona 24\n",
      "El ascensor 0 baja 2 plantas\n",
      "El ascensor 0 deja a la persona 24\n",
      "El ascensor 0 coge a la persona 2\n",
      "El ascensor 0 baja 7 plantas\n",
      "El ascensor 0 deja a la persona 2\n",
      "El ascensor 0 baja 1 planta\n",
      "El ascensor 0 deja a la persona 14\n",
      "El ascensor 0 coge a la persona 8\n",
      "El ascensor 0 sube 2 plantas\n",
      "El ascensor 0 deja a la persona 8\n",
      "El ascensor 0 coge a la persona 26\n",
      "El ascensor 0 baja 2 plantas\n",
      "El ascensor 0 coge a la persona 14\n",
      "El ascensor 0 baja 9 plantas\n",
      "El ascensor 0 deja a la persona 14\n",
      "El ascensor 0 baja 2 plantas\n",
      "El ascensor 0 deja a la persona 26\n",
      "El ascensor 0 coge a la persona 18\n",
      "El ascensor 0 sube 6 plantas\n",
      "El ascensor 0 coge a la persona 1\n",
      "El ascensor 0 sube 25 plantas\n",
      "El ascensor 0 deja a la persona 18\n",
      "El ascensor 0 sube 3 plantas\n",
      "El ascensor 0 coge a la persona 19\n",
      "El ascensor 0 sube 52 plantas\n",
      "El ascensor 0 deja a la persona 1\n",
      "El ascensor 0 sube 1 planta\n",
      "El ascensor 0 deja a la persona 19\n",
      "El ascensor 0 coge a la persona 21\n",
      "El ascensor 0 baja 1 planta\n",
      "El ascensor 0 coge a la persona 12\n",
      "El ascensor 0 baja 13 plantas\n",
      "El ascensor 0 deja a la persona 12\n",
      "El ascensor 0 baja 21 plantas\n",
      "El ascensor 0 deja a la persona 21\n",
      "El ascensor 0 baja 11 plantas\n",
      "El ascensor 0 coge a la persona 10\n",
      "El ascensor 0 baja 12 plantas\n",
      "El ascensor 0 deja a la persona 10\n",
      "El ascensor 0 coge a la persona 15\n",
      "El ascensor 0 sube 34 plantas\n",
      "El ascensor 0 coge a la persona 20\n",
      "El ascensor 0 sube 3 plantas\n",
      "El ascensor 0 deja a la persona 20\n",
      "El ascensor 0 sube 19 plantas\n",
      "El ascensor 0 deja a la persona 15\n",
      "El ascensor 0 sube 2 plantas\n",
      "El ascensor 0 coge a la persona 19\n",
      "El ascensor 0 sube 3 plantas\n",
      "El ascensor 0 deja a la persona 19\n",
      "El ascensor 0 coge a la persona 16\n",
      "El ascensor 0 baja 61 plantas\n",
      "El ascensor 0 coge a la persona 10\n",
      "El ascensor 0 baja 11 plantas\n",
      "El ascensor 0 deja a las personas 10, 16\n",
      "El ascensor 0 coge a la persona 22\n",
      "El ascensor 0 sube 6 plantas\n",
      "El ascensor 0 coge a la persona 4\n",
      "El ascensor 0 sube 5 plantas\n",
      "El ascensor 0 deja a las personas 4, 22\n",
      "El ascensor 0 baja 1 planta\n",
      "El ascensor 0 coge a la persona 0\n",
      "El ascensor 0 baja 10 plantas\n",
      "El ascensor 0 coge a la persona 16\n",
      "El ascensor 0 baja 3 plantas\n",
      "El ascensor 0 deja a la persona 0\n",
      "El ascensor 0 baja 2 plantas\n",
      "El ascensor 0 deja a la persona 16\n",
      "El ascensor 0 coge a la persona 8\n",
      "El ascensor 0 sube 16 plantas\n",
      "El ascensor 0 coge a la persona 22\n",
      "El ascensor 0 sube 24 plantas\n",
      "El ascensor 0 deja a la persona 22\n",
      "El ascensor 0 sube 30 plantas\n",
      "El ascensor 0 deja a la persona 8\n",
      "El ascensor 0 sube 7 plantas\n",
      "El ascensor 0 coge a la persona 19\n",
      "El ascensor 0 sube 3 plantas\n",
      "El ascensor 0 deja a la persona 19\n",
      "El ascensor 0 coge a la persona 28\n",
      "El ascensor 0 baja 2 plantas\n",
      "El ascensor 0 coge a la persona 23\n",
      "El ascensor 0 baja 24 plantas\n",
      "El ascensor 0 deja a la persona 23\n",
      "El ascensor 0 baja 39 plantas\n",
      "El ascensor 0 deja a la persona 28\n",
      "El ascensor 0 baja 15 plantas\n",
      "El ascensor 0 coge a la persona 16\n",
      "El ascensor 0 baja 12 plantas\n",
      "El ascensor 0 deja a la persona 16\n",
      "El ascensor 0 baja 1 planta\n",
      "El ascensor 0 coge a la persona 26\n",
      "El ascensor 0 baja 1 planta\n",
      "El ascensor 0 deja a la persona 26\n"
     ]
    }
   ],
   "source": [
    "#Caso 30 personas, 100 plantas:\n",
    "init = NodeState([34, 12, 25, 51, 30, 83, 29, 3, 17, 66, 47, 89, 92, 0, 71, 35, 96, 69, 6, 40, 67, 93, 24, 97, 63, 79, 19, 62, 99, 27])\n",
    "goal = [21, 92, 18, 28, 35, 68, 74, 81, 89, 27, 24, 70, 79, 61, 8, 91, 7, 63, 37, 99, 72, 58, 59, 73, 25, 66, 5, 86, 34, 83]\n",
    "problem = AscensoresSuperSimplificado(init, goal)\n",
    "start = time.time()\n",
    "acciones = astar_search(problem,h).solution()\n",
    "end = time.time()\n",
    "decodificador_acciones(fusionador_acciones(acciones))"
   ]
  },
  {
   "cell_type": "code",
   "execution_count": 80,
   "metadata": {},
   "outputs": [
    {
     "name": "stdout",
     "output_type": "stream",
     "text": [
      "Nodos analizados: 246\n",
      "Coste secuencial: 771\n",
      "Tiempo de búsqueda: 0.06947588920593262 s\n"
     ]
    }
   ],
   "source": [
    "print(\"Nodos analizados: \" + str(problem.analizados))\n",
    "print(\"Coste secuencial: \" + str(coste_acciones(acciones)))\n",
    "print(\"Tiempo de búsqueda: \" + str(end-start) + \" s\")"
   ]
  },
  {
   "cell_type": "markdown",
   "metadata": {},
   "source": [
    "#### Conclusiones\n",
    "\n",
    "La definición de las acciones, muy restrictiva gracias a considerar los invariantes implícitos del problema, junto con el control de nodos repetidos del algoritmo, nos ha permitido conseguir una versión del problema que nos lo solucione para una cantidad numerosa de personas en un tiempo razonable. Notemos que no tenemos que indicar al problema el número de plantas a considerar y por lo tanto, podemos poner a cada persona en una planta arbitraria."
   ]
  }
 ],
 "metadata": {
  "celltoolbar": "Raw Cell Format",
  "kernelspec": {
   "display_name": "Python 3",
   "language": "python",
   "name": "python3"
  },
  "language_info": {
   "codemirror_mode": {
    "name": "ipython",
    "version": 3
   },
   "file_extension": ".py",
   "mimetype": "text/x-python",
   "name": "python",
   "nbconvert_exporter": "python",
   "pygments_lexer": "ipython3",
   "version": "3.6.8"
  }
 },
 "nbformat": 4,
 "nbformat_minor": 2
}
