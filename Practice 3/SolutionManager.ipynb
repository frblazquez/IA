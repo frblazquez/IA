{
 "cells": [
  {
   "cell_type": "code",
   "execution_count": 75,
   "metadata": {},
   "outputs": [],
   "source": [
    "# CÓDIGOS OPERACIONES\n",
    "BAJAR=0\n",
    "SUBIR=1\n",
    "COGER_PERSONA=2\n",
    "DEJAR_PERSONA=3"
   ]
  },
  {
   "cell_type": "code",
   "execution_count": 76,
   "metadata": {},
   "outputs": [],
   "source": [
    "# Codificación acciones:\n",
    "# (BAJAR, i, j) -> El ascensor i baja j plantas\n",
    "# (SUBIR, i, j) -> El ascensor i sube j plantas\n",
    "# (COGER_PERSONA, i, j) -> El ascensor i coge a la persona j\n",
    "# (DEJAR_PERSONA, i, j) -> El ascensor i deja a la persona j\n",
    "def decodificador_acciones(acciones):\n",
    "    for accion in acciones:\n",
    "        if accion[0]==BAJAR or accion[0]==SUBIR:\n",
    "            if accion[0]==BAJAR:\n",
    "                sube_baja = \" baja \"\n",
    "            else:\n",
    "                sube_baja = \" sube \"\n",
    "            if accion[2]>1:\n",
    "                plantas = \" plantas\"\n",
    "            else:\n",
    "                plantas = \" planta\"\n",
    "            print(\"El ascensor \"+str(accion[1])+sube_baja+str(accion[2])+plantas)\n",
    "        else:\n",
    "            if accion[0]==COGER_PERSONA:\n",
    "                coge_deja = \" coge a \"\n",
    "            else:\n",
    "                coge_deja = \" deja a \"\n",
    "            lista_gente = [str(num) for num in accion[2]]\n",
    "            if len(lista_gente)>1:\n",
    "                gente = \"las personas \"\n",
    "            else:\n",
    "                gente = \"la persona \"\n",
    "            print(\"El ascensor \"+str(accion[1])+coge_deja+gente+\", \".join(lista_gente))"
   ]
  },
  {
   "cell_type": "code",
   "execution_count": 77,
   "metadata": {},
   "outputs": [],
   "source": [
    "#(No es muy eficiente) Quita si hay una cadena dejar-coger o coger-dejar para un mismo ascensor y persona sin que el ascensor\n",
    "# suba o baje en el medio (la persona no va a irse y volver entre ambas acciones en una solución óptima)\n",
    "def quita_dejar_coger_inutiles_acciones(acciones):\n",
    "    index_ultimo_dejar_por_ascensor = [[-1 for _ in range(NUM_PERSONAS)] for _ in range(NUM_ASCENSORES)]\n",
    "    indexes_a_borrar = set()\n",
    "    for i, accion in enumerate(acciones):\n",
    "        if accion[0]==DEJAR_PERSONA or accion[0]==COGER_PERSONA:\n",
    "            if index_ultimo_dejar_por_ascensor[accion[1]][accion[2]]==-1:\n",
    "                index_ultimo_dejar_por_ascensor[accion[1]][accion[2]]=i\n",
    "            else:\n",
    "                supuestamente_inverso = acciones[index_ultimo_dejar_por_ascensor[accion[1]][accion[2]]]\n",
    "                if supuestamente_inverso[0] != accion[0]:\n",
    "                    indexes_a_borrar.add(index_ultimo_dejar_por_ascensor[accion[1]][accion[2]])\n",
    "                    indexes_a_borrar.add(i)\n",
    "                    index_ultimo_dejar_por_ascensor[accion[1]][accion[2]]=-1\n",
    "                else: #IMPOSIBLE, cogeríamos (respect. dejaríamos) a la misma persona en el mismo ascensor dos veces\n",
    "                    index_ultimo_dejar_por_ascensor[accion[1]][accion[2]]=i\n",
    "                    \n",
    "        else:\n",
    "            index_ultimo_dejar_por_ascensor[accion[1]] = [-1 for _ in range(NUM_PERSONAS)] #Ya no cancelables\n",
    "    \n",
    "    nuevas_acciones = []\n",
    "    for i in range(len(acciones)):\n",
    "        if not(i in indexes_a_borrar): #asi mejor para que no se corran los indices y porque del/remove/pop tienen coste lineal\n",
    "            nuevas_acciones.append(acciones[i])\n",
    "    \n",
    "    return nuevas_acciones"
   ]
  },
  {
   "cell_type": "code",
   "execution_count": 78,
   "metadata": {},
   "outputs": [],
   "source": [
    "def fusionador_acciones(acciones):\n",
    "    nuevas_acciones = []\n",
    "    for accion in acciones:\n",
    "        if accion[0]==COGER_PERSONA or accion[0]==DEJAR_PERSONA:\n",
    "            accion = (accion[0],accion[1],[accion[2]])\n",
    "            \n",
    "        if bool(nuevas_acciones) and (accion[0]==nuevas_acciones[-1][0] and accion[1]==nuevas_acciones[-1][1]):\n",
    "            #Si es SUBIR o BAJAR suma las plantas, si es COGER o DEJAR concatena las listas de personas\n",
    "            nuevas_acciones[-1] = (nuevas_acciones[-1][0],nuevas_acciones[-1][1],nuevas_acciones[-1][2]+accion[2])\n",
    "        else:\n",
    "            nuevas_acciones.append(accion)\n",
    "    return nuevas_acciones"
   ]
  },
  {
   "cell_type": "code",
   "execution_count": 79,
   "metadata": {},
   "outputs": [],
   "source": [
    "def cocina_acciones(acciones): #En este orden\n",
    "    acciones1 = quita_dejar_coger_inutiles_acciones(acciones)\n",
    "    acciones2 = fusionador_acciones(acciones1)\n",
    "    return acciones2"
   ]
  },
  {
   "cell_type": "code",
   "execution_count": 80,
   "metadata": {},
   "outputs": [],
   "source": [
    "def coste_acciones(acciones):\n",
    "    coste = 0\n",
    "    for action in acciones:\n",
    "        if action[0]==BAJAR or action[0]==SUBIR:\n",
    "            coste += action[2]\n",
    "    return coste"
   ]
  },
  {
   "cell_type": "code",
   "execution_count": null,
   "metadata": {},
   "outputs": [],
   "source": []
  }
 ],
 "metadata": {
  "kernelspec": {
   "display_name": "Python 3",
   "language": "python",
   "name": "python3"
  },
  "language_info": {
   "codemirror_mode": {
    "name": "ipython",
    "version": 3
   },
   "file_extension": ".py",
   "mimetype": "text/x-python",
   "name": "python",
   "nbconvert_exporter": "python",
   "pygments_lexer": "ipython3",
   "version": "3.6.8"
  }
 },
 "nbformat": 4,
 "nbformat_minor": 2
}
