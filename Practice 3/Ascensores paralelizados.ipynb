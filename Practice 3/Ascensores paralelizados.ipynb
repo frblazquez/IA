{
 "cells": [
  {
   "cell_type": "markdown",
   "metadata": {},
   "source": [
    "# <u> Problema de los ascensores</u> (Versión Paralelizada)"
   ]
  },
  {
   "cell_type": "markdown",
   "metadata": {},
   "source": [
    "#### G05 - Boris Carballa Corredoira, Juan Carlos Villanueva Quirós, Francisco Javier Blázquez Martínez"
   ]
  },
  {
   "cell_type": "markdown",
   "metadata": {},
   "source": [
    "Solución final del problema paralelizado, el edificio consta de varios bloques con varios ascensores, donde los ascensores son considerados como elementos independientes capaces de ejecutar sus acciones simultáneamente. En esta versión, añadimos en los comentarios los cambios con respecto a la versión anterior (<u>estos estarán subrayados</u>)."
   ]
  },
  {
   "cell_type": "markdown",
   "metadata": {},
   "source": [
    "<u>Para paralelizar, la idea fundamental será añadir el tiempo de llegada en el estado, tanto para las personas como para los ascensores. Esto nos permitirá ir marcando el momento en el que sucede cada acción y cambiar el punto de vista: buscar no ya la solución en la que los ascensores se desplazan menos plantas, sino aquella en la que es mínimo el tiempo de la persona que más tarda en llegar a su destino.</u> Lo explicamos en detalle a continuación:"
   ]
  },
  {
   "cell_type": "code",
   "execution_count": 70,
   "metadata": {},
   "outputs": [],
   "source": [
    "from search import *\n",
    "import copy\n",
    "import time"
   ]
  },
  {
   "cell_type": "markdown",
   "metadata": {},
   "source": [
    "#### Constantes (las mismas que en la versión secuencial)\n",
    "+ *NUM_PLANTAS*: Numero de plantas del problema\n",
    "+ *NUM_ASCENSORES*: Numero de ascensores a tener en cuenta\n",
    "+ *NUM_PERSONAS*: Numero de personas a considerar. Se necesita para que <u>los *SolutionManager*, secuencial y paralelo,</u> muestren correctamente la solucion con varios ascensores\n",
    "+ *CAP_ASCENSOR*: Capacidad de los ascensores\n",
    "+ *EN_ASCENSOR*: Nos indica que una persona se encuentra dentro de un ascensor\n",
    "+ *NINGUNA*: Usada para indicar que una lista es vacia\n",
    "+ *EN_DESTINO*: Denota que una persona ha llegado a su destino"
   ]
  },
  {
   "cell_type": "code",
   "execution_count": 71,
   "metadata": {},
   "outputs": [],
   "source": [
    "NUM_PLANTAS    = 12 #Para rango por defecto del ascensor\n",
    "NUM_ASCENSORES = 4\n",
    "NUM_PERSONAS = 5 #Se usa en quita_dejar_coger_inutiles_acciones\n",
    "CAP_ASCENSOR   = 2\n",
    "\n",
    "EN_ASCENSOR = -1\n",
    "NINGUNA = -1\n",
    "EN_DESTINO = -2"
   ]
  },
  {
   "cell_type": "markdown",
   "metadata": {},
   "source": [
    "#### Solution Manager\n",
    "Importamos el notebook *SolutionManager* <u>y *SolutionManagerParalelo*</u> en el cual tenemos almacenados todos los procedimientos que se ejecutan una vez calculada la solución para mejorar la visualización de la misma.\n",
    "Nótese que ahora también necesitamos una versión paralelo ya que el formato de las acciones que imprimiremos será una versión ampliada."
   ]
  },
  {
   "cell_type": "code",
   "execution_count": 72,
   "metadata": {},
   "outputs": [],
   "source": [
    "%run SolutionManager.ipynb\n",
    "%run SolutionManagerParalelo.ipynb"
   ]
  },
  {
   "cell_type": "markdown",
   "metadata": {},
   "source": [
    "#### Clase NodeState\n",
    "\n",
    "Clase que representa un nodo del espacio de exploración. El estado de dicho nodo se compone de:\n",
    "\n",
    " + *personas*: Lista con la planta en la que se encuentra cada persona, si una persona se encuentra dentro del ascensor toma el  valor de la constante EN_ASCENSOR, si se encuentra en su destino toma el valor de la costante EN_DESTINO\n",
    " + <u>*personas_tiempo_llegada*</u>: Lista con el instante en el que la persona i-ésima llegó a su planta, guardada en personas[i]\n",
    " + *ascensor_pos*: Lista con las plantas en la que se encuentra cada ascensor\n",
    " + *ascensor_personas*: Lista de listas con las personas (índices de la lista \"personas\") que se encuentran dentro de cada ascensor\n",
    " + *ascensor_rango*: Lista de tuplas (x,y) que índican el rango de cada ascensor, donde x es la planta mínima e y la planta máxima. Si no se introduce ningún rango, suponemos por defecto que pueden ir a todas las plantas\n",
    " + <u>*ascensores_tiempo_llegada*</u>: Lista con el instante en el que el ascensor i-ésimo llegó a su planta actual, almacenada en ascensor_pos[i]\n",
    " \n",
    "Por otro lado, hemos definido los operadores igual (**eq**), menor que (**lt**) y **hash** para permitir la comparación entre nodos y posibilitar así la correcta inserción de estos en estructuras de datos para que las búsquedas usen control de repetidos."
   ]
  },
  {
   "cell_type": "code",
   "execution_count": 73,
   "metadata": {},
   "outputs": [],
   "source": [
    "class NodeState:\n",
    "\n",
    "    def __init__(self, init_personas, ascensor_rango=None):\n",
    "        self.personas = init_personas\n",
    "        self.personas_tiempo_llegada = [0 for _ in range(NUM_PERSONAS)]\n",
    "        self.ascensor_personas = [[] for _ in range(NUM_ASCENSORES)]\n",
    "        self.ascensores_tiempo_llegada = [0 for _ in range(NUM_ASCENSORES)]\n",
    "        if ascensor_rango is None:\n",
    "            self.ascensor_rango = [(0,NUM_PLANTAS) for _ in range(NUM_ASCENSORES)] #[min,max], te deja lo mas arriba/abajo que puede\n",
    "            self.ascensor_pos = [0 for _ in range(NUM_ASCENSORES)]\n",
    "        else:\n",
    "            self.ascensor_rango = ascensor_rango\n",
    "            self.ascensor_pos = [rango[0] for rango in ascensor_rango]\n",
    "        \n",
    "    def __eq__(self, nodo):\n",
    "        return self.personas == nodo.personas and self.ascensor_pos == nodo.ascensor_pos and self.ascensor_personas == nodo.ascensor_personas and self.ascensores_tiempo_llegada==nodo.ascensores_tiempo_llegada and self.personas_tiempo_llegada==nodo.personas_tiempo_llegada\n",
    "   \n",
    "    def __hash__(self):\n",
    "        return hash((tuple(self.personas), tuple(self.personas_tiempo_llegada), tuple(self.ascensor_pos), tuple(self.ascensores_tiempo_llegada), tuple(tuple(x) for x in self.ascensor_personas)))\n",
    "    \n",
    "    def __lt__(self,nodo):\n",
    "        return True"
   ]
  },
  {
   "cell_type": "markdown",
   "metadata": {},
   "source": [
    "#### Clase AscensoresParalelizados\n",
    "Clase que representa el problema en versión final paralelizada. <u> Result, path_cost y la heurística son las funciones que han cambiado.</u> Consta de varias funciones:\n",
    "\n",
    "+ **Init**: Dado un nodo inicial y un nodo objetivo, inicializa la clase\n",
    "\n",
    "    + *initial*: nodo desde el que empezamos a buscar <u>con los rangos de cada ascensor</u>\n",
    "    + *goal*: Plantas a las que quieren llegar las respectivas personas\n",
    "    + *analizados*: número de nodos analizados hasta el momento\n",
    "\n",
    "+ **Actions**: Dado un nodo, devuelve las acciones posibles que podemos ejecutar desde dicho nodo. Las acciones posibles son: subir, bajar,coger_persona y dejar_persona. En esta versión, calculamos las acciones posibles para cada ascensor.\n",
    " \n",
    "    + *Codificación Acciones*. Hemos decidido codificar las acciones posibles de la siguiente manera:\n",
    "        + (subir, i, j) &rArr; El ascensor i sube j plantas\n",
    "        + (bajar, i, j) &rArr; El ascensor i baja j plantas\n",
    "        + (coger_persona, i, j) &rArr; El ascensor i coge a la persona j\n",
    "        + (dejar_persona, i, j) &rArr; El ascesnro i deja a la persona j\n",
    "      \n",
    "    + *Variables locales*:\n",
    "        + personas_esta_planta_suben: Lista de las personas que se encuentran en la planta del ascensor y su planta objetivo está por encima\n",
    "        + personas_esta_planta_bajan: Lista de las personas que se encuentran en la planta del ascensor y su planta objetivo está por debajo\n",
    "        + persona_menos_arriba: Menor planta de las personas que se encuentran por encima del ascensor y dentro de su rango\n",
    "        + persona_menos_abajo: Mayor planta de las personas que se encuentran por debajo del ascensor y dentro de su rango\n",
    "        + destino_menos_arriba: Menor destino de las personas que se encuentran dentro del ascensor o bien el límite máximo del rango si todos los destinos están por encima de este\n",
    "        + destino_menos_abajo: Mayor destino de las personas que se encuentran dentro del ascensor o bien el límite mínimo del rango si todos los destinos están por debajo de este\n",
    "        \n",
    "    + *Restricciones*. Hemos decidido implementar una serie de restricciones basadas en invariantes implicitos del problema que nos permiten no dar una acción cuando sea innecesario (no nos aporta un camino hacia la solución óptima) eliminando ramas sin perder optimalidad. Todas estas restricciones han sido probadas válidas en las hipótesis del problema (de las cuales cabe destacar la no penalización por parada de los ascensores) por el método de reducción de diferencias:\n",
    "        1. Un ascensor nunca tiene dentro personas que quieran subir y bajar. O bien tiene dentro a gente que quiere bajar, o bien a gente que quiere subir. De esta forma, evitamos alejar de su objetivo innecesariamente a las personas que quieren bajar cuando el ascensor sube y viceversa\n",
    "        2. Si alguien llega a su planta objetivo, forzamos a que esta baje del ascensor, es decir, devolvemos como única acción posible dejar a dicha persona. Siempre será más óptimo dejar a la persona una vez alcance su objetivo y no alejarla de este\n",
    "        3. Solo subimos cuando haya una persona esperando en una planta por encima del ascensor o cuando haya alguna persona dentro del ascensor cuya planta objetivo esté por encima. De esta manera, nos evitamos dar la opción de subir cuando no aporte nada al problema. (Respectivamente con bajar)\n",
    "        4. No subimos cuando haya un hueco en el ascensor y alguien en la planta que quiera subir. De esta forma, obligamos a coger a esa persona antes de subir pues siempre será más eficiente acercarla si es posible. (Respectivamente con bajar)\n",
    "\n",
    "+ **Result**. Dado un nodo y una acción, devuelve el resultado de aplicar al nodo dicha acción.<u> También involucra actualizar como es debido las nuevas variables de marcaje temporal de los distintos elementos</u>\n",
    "\n",
    "+ **Goal_test**. Dado un nodo, comprueba si hemos alcanzado la solución. Habremos alcanzado el objetivo cuando todas las personas tengan el valor EN_DESTINO\n",
    "\n",
    "+ **path_cost**. <u> Mientras que en las versiones anteriores el coste era el número de plantas que se hacía subir o bajar al ascensor sobre el que se ejecutaba la acción, ahora, al contar con la ejecución paralela, únicamente tenemos en cuenta al ascensor más lento. El método \"path_cost\" tiene en cuenta los tiempos de todos los ascensores, no únicamente del que ejecuta la acción. Así, acciones como *subir* y *bajar* un determinado ascensor puede tener coste cero siempre y cuando sea plenamente paralelizable. </u>\n",
    "\n",
    "+ **h**. Heurística a usar en la búsqueda *A\\**. Hemos elegido para esta primera versión que sea la suma para cada persona de las diferencias entre la planta en la que se encuentra y la planta objetivo dividido esto entre la constante CAP_ASCENSOR<u>*NUM_ASCENSORES, ya que ahora pueden moverse varios ascensores a la vez</u>. La heurística es <u>admisible</u>. No dividir por esta constante implica usar una heurística no admisible (y por tanto no llegar a solución óptima necesariamente) pero obtener soluciones en un tiempo de ejecución menor."
   ]
  },
  {
   "cell_type": "code",
   "execution_count": 74,
   "metadata": {},
   "outputs": [],
   "source": [
    "class AscensoresParalelizados(Problem) :    \n",
    "   \n",
    "    def __init__(self, initial, goal=None):        \n",
    "        self.initial = initial\n",
    "        self.goal = goal\n",
    "        self.analizados = 0\n",
    "\n",
    "    def actions(self, state):\n",
    "        \n",
    "        accs = list()\n",
    "        \n",
    "        for num_ascensor in range(0,NUM_ASCENSORES):\n",
    "            # Parámetros relativos al ascensor a evaluar\n",
    "            ascensor_pos      = state.ascensor_pos[num_ascensor]     # Planta del ascensor en cuestión\n",
    "            ascensor_rango    = state.ascensor_rango[num_ascensor]\n",
    "            ascensor_personas = state.ascensor_personas[num_ascensor] # Personas dentro del ascensor a tratar\n",
    "            personas = state.personas\n",
    "            \n",
    "            ascensor_vacio    = not ascensor_personas\n",
    "            ascensor_lleno    = (len(ascensor_personas)==CAP_ASCENSOR)\n",
    "\n",
    "            personas_esta_planta_suben = [i for i in range(len(personas)) if personas[i]==ascensor_pos and self.goal[i]>ascensor_pos]\n",
    "            personas_esta_planta_bajan = [i for i in range(len(personas)) if personas[i]==ascensor_pos and self.goal[i]<ascensor_pos]\n",
    "\n",
    "\n",
    "            # 1.- Si alguien ha llegado a su destino, o bien, si su destino está por encima\n",
    "            #     o por debajo del rango y si se ha llegado al límite de este, entonces\n",
    "            #     forzamos que baje del ascensor, devolviendo como unica accion posible DEJAR PERSONA. (Restriccion 2)\n",
    "            for persona in ascensor_personas:\n",
    "                if self.goal[persona]==ascensor_pos or \\\n",
    "                (self.goal[persona]<ascensor_rango[0] and ascensor_pos==ascensor_rango[0]) or \\\n",
    "                (self.goal[persona]>ascensor_rango[1] and ascensor_pos==ascensor_rango[1]):\n",
    "                    return [(DEJAR_PERSONA,num_ascensor,persona)]\n",
    "\n",
    "            # 2.- SUBIR:\n",
    "\n",
    "            persona_menos_arriba = min([person for person in personas if ascensor_pos<person and person<=ascensor_rango[1] and person!=EN_ASCENSOR and person!=EN_DESTINO], default=NINGUNA)\n",
    "            \n",
    "            # Si el ascensor está vacío sólo subimos si hay alguna persona por arriba \n",
    "            # y no hay gente en esta planta que quiera subir (Restriccion 3 y 4)\n",
    "            if ascensor_vacio:\n",
    "                if persona_menos_arriba!=NINGUNA and not(personas_esta_planta_suben):\n",
    "                    accs.append((SUBIR,num_ascensor,persona_menos_arriba-ascensor_pos))\n",
    "\n",
    "            # Si el ascensor no está vacío, comprobamos que sus personas suben y vamos\n",
    "            # al mínimo entre a donde suben estas, donde hay una persona por encima y el rango superior\n",
    "            # siempre que no nos quede espacio o no haya gente en esa planta que quiere subir\n",
    "            # en cuyo caso cogeremos a dichar persona para acercarla lo maximo posible (Restriccion 4)\n",
    "            elif self.goal[ascensor_personas[0]]>ascensor_pos:\n",
    "                destino_menos_arriba = min(ascensor_rango[1], min([self.goal[i] for i in ascensor_personas]))\n",
    "\n",
    "                if ascensor_lleno or not(personas_esta_planta_suben):\n",
    "                    if persona_menos_arriba==NINGUNA:\n",
    "                        accs.append((SUBIR,num_ascensor,destino_menos_arriba-ascensor_pos))\n",
    "                    else:\n",
    "                        accs.append((SUBIR,num_ascensor,min(persona_menos_arriba, destino_menos_arriba)-ascensor_pos))\n",
    "\n",
    "\n",
    "            # 3.- BAJAR. La acción bajar es totalmente dual a la acción subir, mismas lógica en\n",
    "            #     las condiciones.  \n",
    "\n",
    "            persona_menos_abajo = max([person for person in personas if ascensor_pos>person and person>=ascensor_rango[0] and person!=EN_ASCENSOR and person!=EN_DESTINO], default=NINGUNA)\n",
    "\n",
    "            # Si el ascensor está vacío sólo bajamos si hay alguna persona por abajo\n",
    "            if ascensor_vacio:\n",
    "                if persona_menos_abajo!=NINGUNA and not(personas_esta_planta_bajan):\n",
    "                    accs.append((BAJAR,num_ascensor,ascensor_pos-persona_menos_abajo))\n",
    "            elif self.goal[ascensor_personas[0]]<ascensor_pos:\n",
    "                destino_menos_abajo = max(ascensor_rango[0], max([self.goal[i] for i in ascensor_personas]))\n",
    "\n",
    "                if ascensor_lleno or not(personas_esta_planta_bajan):\n",
    "                    if persona_menos_abajo==NINGUNA:\n",
    "                        accs.append((BAJAR,num_ascensor,ascensor_pos-destino_menos_abajo))\n",
    "                    else:\n",
    "                        accs.append((BAJAR,num_ascensor,ascensor_pos-max(persona_menos_abajo, destino_menos_abajo)))\n",
    "\n",
    "            # 4.- DEJAR PERSONA: Para cada persona del ascensor, podemos dejarla\n",
    "            for personaInterior in ascensor_personas:\n",
    "                accs.append((DEJAR_PERSONA,num_ascensor,personaInterior))\n",
    "\n",
    "            # 5. COGER PERSONA. En el interior de ascensor todos suben, o bajan, no ambas (Restriccion 1)\n",
    "            if not ascensor_lleno:\n",
    "                #Si el ascensor esta vacio, podemos coger a cualquiera, suban o bajen\n",
    "                if ascensor_vacio:\n",
    "                    if ascensor_pos != ascensor_rango[1]:\n",
    "                        for persona in personas_esta_planta_suben:\n",
    "                            accs.append((COGER_PERSONA,num_ascensor,persona))\n",
    "                    if ascensor_pos != ascensor_rango[0]:\n",
    "                        for persona in personas_esta_planta_bajan:\n",
    "                            accs.append((COGER_PERSONA,num_ascensor,persona))\n",
    "                else: \n",
    "                    #si tiene a alguien dentro, ese alguien va hacia adentro del rango, si no forzábamos su salida en 1.-\n",
    "                    #Si el ascensor tiene a alguien que baja, solo cogemos a gente que baje\n",
    "                    if self.goal[ascensor_personas[0]]<ascensor_pos:\n",
    "                        for persona in personas_esta_planta_bajan:\n",
    "                            accs.append((COGER_PERSONA,num_ascensor,persona))\n",
    "                    else:\n",
    "                    #Si el ascensor tiene a alguien que sube, solo cogemos a gente que suba\n",
    "                        for persona in personas_esta_planta_suben:\n",
    "                            accs.append((COGER_PERSONA,num_ascensor,persona))\n",
    "\n",
    "        return accs\n",
    "\n",
    "    def result(self, state, action):\n",
    "        estado_nuevo = copy.deepcopy(state)\n",
    "        \n",
    "        ascensor = action[1]\n",
    "        \n",
    "        #Si bajamos, la nueva posicion del ascensor será la actual menos las plantas a bajar\n",
    "        #y el instante de llegada será el anterior más el nº de plantas recorridas\n",
    "        if action[0]==BAJAR:\n",
    "            estado_nuevo.ascensor_pos[ascensor] -= action[2]\n",
    "            estado_nuevo.ascensores_tiempo_llegada[ascensor] += action[2]\n",
    "        #Si subimos, la nueva posicion del ascensor será la actual más las plantas a subir\n",
    "        #y el instante de llegada será el anterior más el nº de plantas recorridas\n",
    "        elif action[0]==SUBIR:\n",
    "            estado_nuevo.ascensor_pos[ascensor] += action[2]\n",
    "            estado_nuevo.ascensores_tiempo_llegada[ascensor] += action[2]\n",
    "        #Si cogemos persona, introducimos en ascensor_personas la persona que cogemos. Además indicamos en\n",
    "        #personas que se encuentra EN_ASCENSOR.\n",
    "        #También tenemos que tener en cuenta que, como la ha cogido, ambos deben estar en el mismo instante,\n",
    "        #por lo que si el instante del ascensor era menor, marcamos la espera del ascensor actualizándolo al instante de la persona\n",
    "        elif action[0]==COGER_PERSONA:\n",
    "            estado_nuevo.ascensor_personas[ascensor].append(action[2])\n",
    "            estado_nuevo.personas[action[2]] = EN_ASCENSOR\n",
    "            estado_nuevo.ascensores_tiempo_llegada[ascensor] += max(state.personas_tiempo_llegada[action[2]]-state.ascensores_tiempo_llegada[ascensor],0)\n",
    "        #Si dejamos persona, la quitamos de ascensor_personas. Si ha llegado a su destino, ponemos EN_DESTINO\n",
    "        #y si no, la nueva planta en la que se encuentra (la del ascensor)\n",
    "        #También, actualizamos su tiempo de llegada (usando el del ascensor, actualizado en la subida/bajada)\n",
    "        else:\n",
    "            estado_nuevo.ascensor_personas[ascensor].remove(action[2])\n",
    "            estado_nuevo.personas_tiempo_llegada[action[2]] = state.ascensores_tiempo_llegada[ascensor]\n",
    "       \n",
    "            if self.goal[action[2]]==state.ascensor_pos[ascensor]:\n",
    "                estado_nuevo.personas[action[2]] = EN_DESTINO\n",
    "            else:\n",
    "                estado_nuevo.personas[action[2]] = state.ascensor_pos[ascensor]\n",
    "        \n",
    "        return estado_nuevo\n",
    "    \n",
    "    def goal_test(self, state):\n",
    "        self.analizados +=1\n",
    "        return state.personas == [EN_DESTINO for _ in state.personas]\n",
    "\n",
    "    # El coste es lo que ahora tarda a más el ascensor más lento (no necesariamente el mismo)\n",
    "    def path_cost(self, c, state1, action, state2):\n",
    "        return max(state2.ascensores_tiempo_llegada)-max(state1.ascensores_tiempo_llegada)\n",
    "    \n",
    "    # Heurística que garantiza solución óptima, eliminando la división por CAP_ASCENSOR*NUM_ASCENSORES\n",
    "    # (número total de personas moviéndose a la vez) obtenemos una heurística que alcanza solución \n",
    "    # (aunque no necesariamente óptima) en un menor tiempo\n",
    "    def h(self,node):\n",
    "        suma = sum([abs(self.goal[i]-node.state.personas[i]) for i in range(0,len(node.state.personas)) if node.state.personas[i]!=EN_DESTINO and node.state.personas[i]!=EN_ASCENSOR])\n",
    "        for ascensor in range(0, len(node.state.ascensor_personas)):\n",
    "            suma += sum([abs(self.goal[persona]-node.state.ascensor_pos[ascensor]) for persona in node.state.ascensor_personas[ascensor]])\n",
    "        return suma/(CAP_ASCENSOR*NUM_ASCENSORES)\n",
    "        \n",
    "    def value(self, state):\n",
    "        raise NotImplementedError"
   ]
  },
  {
   "cell_type": "markdown",
   "metadata": {},
   "source": [
    "#### Probando nuestra versión final paralelizada\n",
    "Inicializamos el nodo init con las plantas donde se encuentran al comienzo cada persona y los rangos de cada ascensor a considerar, y la lista goal con las plantas a las que quieren ir. Además, tenemos que actualizar las constantes convenientemente. Declaramos el problema con dichos nodos y luego ejecutamos la búsqueda.\n",
    "Posteriormente, decodificamos la lista de acciones obtenidas <u>(Módulo SolutionManagerParalelo)</u> para visualizarla cómodamente con una interpretación y no como tuplas codificadas.\n",
    "\n",
    "Vamos a probar los casos de prueba de la versión anterior pero esta vez usando rangos con los ascensores. Como podemos observar, logramos hallar una solución al problema para una gran cantidad de personas, varios ascensores y varios rangos en un tiempo muy disminuido."
   ]
  },
  {
   "cell_type": "code",
   "execution_count": 75,
   "metadata": {},
   "outputs": [
    {
     "name": "stdout",
     "output_type": "stream",
     "text": [
      "Acciones de los ascensores\n",
      "Ordenadas por ascensor y momento en el que se realizan\n",
      "\n",
      "[0] -> El ascensor 0 coge a la persona 1\n",
      "[0,1] -> El ascensor 0 sube 1 planta\n",
      "[1] -> El ascensor 0 deja a la persona 1\n",
      "[1,2] -> El ascensor 0 sube 1 planta\n",
      "[2] -> El ascensor 0 coge a la persona 0\n",
      "[2,3] -> El ascensor 0 sube 1 planta\n",
      "[3] -> El ascensor 0 deja a la persona 0\n",
      "[0,3] -> El ascensor 1 espera\n",
      "[3] -> El ascensor 1 coge a la persona 0\n",
      "[3,4] -> El ascensor 1 sube 1 planta\n",
      "[4] -> El ascensor 1 deja a la persona 0\n"
     ]
    }
   ],
   "source": [
    "#Caso sencillo\n",
    "\n",
    "NUM_PLANTAS    = 4\n",
    "NUM_ASCENSORES = 2\n",
    "NUM_PERSONAS = 2\n",
    "CAP_ASCENSOR   = 2\n",
    "\n",
    "init = NodeState([2,0],[(0,3),(3,4)])\n",
    "goal = [4,1]\n",
    "problem = AscensoresParalelizados(init, goal)\n",
    "start = time.time()\n",
    "acciones = astar_search(problem).solution()\n",
    "end = time.time()\n",
    "acciones_ampliadas = ampliadas_acciones_paralelas(init,acciones)\n",
    "print(\"Acciones de los ascensores\")\n",
    "print(\"Ordenadas por ascensor y momento en el que se realizan\")\n",
    "print()\n",
    "decodificador_acciones_paralelas(cocina_acciones_paralelas(acciones_ampliadas))"
   ]
  },
  {
   "cell_type": "code",
   "execution_count": 76,
   "metadata": {},
   "outputs": [
    {
     "name": "stdout",
     "output_type": "stream",
     "text": [
      "Nodos analizados: 14\n",
      "Coste secuencial: 4\n",
      "Coste paralelo: 4\n",
      "Tiempo de búsqueda: 0.000997304916381836 s\n"
     ]
    }
   ],
   "source": [
    "print(\"Nodos analizados: \" + str(problem.analizados))\n",
    "print(\"Coste secuencial: \"+str(coste_acciones(acciones)))\n",
    "print(\"Coste paralelo: \"+str(coste_acciones_paralelas(init,acciones)))\n",
    "print(\"Tiempo de búsqueda: \" + str(end-start) + \" s\")"
   ]
  },
  {
   "cell_type": "code",
   "execution_count": 77,
   "metadata": {
    "scrolled": true
   },
   "outputs": [
    {
     "name": "stdout",
     "output_type": "stream",
     "text": [
      "Acciones de los ascensores\n",
      "Ordenadas por ascensor y momento en el que se realizan\n",
      "\n",
      "[0,1] -> El ascensor 0 sube 1 planta\n",
      "[1] -> El ascensor 0 coge a las personas 4, 2\n",
      "[1,2] -> El ascensor 0 sube 1 planta\n",
      "[2] -> El ascensor 0 deja a la persona 4\n",
      "[2] -> El ascensor 0 coge a la persona 0\n",
      "[2,3] -> El ascensor 0 sube 1 planta\n",
      "[3] -> El ascensor 0 deja a las personas 0, 2\n",
      "[3,4] -> El ascensor 0 baja 1 planta\n",
      "[4] -> El ascensor 0 coge a la persona 4\n",
      "[4,5] -> El ascensor 0 sube 1 planta\n",
      "[5] -> El ascensor 0 coge a la persona 2\n",
      "[5,6] -> El ascensor 0 sube 1 planta\n",
      "[6] -> El ascensor 0 deja a las personas 4, 2\n",
      "[6,8] -> El ascensor 0 espera\n",
      "[8] -> El ascensor 0 coge a la persona 3\n",
      "[8,11] -> El ascensor 0 baja 3 plantas\n",
      "[11] -> El ascensor 0 deja a la persona 3\n",
      "[0] -> El ascensor 1 coge a la persona 1\n",
      "[0,4] -> El ascensor 1 sube 4 plantas\n",
      "[4] -> El ascensor 1 deja a la persona 1\n",
      "[4] -> El ascensor 1 coge a la persona 3\n",
      "[4,8] -> El ascensor 1 baja 4 plantas\n",
      "[8] -> El ascensor 1 deja a la persona 3\n",
      "[8,12] -> El ascensor 1 sube 4 plantas\n",
      "[0,6] -> El ascensor 2 espera\n",
      "[6] -> El ascensor 2 coge a las personas 2, 4\n",
      "[6,10] -> El ascensor 2 sube 4 plantas\n",
      "[10] -> El ascensor 2 deja a las personas 2, 4\n",
      "[0,4] -> El ascensor 3 espera\n",
      "[4] -> El ascensor 3 coge a la persona 1\n",
      "[4,7] -> El ascensor 3 sube 3 plantas\n",
      "[7] -> El ascensor 3 deja a la persona 1\n",
      "[7,10] -> El ascensor 3 baja 3 plantas\n",
      "[10] -> El ascensor 3 coge a las personas 2, 4\n",
      "[10,11] -> El ascensor 3 sube 1 planta\n",
      "[11] -> El ascensor 3 deja a la persona 4\n",
      "[11,14] -> El ascensor 3 sube 3 plantas\n",
      "[14] -> El ascensor 3 deja a la persona 2\n"
     ]
    }
   ],
   "source": [
    "#Caso del enunciado\n",
    "\n",
    "NUM_PLANTAS    = 12\n",
    "NUM_ASCENSORES = 4\n",
    "NUM_PERSONAS = 5\n",
    "CAP_ASCENSOR   = 2\n",
    "\n",
    "init = NodeState([2,4,1,8,1],[(0,4),(4,8),(4,8),(8,12)])\n",
    "goal = [3,11,12,1,9]\n",
    "problem = AscensoresParalelizados(init, goal)\n",
    "start = time.time()\n",
    "acciones = astar_search(problem).solution()\n",
    "end = time.time()\n",
    "acciones_ampliadas = ampliadas_acciones_paralelas(init,acciones)\n",
    "print(\"Acciones de los ascensores\")\n",
    "print(\"Ordenadas por ascensor y momento en el que se realizan\")\n",
    "print()\n",
    "decodificador_acciones_paralelas(cocina_acciones_paralelas(acciones_ampliadas))"
   ]
  },
  {
   "cell_type": "code",
   "execution_count": 78,
   "metadata": {},
   "outputs": [
    {
     "name": "stdout",
     "output_type": "stream",
     "text": [
      "Nodos analizados: 1309\n",
      "Coste secuencial: 35\n",
      "Coste paralelo: 14\n",
      "Tiempo de búsqueda: 3.482654571533203 s\n"
     ]
    }
   ],
   "source": [
    "print(\"Nodos analizados: \"+str(problem.analizados))\n",
    "print(\"Coste secuencial: \"+str(coste_acciones(acciones)))\n",
    "print(\"Coste paralelo: \"+str(coste_acciones_paralelas(init,acciones)))\n",
    "print(\"Tiempo de búsqueda: \" + str(end-start) + \" s\")"
   ]
  },
  {
   "cell_type": "markdown",
   "metadata": {},
   "source": [
    "**¡Resolvemos el caso del enunciado <u>óptimamente</u> en 3.26 segundos!**.\n",
    "\n",
    "El coste para este mismo problema (tanto en nodos analizados como en tiempo) es menor que el obtenido en la versión anterior pese a que esta no considera la paralelización de los ascensores. Esto es así gracias a que con nuestra nueva función de coste favorecemos siempre las acciones en las que los ascensores están todos siendo utilizados. \n",
    "\n",
    "El cambio del paradigma, la pérdida de secuencialidad, hace que se analicen antes aquellas acciones que involucran varios ascensores simultaneamente. Una vez un ascensor esté funcionando, todas las acciones de los restantes ascensores que terminen de ejecutarse antes de que termine la acción de este ascensor tendrán coste cero, lo que gracias al algoritmo A\\* implica que serán analizadas con preferencia frente a volver a hacer funcionar ese ascensor.\n",
    "\n",
    "Distinguimos también entre coste secuencial (el número de plantas que recorren los ascensores del problema) y coste paralelo (número de plantas máximo que tiene que recorrer un ascensor). Gracias a que nuestra heurística es admisible obtenemos la solución óptima al problema planteado inicialmente."
   ]
  },
  {
   "cell_type": "markdown",
   "metadata": {},
   "source": [
    "#### Conclusiones\n",
    "\n",
    "La definición de las acciones, muy restrictiva gracias a considerar los invariantes implícitos del problema, junto con el control de nodos repetidos del algoritmo, nos ha permitido conseguir una versión final del problema que nos lo solucione para una cantidad numerosa de personas, de ascensores y de bloques en un tiempo razonable.\n",
    "\n",
    "<u>Además, el paralelizar los ascensores provoca que acabe muchísimo antes, lo que es una mejora considerable.</u>"
   ]
  }
 ],
 "metadata": {
  "kernelspec": {
   "display_name": "Python 3",
   "language": "python",
   "name": "python3"
  },
  "language_info": {
   "codemirror_mode": {
    "name": "ipython",
    "version": 3
   },
   "file_extension": ".py",
   "mimetype": "text/x-python",
   "name": "python",
   "nbconvert_exporter": "python",
   "pygments_lexer": "ipython3",
   "version": "3.6.8"
  }
 },
 "nbformat": 4,
 "nbformat_minor": 2
}
