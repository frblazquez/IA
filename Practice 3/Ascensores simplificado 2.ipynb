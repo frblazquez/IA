{
 "cells": [
  {
   "cell_type": "markdown",
   "metadata": {},
   "source": [
    "# Problema de los ascensores"
   ]
  },
  {
   "cell_type": "markdown",
   "metadata": {},
   "source": [
    "#### G05 - Boris Carballa Corredoira, Juan Carlos Villanueva Quirós, Francisco Javier Blázquez Martínez"
   ]
  },
  {
   "cell_type": "markdown",
   "metadata": {},
   "source": [
    "Primera aproximación al problema, el edificio consta de un único bloque con un único ascensor."
   ]
  },
  {
   "cell_type": "code",
   "execution_count": 6,
   "metadata": {},
   "outputs": [],
   "source": [
    "from search import *\n",
    "import copy"
   ]
  },
  {
   "cell_type": "code",
   "execution_count": 7,
   "metadata": {},
   "outputs": [],
   "source": [
    "# CONSTANTES\n",
    "NUM_PLANTAS    = 5\n",
    "NUM_ASCENSORES = 2\n",
    "CAP_ASCENSOR   = 2\n",
    "EN_ASCENSOR = -1\n",
    "NINGUNA = -1\n",
    "EN_DESTINO = -2"
   ]
  },
  {
   "cell_type": "code",
   "execution_count": 8,
   "metadata": {},
   "outputs": [],
   "source": [
    "# CÓDIGOS OPERACIONES\n",
    "BAJAR=0\n",
    "SUBIR=1\n",
    "COGER_PERSONA=2\n",
    "DEJAR_PERSONA=3"
   ]
  },
  {
   "cell_type": "code",
   "execution_count": 64,
   "metadata": {},
   "outputs": [],
   "source": [
    "# El estado de un nodo del espacio de exploración se compone de:\n",
    "# ascensor_pos      -> Planta en la que se encuentra el ascensor\n",
    "# ascensor_personas -> Personas dentro del ascensor\n",
    "# personas          -> Lista con planta en la que se encuentra cada persona \n",
    "#                      (Pueden tomar el valor de la constante EN_ASCENSOR)\n",
    "class NodeState:\n",
    "\n",
    "    def __init__(self, init_personas):\n",
    "        self.personas = init_personas\n",
    "        self.ascensor_pos = [0]*NUM_ASCENSORES\n",
    "        self.ascensor_personas = [[]]*NUM_ASCENSORES\n",
    "        \n",
    "    def __eq__(self, nodo):\n",
    "        return self.personas == nodo.personas and self.ascensor_pos == nodo.ascensor_pos and self.ascensor_personas == nodo.ascensor_personas\n",
    "   \n",
    "    def __hash__(self):\n",
    "        return hash((tuple(self.personas), tuple(self.ascensor_pos), tuple(tuple(x) for x in self.ascensor_personas)))\n",
    "    \n",
    "    def __lt__(self,nodo):\n",
    "        return True"
   ]
  },
  {
   "cell_type": "code",
   "execution_count": 56,
   "metadata": {},
   "outputs": [],
   "source": [
    "# Definimos la clase para la representación del problema. Las acciones\n",
    "# contempladas son hacer al ascensor subir o bajar hasta la planta con\n",
    "# personas (o planta destino de los ocupantes) más cercana y recoger o\n",
    "# dejar a una persona en una planta.\n",
    "\n",
    "class AscensoresSimplificado(Problem) :    \n",
    "   \n",
    "    def __init__(self, initial, goal=None):        \n",
    "        self.initial = initial\n",
    "        self.goal = goal\n",
    "        self.analizados = 0\n",
    "\n",
    "    # Codificación acciones:\n",
    "    # (BAJAR, i, j) -> El ascensor i baja j plantas\n",
    "    # (SUBIR, i, j) -> El ascensor i sube j plantas\n",
    "    # (COGER_PERSONA, i, j) -> El ascensor i coge a la persona j\n",
    "    # (DEJAR_PERSONA, i, j) -> El ascensor i deja a la persona j\n",
    "    def actions(self, state):\n",
    "        \n",
    "        accs = list()\n",
    "        \n",
    "        for num_ascensor in range(0,NUM_ASCENSORES):\n",
    "            ascensor_pos      = state.ascensor_pos[num_ascensor]\n",
    "            ascensor_personas = state.ascensor_personas[num_ascensor]\n",
    "            personas          = state.personas\n",
    "\n",
    "            ascensor_vacio    = not ascensor_personas\n",
    "            ascensor_lleno    = (len(ascensor_personas)==CAP_ASCENSOR)\n",
    "\n",
    "            personas_esta_planta_suben = []\n",
    "            personas_esta_planta_bajan = []\n",
    "\n",
    "            for i in range(0,len(personas)):\n",
    "                if personas[i]==ascensor_pos:\n",
    "                    if self.goal[i]>ascensor_pos:\n",
    "                        personas_esta_planta_suben.append(i)\n",
    "                    if self.goal[i]<ascensor_pos:\n",
    "                        personas_esta_planta_bajan.append(i)\n",
    "\n",
    "\n",
    "            # 1.- Si alguien ha llegado a su destino, forzamos que baje del ascensor\n",
    "            for persona in ascensor_personas:\n",
    "                if ascensor_pos==self.goal[persona]:\n",
    "                    return [(DEJAR_PERSONA,num_ascensor,persona)]\n",
    "\n",
    "\n",
    "            # 2.- Para la acción subir requerimos que haya que coger o dejar a alguien\n",
    "            #     más arriba de donde se encuentra el ascensor. Nunca subimos con gente\n",
    "            #     que desea bajar plantas y además, un ascensor no sube si tiene capacidad\n",
    "            #     para más personas y en esa planta hay alguien que desea subir (eliminación\n",
    "            #     de ramas sin perder optimaldad).\n",
    "\n",
    "            persona_menos_arriba = min([person for person in personas if person>ascensor_pos], default=NINGUNA)\n",
    "\n",
    "            # Si el ascensor está vacío sólo subimos si hay alguna persona por arriba \n",
    "            # y no hay gente en esta planta que quiera subir\n",
    "            if ascensor_vacio:\n",
    "                if persona_menos_arriba!=NINGUNA and not(personas_esta_planta_suben):\n",
    "                    accs.append((SUBIR,num_ascensor,persona_menos_arriba-ascensor_pos))\n",
    "\n",
    "            # Si el ascensor no está vacío comprobamos que sus personas suben y vamos\n",
    "            # al mínimo entre a donde suben estas y donde hay una persona por encima\n",
    "            # siempre que no nos quede espacio o no haya gente en esa planta que quiere subir\n",
    "            elif self.goal[ascensor_personas[0]]>ascensor_pos:\n",
    "                destino_menos_arriba = min([self.goal[i] for i in ascensor_personas])\n",
    "\n",
    "                if ascensor_lleno or not(personas_esta_planta_suben):\n",
    "                    if persona_menos_arriba==NINGUNA:\n",
    "                        accs.append((SUBIR,num_ascensor,destino_menos_arriba-ascensor_pos))\n",
    "                    else:\n",
    "                        accs.append((SUBIR,num_ascensor,min(persona_menos_arriba, destino_menos_arriba)-ascensor_pos))\n",
    "\n",
    "\n",
    "            # 3.- La acción bajar es totalmente dual a la acción subir, mismas lógica en\n",
    "            #     las condiciones. \n",
    "\n",
    "            persona_menos_abajo = max([person for person in personas if person<ascensor_pos and person!=EN_ASCENSOR and person!=EN_DESTINO], default=NINGUNA)\n",
    "\n",
    "            # Si el ascensor está vacío sólo bajamos si hay alguna persona por abajo\n",
    "            if ascensor_vacio:\n",
    "                if persona_menos_abajo!=NINGUNA and not(personas_esta_planta_bajan):\n",
    "                    accs.append((BAJAR,num_ascensor,ascensor_pos-persona_menos_abajo))\n",
    "            elif self.goal[ascensor_personas[0]]<ascensor_pos:\n",
    "                destino_menos_abajo = max([self.goal[i] for i in ascensor_personas])\n",
    "\n",
    "                if ascensor_lleno  or not(personas_esta_planta_bajan):\n",
    "                    if persona_menos_abajo==NINGUNA:\n",
    "                        accs.append((BAJAR,num_ascensor,ascensor_pos-destino_menos_abajo))\n",
    "                    else:\n",
    "                        accs.append((BAJAR,num_ascensor,ascensor_pos-max(persona_menos_abajo, destino_menos_abajo)))\n",
    "\n",
    "            # 4.- Acción dejar persona:\n",
    "            for personaInterior in ascensor_personas:\n",
    "                accs.append((DEJAR_PERSONA,num_ascensor,personaInterior))\n",
    "\n",
    "            # 5.- Acción coger persona. Sólo cogemos a personas que suben o bajan, no ambas\n",
    "            if not ascensor_lleno:\n",
    "                if ascensor_vacio:\n",
    "                    for persona in personas_esta_planta_suben:\n",
    "                        accs.append((COGER_PERSONA,num_ascensor,persona))\n",
    "                    for persona in personas_esta_planta_bajan:\n",
    "                        accs.append((COGER_PERSONA,num_ascensor,persona))\n",
    "                else:\n",
    "                    if self.goal[ascensor_personas[0]]<ascensor_pos:\n",
    "                        for persona in personas_esta_planta_bajan:\n",
    "                            accs.append((COGER_PERSONA,num_ascensor,persona))\n",
    "                    else:\n",
    "                        for persona in personas_esta_planta_suben:\n",
    "                            accs.append((COGER_PERSONA,num_ascensor,persona))\n",
    "\n",
    "        return accs\n",
    "\n",
    "    def result(self, state, action):\n",
    "        estado_nuevo = copy.deepcopy(state)\n",
    "        \n",
    "        ascensor = action[1]\n",
    "        \n",
    "        if action[0]==BAJAR:\n",
    "            estado_nuevo.ascensor_pos[ascensor] = estado_nuevo.ascensor_pos[ascensor] - action[2]\n",
    "        elif action[0]==SUBIR:\n",
    "            estado_nuevo.ascensor_pos[ascensor] = estado_nuevo.ascensor_pos[ascensor] + action[2]\n",
    "        elif action[0]==COGER_PERSONA:\n",
    "            estado_nuevo.ascensor_personas[ascensor].append(action[2])\n",
    "            estado_nuevo.personas[action[2]] = EN_ASCENSOR\n",
    "        else:\n",
    "            estado_nuevo.ascensor_personas[ascensor].remove(action[2])\n",
    "            \n",
    "            if self.goal[action[2]]==state.ascensor_pos[ascensor]:\n",
    "                estado_nuevo.personas[action[2]] = EN_DESTINO\n",
    "            else:\n",
    "                estado_nuevo.personas[action[2]] = state.ascensor_pos[ascensor]\n",
    "        \n",
    "        return estado_nuevo\n",
    "    \n",
    "    def goal_test(self, state):\n",
    "        self.analizados +=1\n",
    "        return state.personas == [EN_DESTINO for persona in state.personas]\n",
    "\n",
    "    def path_cost(self, c, state1, action, state2):\n",
    "        if action[0]==BAJAR or action[0]==SUBIR:\n",
    "            return c + action[2]\n",
    "        else:\n",
    "            return c\n",
    "    \n",
    "    def h(self,node):\n",
    "        suma  = sum([abs(self.goal[i]-node.state.personas[i]) for i in range(0,len(node.state.personas)) if node.state.personas[i]!=EN_DESTINO and node.state.personas[i]!=EN_ASCENSOR])\n",
    "        #suma += sum([abs(self.goal[i]-node.state.ascensor_personas[i]) for i in range(0,len(node.state.ascensor_personas))])\n",
    "        return suma\n",
    "        \n",
    "    def value(self, state):\n",
    "        raise NotImplementedError"
   ]
  },
  {
   "cell_type": "code",
   "execution_count": 57,
   "metadata": {},
   "outputs": [],
   "source": [
    "# Codificación acciones:\n",
    "# (BAJAR, i, j) -> El ascensor i baja j plantas\n",
    "# (SUBIR, i, j) -> El ascensor i sube j plantas\n",
    "# (COGER_PERSONA, i, j) -> El ascensor i coge a la persona j\n",
    "# (DEJAR_PERSONA, i, j) -> El ascensor i deja a la persona j\n",
    "def decodificador_acciones(acciones):\n",
    "    for accion in acciones:\n",
    "        if accion[0]==BAJAR:\n",
    "            print(\"El ascensor \"+str(accion[1])+\" baja \"+str(accion[2])+\" plantas\")\n",
    "        elif accion[0]==SUBIR:\n",
    "            print(\"El ascensor \"+str(accion[1])+\" sube \"+str(accion[2])+\" plantas\")\n",
    "        elif accion[0]==COGER_PERSONA:\n",
    "            print(\"El ascensor \"+str(accion[1])+\" coge a la persona \"+str(accion[2]))\n",
    "        else:\n",
    "            print(\"El ascensor \"+str(accion[1])+\" deja a la persona \"+str(accion[2]))"
   ]
  },
  {
   "cell_type": "code",
   "execution_count": 58,
   "metadata": {},
   "outputs": [],
   "source": [
    "def fusionador_acciones(acciones):\n",
    "    nuevas_acciones = []\n",
    "    for accion in acciones:\n",
    "        if bool(nuevas_acciones) and (accion[0]==nuevas_acciones[-1][0] and accion[1]==nuevas_acciones[-1][1]) and (accion[0]==BAJAR or accion[0]==SUBIR):\n",
    "            nuevas_acciones[-1] = (nuevas_acciones[-1][0],nuevas_acciones[-1][1],nuevas_acciones[-1][2]+accion[2])\n",
    "        else:\n",
    "            nuevas_acciones.append(accion)\n",
    "    return nuevas_acciones"
   ]
  },
  {
   "cell_type": "code",
   "execution_count": 59,
   "metadata": {},
   "outputs": [],
   "source": [
    "def coste_acciones(acciones):\n",
    "    coste = 0\n",
    "    for action in acciones:\n",
    "        if action[0]==BAJAR or action[0]==SUBIR:\n",
    "            coste += action[2]\n",
    "    return coste"
   ]
  },
  {
   "cell_type": "code",
   "execution_count": 60,
   "metadata": {},
   "outputs": [],
   "source": [
    "#def AscensoresSimplificadoConAnalizados(Problem):\n",
    "#    \n",
    "#    def __init__(self, problem, goal=None):\n",
    "#        self.problem = problem\n",
    "#        self.initial = problem.initial\n",
    "#        self.analizados = 0\n",
    "#        self.goal = problem.goal\n",
    "#        \n",
    "#    def actions(self, estado):\n",
    "#        return self.problem.actions(estado)\n",
    "#\n",
    "#    def result(self, estado, accion):\n",
    "#        return self.problem.result(estado, accion)\n",
    "#\n",
    "#    def goal_test(self, estado):\n",
    "#        self.analizados += 1\n",
    "#        return self.problem.goal_test(estado)"
   ]
  },
  {
   "cell_type": "code",
   "execution_count": 61,
   "metadata": {},
   "outputs": [],
   "source": [
    "init = NodeState([0,0,0])\n",
    "goal = [1,1,1]"
   ]
  },
  {
   "cell_type": "code",
   "execution_count": 62,
   "metadata": {},
   "outputs": [],
   "source": [
    "problem = AscensoresSimplificado(init, goal)"
   ]
  },
  {
   "cell_type": "code",
   "execution_count": 63,
   "metadata": {},
   "outputs": [
    {
     "name": "stdout",
     "output_type": "stream",
     "text": [
      "El ascensor 0 coge a la persona 0\n",
      "El ascensor 0 coge a la persona 1\n",
      "El ascensor 0 sube 1 plantas\n",
      "El ascensor 0 deja a la persona 0\n",
      "El ascensor 0 deja a la persona 1\n",
      "El ascensor 1 coge a la persona 2\n",
      "El ascensor 0 deja a la persona 2\n"
     ]
    }
   ],
   "source": [
    "decodificador_acciones(fusionador_acciones(breadth_first_graph_search(problem).solution()))"
   ]
  },
  {
   "cell_type": "code",
   "execution_count": 47,
   "metadata": {},
   "outputs": [
    {
     "data": {
      "text/plain": [
       "10"
      ]
     },
     "execution_count": 47,
     "metadata": {},
     "output_type": "execute_result"
    }
   ],
   "source": [
    "problem.analizados"
   ]
  },
  {
   "cell_type": "code",
   "execution_count": 30,
   "metadata": {},
   "outputs": [],
   "source": [
    "problem.analizados=0"
   ]
  },
  {
   "cell_type": "code",
   "execution_count": 31,
   "metadata": {},
   "outputs": [
    {
     "name": "stdout",
     "output_type": "stream",
     "text": [
      "El ascensor 0 sube 1 plantas\n",
      "El ascensor 0 coge a la persona 4\n",
      "El ascensor 0 coge a la persona 7\n",
      "El ascensor 0 sube 3 plantas\n",
      "El ascensor 0 deja a la persona 7\n",
      "El ascensor 0 coge a la persona 1\n",
      "El ascensor 0 sube 4 plantas\n",
      "El ascensor 0 deja a la persona 4\n",
      "El ascensor 0 coge a la persona 4\n",
      "El ascensor 0 sube 1 plantas\n",
      "El ascensor 0 deja a la persona 4\n",
      "El ascensor 0 deja a la persona 1\n",
      "El ascensor 0 baja 1 plantas\n",
      "El ascensor 0 coge a la persona 3\n",
      "El ascensor 0 baja 1 plantas\n",
      "El ascensor 0 coge a la persona 6\n",
      "El ascensor 0 baja 3 plantas\n",
      "El ascensor 0 deja a la persona 6\n",
      "El ascensor 0 baja 3 plantas\n",
      "El ascensor 0 deja a la persona 3\n",
      "El ascensor 0 coge a la persona 2\n",
      "El ascensor 0 sube 1 plantas\n",
      "El ascensor 0 coge a la persona 0\n",
      "El ascensor 0 sube 1 plantas\n",
      "El ascensor 0 deja a la persona 0\n",
      "El ascensor 0 sube 2 plantas\n",
      "El ascensor 0 deja a la persona 2\n",
      "El ascensor 0 coge a la persona 5\n",
      "El ascensor 0 baja 1 plantas\n",
      "El ascensor 0 deja a la persona 5\n",
      "El ascensor 0 sube 1 plantas\n",
      "El ascensor 0 coge a la persona 2\n",
      "El ascensor 0 sube 4 plantas\n",
      "El ascensor 0 coge a la persona 1\n",
      "El ascensor 0 sube 2 plantas\n",
      "El ascensor 0 deja a la persona 1\n",
      "El ascensor 0 sube 1 plantas\n",
      "El ascensor 0 deja a la persona 2\n",
      "El ascensor 0 sube 3 plantas\n",
      "El ascensor 0 coge a la persona 8\n",
      "El ascensor 0 sube 21 plantas\n",
      "El ascensor 0 deja a la persona 8\n",
      "El ascensor 0 sube 4 plantas\n",
      "El ascensor 0 coge a la persona 10\n",
      "El ascensor 0 baja 11 plantas\n",
      "El ascensor 0 deja a la persona 10\n",
      "El ascensor 0 baja 2 plantas\n",
      "El ascensor 0 coge a la persona 9\n",
      "El ascensor 0 baja 15 plantas\n",
      "El ascensor 0 deja a la persona 9\n"
     ]
    }
   ],
   "source": [
    "acciones = fusionador_acciones(astar_search(problem).solution())\n",
    "decodificador_acciones(acciones)"
   ]
  },
  {
   "cell_type": "code",
   "execution_count": 32,
   "metadata": {},
   "outputs": [
    {
     "data": {
      "text/plain": [
       "8405"
      ]
     },
     "execution_count": 32,
     "metadata": {},
     "output_type": "execute_result"
    }
   ],
   "source": [
    "problem.analizados"
   ]
  },
  {
   "cell_type": "code",
   "execution_count": 33,
   "metadata": {},
   "outputs": [
    {
     "data": {
      "text/plain": [
       "86"
      ]
     },
     "execution_count": 33,
     "metadata": {},
     "output_type": "execute_result"
    }
   ],
   "source": [
    "coste_acciones(acciones)"
   ]
  },
  {
   "cell_type": "code",
   "execution_count": 10,
   "metadata": {},
   "outputs": [
    {
     "data": {
      "text/plain": [
       "False"
      ]
     },
     "execution_count": 10,
     "metadata": {},
     "output_type": "execute_result"
    }
   ],
   "source": [
    "[[1,2,3],[1,2]]==[[1,2,3],[1,1]]"
   ]
  },
  {
   "cell_type": "code",
   "execution_count": null,
   "metadata": {},
   "outputs": [],
   "source": []
  }
 ],
 "metadata": {
  "kernelspec": {
   "display_name": "Python 3",
   "language": "python",
   "name": "python3"
  },
  "language_info": {
   "codemirror_mode": {
    "name": "ipython",
    "version": 3
   },
   "file_extension": ".py",
   "mimetype": "text/x-python",
   "name": "python",
   "nbconvert_exporter": "python",
   "pygments_lexer": "ipython3",
   "version": "3.6.8"
  }
 },
 "nbformat": 4,
 "nbformat_minor": 2
}
