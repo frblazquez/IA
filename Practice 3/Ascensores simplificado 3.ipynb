{
 "cells": [
  {
   "cell_type": "markdown",
   "metadata": {},
   "source": [
    "# Problema de los ascensores"
   ]
  },
  {
   "cell_type": "markdown",
   "metadata": {},
   "source": [
    "#### G05 - Boris Carballa Corredoira, Juan Carlos Villanueva Quirós, Francisco Javier Blázquez Martínez"
   ]
  },
  {
   "cell_type": "markdown",
   "metadata": {},
   "source": [
    "El edificio consta de varios bloques con varios ascensores."
   ]
  },
  {
   "cell_type": "code",
   "execution_count": 70,
   "metadata": {},
   "outputs": [],
   "source": [
    "from search import *\n",
    "import copy"
   ]
  },
  {
   "cell_type": "code",
   "execution_count": 87,
   "metadata": {},
   "outputs": [],
   "source": [
    "# CONSTANTES\n",
    "NUM_PLANTAS    = 12 #Para rango por defecto del ascensor\n",
    "NUM_ASCENSORES = 4\n",
    "NUM_PERSONAS = 5 #Se usa en quita_dejar_coger_inutiles_acciones\n",
    "CAP_ASCENSOR   = 2\n",
    "EN_ASCENSOR = -1\n",
    "NINGUNA = -1\n",
    "EN_DESTINO = -2"
   ]
  },
  {
   "cell_type": "code",
   "execution_count": 88,
   "metadata": {},
   "outputs": [],
   "source": [
    "%run SolutionManager.ipynb"
   ]
  },
  {
   "cell_type": "code",
   "execution_count": 89,
   "metadata": {},
   "outputs": [],
   "source": [
    "# El estado de un nodo del espacio de exploración se compone de:\n",
    "# ascensor_pos      -> Planta en la que se encuentra el ascensor\n",
    "# ascensor_personas -> Personas dentro del ascensor\n",
    "# personas          -> Lista con planta en la que se encuentra cada persona \n",
    "#                      (Pueden tomar el valor de la constante EN_ASCENSOR)\n",
    "class NodeState:\n",
    "\n",
    "    def __init__(self, init_personas, ascensor_rango=None):\n",
    "        self.personas = init_personas\n",
    "        self.ascensor_personas = [[] for _ in range(NUM_ASCENSORES)]\n",
    "        if ascensor_rango is None:\n",
    "            self.ascensor_rango = [(0,NUM_PLANTAS) for _ in range(NUM_ASCENSORES)] #[min,max], te deja lo mas arriba/abajo que puede\n",
    "            self.ascensor_pos = [0 for _ in range(NUM_ASCENSORES)]\n",
    "        else:\n",
    "            self.ascensor_rango = ascensor_rango\n",
    "            self.ascensor_pos = [rango[0] for rango in ascensor_rango]\n",
    "        \n",
    "    def __eq__(self, nodo):\n",
    "        return self.personas == nodo.personas and self.ascensor_pos == nodo.ascensor_pos and self.ascensor_personas == nodo.ascensor_personas\n",
    "   \n",
    "    def __hash__(self):\n",
    "        return hash((tuple(self.personas), tuple(self.ascensor_pos), tuple(tuple(x) for x in self.ascensor_personas)))\n",
    "    \n",
    "    def __lt__(self,nodo):\n",
    "        return True"
   ]
  },
  {
   "cell_type": "markdown",
   "metadata": {},
   "source": [
    "CAVEAT: ascensor_rango no deberia ser un atributo de NODE_STATE sino de PROBLEM -> GASTAMOS MAS MEMORIA"
   ]
  },
  {
   "cell_type": "code",
   "execution_count": 95,
   "metadata": {},
   "outputs": [],
   "source": [
    "# Definimos la clase para la representación del problema. Las acciones\n",
    "# contempladas son hacer al ascensor subir o bajar hasta la planta con\n",
    "# personas (o planta destino de los ocupantes) más cercana y recoger o\n",
    "# dejar a una persona en una planta.\n",
    "\n",
    "class AscensoresSimplificado(Problem) :    \n",
    "   \n",
    "    def __init__(self, initial, goal=None):        \n",
    "        self.initial = initial\n",
    "        self.goal = goal\n",
    "        self.analizados = 0\n",
    "\n",
    "    # Codificación acciones:\n",
    "    # (BAJAR, i, j) -> El ascensor i baja j plantas\n",
    "    # (SUBIR, i, j) -> El ascensor i sube j plantas\n",
    "    # (COGER_PERSONA, i, j) -> El ascensor i coge a la persona j\n",
    "    # (DEJAR_PERSONA, i, j) -> El ascensor i deja a la persona j\n",
    "    def actions(self, state):\n",
    "        \n",
    "        accs = list()\n",
    "        \n",
    "        for num_ascensor in range(0,NUM_ASCENSORES):\n",
    "            ascensor_pos      = state.ascensor_pos[num_ascensor]\n",
    "            ascensor_rango    = state.ascensor_rango[num_ascensor]\n",
    "            ascensor_personas = state.ascensor_personas[num_ascensor]\n",
    "            personas          = state.personas\n",
    "\n",
    "            ascensor_vacio    = not ascensor_personas\n",
    "            ascensor_lleno    = (len(ascensor_personas)==CAP_ASCENSOR)\n",
    "\n",
    "            personas_esta_planta_suben = [i for i in range(len(personas)) if personas[i]==ascensor_pos and self.goal[i]>ascensor_pos]\n",
    "            personas_esta_planta_bajan = [i for i in range(len(personas)) if personas[i]==ascensor_pos and self.goal[i]<ascensor_pos]\n",
    "\n",
    "\n",
    "            # 1.- Si alguien ha llegado a su destino o no podemos ir más cerca, forzamos que baje del ascensor\n",
    "            for persona in ascensor_personas:\n",
    "                if self.goal[persona]==ascensor_pos or \\\n",
    "                (self.goal[persona]<ascensor_rango[0] and ascensor_pos==ascensor_rango[0]) or \\\n",
    "                (self.goal[persona]>ascensor_rango[1] and ascensor_pos==ascensor_rango[1]):\n",
    "                    return [(DEJAR_PERSONA,num_ascensor,persona)]\n",
    "\n",
    "\n",
    "            # 2.- Para la acción subir requerimos que haya que coger o dejar a alguien\n",
    "            #     más arriba de donde se encuentra el ascensor. Nunca subimos con gente\n",
    "            #     que desea bajar plantas y además, un ascensor no sube si tiene capacidad\n",
    "            #     para más personas y en esa planta hay alguien que desea subir (eliminación\n",
    "            #     de ramas sin perder optimaldad).\n",
    "\n",
    "            persona_menos_arriba = min([person for person in personas if ascensor_pos<person and person<=ascensor_rango[1] and person!=EN_ASCENSOR and person!=EN_DESTINO], default=NINGUNA)\n",
    "\n",
    "            # Si el ascensor está vacío sólo subimos si hay alguna persona por arriba \n",
    "            # y no hay gente en esta planta que quiera subir\n",
    "            if ascensor_vacio:\n",
    "                if persona_menos_arriba!=NINGUNA and not(personas_esta_planta_suben):\n",
    "                    accs.append((SUBIR,num_ascensor,persona_menos_arriba-ascensor_pos))\n",
    "\n",
    "            # Si el ascensor no está vacío comprobamos que sus personas suben y vamos\n",
    "            # al mínimo entre a donde suben estas y donde hay una persona por encima\n",
    "            # siempre que no nos quede espacio o no haya gente en esa planta que quiere subir\n",
    "            elif self.goal[ascensor_personas[0]]>ascensor_pos:\n",
    "                destino_menos_arriba = min(ascensor_rango[1], min([self.goal[i] for i in ascensor_personas]))\n",
    "\n",
    "                if ascensor_lleno or not(personas_esta_planta_suben):\n",
    "                    if persona_menos_arriba==NINGUNA:\n",
    "                        accs.append((SUBIR,num_ascensor,destino_menos_arriba-ascensor_pos))\n",
    "                    else:\n",
    "                        accs.append((SUBIR,num_ascensor,min(persona_menos_arriba, destino_menos_arriba)-ascensor_pos))\n",
    "\n",
    "\n",
    "            # 3.- La acción bajar es totalmente dual a la acción subir, mismas lógica en\n",
    "            #     las condiciones. \n",
    "\n",
    "            persona_menos_abajo = max([person for person in personas if ascensor_pos>person and person>=ascensor_rango[0] and person!=EN_ASCENSOR and person!=EN_DESTINO], default=NINGUNA)\n",
    "\n",
    "            # Si el ascensor está vacío sólo bajamos si hay alguna persona por abajo\n",
    "            if ascensor_vacio:\n",
    "                if persona_menos_abajo!=NINGUNA and not(personas_esta_planta_bajan):\n",
    "                    accs.append((BAJAR,num_ascensor,ascensor_pos-persona_menos_abajo))\n",
    "            elif self.goal[ascensor_personas[0]]<ascensor_pos:\n",
    "                destino_menos_abajo = max(ascensor_rango[0], max([self.goal[i] for i in ascensor_personas]))\n",
    "\n",
    "                if ascensor_lleno or not(personas_esta_planta_bajan):\n",
    "                    if persona_menos_abajo==NINGUNA:\n",
    "                        accs.append((BAJAR,num_ascensor,ascensor_pos-destino_menos_abajo))\n",
    "                    else:\n",
    "                        accs.append((BAJAR,num_ascensor,ascensor_pos-max(persona_menos_abajo, destino_menos_abajo)))\n",
    "\n",
    "            # 4.- Acción dejar persona:\n",
    "            for personaInterior in ascensor_personas:\n",
    "                accs.append((DEJAR_PERSONA,num_ascensor,personaInterior))\n",
    "\n",
    "            # 5.- Acción coger persona. Sólo cogemos a personas que suben o bajan, no ambas\n",
    "            if not ascensor_lleno:\n",
    "                if ascensor_vacio:\n",
    "                    if ascensor_pos != ascensor_rango[1]:\n",
    "                        for persona in personas_esta_planta_suben:\n",
    "                            accs.append((COGER_PERSONA,num_ascensor,persona))\n",
    "                    if ascensor_pos != ascensor_rango[0]:\n",
    "                        for persona in personas_esta_planta_bajan:\n",
    "                            accs.append((COGER_PERSONA,num_ascensor,persona))\n",
    "                else: #si tiene a alguien dentro, ese alguien va hacia adentro del rango, si no forzábamos su salida en 1.-\n",
    "                    if self.goal[ascensor_personas[0]]<ascensor_pos:\n",
    "                        for persona in personas_esta_planta_bajan:\n",
    "                            accs.append((COGER_PERSONA,num_ascensor,persona))\n",
    "                    else:\n",
    "                        for persona in personas_esta_planta_suben:\n",
    "                            accs.append((COGER_PERSONA,num_ascensor,persona))\n",
    "\n",
    "        return accs\n",
    "\n",
    "    def result(self, state, action):\n",
    "        estado_nuevo = copy.deepcopy(state)\n",
    "        \n",
    "        ascensor = action[1]\n",
    "        \n",
    "        if action[0]==BAJAR:\n",
    "            estado_nuevo.ascensor_pos[ascensor] -= action[2]\n",
    "        elif action[0]==SUBIR:\n",
    "            estado_nuevo.ascensor_pos[ascensor] += action[2]\n",
    "        elif action[0]==COGER_PERSONA:\n",
    "            estado_nuevo.ascensor_personas[ascensor].append(action[2])\n",
    "            estado_nuevo.personas[action[2]] = EN_ASCENSOR\n",
    "        else:\n",
    "            estado_nuevo.ascensor_personas[ascensor].remove(action[2])\n",
    "            \n",
    "            if self.goal[action[2]]==state.ascensor_pos[ascensor]:\n",
    "                estado_nuevo.personas[action[2]] = EN_DESTINO\n",
    "            else:\n",
    "                estado_nuevo.personas[action[2]] = state.ascensor_pos[ascensor]\n",
    "        \n",
    "        return estado_nuevo\n",
    "    \n",
    "    def goal_test(self, state):\n",
    "        self.analizados +=1\n",
    "        return state.personas == [EN_DESTINO for _ in state.personas]\n",
    "\n",
    "    def path_cost(self, c, state1, action, state2):\n",
    "        if action[0]==BAJAR or action[0]==SUBIR:\n",
    "            return c + action[2]\n",
    "        else:\n",
    "            return c\n",
    "    \n",
    "    def h(self,node):\n",
    "        suma = sum([abs(self.goal[i]-node.state.personas[i]) for i in range(0,len(node.state.personas)) if node.state.personas[i]!=EN_DESTINO and node.state.personas[i]!=EN_ASCENSOR])\n",
    "        for ascensor in range(0, len(node.state.ascensor_personas)):\n",
    "            suma += sum([abs(self.goal[persona]-node.state.ascensor_pos[ascensor]) for persona in node.state.ascensor_personas[ascensor]])\n",
    "        return suma\n",
    "        \n",
    "    def value(self, state):\n",
    "        raise NotImplementedError"
   ]
  },
  {
   "cell_type": "code",
   "execution_count": 96,
   "metadata": {},
   "outputs": [],
   "source": [
    "# Para probar, hay que cambiar los parámetros de arriba también, no solo init\n",
    "init = NodeState([2,4,1,8,1],[(0,4),(4,8),(4,8),(8,12)])\n",
    "goal = [3,11,12,1,9]\n",
    "problem = AscensoresSimplificado(init, goal)"
   ]
  },
  {
   "cell_type": "code",
   "execution_count": 97,
   "metadata": {
    "scrolled": false
   },
   "outputs": [
    {
     "name": "stdout",
     "output_type": "stream",
     "text": [
      "El ascensor 1 coge a la persona 1\n",
      "El ascensor 1 sube 4 plantas\n",
      "El ascensor 1 deja a la persona 1\n",
      "El ascensor 0 sube 1 plantas\n",
      "El ascensor 0 coge a la persona 4\n",
      "El ascensor 3 coge a la persona 1\n",
      "El ascensor 3 sube 3 plantas\n",
      "El ascensor 3 deja a la persona 1\n",
      "El ascensor 1 coge a la persona 3\n",
      "El ascensor 1 baja 4 plantas\n",
      "El ascensor 1 deja a la persona 3\n",
      "El ascensor 0 coge a la persona 2\n",
      "El ascensor 0 sube 3 plantas\n",
      "El ascensor 0 deja a la persona 4\n",
      "El ascensor 0 deja a la persona 2\n",
      "El ascensor 2 coge a la persona 4\n",
      "El ascensor 2 coge a la persona 2\n",
      "El ascensor 2 sube 4 plantas\n",
      "El ascensor 2 deja a la persona 4\n",
      "El ascensor 2 deja a la persona 2\n",
      "El ascensor 0 coge a la persona 3\n",
      "El ascensor 0 baja 3 plantas\n",
      "El ascensor 0 deja a la persona 3\n",
      "El ascensor 3 baja 3 plantas\n",
      "El ascensor 3 coge a la persona 4\n",
      "El ascensor 3 coge a la persona 2\n",
      "El ascensor 3 sube 1 plantas\n",
      "El ascensor 3 deja a la persona 4\n",
      "El ascensor 3 sube 3 plantas\n",
      "El ascensor 3 deja a la persona 2\n",
      "El ascensor 0 sube 1 plantas\n",
      "El ascensor 0 coge a la persona 0\n",
      "El ascensor 0 sube 1 plantas\n",
      "El ascensor 0 deja a la persona 0\n"
     ]
    }
   ],
   "source": [
    "problem.analizados=0\n",
    "answer = astar_search(problem)\n",
    "if answer is None:\n",
    "    acciones = []\n",
    "    print(\"No hay solución\")\n",
    "else:\n",
    "    acciones = cocina_acciones(answer.solution())\n",
    "    decodificador_acciones(acciones)"
   ]
  },
  {
   "cell_type": "code",
   "execution_count": 98,
   "metadata": {},
   "outputs": [
    {
     "data": {
      "text/plain": [
       "77"
      ]
     },
     "execution_count": 98,
     "metadata": {},
     "output_type": "execute_result"
    }
   ],
   "source": [
    "problem.analizados"
   ]
  },
  {
   "cell_type": "code",
   "execution_count": 99,
   "metadata": {},
   "outputs": [
    {
     "data": {
      "text/plain": [
       "31"
      ]
     },
     "execution_count": 99,
     "metadata": {},
     "output_type": "execute_result"
    }
   ],
   "source": [
    "coste_acciones(acciones)"
   ]
  },
  {
   "cell_type": "code",
   "execution_count": null,
   "metadata": {},
   "outputs": [],
   "source": []
  },
  {
   "cell_type": "code",
   "execution_count": null,
   "metadata": {},
   "outputs": [],
   "source": []
  }
 ],
 "metadata": {
  "kernelspec": {
   "display_name": "Python 3",
   "language": "python",
   "name": "python3"
  },
  "language_info": {
   "codemirror_mode": {
    "name": "ipython",
    "version": 3
   },
   "file_extension": ".py",
   "mimetype": "text/x-python",
   "name": "python",
   "nbconvert_exporter": "python",
   "pygments_lexer": "ipython3",
   "version": "3.7.4"
  }
 },
 "nbformat": 4,
 "nbformat_minor": 2
}
