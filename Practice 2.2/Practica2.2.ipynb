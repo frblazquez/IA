{
 "cells": [
  {
   "cell_type": "markdown",
   "metadata": {},
   "source": [
    "# Práctica 2 - Grupo 05\n",
    "\n",
    " * **Boris Carballa Corredoira**\n",
    " * **Juan Carlos Villanueva Quirós**\n",
    " * **Francisco Javier Blázquez Martínez**\n",
    " \n",
    "## Parte 2: Recuperación de información"
   ]
  },
  {
   "cell_type": "markdown",
   "metadata": {},
   "source": [
    "Primero obtenemos y procesamos los datos con los que vamos a trabajar, comunes a ambos apartados de la práctica. En concreto, obtenemos los textos de entrenamiento y test y los vectorizamos con la frecuencia de aparicion de términos incluidos en el diccionario words.txt dado."
   ]
  },
  {
   "cell_type": "code",
   "execution_count": 1,
   "metadata": {},
   "outputs": [],
   "source": [
    "from sklearn.datasets import fetch_20newsgroups\n",
    "\n",
    "from sklearn.feature_extraction.text import CountVectorizer\n",
    "from sklearn.feature_extraction.text import TfidfTransformer\n",
    "from sklearn.metrics.pairwise        import cosine_similarity"
   ]
  },
  {
   "cell_type": "code",
   "execution_count": 2,
   "metadata": {},
   "outputs": [],
   "source": [
    "# Obtención de los datos de entrenamiento y prueba\n",
    "train_data = fetch_20newsgroups(subset='train', shuffle=True, random_state=17)\n",
    "test_data  = fetch_20newsgroups(subset='test',  shuffle=True, random_state=398)"
   ]
  },
  {
   "cell_type": "code",
   "execution_count": 3,
   "metadata": {},
   "outputs": [],
   "source": [
    "# Lectura del diccionario de palabras\n",
    "with open('words.txt') as file:\n",
    "    dictionary = file.read().splitlines()"
   ]
  },
  {
   "cell_type": "code",
   "execution_count": 4,
   "metadata": {},
   "outputs": [],
   "source": [
    "# Vectorizador de documentos común a los apartados a y b\n",
    "vectorizer = CountVectorizer(analyzer='word',stop_words='english', binary=False, vocabulary=dictionary, ngram_range=(1,1))"
   ]
  },
  {
   "cell_type": "code",
   "execution_count": 5,
   "metadata": {},
   "outputs": [],
   "source": [
    "# Obtención de los datos vectorizados con respecto al diccionario\n",
    "train_data_vectorized = vectorizer.fit_transform(train_data.data)\n",
    "test_data_vectorized  = vectorizer.fit_transform(test_data.data)"
   ]
  },
  {
   "cell_type": "markdown",
   "metadata": {},
   "source": [
    "Importamos librerías usadas en los siguientes apartados. Recomendamos crear una instancia de random con una semilla concreta en aquellas celdas donde se prentenda que el comportamiento no varíe entre ejecuciones. Esto es, para obtener aleatoriedad pero determinismo (aunque suene contradictorio). Se fija una semilla global que **puede verse afectada por cambios en el orden de ejecución de las celdas**. "
   ]
  },
  {
   "cell_type": "code",
   "execution_count": 6,
   "metadata": {},
   "outputs": [],
   "source": [
    "import random\n",
    "import numpy as np\n",
    "import numpy.ma as ma\n",
    "import matplotlib.pyplot as plt\n",
    "import pandas as pd\n",
    "\n",
    "# Mucho cuidado con el uso que se hace de esta instancia\n",
    "rand = random.Random(93854)"
   ]
  },
  {
   "cell_type": "markdown",
   "metadata": {},
   "source": [
    "En la siguiente tabla mostramos las temáticas en las que se organizan los textos obtenidos. En lo sucesivo va a ser la norma manejar estas temáticas no por su nombre, sino por un código, que no es más que su índice en la lista de nombres de temáticas. Mostramos aquí la equivalencia temática-código como referencia para futuros apartados."
   ]
  },
  {
   "cell_type": "code",
   "execution_count": 7,
   "metadata": {},
   "outputs": [
    {
     "data": {
      "text/html": [
       "<div>\n",
       "<style scoped>\n",
       "    .dataframe tbody tr th:only-of-type {\n",
       "        vertical-align: middle;\n",
       "    }\n",
       "\n",
       "    .dataframe tbody tr th {\n",
       "        vertical-align: top;\n",
       "    }\n",
       "\n",
       "    .dataframe thead th {\n",
       "        text-align: right;\n",
       "    }\n",
       "</style>\n",
       "<table border=\"1\" class=\"dataframe\">\n",
       "  <thead>\n",
       "    <tr style=\"text-align: right;\">\n",
       "      <th></th>\n",
       "      <th>Código</th>\n",
       "    </tr>\n",
       "  </thead>\n",
       "  <tbody>\n",
       "    <tr>\n",
       "      <th>alt.atheism</th>\n",
       "      <td>0</td>\n",
       "    </tr>\n",
       "    <tr>\n",
       "      <th>comp.graphics</th>\n",
       "      <td>1</td>\n",
       "    </tr>\n",
       "    <tr>\n",
       "      <th>comp.os.ms-windows.misc</th>\n",
       "      <td>2</td>\n",
       "    </tr>\n",
       "    <tr>\n",
       "      <th>comp.sys.ibm.pc.hardware</th>\n",
       "      <td>3</td>\n",
       "    </tr>\n",
       "    <tr>\n",
       "      <th>comp.sys.mac.hardware</th>\n",
       "      <td>4</td>\n",
       "    </tr>\n",
       "    <tr>\n",
       "      <th>comp.windows.x</th>\n",
       "      <td>5</td>\n",
       "    </tr>\n",
       "    <tr>\n",
       "      <th>misc.forsale</th>\n",
       "      <td>6</td>\n",
       "    </tr>\n",
       "    <tr>\n",
       "      <th>rec.autos</th>\n",
       "      <td>7</td>\n",
       "    </tr>\n",
       "    <tr>\n",
       "      <th>rec.motorcycles</th>\n",
       "      <td>8</td>\n",
       "    </tr>\n",
       "    <tr>\n",
       "      <th>rec.sport.baseball</th>\n",
       "      <td>9</td>\n",
       "    </tr>\n",
       "    <tr>\n",
       "      <th>rec.sport.hockey</th>\n",
       "      <td>10</td>\n",
       "    </tr>\n",
       "    <tr>\n",
       "      <th>sci.crypt</th>\n",
       "      <td>11</td>\n",
       "    </tr>\n",
       "    <tr>\n",
       "      <th>sci.electronics</th>\n",
       "      <td>12</td>\n",
       "    </tr>\n",
       "    <tr>\n",
       "      <th>sci.med</th>\n",
       "      <td>13</td>\n",
       "    </tr>\n",
       "    <tr>\n",
       "      <th>sci.space</th>\n",
       "      <td>14</td>\n",
       "    </tr>\n",
       "    <tr>\n",
       "      <th>soc.religion.christian</th>\n",
       "      <td>15</td>\n",
       "    </tr>\n",
       "    <tr>\n",
       "      <th>talk.politics.guns</th>\n",
       "      <td>16</td>\n",
       "    </tr>\n",
       "    <tr>\n",
       "      <th>talk.politics.mideast</th>\n",
       "      <td>17</td>\n",
       "    </tr>\n",
       "    <tr>\n",
       "      <th>talk.politics.misc</th>\n",
       "      <td>18</td>\n",
       "    </tr>\n",
       "    <tr>\n",
       "      <th>talk.religion.misc</th>\n",
       "      <td>19</td>\n",
       "    </tr>\n",
       "  </tbody>\n",
       "</table>\n",
       "</div>"
      ],
      "text/plain": [
       "                          Código\n",
       "alt.atheism                    0\n",
       "comp.graphics                  1\n",
       "comp.os.ms-windows.misc        2\n",
       "comp.sys.ibm.pc.hardware       3\n",
       "comp.sys.mac.hardware          4\n",
       "comp.windows.x                 5\n",
       "misc.forsale                   6\n",
       "rec.autos                      7\n",
       "rec.motorcycles                8\n",
       "rec.sport.baseball             9\n",
       "rec.sport.hockey              10\n",
       "sci.crypt                     11\n",
       "sci.electronics               12\n",
       "sci.med                       13\n",
       "sci.space                     14\n",
       "soc.religion.christian        15\n",
       "talk.politics.guns            16\n",
       "talk.politics.mideast         17\n",
       "talk.politics.misc            18\n",
       "talk.religion.misc            19"
      ]
     },
     "execution_count": 7,
     "metadata": {},
     "output_type": "execute_result"
    }
   ],
   "source": [
    "pd.DataFrame({'Código':range(20)},test_data.target_names)"
   ]
  },
  {
   "cell_type": "markdown",
   "metadata": {},
   "source": [
    "Presentamos ahora una serie de funciones implementadas que serán útiles a lo largo de toda la práctica. \n",
    "\n",
    "Para entender el por qué de estas implementaciones cabe destacar que no trabajamos con los textos propiamente dichos, sino que representamos los textos por su índice en las variables train\\_data y test\\_data definidas anteriormente. Así por ejemplo, cuando llamamos a la función _get\\_k\\_mas\\_similares_ para obtener los k textos más similares a uno dado, no obtenemos una lista de textos, sino una lista de índices de estos textos en train\\_data."
   ]
  },
  {
   "cell_type": "code",
   "execution_count": 8,
   "metadata": {},
   "outputs": [],
   "source": [
    "# Muestra un texto y su categoría.\n",
    "#\n",
    "# docs:     train_data o test_data \n",
    "# text_idx: índice del texto seleccionado\n",
    "def print_texto_y_categoria(docs, text_idx):\n",
    "    print(\"---------------------------- TEXT ----------------------------\")\n",
    "    print(docs.data[text_idx])\n",
    "    print(\"-------------------------- CATEGORY --------------------------\")\n",
    "    print(docs.target_names[docs.target[text_idx]])\n",
    "    \n",
    "\n",
    "# Esta función ha sido empleada únicamente en la visualización de textos\n",
    "# en el testeo y desarrollo de la práctica para su comprensión y depuración."
   ]
  },
  {
   "cell_type": "code",
   "execution_count": 9,
   "metadata": {},
   "outputs": [],
   "source": [
    "# Devuelve una lista con los índices de k documentos seleccionados \n",
    "# aleatoriamente de entre aquellos de la categoría dada.\n",
    "#\n",
    "# docs:      train_data o test_data \n",
    "# k:         número de textos que seleccionar\n",
    "# categoria: número de categoría en 20newsgroups [0-19]\n",
    "def selecciona_k_textos_clase(docs,k,categoria):\n",
    "    return rand.sample([idx for idx in range(len(docs.data)) if docs.target[idx]==categoria],k)\n",
    "\n",
    "\n",
    "# Esta función es utilizada para obtener los textos con los que medir la\n",
    "# precisión en nuestra búsquedas. Ha sido generalizada a más de tres textos\n",
    "# para poder analizar la precisión más en profundidad."
   ]
  },
  {
   "cell_type": "code",
   "execution_count": 10,
   "metadata": {},
   "outputs": [],
   "source": [
    "# Devuelve una lista con los índices de los k textos más similares a uno\n",
    "# dado ordenados de mayor a menor similitud.\n",
    "#\n",
    "# docs_vectorized: train_data o test_data vectorizados (admite TF-IDF)\n",
    "# elem_vectorized: un texto cualquiera vectorizado\n",
    "# k:               número de textos a recuperar\n",
    "def get_k_mas_similares(docs_vectorized, elem_vectorized, k):\n",
    "    similarities = cosine_similarity(docs_vectorized,elem_vectorized)\n",
    "    return sorted(range(len(similarities)), key=lambda i: similarities[i], reverse=True)[:k]\n",
    "\n",
    "\n",
    "# Esta función es invocada para buscar los textos más similares a uno\n",
    "# dado tanto en el apartado a como en el b (con datos TF-IDF)"
   ]
  },
  {
   "cell_type": "code",
   "execution_count": 11,
   "metadata": {},
   "outputs": [],
   "source": [
    "# Devuelve la proporción de textos con índice en 'idxs' catalogados \n",
    "# en la categoría pasada como parámetro (para medir precisión de búsqueda).\n",
    "#\n",
    "# docs:      train_data o test_data\n",
    "# idxs:      lista de índices de textos en docs\n",
    "# categoria: categoría objetivo sobre la que calcular la proporción\n",
    "def proporcion(docs, idxs, categoria):\n",
    "    return len([i for i in idxs if docs.target[i]==categoria])/len(idxs)\n",
    "\n",
    "\n",
    "# Esta función la empleamos para medir la precisión del resultado de \n",
    "# una búsqueda (proporción de textos en la categoría acertada)."
   ]
  },
  {
   "cell_type": "markdown",
   "metadata": {},
   "source": [
    "Seleccionamos aleatoriamente tres textos de cada clase del conjunto de test para analizar con estos el funcionamiento de nuestro buscador. Como hemos explicado anteriormente, realmente seleccionamos índices de textos que apuntan directamente a su posición en la variable test_data."
   ]
  },
  {
   "cell_type": "code",
   "execution_count": 12,
   "metadata": {},
   "outputs": [],
   "source": [
    "# Para cada categoría, seleccionamos tres textos aleatoriamente\n",
    "test_texts_idxs = [selecciona_k_textos_clase(test_data,3,i) for i in range(20)]"
   ]
  },
  {
   "cell_type": "markdown",
   "metadata": {},
   "source": [
    "La siguiente función mide para cada una de las temáticas, para cada uno de los textos de test seleccionados en esa temática, la precisión en la búsqueda de los k textos más similares y además obtiene la media de estas precisiones organizadas por temáticas. En definitiva, es la que empleamos para medir la precisión de nuestro buscador en cada temática.\n",
    "\n",
    "Por defecto toma los datos vectorizados con su frecuencia absoluta de palabras pero permite datos transformados con TF-IDF. Se incluye además una función para la visualización de estas precisiones por categorías."
   ]
  },
  {
   "cell_type": "code",
   "execution_count": 13,
   "metadata": {},
   "outputs": [],
   "source": [
    "# Devuelve una lista con la precisión media en cada temática en la \n",
    "# búsqueda de los k textos más similares a los dados.\n",
    "# \n",
    "# k: número de elementos a recuperar por el buscador\n",
    "# test_docs_idxs: lista con listas de índices de documentos en test_docs para cada temática\n",
    "# test_docs: Contiene los documentos que componen los términos de búsqueda (vectorizados/tf-idf)\n",
    "# all_docs:  Contiene los documentos sobre los que se realiza la búsqueda (vectorizados/tf-idf)\n",
    "def precision_k_mas_similares(k,test_docs_idxs=test_texts_idxs, test_docs=test_data_vectorized,all_docs=train_data_vectorized):\n",
    "    resultado = []\n",
    "    for i in range(20): # Para cada temática\n",
    "        avg_precision = 0\n",
    "        for idx in test_docs_idxs[i]:   # Para cada documento de test calculamos la precisión\n",
    "            idx_similares = get_k_mas_similares(all_docs, test_docs[idx], k)\n",
    "            avg_precision += proporcion(train_data, idx_similares, i)\n",
    "        avg_precision /= len(test_docs_idxs[i]) # Calculamos la precisión media en esta temática\n",
    "        resultado.append(avg_precision) # Añadimos la precisión media a la lista resultado\n",
    "    return resultado\n",
    "\n",
    "# La empleamos para analizar la precisión en cada temática de nuestro\n",
    "# buscador en los apartados a (docs vectorizados con frecuencias) y\n",
    "# b (docs vectorizados tf-idf)"
   ]
  },
  {
   "cell_type": "code",
   "execution_count": 14,
   "metadata": {},
   "outputs": [],
   "source": [
    "# Dada una lista de precisiones ([0,1]) para cada temática (20 elementos)\n",
    "# muestra estas y su media gráficamente\n",
    "def show(datos_precision):\n",
    "    # Eje x: clase\n",
    "    # Eje y: precisión\n",
    "    # Línea azul: media\n",
    "    plt.plot(range(20),datos_precision,'ro')\n",
    "    plt.axis([-1,20,0,1])\n",
    "    plt.axhline(y=sum(datos_precision)/len(datos_precision), linewidth=1, color = 'b')\n",
    "    plt.show()\n",
    "    \n",
    "# La empleamos para representar el análisis de precisiones por temáticas\n",
    "# devuelto por 'precision_k_mas_similares'"
   ]
  },
  {
   "cell_type": "markdown",
   "metadata": {},
   "source": [
    "## Práctica 2.2.a"
   ]
  },
  {
   "cell_type": "markdown",
   "metadata": {},
   "source": [
    "En esta parte de la práctica realizamos todos los cómputos (en concreto los relativos a la similitud de textos) con las variables **train_data_vectorized** y **test_data_vectorized** vectorizadas con la frecuencia absoluta de aparición de términos."
   ]
  },
  {
   "cell_type": "markdown",
   "metadata": {},
   "source": [
    "**Calcula la precisión de búsqueda para cada clase con niveles de exhaustividad 3 y 10**"
   ]
  },
  {
   "cell_type": "code",
   "execution_count": 15,
   "metadata": {},
   "outputs": [],
   "source": [
    "# Calculamos y representamos la precisión al tomar los 3 docs. más similares\n",
    "precision_3_v  = precision_k_mas_similares(3)"
   ]
  },
  {
   "cell_type": "code",
   "execution_count": 16,
   "metadata": {},
   "outputs": [
    {
     "data": {
      "image/png": "[encoded data removed]",
      "text/plain": [
       "<Figure size 432x288 with 1 Axes>"
      ]
     },
     "metadata": {
      "needs_background": "light"
     },
     "output_type": "display_data"
    }
   ],
   "source": [
    "show(precision_3_v)"
   ]
  },
  {
   "cell_type": "code",
   "execution_count": 17,
   "metadata": {},
   "outputs": [],
   "source": [
    "# Calculamos y representamos la precisión al tomar los 10 docs. más similares\n",
    "precision_10_v = precision_k_mas_similares(10) "
   ]
  },
  {
   "cell_type": "code",
   "execution_count": 18,
   "metadata": {},
   "outputs": [
    {
     "data": {
      "image/png": "[encoded data removed]",
      "text/plain": [
       "<Figure size 432x288 with 1 Axes>"
      ]
     },
     "metadata": {
      "needs_background": "light"
     },
     "output_type": "display_data"
    }
   ],
   "source": [
    "show(precision_10_v)"
   ]
  },
  {
   "cell_type": "markdown",
   "metadata": {},
   "source": [
    "**¿Hay muchas diferencias entre los valores de precisión medios para las distintas clases del conjunto de datos? ¿A qué crees que se deben?**"
   ]
  },
  {
   "cell_type": "markdown",
   "metadata": {},
   "source": [
    "Viendo las gráficas de precisión por temáticas es obvia la respuesta a la primera pregunta. Hay grandes diferencias en la precisión obtenida en las distintas temáticas, desde clases donde la precisión es de casi un 70% a clases donde no se alcanza un 10%. \n",
    "\n",
    "Vamos analizar nuestros datos más en detalle."
   ]
  },
  {
   "cell_type": "code",
   "execution_count": 19,
   "metadata": {},
   "outputs": [],
   "source": [
    "#Tabla de precisiones\n",
    "d_v  = {'Precision Exhaus 3':precision_3_v,'Precision Exhaus 10':precision_10_v}\n",
    "df_v = pd.DataFrame(data=d_v,index=test_data.target_names)"
   ]
  },
  {
   "cell_type": "code",
   "execution_count": 20,
   "metadata": {},
   "outputs": [
    {
     "data": {
      "text/html": [
       "<div>\n",
       "<style scoped>\n",
       "    .dataframe tbody tr th:only-of-type {\n",
       "        vertical-align: middle;\n",
       "    }\n",
       "\n",
       "    .dataframe tbody tr th {\n",
       "        vertical-align: top;\n",
       "    }\n",
       "\n",
       "    .dataframe thead th {\n",
       "        text-align: right;\n",
       "    }\n",
       "</style>\n",
       "<table border=\"1\" class=\"dataframe\">\n",
       "  <thead>\n",
       "    <tr style=\"text-align: right;\">\n",
       "      <th></th>\n",
       "      <th>Precision Exhaus 3</th>\n",
       "      <th>Precision Exhaus 10</th>\n",
       "    </tr>\n",
       "  </thead>\n",
       "  <tbody>\n",
       "    <tr>\n",
       "      <th>count</th>\n",
       "      <td>20.000000</td>\n",
       "      <td>20.000000</td>\n",
       "    </tr>\n",
       "    <tr>\n",
       "      <th>mean</th>\n",
       "      <td>0.450000</td>\n",
       "      <td>0.358333</td>\n",
       "    </tr>\n",
       "    <tr>\n",
       "      <th>std</th>\n",
       "      <td>0.211664</td>\n",
       "      <td>0.155174</td>\n",
       "    </tr>\n",
       "    <tr>\n",
       "      <th>min</th>\n",
       "      <td>0.111111</td>\n",
       "      <td>0.066667</td>\n",
       "    </tr>\n",
       "    <tr>\n",
       "      <th>25%</th>\n",
       "      <td>0.305556</td>\n",
       "      <td>0.258333</td>\n",
       "    </tr>\n",
       "    <tr>\n",
       "      <th>50%</th>\n",
       "      <td>0.444444</td>\n",
       "      <td>0.350000</td>\n",
       "    </tr>\n",
       "    <tr>\n",
       "      <th>75%</th>\n",
       "      <td>0.666667</td>\n",
       "      <td>0.441667</td>\n",
       "    </tr>\n",
       "    <tr>\n",
       "      <th>max</th>\n",
       "      <td>0.777778</td>\n",
       "      <td>0.666667</td>\n",
       "    </tr>\n",
       "  </tbody>\n",
       "</table>\n",
       "</div>"
      ],
      "text/plain": [
       "       Precision Exhaus 3  Precision Exhaus 10\n",
       "count           20.000000            20.000000\n",
       "mean             0.450000             0.358333\n",
       "std              0.211664             0.155174\n",
       "min              0.111111             0.066667\n",
       "25%              0.305556             0.258333\n",
       "50%              0.444444             0.350000\n",
       "75%              0.666667             0.441667\n",
       "max              0.777778             0.666667"
      ]
     },
     "execution_count": 20,
     "metadata": {},
     "output_type": "execute_result"
    }
   ],
   "source": [
    "# Estadísticos principales\n",
    "df_v.describe()"
   ]
  },
  {
   "cell_type": "markdown",
   "metadata": {},
   "source": [
    "Primero nótese al haber 20 temáticas distintas, si clasificáramos aleatoriamente los textos, sin un análisis de la información, la precisión esperada sería de tan solo un 5%. Esto significa que si nuestro buscador obtiene peores resultados debemos probar suerte en el mundo del parchis en vez de el mundo de la IA. Sin embargo, conociendo este umbral afirmamos que, pese a no obtener niveles de precisión realmente altos en ninguna clase (con exhaustividad 10 no se alcanza ni un 70% en ninguna), podemos afirmar que nuestro buscador obtiene buenos resultados. Y esto sucede para ambos niveles de exhaustividad, recuperando los 3 o 10 documentos más similares, aunque con mejores resultados (mejor media de precisiones de las temáticas) al recuperar menos documentos. Esto tiene sentido pues dado un texto, lo lógico es que los dos o tres textos con los que más similitudes albergue estén en su misma temática, mientras que textos relacionados pero no tan estrechamente pueden encontrarse en otras temáticas. A modo de ejemplo, supongamos un caso clínico de un accidente de moto con terminología médica (situación del paciente) y relativa al mundo del motociclismo (pormenores del accidente). Al tener terminología de ambas temáticas, no sería muy probable recuperarla entre los tres documentos más similares a un texto de motociclismo, pero posiblemente sí entre los diez o cien textos más semejantes.\n",
    "\n",
    "Sin embargo, como hemos mencionado, la precisión varía enormemente en función de la temática. Temáticas como 'sci.crypt' o 'comp.os.ms-windows.misc' obtienen una precisión de más del 60% con ambos niveles de exhaustividad frente a temáticas como 'sci.electronics' y 'sci.med' que obtienen resultados muy pobres con ambos clasificadores, rozando el umbral del fracaso que habíamos marcado en el 5%.\n",
    "\n",
    "¿Qué puede causar esto? Pues bien, se nos ocurren dos posibilidades. \n",
    "\n",
    "La primera es que haya alguna temática íntimamente relacionada con estas que obtienen malos resultados y con un umbral difuso entre ambas. Si dos temáticas poseen por su propia naturaleza textos similares no podemos culpar a nuestro buscador de la confusión. Estamos diciendo a grandes rasgos que si en vez de tener la temática 'hockey' tuviéramos las temáticas 'hockey hierba' y 'hockey pista' nuestro buscador tendría dificultades con ciertos textos, recuperando textos entendidos como similares de ambas categorías, lo que penaliza la precisión como la entendemos en esta práctica (que puede no ser la mejor medida de precisión para gran cantidad de objetivos). Esto no nos parece la verdadera causa ni especialmente grave a la vista de los resultados aunque podría explicar la baja precisión de 'rec.autos' al existir una clase similar 'rec.motorcycles'.\n",
    "\n",
    "La segunda posibilidad que se nos ocurre, y que consideramos la más probable, es que las temáticas de electrónica y medicina se distinguen precisamente por su jerga, abundante en tecnicismos y términos empleados en estos campos casi exclusivamente. Nosotros al estar literalmente desechando en nuestro análisis todos los términos de nuestros textos que no se encuentren en el diccionario words.txt podemos estar perdiendo este rasgo que distingue a estos textos tan específicos. En definitiva, si el diccionario no es lo suficientemente exhaustivo con estos campos, los textos de estas temáticas pierden precisamente lo que los distingue. En el siguiente apartado analizamos esto más en profundidad."
   ]
  },
  {
   "cell_type": "markdown",
   "metadata": {},
   "source": [
    "**Identifica la clase que haya tenido peores resultados de precisión y para alguna de sus consultas muestra alguno de los mensajes que recuperó erróneamente en las primeras X posiciones.**\n",
    "* **¿Con qué clases se ha confundido más dicha consulta?**\n",
    "* **¿A qué crees que se deben los malos resultados?**"
   ]
  },
  {
   "cell_type": "markdown",
   "metadata": {},
   "source": [
    "Vamos a analizar el origen de las confusiones en la temática **sci.electronics** (código 12) que ha obtenido los peores resultados en exhaustividad 3 y 10."
   ]
  },
  {
   "cell_type": "code",
   "execution_count": 21,
   "metadata": {},
   "outputs": [],
   "source": [
    "textos_test_electronics = test_texts_idxs[12]\n",
    "\n",
    "# Para ver los textos de testeo de la categoría sci.electronics\n",
    "#print_texto_y_categoria(test_data, textos_test_electronics[0])\n",
    "#print_texto_y_categoria(test_data, textos_test_electronics[1])\n",
    "#print_texto_y_categoria(test_data, textos_test_electronics[2])\n",
    "\n",
    "# Para obtener los 10 textos más similares a cada uno de test\n",
    "similares_texto_1 = get_k_mas_similares(train_data_vectorized, test_data_vectorized[textos_test_electronics[0]],10)\n",
    "similares_texto_2 = get_k_mas_similares(train_data_vectorized, test_data_vectorized[textos_test_electronics[1]],10)\n",
    "similares_texto_3 = get_k_mas_similares(train_data_vectorized, test_data_vectorized[textos_test_electronics[2]],10)\n",
    "similares = list(set().union(similares_texto_1,similares_texto_2,similares_texto_3))\n",
    "\n",
    "# Para mostrar los textos más similares recuperados\n",
    "#print_texto_y_categoria(train_data, similares_texto_1[0])\n",
    "#print_texto_y_categoria(train_data, similares_texto_1[1])\n",
    "#print_texto_y_categoria(train_data, similares_texto_1[2])\n",
    "#print_texto_y_categoria(train_data, similares_texto_2[0])\n",
    "#print_texto_y_categoria(train_data, similares_texto_2[1])\n",
    "#print_texto_y_categoria(train_data, similares_texto_2[2])\n",
    "#print_texto_y_categoria(train_data, similares_texto_3[0])\n",
    "#print_texto_y_categoria(train_data, similares_texto_3[1])\n",
    "#print_texto_y_categoria(train_data, similares_texto_3[2])"
   ]
  },
  {
   "cell_type": "markdown",
   "metadata": {},
   "source": [
    "Primeramente decir que, analizando los textos de test que se tomaron aleatoriamente para esta categoría ya encontramos una anomalía. Uno de los textos es el siguiente"
   ]
  },
  {
   "cell_type": "code",
   "execution_count": 22,
   "metadata": {},
   "outputs": [
    {
     "name": "stdout",
     "output_type": "stream",
     "text": [
      "---------------------------- TEXT ----------------------------\n",
      "From: red@tina.dei.unipd.it (Piergiorgio Sartor 274199/IL)\n",
      "Subject: PALs, GALs\n",
      "Organization: D.E.I. Universita' di Padova -- Italia\n",
      "Lines: 6\n",
      "\n",
      "Does anyone know how can I get detailed information about PALs and GALs.\n",
      "Please reply via e-mail.\n",
      "Thanks a lot in advance.\n",
      "-- \n",
      "\t\t\t\t\tred@paola.dei.unipd.it\n",
      "\t\t\t\t\tred@maya.dei.unipd.it\n",
      "\n",
      "-------------------------- CATEGORY --------------------------\n",
      "sci.electronics\n"
     ]
    }
   ],
   "source": [
    "print_texto_y_categoria(test_data, textos_test_electronics[1])"
   ]
  },
  {
   "cell_type": "markdown",
   "metadata": {},
   "source": [
    "Este texto únicamente se podría clasificar en la categoría de electrónica en base a que PAL y GAL hacen referencia a sistemas de codificación de televisión analógica. Pues bien, PALs y GALs **no están en el diccionario** words.txt por lo que son excluidas del mensaje para el análisis del texto. Se trata entonces de recuperar similitudes con un mensaje con casi por completo palabras genéricas.\n",
    "\n",
    "Mostramos ahora un mensaje recuperado de forma \"errónea\" (de otra categoría) considerado similar a uno de nuestros mensajes de test de la categoría sci.electronics."
   ]
  },
  {
   "cell_type": "code",
   "execution_count": 23,
   "metadata": {},
   "outputs": [
    {
     "name": "stdout",
     "output_type": "stream",
     "text": [
      "---------------------------- TEXT ----------------------------\n",
      "From: alin@nyx.cs.du.edu (ailin lin)\n",
      "Subject: VGA card/1 meg wanted\n",
      "Organization: Nyx, Public Access Unix @ U. of Denver Math/CS dept.\n",
      "Lines: 7\n",
      "\n",
      "it must have 1 meg memory and support res. 1024x768 (even higher will be better)if it has 9 & 15 pin ports and also supports ega/cga , that's better.\n",
      "I will pay $30 + $1 (shipping) for it.\n",
      "\n",
      "let me knoe if u have one like this.\n",
      "\n",
      "ailin\n",
      "803-654-8817\n",
      "\n",
      "-------------------------- CATEGORY --------------------------\n",
      "misc.forsale\n"
     ]
    }
   ],
   "source": [
    "print_texto_y_categoria(train_data, similares_texto_3[1])"
   ]
  },
  {
   "cell_type": "markdown",
   "metadata": {},
   "source": [
    "Memory, VGA, ports, pin, card... Todos son términos frecuentes en el campo de la electrónica. La confusión con este texto es lógica en base al funcionamiento de búsqueda por vectores de términos. La aparición del término \"pay\" una única vez (en este apartado la frecuencia importa), muy frecuente en misc.foresale no es suficiente para distanciar este texto como vector de los textos de electrónica. Además, \\\\$30 y \\\\$1 no son palabras del diccionario pese a que son los mayores indicativos de que el texto es de carácter comercial. Si nos tuvieramos que enfrentar a este problema en un caso concreto nosotros trataríamos de detectar los símbolos \\\\$,€,£... y añadir el número de apariciones de estos como una coordenada más de los vectores de términos posiblemente con una ponderación elevada."
   ]
  },
  {
   "cell_type": "markdown",
   "metadata": {},
   "source": [
    "Finalmente, en respuesta a las preguntas de este apartado, vamos a analizar las confusiones de sci.electronics con las demás categorías y a concluir un por qué de estos malos resultados. La siguiente función nos será util también más adelante para analizar estas confusiones."
   ]
  },
  {
   "cell_type": "code",
   "execution_count": 24,
   "metadata": {},
   "outputs": [],
   "source": [
    "# La siguiente función se emplea para dada una lista de índices de\n",
    "# textos en train_data, mostrar la frecuencia absoluta de las \n",
    "# temáticas en un diagrama de barras\n",
    "def diagrama_barras_frecuencias_clases_textos(textos):\n",
    "    # Calculamos la frecuencia de aparición de cada clase\n",
    "    frecuencias = [0]*20\n",
    "    for idx in textos:\n",
    "        frecuencias[train_data.target[idx]] += 1;\n",
    "\n",
    "    # Mostramos el resultado como diagrama de barras\n",
    "    plt.bar(train_data.target_names,frecuencias)\n",
    "    plt.xticks(rotation='vertical')\n",
    "    plt.show()\n",
    "    \n",
    "# La empleamos cuando queremos visualizar con qué temáticas estamos\n",
    "# confundiendo un texto determinado (a continuación y siguiente apartado)"
   ]
  },
  {
   "cell_type": "code",
   "execution_count": 25,
   "metadata": {},
   "outputs": [
    {
     "data": {
      "image/png": "[encoded data removed]",
      "text/plain": [
       "<Figure size 432x288 with 1 Axes>"
      ]
     },
     "metadata": {
      "needs_background": "light"
     },
     "output_type": "display_data"
    }
   ],
   "source": [
    "diagrama_barras_frecuencias_clases_textos(similares)"
   ]
  },
  {
   "cell_type": "markdown",
   "metadata": {},
   "source": [
    "Es claro entonces que la clase con la que más se confunden nuestros textos de test es con misc.forsale, categoría de artículos en venta pues, para alegría de China y para coherencia nuestra, estos artículos son muy ofertados y demandados y poseen el problema que hemos visto en el ejemplo de texto recuperado erróneamente. \n",
    "\n",
    "Nos atrevemos a decir además que este problema se debe también a que en un artículo de venta de una mesa, por ejemplo, se suelen indicar las medidas y el material del que esta está fabricada mientras que en un artículo de venta de un dispositivo electrónico se suelen indicar todas sus características técnicas. Esto contiene gran cantidad de términos del campo de la electrónica y contener estos términos es lo relevante para nuestro buscador. Esta combinación gran cantidad de venta de electrónica, especificaciones detallades en los artículos de venta es lo que crea la confusión. \n",
    "\n",
    "Sí que nos sorprende y no entendemos el por qué de la recuperación de textos de béisbol. Nos atrevemos a aventurar que el culpable es el texto de test explicado anteriormente que era puramente genérico una vez eliminados por no presentes en el diccionario los términos PALs y GALs."
   ]
  },
  {
   "cell_type": "markdown",
   "metadata": {},
   "source": [
    "## Práctica 2.2.b"
   ]
  },
  {
   "cell_type": "markdown",
   "metadata": {},
   "source": [
    "En esta parte de la práctica realizamos todos los cómputos (en concreto los relativos a la similitud de textos) con las variables train_data_vectorized y test_data_vectorized transformadas con **tf-idf**."
   ]
  },
  {
   "cell_type": "markdown",
   "metadata": {},
   "source": [
    "**Calcula la precisión de búsqueda para cada clase con niveles de exhaustividad 3 y 10**"
   ]
  },
  {
   "cell_type": "code",
   "execution_count": 26,
   "metadata": {},
   "outputs": [],
   "source": [
    "# Usamos los datos \"train_data_vectorized\" transformados con tf-idf\n",
    "tfidfer = TfidfTransformer()\n",
    "train_data_tfidf = tfidfer.fit_transform(train_data_vectorized)\n",
    "test_data_tfidf = tfidfer.transform(test_data_vectorized)"
   ]
  },
  {
   "cell_type": "code",
   "execution_count": 27,
   "metadata": {},
   "outputs": [],
   "source": [
    "precision_3_t  = precision_k_mas_similares(3, test_texts_idxs, test_data_tfidf, train_data_tfidf)"
   ]
  },
  {
   "cell_type": "code",
   "execution_count": 28,
   "metadata": {},
   "outputs": [
    {
     "data": {
      "image/png": "[encoded data removed]",
      "text/plain": [
       "<Figure size 432x288 with 1 Axes>"
      ]
     },
     "metadata": {
      "needs_background": "light"
     },
     "output_type": "display_data"
    }
   ],
   "source": [
    "show(precision_3_t)"
   ]
  },
  {
   "cell_type": "code",
   "execution_count": 29,
   "metadata": {},
   "outputs": [],
   "source": [
    "precision_10_t = precision_k_mas_similares(10, test_texts_idxs, test_data_tfidf, train_data_tfidf) "
   ]
  },
  {
   "cell_type": "code",
   "execution_count": 30,
   "metadata": {},
   "outputs": [
    {
     "data": {
      "image/png": "[encoded data removed]",
      "text/plain": [
       "<Figure size 432x288 with 1 Axes>"
      ]
     },
     "metadata": {
      "needs_background": "light"
     },
     "output_type": "display_data"
    }
   ],
   "source": [
    "show(precision_10_t)"
   ]
  },
  {
   "cell_type": "code",
   "execution_count": 31,
   "metadata": {},
   "outputs": [
    {
     "data": {
      "text/html": [
       "<div>\n",
       "<style scoped>\n",
       "    .dataframe tbody tr th:only-of-type {\n",
       "        vertical-align: middle;\n",
       "    }\n",
       "\n",
       "    .dataframe tbody tr th {\n",
       "        vertical-align: top;\n",
       "    }\n",
       "\n",
       "    .dataframe thead th {\n",
       "        text-align: right;\n",
       "    }\n",
       "</style>\n",
       "<table border=\"1\" class=\"dataframe\">\n",
       "  <thead>\n",
       "    <tr style=\"text-align: right;\">\n",
       "      <th></th>\n",
       "      <th>Precision Exhaus 3</th>\n",
       "      <th>Precision Exhaus 10</th>\n",
       "    </tr>\n",
       "  </thead>\n",
       "  <tbody>\n",
       "    <tr>\n",
       "      <th>alt.atheism</th>\n",
       "      <td>0.666667</td>\n",
       "      <td>0.533333</td>\n",
       "    </tr>\n",
       "    <tr>\n",
       "      <th>comp.graphics</th>\n",
       "      <td>0.777778</td>\n",
       "      <td>0.566667</td>\n",
       "    </tr>\n",
       "    <tr>\n",
       "      <th>comp.os.ms-windows.misc</th>\n",
       "      <td>0.777778</td>\n",
       "      <td>0.600000</td>\n",
       "    </tr>\n",
       "    <tr>\n",
       "      <th>comp.sys.ibm.pc.hardware</th>\n",
       "      <td>0.555556</td>\n",
       "      <td>0.466667</td>\n",
       "    </tr>\n",
       "    <tr>\n",
       "      <th>comp.sys.mac.hardware</th>\n",
       "      <td>0.222222</td>\n",
       "      <td>0.233333</td>\n",
       "    </tr>\n",
       "    <tr>\n",
       "      <th>comp.windows.x</th>\n",
       "      <td>0.777778</td>\n",
       "      <td>0.666667</td>\n",
       "    </tr>\n",
       "    <tr>\n",
       "      <th>misc.forsale</th>\n",
       "      <td>0.333333</td>\n",
       "      <td>0.300000</td>\n",
       "    </tr>\n",
       "    <tr>\n",
       "      <th>rec.autos</th>\n",
       "      <td>0.444444</td>\n",
       "      <td>0.433333</td>\n",
       "    </tr>\n",
       "    <tr>\n",
       "      <th>rec.motorcycles</th>\n",
       "      <td>0.777778</td>\n",
       "      <td>0.666667</td>\n",
       "    </tr>\n",
       "    <tr>\n",
       "      <th>rec.sport.baseball</th>\n",
       "      <td>0.777778</td>\n",
       "      <td>0.766667</td>\n",
       "    </tr>\n",
       "    <tr>\n",
       "      <th>rec.sport.hockey</th>\n",
       "      <td>0.222222</td>\n",
       "      <td>0.466667</td>\n",
       "    </tr>\n",
       "    <tr>\n",
       "      <th>sci.crypt</th>\n",
       "      <td>0.888889</td>\n",
       "      <td>0.733333</td>\n",
       "    </tr>\n",
       "    <tr>\n",
       "      <th>sci.electronics</th>\n",
       "      <td>0.111111</td>\n",
       "      <td>0.066667</td>\n",
       "    </tr>\n",
       "    <tr>\n",
       "      <th>sci.med</th>\n",
       "      <td>0.333333</td>\n",
       "      <td>0.233333</td>\n",
       "    </tr>\n",
       "    <tr>\n",
       "      <th>sci.space</th>\n",
       "      <td>0.666667</td>\n",
       "      <td>0.633333</td>\n",
       "    </tr>\n",
       "    <tr>\n",
       "      <th>soc.religion.christian</th>\n",
       "      <td>0.666667</td>\n",
       "      <td>0.466667</td>\n",
       "    </tr>\n",
       "    <tr>\n",
       "      <th>talk.politics.guns</th>\n",
       "      <td>0.888889</td>\n",
       "      <td>0.700000</td>\n",
       "    </tr>\n",
       "    <tr>\n",
       "      <th>talk.politics.mideast</th>\n",
       "      <td>0.666667</td>\n",
       "      <td>0.600000</td>\n",
       "    </tr>\n",
       "    <tr>\n",
       "      <th>talk.politics.misc</th>\n",
       "      <td>0.333333</td>\n",
       "      <td>0.266667</td>\n",
       "    </tr>\n",
       "    <tr>\n",
       "      <th>talk.religion.misc</th>\n",
       "      <td>0.333333</td>\n",
       "      <td>0.366667</td>\n",
       "    </tr>\n",
       "  </tbody>\n",
       "</table>\n",
       "</div>"
      ],
      "text/plain": [
       "                          Precision Exhaus 3  Precision Exhaus 10\n",
       "alt.atheism                         0.666667             0.533333\n",
       "comp.graphics                       0.777778             0.566667\n",
       "comp.os.ms-windows.misc             0.777778             0.600000\n",
       "comp.sys.ibm.pc.hardware            0.555556             0.466667\n",
       "comp.sys.mac.hardware               0.222222             0.233333\n",
       "comp.windows.x                      0.777778             0.666667\n",
       "misc.forsale                        0.333333             0.300000\n",
       "rec.autos                           0.444444             0.433333\n",
       "rec.motorcycles                     0.777778             0.666667\n",
       "rec.sport.baseball                  0.777778             0.766667\n",
       "rec.sport.hockey                    0.222222             0.466667\n",
       "sci.crypt                           0.888889             0.733333\n",
       "sci.electronics                     0.111111             0.066667\n",
       "sci.med                             0.333333             0.233333\n",
       "sci.space                           0.666667             0.633333\n",
       "soc.religion.christian              0.666667             0.466667\n",
       "talk.politics.guns                  0.888889             0.700000\n",
       "talk.politics.mideast               0.666667             0.600000\n",
       "talk.politics.misc                  0.333333             0.266667\n",
       "talk.religion.misc                  0.333333             0.366667"
      ]
     },
     "execution_count": 31,
     "metadata": {},
     "output_type": "execute_result"
    }
   ],
   "source": [
    "d_t = {'Precision Exhaus 3':precision_3_t,'Precision Exhaus 10':precision_10_t}\n",
    "df_t = pd.DataFrame(data=d_t,index=test_data.target_names)\n",
    "df_t"
   ]
  },
  {
   "cell_type": "code",
   "execution_count": 32,
   "metadata": {
    "scrolled": true
   },
   "outputs": [
    {
     "data": {
      "text/html": [
       "<div>\n",
       "<style scoped>\n",
       "    .dataframe tbody tr th:only-of-type {\n",
       "        vertical-align: middle;\n",
       "    }\n",
       "\n",
       "    .dataframe tbody tr th {\n",
       "        vertical-align: top;\n",
       "    }\n",
       "\n",
       "    .dataframe thead th {\n",
       "        text-align: right;\n",
       "    }\n",
       "</style>\n",
       "<table border=\"1\" class=\"dataframe\">\n",
       "  <thead>\n",
       "    <tr style=\"text-align: right;\">\n",
       "      <th></th>\n",
       "      <th>Precision Exhaus 3</th>\n",
       "      <th>Precision Exhaus 10</th>\n",
       "    </tr>\n",
       "  </thead>\n",
       "  <tbody>\n",
       "    <tr>\n",
       "      <th>count</th>\n",
       "      <td>20.000000</td>\n",
       "      <td>20.000000</td>\n",
       "    </tr>\n",
       "    <tr>\n",
       "      <th>mean</th>\n",
       "      <td>0.561111</td>\n",
       "      <td>0.488333</td>\n",
       "    </tr>\n",
       "    <tr>\n",
       "      <th>std</th>\n",
       "      <td>0.245757</td>\n",
       "      <td>0.193543</td>\n",
       "    </tr>\n",
       "    <tr>\n",
       "      <th>min</th>\n",
       "      <td>0.111111</td>\n",
       "      <td>0.066667</td>\n",
       "    </tr>\n",
       "    <tr>\n",
       "      <th>25%</th>\n",
       "      <td>0.333333</td>\n",
       "      <td>0.350000</td>\n",
       "    </tr>\n",
       "    <tr>\n",
       "      <th>50%</th>\n",
       "      <td>0.666667</td>\n",
       "      <td>0.500000</td>\n",
       "    </tr>\n",
       "    <tr>\n",
       "      <th>75%</th>\n",
       "      <td>0.777778</td>\n",
       "      <td>0.641667</td>\n",
       "    </tr>\n",
       "    <tr>\n",
       "      <th>max</th>\n",
       "      <td>0.888889</td>\n",
       "      <td>0.766667</td>\n",
       "    </tr>\n",
       "  </tbody>\n",
       "</table>\n",
       "</div>"
      ],
      "text/plain": [
       "       Precision Exhaus 3  Precision Exhaus 10\n",
       "count           20.000000            20.000000\n",
       "mean             0.561111             0.488333\n",
       "std              0.245757             0.193543\n",
       "min              0.111111             0.066667\n",
       "25%              0.333333             0.350000\n",
       "50%              0.666667             0.500000\n",
       "75%              0.777778             0.641667\n",
       "max              0.888889             0.766667"
      ]
     },
     "execution_count": 32,
     "metadata": {},
     "output_type": "execute_result"
    }
   ],
   "source": [
    "df_t.describe()"
   ]
  },
  {
   "cell_type": "markdown",
   "metadata": {},
   "source": [
    "**¿Han cambiado los valores de precisión media para las clases del conjunto de datos?\n",
    "¿Qué clases han mejorado? ¿Cuáles han empeorado?**"
   ]
  },
  {
   "cell_type": "markdown",
   "metadata": {},
   "source": [
    "Toda la información que requieren estas tres preguntas no se podría expresar mejor que en esta tabla (precisiones con tf-idf menos precisiones con vector de frecuencias). "
   ]
  },
  {
   "cell_type": "code",
   "execution_count": 33,
   "metadata": {
    "scrolled": false
   },
   "outputs": [
    {
     "data": {
      "text/html": [
       "<div>\n",
       "<style scoped>\n",
       "    .dataframe tbody tr th:only-of-type {\n",
       "        vertical-align: middle;\n",
       "    }\n",
       "\n",
       "    .dataframe tbody tr th {\n",
       "        vertical-align: top;\n",
       "    }\n",
       "\n",
       "    .dataframe thead th {\n",
       "        text-align: right;\n",
       "    }\n",
       "</style>\n",
       "<table border=\"1\" class=\"dataframe\">\n",
       "  <thead>\n",
       "    <tr style=\"text-align: right;\">\n",
       "      <th></th>\n",
       "      <th>∇ precission Exhaus 3</th>\n",
       "      <th>∇ precission Exhaus 10</th>\n",
       "    </tr>\n",
       "  </thead>\n",
       "  <tbody>\n",
       "    <tr>\n",
       "      <th>alt.atheism</th>\n",
       "      <td>0.000000</td>\n",
       "      <td>0.133333</td>\n",
       "    </tr>\n",
       "    <tr>\n",
       "      <th>comp.graphics</th>\n",
       "      <td>0.333333</td>\n",
       "      <td>0.233333</td>\n",
       "    </tr>\n",
       "    <tr>\n",
       "      <th>comp.os.ms-windows.misc</th>\n",
       "      <td>0.111111</td>\n",
       "      <td>0.000000</td>\n",
       "    </tr>\n",
       "    <tr>\n",
       "      <th>comp.sys.ibm.pc.hardware</th>\n",
       "      <td>0.222222</td>\n",
       "      <td>0.133333</td>\n",
       "    </tr>\n",
       "    <tr>\n",
       "      <th>comp.sys.mac.hardware</th>\n",
       "      <td>0.000000</td>\n",
       "      <td>0.000000</td>\n",
       "    </tr>\n",
       "    <tr>\n",
       "      <th>comp.windows.x</th>\n",
       "      <td>0.222222</td>\n",
       "      <td>0.200000</td>\n",
       "    </tr>\n",
       "    <tr>\n",
       "      <th>misc.forsale</th>\n",
       "      <td>0.000000</td>\n",
       "      <td>-0.033333</td>\n",
       "    </tr>\n",
       "    <tr>\n",
       "      <th>rec.autos</th>\n",
       "      <td>0.222222</td>\n",
       "      <td>0.233333</td>\n",
       "    </tr>\n",
       "    <tr>\n",
       "      <th>rec.motorcycles</th>\n",
       "      <td>0.000000</td>\n",
       "      <td>0.233333</td>\n",
       "    </tr>\n",
       "    <tr>\n",
       "      <th>rec.sport.baseball</th>\n",
       "      <td>0.333333</td>\n",
       "      <td>0.266667</td>\n",
       "    </tr>\n",
       "    <tr>\n",
       "      <th>rec.sport.hockey</th>\n",
       "      <td>-0.222222</td>\n",
       "      <td>0.066667</td>\n",
       "    </tr>\n",
       "    <tr>\n",
       "      <th>sci.crypt</th>\n",
       "      <td>0.111111</td>\n",
       "      <td>0.066667</td>\n",
       "    </tr>\n",
       "    <tr>\n",
       "      <th>sci.electronics</th>\n",
       "      <td>0.000000</td>\n",
       "      <td>0.000000</td>\n",
       "    </tr>\n",
       "    <tr>\n",
       "      <th>sci.med</th>\n",
       "      <td>0.111111</td>\n",
       "      <td>0.166667</td>\n",
       "    </tr>\n",
       "    <tr>\n",
       "      <th>sci.space</th>\n",
       "      <td>0.111111</td>\n",
       "      <td>0.200000</td>\n",
       "    </tr>\n",
       "    <tr>\n",
       "      <th>soc.religion.christian</th>\n",
       "      <td>0.000000</td>\n",
       "      <td>-0.033333</td>\n",
       "    </tr>\n",
       "    <tr>\n",
       "      <th>talk.politics.guns</th>\n",
       "      <td>0.777778</td>\n",
       "      <td>0.466667</td>\n",
       "    </tr>\n",
       "    <tr>\n",
       "      <th>talk.politics.mideast</th>\n",
       "      <td>0.333333</td>\n",
       "      <td>0.266667</td>\n",
       "    </tr>\n",
       "    <tr>\n",
       "      <th>talk.politics.misc</th>\n",
       "      <td>-0.111111</td>\n",
       "      <td>0.000000</td>\n",
       "    </tr>\n",
       "    <tr>\n",
       "      <th>talk.religion.misc</th>\n",
       "      <td>-0.333333</td>\n",
       "      <td>0.000000</td>\n",
       "    </tr>\n",
       "  </tbody>\n",
       "</table>\n",
       "</div>"
      ],
      "text/plain": [
       "                          ∇ precission Exhaus 3  ∇ precission Exhaus 10\n",
       "alt.atheism                            0.000000                0.133333\n",
       "comp.graphics                          0.333333                0.233333\n",
       "comp.os.ms-windows.misc                0.111111                0.000000\n",
       "comp.sys.ibm.pc.hardware               0.222222                0.133333\n",
       "comp.sys.mac.hardware                  0.000000                0.000000\n",
       "comp.windows.x                         0.222222                0.200000\n",
       "misc.forsale                           0.000000               -0.033333\n",
       "rec.autos                              0.222222                0.233333\n",
       "rec.motorcycles                        0.000000                0.233333\n",
       "rec.sport.baseball                     0.333333                0.266667\n",
       "rec.sport.hockey                      -0.222222                0.066667\n",
       "sci.crypt                              0.111111                0.066667\n",
       "sci.electronics                        0.000000                0.000000\n",
       "sci.med                                0.111111                0.166667\n",
       "sci.space                              0.111111                0.200000\n",
       "soc.religion.christian                 0.000000               -0.033333\n",
       "talk.politics.guns                     0.777778                0.466667\n",
       "talk.politics.mideast                  0.333333                0.266667\n",
       "talk.politics.misc                    -0.111111                0.000000\n",
       "talk.religion.misc                    -0.333333                0.000000"
      ]
     },
     "execution_count": 33,
     "metadata": {},
     "output_type": "execute_result"
    }
   ],
   "source": [
    "df_variation = df_t - df_v\n",
    "df_variation.columns = ['∇ precission Exhaus 3', '∇ precission Exhaus 10']\n",
    "df_variation"
   ]
  },
  {
   "cell_type": "markdown",
   "metadata": {},
   "source": [
    "Es excesivo decir que todo mejora, pero no excesivamente excesivo. La media de las precisiones obtenidas por clase mejora en ambas exhaustividades y las desviaciones típicas no varían significativamente. Casi todas las clases mejoran ligeramente, sobresaliendo el caso de talk.politics.guns donde la precisión mejora casi un 80% (¡10 veces más preciso!) con exhaustividad 3 y casi un 50% con exhaustividad 10. Por contra en talk.religion.misc los resultados con exhaustividad 3 empeoran notablemente. A pesar de esto, si en el apartado anterior obteníamos buenos resultados (relativamente), en este obtenemos unos resultados aun mejores, con varias clases con precisiones en torno al 80-90% de precisión con exhaustividad tres.\n",
    "\n",
    "(esperamos no se penalice que nuestra respuesta sea concisa, que no incompleta, pues toda la información se refleja en la tabla)"
   ]
  },
  {
   "cell_type": "markdown",
   "metadata": {},
   "source": [
    "**Encuentra una consulta donde el uso de la ponderación TF-IDF haya sido efectivo y\n",
    "haya mejorado los resultados. Explica por qué ha sido efectivo.**"
   ]
  },
  {
   "cell_type": "markdown",
   "metadata": {},
   "source": [
    "Tenemos aquí que analizar el por qué del enorme éxito en los textos de temática **talk.politics.guns** (código 16). Nos centraremos en las consultas con exhaustividad tres por ser las que obtienen una mejora más marcada."
   ]
  },
  {
   "cell_type": "markdown",
   "metadata": {},
   "source": [
    "Primeramente para nuestros textos de test en la categoría talk.politics.guns obtenemos los textos más similares recuperados por el buscador con vectorización por frecuencias y con tf-idf para poder contrastar los resultados."
   ]
  },
  {
   "cell_type": "code",
   "execution_count": 34,
   "metadata": {
    "scrolled": false
   },
   "outputs": [],
   "source": [
    "textos_test_guns = test_texts_idxs[16]\n",
    "exhaustividad = 3\n",
    "\n",
    "# Para ver los textos de testeo de la categoría sci.electronics\n",
    "#print_texto_y_categoria(test_data, textos_test_guns[0])\n",
    "#print_texto_y_categoria(test_data, textos_test_guns[1])\n",
    "#print_texto_y_categoria(test_data, textos_test_guns[2])\n",
    "\n",
    "# Para obtener los 10 textos más similares con vectores de frecuencias de test \n",
    "similares_texto_1_v = get_k_mas_similares(train_data_vectorized, test_data_vectorized[textos_test_guns[0]],exhaustividad)\n",
    "similares_texto_2_v = get_k_mas_similares(train_data_vectorized, test_data_vectorized[textos_test_guns[1]],exhaustividad)\n",
    "similares_texto_3_v = get_k_mas_similares(train_data_vectorized, test_data_vectorized[textos_test_guns[2]],exhaustividad)\n",
    "similares_v = list(set().union(similares_texto_1_v,similares_texto_2_v,similares_texto_3_v))\n",
    "\n",
    "similares_texto_1_tf= get_k_mas_similares(train_data_tfidf, test_data_tfidf[textos_test_guns[0]],exhaustividad)\n",
    "similares_texto_2_tf= get_k_mas_similares(train_data_tfidf, test_data_tfidf[textos_test_guns[1]],exhaustividad)\n",
    "similares_texto_3_tf= get_k_mas_similares(train_data_tfidf, test_data_tfidf[textos_test_guns[2]],exhaustividad)\n",
    "similares_tf = list(set().union(similares_texto_1_tf,similares_texto_2_tf,similares_texto_3_tf))\n",
    "\n",
    "# Para mostrar los textos más similares recuperados (variables x e y)\n",
    "#print_texto_y_categoria(train_data, similares_texto_x_xx[y])"
   ]
  },
  {
   "cell_type": "markdown",
   "metadata": {},
   "source": [
    "Analizamos las temáticas con las que se confunden estos textos."
   ]
  },
  {
   "cell_type": "code",
   "execution_count": 40,
   "metadata": {
    "scrolled": false
   },
   "outputs": [
    {
     "data": {
      "image/png": "[encoded data removed]",
      "text/plain": [
       "<Figure size 432x288 with 1 Axes>"
      ]
     },
     "metadata": {
      "needs_background": "light"
     },
     "output_type": "display_data"
    }
   ],
   "source": [
    "# Frecuencias de temáticas con vector de frecuencias\n",
    "diagrama_barras_frecuencias_clases_textos(similares_v)"
   ]
  },
  {
   "cell_type": "code",
   "execution_count": 41,
   "metadata": {
    "scrolled": false
   },
   "outputs": [
    {
     "data": {
      "image/png": "[encoded data removed]",
      "text/plain": [
       "<Figure size 432x288 with 1 Axes>"
      ]
     },
     "metadata": {
      "needs_background": "light"
     },
     "output_type": "display_data"
    }
   ],
   "source": [
    "# Frecuencias de temáticas con tf-idf\n",
    "diagrama_barras_frecuencias_clases_textos(similares_tf)"
   ]
  },
  {
   "cell_type": "markdown",
   "metadata": {},
   "source": [
    "Vemos que considerando los textos como vector de frecuencias de palabras de los nueve textos recuperados (tres más similares a cada fichero de test) únicamente uno es de la temática talk.politics.guns, obteniendo por contra varios textos de las categorías sci.space y talk.politics.mideast. Sin embargo, con la representación de los textos como vectores tf-idf únicamente un texto no es de la categoría talk.politics.guns.\n",
    "\n",
    "Para la consulta con el texto tres de test este efecto es más marcado incluso, se pasa de un 0% a un 100% de precisión."
   ]
  },
  {
   "cell_type": "code",
   "execution_count": 42,
   "metadata": {
    "scrolled": false
   },
   "outputs": [
    {
     "data": {
      "image/png": "[encoded data removed]",
      "text/plain": [
       "<Figure size 432x288 with 1 Axes>"
      ]
     },
     "metadata": {
      "needs_background": "light"
     },
     "output_type": "display_data"
    }
   ],
   "source": [
    "# Clases de los textos recuperados por el texto 3 vectorizado con frecuencias\n",
    "diagrama_barras_frecuencias_clases_textos(similares_texto_3_v)"
   ]
  },
  {
   "cell_type": "code",
   "execution_count": 43,
   "metadata": {},
   "outputs": [
    {
     "data": {
      "image/png": "[encoded data removed]",
      "text/plain": [
       "<Figure size 432x288 with 1 Axes>"
      ]
     },
     "metadata": {
      "needs_background": "light"
     },
     "output_type": "display_data"
    }
   ],
   "source": [
    "# Clases de los textos recuperados por el texto 3 vectorizado con tf-idf\n",
    "diagrama_barras_frecuencias_clases_textos(similares_texto_3_tf)"
   ]
  },
  {
   "cell_type": "markdown",
   "metadata": {},
   "source": [
    "¿Por qué de esta mejoría en la precisión? Analizamos este texto."
   ]
  },
  {
   "cell_type": "code",
   "execution_count": 39,
   "metadata": {
    "scrolled": false
   },
   "outputs": [
    {
     "name": "stdout",
     "output_type": "stream",
     "text": [
      "---------------------------- TEXT ----------------------------\n",
      "From: dhartung@chinet.chi.il.us (Dan Hartung)\n",
      "Subject: Re: The Truth about Waco \n",
      "Organization: Chinet - Public Access UNIX\n",
      "Distribution: usa\n",
      "Lines: 183\n",
      "\n",
      "jgd@dixie.com (John De Armond) writes:\n",
      ">Nothing could at this point.  What WOULD have gone a long way toward \n",
      ">convincing me would have been media video, particularly from diverse\n",
      ">sources.  IMHO, if the government didn't have anything to hide, they\n",
      ">would have allowed cameras near the compound from the beginning.\n",
      "\n",
      "I agree, I saw no reason they could not have had \"close in\" pool\n",
      "cameras manned by volunteers and protected by sandbags or whatever.\n",
      "\n",
      "[Points made by Dick DeGueran, Koresh's lawyer]\n",
      ">*\tThe tanks were NOT pumping CS gas but were ejecting exploding \n",
      ">\tcanisters from the tank booms that penetrated multiple walls\n",
      ">\tbefore exploding.\n",
      "\n",
      "Okay, their word against the FBI's at this point.  See ya in court!\n",
      "\n",
      ">*\tThe tanks were collapsing interior walls and ceilings putting people\n",
      ">\tat great risk.\n",
      "\n",
      "Dear, dear. They could have COME OUT.\n",
      "\n",
      ">*\tThe construction of the coupound used almost all used materials that\n",
      ">\twere very dry and bails of hay were stacked against the walls as \n",
      ">\tshields against the government's bullets.\n",
      "\n",
      "Okay, they were living in a fire hazard. That they built.\n",
      "\n",
      ">*\tSaid that previous to the invasion there were no military drills\n",
      ">\tand that the supplies they had on hand were for survival.\n",
      "\n",
      "No crime, irrelevant either way.\n",
      "\n",
      ">*\tTheir gas masks worked so well that many members were having bible\n",
      ">\tstudy and some were sleeping when the fire was set.\n",
      "\n",
      "Ah yes, that is exactly what I would do.  Hold Bible study. Take a nap.\n",
      "Always a wise course of action when you're being gassed.\n",
      "\n",
      ">*\tThere was no group instruction of any kind from Koresh or his \n",
      ">\taids after the tank invasion (referring to any kind of suicide\n",
      ">\tpact or counter-assault efforts.)\n",
      "\n",
      "I don't believe there was a \"suicide pact\".  I believe that Koresh\n",
      "wanted a fiery conflagration ... which he may not have told his followers.\n",
      "In fact, this hypothesis is CONFIRMED by the survivors' stories.\n",
      "\n",
      ">*\tEveryone had moved to the center of the compound in order to escape\n",
      ">\tthe falling debris from the tank invasion when the fire was set. \n",
      "\n",
      "Yes, that's right.  And once the whole compound was demolished, where\n",
      "did they expect to go?\n",
      "\n",
      ">*\tWomen and children who has sought shelter on the second floor from\n",
      ">\tthe tanks were trapped by doors jammed by the tanks ramming the \n",
      ">\tbuilding and distorting the frames.\n",
      "\n",
      "The building is being RAMMED and they are going UPSTAIRS?  That's almost\n",
      "as bad as running into a fire.\n",
      "\n",
      ">*\tHallways ran the length of the buildings that acted as conduits for\n",
      ">\tthe fire and trapped almost everyone in place.  His experts have told\n",
      ">\thim that this horizonal chimney effect is what made the fire appear\n",
      ">\tto have started at several places at once.\n",
      "\n",
      "Hm, an interesting notion.  We'll see.\n",
      "\n",
      ">*\tKoresh was not seen the last hour before the fire and was assumed to\n",
      ">\tbe in his 4th floor room with some of his children.\n",
      "\n",
      "More Bible study, no doubt.  Hey, it's a *priority*.\n",
      "\n",
      ">*\tThe texas medical examiner has stated flatly that none of the bodies\n",
      ">\trecovered so far had bullet wounds, directly contradicting the FBI's\n",
      ">\tlies.\n",
      "\n",
      "Actually, on Friday he stated that there was no evidence either way and\n",
      "he could not flatly contradict the federal agents' claims.  We'll know\n",
      "more later.  In any event, it's irrelevant.\n",
      "\n",
      ">*\tThe survivors unanimously stated that if the victims could have gotten\n",
      ">\tout they would have, that they were trapped by the tank-destroyed \n",
      ">\tbuilding and the speed of the fire.\n",
      "\n",
      "For six hours they were trapped?  The building was not \"destroyed\" \n",
      "immediately.  They COULD HAVE LEFT AT ANY TIME.\n",
      "\n",
      ">*\tThe underground bunker cited by the FBI as the place Koresh could have\n",
      ">\tput the children had he not been a cold blooded killer had been blocked\n",
      ">\tby the tanks crashing down debris on top of the access door.\n",
      "\n",
      "Six hours to move it away.  Or COME OUT.\n",
      "\n",
      ">*\tDick said that he had sat in Koresh's bedroom talking to him and \n",
      ">\thad observed that his room was furnished like all the rest and without\n",
      ">\tair condition or other luxuries, directly contradicting the FBI's claim \n",
      ">\tthat he lived in splendor.\n",
      "\n",
      "Irrelevant, anyway.  PR one way or the other, but no crime or innocence\n",
      "indicated.\n",
      "\n",
      ">*\tDick saw bullet holes in Koresh's room made from the outside-in\n",
      ">\twhich indicates the BATF was indiscriminately shooting down through\n",
      ">\tthe roof.  \n",
      "\n",
      "No word on whether they were being fired back at, which is an operative\n",
      "question here.\n",
      "\n",
      ">*  The fire was probably started by the tanks knocking over Coleman Lanterns \n",
      ">\tthat were lit and sitting on a piano next to the wall the tanks busted \n",
      ">\tthrough, though none of the survivors saw the fire start.\n",
      "\n",
      "Right.  For six hours you know that a tank could come thru the wall at \n",
      "any point, and you leave a COLEMAN LANTERN BURNING.  Near BALES OF HAY.\n",
      "\n",
      ">*\tEvery one of the survivors strongly denies ever saying anything to the \n",
      ">\tFBI about starting the fire, hearing someone say the fire was lit\n",
      ">\tor any of the other stuff attributed to them by the FBI.\n",
      "\n",
      "It's ultimately irrelevant who \"lit\" the fire.  They had ample opportunity\n",
      "to LEAVE.\n",
      "\n",
      ">*\tHe said when he first met Koresh in the compound he expected to find \n",
      ">\ta raving lunatic but instead found a rational, charming and intelligent \n",
      ">\tyoung man and was very surprised by that fact.  \n",
      "\n",
      "Most charismatic leaders are extremely intelligent, actually.  They tend\n",
      "to be excellent actors and skilled manipulators.  (Ex.: Ted Bundy.)\n",
      "\n",
      ">*\tKoresh had no drugs stronger than aspirin to use against pain.\n",
      "\n",
      "Medical assistance was jsut a phone call away.  Gee, all he had to do\n",
      "was COME OUT.\n",
      "\n",
      ">*\tWomen with children had their own bedrooms for them and their kids\n",
      ">\tthat were appointed as nicely as Koresh's.\n",
      "\n",
      "Not relevant to any crimes.\n",
      "\n",
      ">*\tDick said he saw signs of home schooling for the kids and at no time \n",
      ">\tdid he ever see any signs of abuse.\n",
      "\n",
      "While he was there.  Anyway, outsiders RARELY see abuse.  It's a secretive\n",
      "thing.  All we have to go on are the court documents in the Jewell case\n",
      "and the mistrial in California.\n",
      "\n",
      ">*\tNo one was ever held against their wills and could have left at any\n",
      ">\ttime.  The people who were murdered in the fire were there by their\n",
      ">\town choices.\n",
      "\n",
      "EXACTLY.  By their OWN CHOICE.\n",
      "\n",
      ">*\tHe called for an independent prosecutor.  If ever there were a need\n",
      ">\tfor one, this is it.\n",
      "\n",
      "Looks like there will be several investigations, starting with Congressional\n",
      "committee hearings next week....\n",
      "\n",
      ">His closing comments were \"They don't look upon themselves as a cult.\n",
      ">They view themselves as highly religious people.  They sincerely believe\n",
      ">what they believe.  And who am you or I to judge that as wrong?\"\n",
      ">\n",
      ">His last sentence says it all.  Who the hell ARE we (or the government)\n",
      ">to judge their religion as wrong.  This event, I hope, will be recorded\n",
      ">in history as the American Holocaust.  These people were murdered \n",
      ">by the US government just as surely as the jews were by the Nazis.\n",
      ">I hang my head in shame for what I've allowed my government to become.\n",
      "\n",
      "I have NEVER judged them by their religion, but by their ACTIONS.\n",
      "\n",
      "If they had lived a quiet, religious life as they claimed, there would\n",
      "have been no raid, no siege, and no deaths.  Instead, they chose courses\n",
      "of action at every turn that were at the very least STUPID, if not\n",
      "IRRATIONAL.  The first was to stockpile weapons.  The second was to\n",
      "shoot federal agents.  The third was to stay inside.\n",
      "\n",
      "Just as we don't blame a cop who shoots a kid who had pointed a toy\n",
      "weapon at him, I don't think the FBI deserves blame in this case.\n",
      "\n",
      "-- \n",
      " | The Koresh cult standoff is over ... may his victims Recquiescat in Pace |\n",
      " |                                                                          |\n",
      " |                    (the above is a net.moment of silence)                |\n",
      " Daniel A. Hartung  --  dhartung@chinet.chinet.com  --  Ask me about Rotaract\n",
      "\n",
      "-------------------------- CATEGORY --------------------------\n",
      "talk.politics.guns\n"
     ]
    }
   ],
   "source": [
    "# Se omite el texto por su longitud, descomentar para visualizarlo\n",
    "#print_texto_y_categoria(test_data, textos_test_guns[2])"
   ]
  },
  {
   "cell_type": "markdown",
   "metadata": {},
   "source": [
    "Primeramente decir que si se quiere obtener un mayor contexto y comprensión sobre este texto recomendamos [esta url](https://en.wikipedia.org/wiki/Waco_siege). El texto trata de una gran controversia surgida en EEUU por el asedio en Waco por las autoridades a un complejo de propiedad de una secta religiosa que acabó con la muerte de casi noventa personas entre agentes y miembros de esta secta.\n",
    "\n",
    "Entrando en el texto, lo primero que observamos es su gran longitud. Esto no sería muy significativo si hubiéramos marcado en nuestro vectorizador \"binary=True\" pero esto no es así, el número de apariciones de una palabra importa y marca las coordenadas del texto como vector y por tanto su ubicación en el espacio vectorial que toma por base nuestro diccionario. Además de este hecho, como se discuten varios pormenores de la controversia en detalle, existen así párrafos enteros relativos a la actuación de las fuerzas de seguridad, libertad religiosa, actuación de las víctimas... todos estos sin términos propios del mundo de las armas.\n",
    "\n",
    "En definitiva, este texto no se puede clasificar en su categoría por contener gran cantidad de términos propios de esta, ni en cuanto a su frecuencia absoluta (no son tan frecuentes) ni mucho menos en cuanto a su frecuencia relativa (el texto es muy largo y sus términos relativos al mundo de las armas poco frecuentes). Se tiene entonces que no es la frecuencia de estos términos (weapon, shots, bullets,murder...) sino la presencia de estas palabras específicas de esta temática y muy poco frecuentes en otras la que lo caracteriza. Está es precisamente la diferencia de enfoque entre considerar los textos como vectores de frecuencias o vectores con tf-idf lo que explica el éxito en el cambio de estrategia. La confusión con la categoría talk.politics.mideast en la primera aproximación queda más que justificada con la explicación anterior y viendo la frecuencia en el texto de palabras como religion, goberment, FBI, texas..."
   ]
  },
  {
   "cell_type": "code",
   "execution_count": null,
   "metadata": {},
   "outputs": [],
   "source": []
  }
 ],
 "metadata": {
  "kernelspec": {
   "display_name": "Python 3",
   "language": "python",
   "name": "python3"
  },
  "language_info": {
   "codemirror_mode": {
    "name": "ipython",
    "version": 3
   },
   "file_extension": ".py",
   "mimetype": "text/x-python",
   "name": "python",
   "nbconvert_exporter": "python",
   "pygments_lexer": "ipython3",
   "version": "3.6.9"
  }
 },
 "nbformat": 4,
 "nbformat_minor": 4
}
