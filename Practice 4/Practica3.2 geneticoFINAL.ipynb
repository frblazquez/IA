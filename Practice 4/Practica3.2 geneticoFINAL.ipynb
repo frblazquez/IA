{
 "cells": [
  {
   "cell_type": "code",
   "execution_count": 1,
   "metadata": {},
   "outputs": [],
   "source": [
    "# from search import *\n",
    "import random"
   ]
  },
  {
   "cell_type": "code",
   "execution_count": 2,
   "metadata": {},
   "outputs": [],
   "source": [
    "class Cromosoma(object):\n",
    "    \n",
    "    def __init__(self, tareas_trabajadores, trabajadores_tareasEnOrden):\n",
    "        self.tareas_trab = tareas_trabajadores\n",
    "        self.trab_tareasOrden = trabajadores_tareasEnOrden\n",
    "        \n",
    "    def __str__(self):\n",
    "        return \"Tareas-Trabajador asignado:   \"+str(self.tareas_trab)+\"\\nTrabajadores-Tareas en orden: \"+str(self.trab_tareasOrden)\n",
    "    "
   ]
  },
  {
   "cell_type": "code",
   "execution_count": 3,
   "metadata": {},
   "outputs": [],
   "source": [
    "NOT_QUALIFIED = -1\n",
    "\n",
    "class ProblemaGenetico(object):\n",
    "    def __init__(self, timetable, restricciones):\n",
    "        self.working_board = timetable\n",
    "        self.num_tareas = len(timetable[0])\n",
    "        self.num_trabajadores = len(timetable)\n",
    "        self.restricciones_tarea = [[] for _ in range(self.num_tareas)]\n",
    "        for restriccion in restricciones:\n",
    "            self.restricciones_tarea[restriccion[1]].append(restriccion[0])\n",
    "            \n",
    "    def decodifica(self, cromosoma):\n",
    "        print(cromosoma)\n",
    "    \n",
    "    def muta(self, cromosoma, prob):\n",
    "        # Reemplazo aleatorio: cambiamos el trabajador de una tarea\n",
    "        if (random.random() < prob):\n",
    "            tarea_a_cambiar  = random.choice([i for i in range(self.num_tareas)])\n",
    "            viejo_trabajador = cromosoma.tareas_trab[tarea_a_cambiar]\n",
    "            nuevo_trabajador = random.choice([i for i in range(self.num_trabajadores) if self.working_board[i][tarea_a_cambiar]!=NOT_QUALIFIED])\n",
    "            #Cambiamos cromosoma\n",
    "            cromosoma.tareas_trab[tarea_a_cambiar] = nuevo_trabajador\n",
    "            cromosoma.trab_tareasOrden[viejo_trabajador].remove(tarea_a_cambiar)\n",
    "            cromosoma.trab_tareasOrden[nuevo_trabajador].append(tarea_a_cambiar)\n",
    "    \n",
    "    \n",
    "    def cruza(self, cromosoma1, cromosoma2):  \n",
    "        \n",
    "        hijo1 = Cromosoma([0]*self.num_tareas, [[] for _ in range(self.num_trabajadores)])\n",
    "        hijo2 = Cromosoma([0]*self.num_tareas, [[] for _ in range(self.num_trabajadores)])\n",
    "        \n",
    "        for trabajador in range(self.num_trabajadores):\n",
    "            for tarea in cromosoma1.trab_tareasOrden[trabajador]:\n",
    "                if tarea <= (self.num_tareas//2):\n",
    "                    hijo1.tareas_trab[tarea]=trabajador\n",
    "                    hijo1.trab_tareasOrden[trabajador].append(tarea)\n",
    "                else:\n",
    "                    hijo2.tareas_trab[tarea]=trabajador\n",
    "                    hijo2.trab_tareasOrden[trabajador].append(tarea)\n",
    "                    \n",
    "        for trabajador in range(self.num_trabajadores):\n",
    "            for tarea in cromosoma2.trab_tareasOrden[trabajador]:\n",
    "                if tarea <= (self.num_tareas//2):\n",
    "                    hijo2.tareas_trab[tarea]=trabajador\n",
    "                    hijo2.trab_tareasOrden[trabajador].append(tarea)\n",
    "                else:\n",
    "                    hijo1.tareas_trab[tarea]=trabajador\n",
    "                    hijo1.trab_tareasOrden[trabajador].append(tarea)\n",
    "    \n",
    "        return [hijo1,hijo2]\n",
    "        \n",
    "    def fitness(self, cromosoma):    \n",
    "        tareas_tiempoFinalizacion = [-1]*self.num_tareas\n",
    "        trab_tiempoOcupacion = [0]*self.num_trabajadores\n",
    "        \n",
    "        tareasCalculadas = 0\n",
    "        hayCambio = True\n",
    "        \n",
    "        while (hayCambio and tareasCalculadas<self.num_tareas):\n",
    "            hayCambio = False\n",
    "            \n",
    "            for i in range(self.num_trabajadores):\n",
    "                \n",
    "                tareas_pendientes = [k for k in cromosoma.trab_tareasOrden[i] if tareas_tiempoFinalizacion[k]==-1]\n",
    "                \n",
    "                if(not(tareas_pendientes)):\n",
    "                    continue\n",
    "                \n",
    "                for j in tareas_pendientes:\n",
    "                    ## Si tiene alguna dependencia por ejecutar paramos y vamos al siguiente trabajador\n",
    "                    if(len([k for k in self.restricciones_tarea[j] if tareas_tiempoFinalizacion[k]==-1])>0):\n",
    "                        break\n",
    "                    ## Si no la ejecutamos\n",
    "                    else:\n",
    "                        tareasCalculadas += 1\n",
    "                        hayCambio = True\n",
    "                        \n",
    "                        ## Aux1 = máximo tiempo de finalización de las dependencias\n",
    "                        aux1 = max([tareas_tiempoFinalizacion[k] for k in self.restricciones_tarea[j]], default=0)\n",
    "                        ## Aux2 = cuándo queda libre el trabajador que hace la tarea\n",
    "                        aux2 = trab_tiempoOcupacion[i]\n",
    "                        aux3 = max(aux1,aux2)\n",
    "                        \n",
    "                        tareas_tiempoFinalizacion[j] = aux3 + self.working_board[i][j]\n",
    "                        trab_tiempoOcupacion[i] = aux3 + self.working_board[i][j]\n",
    "        \n",
    "        if tareasCalculadas<self.num_tareas:\n",
    "            #print(\"Hemos llegado a una estado no válido:\")\n",
    "            #print(cromosoma)\n",
    "            return 10000000\n",
    "        else:\n",
    "            return max(tareas_tiempoFinalizacion)"
   ]
  },
  {
   "cell_type": "code",
   "execution_count": 4,
   "metadata": {},
   "outputs": [],
   "source": [
    "grid = [[1,1,1,1],[2,2,2,2],[NOT_QUALIFIED,1,NOT_QUALIFIED,1]]\n",
    "problema = ProblemaGenetico(grid, [])"
   ]
  },
  {
   "cell_type": "code",
   "execution_count": 5,
   "metadata": {},
   "outputs": [],
   "source": [
    "## Elegimos de entre los trabajadores cualificados para una determinada tarea uno al azar.\n",
    "\n",
    "def poblacion_inicial(problema_genetico, size):\n",
    "    nueva_poblacion = []\n",
    "    for i in range(size):\n",
    "        genotipo = Cromosoma([0]*problema_genetico.num_tareas, [[] for _ in range(problema_genetico.num_trabajadores)])\n",
    "        \n",
    "        ## Si queremos que de verdad sea aleatorio tenemos que hacer shuffle de cada lista de genotipo!\n",
    "        for j in range(problema_genetico.num_tareas):\n",
    "            worker = random.choice([i for i in range(problema_genetico.num_trabajadores) if problema_genetico.working_board[i][j]!=NOT_QUALIFIED])\n",
    "            genotipo.tareas_trab[j] = worker\n",
    "            genotipo.trab_tareasOrden[worker].append(j)\n",
    "        \n",
    "        nueva_poblacion.append(genotipo)\n",
    "    return nueva_poblacion"
   ]
  },
  {
   "cell_type": "code",
   "execution_count": 6,
   "metadata": {
    "scrolled": true
   },
   "outputs": [
    {
     "name": "stdout",
     "output_type": "stream",
     "text": [
      "Tareas-Trabajador asignado:   [0, 0, 1, 1]\n",
      "Trabajadores-Tareas en orden: [[0, 1], [2, 3], []]\n",
      "Tareas-Trabajador asignado:   [0, 2, 0, 0]\n",
      "Trabajadores-Tareas en orden: [[0, 2, 3], [], [1]]\n"
     ]
    }
   ],
   "source": [
    "poblacion_ini = poblacion_inicial(problema, 2)\n",
    "print(poblacion_ini[0])\n",
    "print(poblacion_ini[1])"
   ]
  },
  {
   "cell_type": "code",
   "execution_count": 7,
   "metadata": {},
   "outputs": [],
   "source": [
    "cromosoma = Cromosoma([0,0,1],[[0,1],[2]])"
   ]
  },
  {
   "cell_type": "code",
   "execution_count": 8,
   "metadata": {
    "scrolled": true
   },
   "outputs": [],
   "source": [
    "grid = [[10,20,-1],[-1,-1,30]]\n",
    "problemaAux = ProblemaGenetico(grid, [(1,0)])"
   ]
  },
  {
   "cell_type": "code",
   "execution_count": 9,
   "metadata": {
    "scrolled": true
   },
   "outputs": [
    {
     "name": "stdout",
     "output_type": "stream",
     "text": [
      "Tareas-Trabajador asignado:   [0, 0, 1, 0]\n",
      "Trabajadores-Tareas en orden: [[0, 1, 3], [2], []]\n",
      "Tareas-Trabajador asignado:   [0, 2, 0, 1]\n",
      "Trabajadores-Tareas en orden: [[0, 2], [3], [1]]\n"
     ]
    }
   ],
   "source": [
    "print(problema.cruza(poblacion_ini[0],poblacion_ini[1])[0])\n",
    "print(problema.cruza(poblacion_ini[0],poblacion_ini[1])[1])"
   ]
  },
  {
   "cell_type": "code",
   "execution_count": 10,
   "metadata": {},
   "outputs": [],
   "source": [
    "## La primera mitad de las tareas las realiza el trabajador que decida el padre,\n",
    "## la segunda mitad quien diga la madre\n",
    "\n",
    "def cruza_padres(problema_genetico,padres):\n",
    "    nueva_poblacion = []\n",
    "    for i in range(0,len(padres),2):\n",
    "        nueva_poblacion += problema_genetico.cruza(padres[i],padres[i+1])\n",
    "    return nueva_poblacion"
   ]
  },
  {
   "cell_type": "code",
   "execution_count": 11,
   "metadata": {},
   "outputs": [],
   "source": [
    "## Muta todos los individuos con una cierta probabilidad\n",
    "\n",
    "def muta_individuos(problema_genetico, poblacion, prob):\n",
    "    nueva_poblacion = []\n",
    "    for individuo in poblacion:\n",
    "        nueva_poblacion.append(problema_genetico.muta(individuo,prob))\n",
    "    return nueva_poblacion"
   ]
  },
  {
   "cell_type": "code",
   "execution_count": 12,
   "metadata": {},
   "outputs": [],
   "source": [
    "## Elige n elementos por torneo de k candidatos (grupos de torneo aleatorios)\n",
    "\n",
    "def seleccion_por_torneo(problema_genetico, poblacion, n, k):\n",
    "    seleccionados = []\n",
    "    for i in range(n):\n",
    "        participantes = random.sample(poblacion,k)\n",
    "        seleccionado = min(participantes, key=problema_genetico.fitness)\n",
    "        seleccionados.append(seleccionado)\n",
    "    return seleccionados  "
   ]
  },
  {
   "cell_type": "code",
   "execution_count": 13,
   "metadata": {},
   "outputs": [],
   "source": [
    "def algoritmo_genetico(problema_genetico,k,ngen,size,prop_cruces,prob_mutar):\n",
    "    ## Generamos una población inicial\n",
    "    poblacion= poblacion_inicial(problema_genetico,size)\n",
    "    \n",
    "    ## Tomamos el número de padres (siempre par) y no padres en base a la proporción dada\n",
    "    n_padres=round(size*prop_cruces)\n",
    "    n_padres= int(n_padres if n_padres%2==0 else n_padres-1)\n",
    "    n_directos = size-n_padres\n",
    "    \n",
    "    ## Hacemos avanzar ngen generaciones nuestra población\n",
    "    for _ in range(ngen):\n",
    "        poblacion=nueva_generacion(problema_genetico,k,poblacion,n_padres, n_directos,prob_mutar)\n",
    "    \n",
    "    ## Nos quedamos con el mejor individuo en base a nuestra función de fitness\n",
    "    ## devolvemos su fenotipo (decodificación) y valor (función fitness)\n",
    "    mejor_cr= min(poblacion, key=problema_genetico.fitness)\n",
    "    mejor=problema_genetico.decodifica(mejor_cr)\n",
    "    return (mejor,problema_genetico.fitness(mejor_cr)) \n"
   ]
  },
  {
   "cell_type": "code",
   "execution_count": 14,
   "metadata": {},
   "outputs": [],
   "source": [
    "def nueva_generacion(problema_genetico, k, poblacion, n_padres, n_directos, prob_mutar):\n",
    "    ## Realizamos la selección por torneo\n",
    "    padres2 = seleccion_por_torneo(problema_genetico, poblacion, n_directos, k) \n",
    "    padres1 = seleccion_por_torneo(problema_genetico, poblacion, n_padres ,  k)\n",
    "    ## Realizamos los cruces, la siguiente generación son los cruces de los padres y\n",
    "    ## k elementos seleccionados por torneo de los no padres\n",
    "    cruces =  cruza_padres(problema_genetico,padres1)\n",
    "    generacion = padres2+cruces\n",
    "    ## Aplicamos mutaciones\n",
    "    resultado_mutaciones = muta_individuos(problema_genetico, generacion, prob_mutar)\n",
    "    return resultado_mutaciones"
   ]
  },
  {
   "cell_type": "code",
   "execution_count": null,
   "metadata": {},
   "outputs": [],
   "source": []
  },
  {
   "cell_type": "code",
   "execution_count": 15,
   "metadata": {},
   "outputs": [],
   "source": [
    "grid = [[10,20,-1],[-1,-1,30]]\n",
    "problemaAux = ProblemaGenetico(grid, [(0,1)])"
   ]
  },
  {
   "cell_type": "code",
   "execution_count": null,
   "metadata": {},
   "outputs": [],
   "source": []
  },
  {
   "cell_type": "code",
   "execution_count": 16,
   "metadata": {},
   "outputs": [
    {
     "ename": "AttributeError",
     "evalue": "'NoneType' object has no attribute 'trab_tareasOrden'",
     "output_type": "error",
     "traceback": [
      "\u001b[0;31m---------------------------------------------------------------------------\u001b[0m",
      "\u001b[0;31mAttributeError\u001b[0m                            Traceback (most recent call last)",
      "\u001b[0;32m<ipython-input-16-93b531b4a2e5>\u001b[0m in \u001b[0;36m<module>\u001b[0;34m\u001b[0m\n\u001b[1;32m      1\u001b[0m \u001b[0;31m#algoritmo_genetico(problema_genetico,k,ngen,size,prop_cruces,prob_mutar):\u001b[0m\u001b[0;34m\u001b[0m\u001b[0;34m\u001b[0m\u001b[0;34m\u001b[0m\u001b[0m\n\u001b[0;32m----> 2\u001b[0;31m \u001b[0malgoritmo_genetico\u001b[0m\u001b[0;34m(\u001b[0m\u001b[0mproblemaAux\u001b[0m\u001b[0;34m,\u001b[0m\u001b[0;36m3\u001b[0m\u001b[0;34m,\u001b[0m\u001b[0;36m20\u001b[0m\u001b[0;34m,\u001b[0m\u001b[0;36m10\u001b[0m\u001b[0;34m,\u001b[0m\u001b[0;36m0.7\u001b[0m\u001b[0;34m,\u001b[0m\u001b[0;36m0.1\u001b[0m\u001b[0;34m)\u001b[0m\u001b[0;34m\u001b[0m\u001b[0;34m\u001b[0m\u001b[0m\n\u001b[0m",
      "\u001b[0;32m<ipython-input-13-95fca7ebc881>\u001b[0m in \u001b[0;36malgoritmo_genetico\u001b[0;34m(problema_genetico, k, ngen, size, prop_cruces, prob_mutar)\u001b[0m\n\u001b[1;32m     10\u001b[0m     \u001b[0;31m## Hacemos avanzar ngen generaciones nuestra población\u001b[0m\u001b[0;34m\u001b[0m\u001b[0;34m\u001b[0m\u001b[0;34m\u001b[0m\u001b[0m\n\u001b[1;32m     11\u001b[0m     \u001b[0;32mfor\u001b[0m \u001b[0m_\u001b[0m \u001b[0;32min\u001b[0m \u001b[0mrange\u001b[0m\u001b[0;34m(\u001b[0m\u001b[0mngen\u001b[0m\u001b[0;34m)\u001b[0m\u001b[0;34m:\u001b[0m\u001b[0;34m\u001b[0m\u001b[0;34m\u001b[0m\u001b[0m\n\u001b[0;32m---> 12\u001b[0;31m         \u001b[0mpoblacion\u001b[0m\u001b[0;34m=\u001b[0m\u001b[0mnueva_generacion\u001b[0m\u001b[0;34m(\u001b[0m\u001b[0mproblema_genetico\u001b[0m\u001b[0;34m,\u001b[0m\u001b[0mk\u001b[0m\u001b[0;34m,\u001b[0m\u001b[0mpoblacion\u001b[0m\u001b[0;34m,\u001b[0m\u001b[0mn_padres\u001b[0m\u001b[0;34m,\u001b[0m \u001b[0mn_directos\u001b[0m\u001b[0;34m,\u001b[0m\u001b[0mprob_mutar\u001b[0m\u001b[0;34m)\u001b[0m\u001b[0;34m\u001b[0m\u001b[0;34m\u001b[0m\u001b[0m\n\u001b[0m\u001b[1;32m     13\u001b[0m \u001b[0;34m\u001b[0m\u001b[0m\n\u001b[1;32m     14\u001b[0m     \u001b[0;31m## Nos quedamos con el mejor individuo en base a nuestra función de fitness\u001b[0m\u001b[0;34m\u001b[0m\u001b[0;34m\u001b[0m\u001b[0;34m\u001b[0m\u001b[0m\n",
      "\u001b[0;32m<ipython-input-14-e8e13b4aa3c0>\u001b[0m in \u001b[0;36mnueva_generacion\u001b[0;34m(problema_genetico, k, poblacion, n_padres, n_directos, prob_mutar)\u001b[0m\n\u001b[1;32m      1\u001b[0m \u001b[0;32mdef\u001b[0m \u001b[0mnueva_generacion\u001b[0m\u001b[0;34m(\u001b[0m\u001b[0mproblema_genetico\u001b[0m\u001b[0;34m,\u001b[0m \u001b[0mk\u001b[0m\u001b[0;34m,\u001b[0m \u001b[0mpoblacion\u001b[0m\u001b[0;34m,\u001b[0m \u001b[0mn_padres\u001b[0m\u001b[0;34m,\u001b[0m \u001b[0mn_directos\u001b[0m\u001b[0;34m,\u001b[0m \u001b[0mprob_mutar\u001b[0m\u001b[0;34m)\u001b[0m\u001b[0;34m:\u001b[0m\u001b[0;34m\u001b[0m\u001b[0;34m\u001b[0m\u001b[0m\n\u001b[1;32m      2\u001b[0m     \u001b[0;31m## Realizamos la selección por torneo\u001b[0m\u001b[0;34m\u001b[0m\u001b[0;34m\u001b[0m\u001b[0;34m\u001b[0m\u001b[0m\n\u001b[0;32m----> 3\u001b[0;31m     \u001b[0mpadres2\u001b[0m \u001b[0;34m=\u001b[0m \u001b[0mseleccion_por_torneo\u001b[0m\u001b[0;34m(\u001b[0m\u001b[0mproblema_genetico\u001b[0m\u001b[0;34m,\u001b[0m \u001b[0mpoblacion\u001b[0m\u001b[0;34m,\u001b[0m \u001b[0mn_directos\u001b[0m\u001b[0;34m,\u001b[0m \u001b[0mk\u001b[0m\u001b[0;34m)\u001b[0m\u001b[0;34m\u001b[0m\u001b[0;34m\u001b[0m\u001b[0m\n\u001b[0m\u001b[1;32m      4\u001b[0m     \u001b[0mpadres1\u001b[0m \u001b[0;34m=\u001b[0m \u001b[0mseleccion_por_torneo\u001b[0m\u001b[0;34m(\u001b[0m\u001b[0mproblema_genetico\u001b[0m\u001b[0;34m,\u001b[0m \u001b[0mpoblacion\u001b[0m\u001b[0;34m,\u001b[0m \u001b[0mn_padres\u001b[0m \u001b[0;34m,\u001b[0m  \u001b[0mk\u001b[0m\u001b[0;34m)\u001b[0m\u001b[0;34m\u001b[0m\u001b[0;34m\u001b[0m\u001b[0m\n\u001b[1;32m      5\u001b[0m     \u001b[0;31m## Realizamos los cruces, la siguiente generación son los cruces de los padres y\u001b[0m\u001b[0;34m\u001b[0m\u001b[0;34m\u001b[0m\u001b[0;34m\u001b[0m\u001b[0m\n",
      "\u001b[0;32m<ipython-input-12-519c3f3be87a>\u001b[0m in \u001b[0;36mseleccion_por_torneo\u001b[0;34m(problema_genetico, poblacion, n, k)\u001b[0m\n\u001b[1;32m      5\u001b[0m     \u001b[0;32mfor\u001b[0m \u001b[0mi\u001b[0m \u001b[0;32min\u001b[0m \u001b[0mrange\u001b[0m\u001b[0;34m(\u001b[0m\u001b[0mn\u001b[0m\u001b[0;34m)\u001b[0m\u001b[0;34m:\u001b[0m\u001b[0;34m\u001b[0m\u001b[0;34m\u001b[0m\u001b[0m\n\u001b[1;32m      6\u001b[0m         \u001b[0mparticipantes\u001b[0m \u001b[0;34m=\u001b[0m \u001b[0mrandom\u001b[0m\u001b[0;34m.\u001b[0m\u001b[0msample\u001b[0m\u001b[0;34m(\u001b[0m\u001b[0mpoblacion\u001b[0m\u001b[0;34m,\u001b[0m\u001b[0mk\u001b[0m\u001b[0;34m)\u001b[0m\u001b[0;34m\u001b[0m\u001b[0;34m\u001b[0m\u001b[0m\n\u001b[0;32m----> 7\u001b[0;31m         \u001b[0mseleccionado\u001b[0m \u001b[0;34m=\u001b[0m \u001b[0mmin\u001b[0m\u001b[0;34m(\u001b[0m\u001b[0mparticipantes\u001b[0m\u001b[0;34m,\u001b[0m \u001b[0mkey\u001b[0m\u001b[0;34m=\u001b[0m\u001b[0mproblema_genetico\u001b[0m\u001b[0;34m.\u001b[0m\u001b[0mfitness\u001b[0m\u001b[0;34m)\u001b[0m\u001b[0;34m\u001b[0m\u001b[0;34m\u001b[0m\u001b[0m\n\u001b[0m\u001b[1;32m      8\u001b[0m         \u001b[0mseleccionados\u001b[0m\u001b[0;34m.\u001b[0m\u001b[0mappend\u001b[0m\u001b[0;34m(\u001b[0m\u001b[0mseleccionado\u001b[0m\u001b[0;34m)\u001b[0m\u001b[0;34m\u001b[0m\u001b[0;34m\u001b[0m\u001b[0m\n\u001b[1;32m      9\u001b[0m     \u001b[0;32mreturn\u001b[0m \u001b[0mseleccionados\u001b[0m\u001b[0;34m\u001b[0m\u001b[0;34m\u001b[0m\u001b[0m\n",
      "\u001b[0;32m<ipython-input-3-4a82b4d4e3b7>\u001b[0m in \u001b[0;36mfitness\u001b[0;34m(self, cromosoma)\u001b[0m\n\u001b[1;32m     62\u001b[0m             \u001b[0;32mfor\u001b[0m \u001b[0mi\u001b[0m \u001b[0;32min\u001b[0m \u001b[0mrange\u001b[0m\u001b[0;34m(\u001b[0m\u001b[0mself\u001b[0m\u001b[0;34m.\u001b[0m\u001b[0mnum_trabajadores\u001b[0m\u001b[0;34m)\u001b[0m\u001b[0;34m:\u001b[0m\u001b[0;34m\u001b[0m\u001b[0;34m\u001b[0m\u001b[0m\n\u001b[1;32m     63\u001b[0m \u001b[0;34m\u001b[0m\u001b[0m\n\u001b[0;32m---> 64\u001b[0;31m                 \u001b[0mtareas_pendientes\u001b[0m \u001b[0;34m=\u001b[0m \u001b[0;34m[\u001b[0m\u001b[0mk\u001b[0m \u001b[0;32mfor\u001b[0m \u001b[0mk\u001b[0m \u001b[0;32min\u001b[0m \u001b[0mcromosoma\u001b[0m\u001b[0;34m.\u001b[0m\u001b[0mtrab_tareasOrden\u001b[0m\u001b[0;34m[\u001b[0m\u001b[0mi\u001b[0m\u001b[0;34m]\u001b[0m \u001b[0;32mif\u001b[0m \u001b[0mtareas_tiempoFinalizacion\u001b[0m\u001b[0;34m[\u001b[0m\u001b[0mk\u001b[0m\u001b[0;34m]\u001b[0m\u001b[0;34m==\u001b[0m\u001b[0;34m-\u001b[0m\u001b[0;36m1\u001b[0m\u001b[0;34m]\u001b[0m\u001b[0;34m\u001b[0m\u001b[0;34m\u001b[0m\u001b[0m\n\u001b[0m\u001b[1;32m     65\u001b[0m \u001b[0;34m\u001b[0m\u001b[0m\n\u001b[1;32m     66\u001b[0m                 \u001b[0;32mif\u001b[0m\u001b[0;34m(\u001b[0m\u001b[0;32mnot\u001b[0m\u001b[0;34m(\u001b[0m\u001b[0mtareas_pendientes\u001b[0m\u001b[0;34m)\u001b[0m\u001b[0;34m)\u001b[0m\u001b[0;34m:\u001b[0m\u001b[0;34m\u001b[0m\u001b[0;34m\u001b[0m\u001b[0m\n",
      "\u001b[0;31mAttributeError\u001b[0m: 'NoneType' object has no attribute 'trab_tareasOrden'"
     ]
    }
   ],
   "source": [
    "#algoritmo_genetico(problema_genetico,k,ngen,size,prop_cruces,prob_mutar):\n",
    "algoritmo_genetico(problemaAux,3,20,10,0.7,0.1)"
   ]
  },
  {
   "cell_type": "code",
   "execution_count": 17,
   "metadata": {},
   "outputs": [
    {
     "name": "stdout",
     "output_type": "stream",
     "text": [
      "Tareas-Trabajador asignado:   [0, 0, 1]\n",
      "Trabajadores-Tareas en orden: [[0, 1], [2]]\n"
     ]
    }
   ],
   "source": [
    "cromo = Cromosoma([0,0,1],[[0,1],[2]])\n",
    "print(cromo);"
   ]
  },
  {
   "cell_type": "code",
   "execution_count": null,
   "metadata": {},
   "outputs": [],
   "source": []
  }
 ],
 "metadata": {
  "kernelspec": {
   "display_name": "Python 3",
   "language": "python",
   "name": "python3"
  },
  "language_info": {
   "codemirror_mode": {
    "name": "ipython",
    "version": 3
   },
   "file_extension": ".py",
   "mimetype": "text/x-python",
   "name": "python",
   "nbconvert_exporter": "python",
   "pygments_lexer": "ipython3",
   "version": "3.6.9"
  }
 },
 "nbformat": 4,
 "nbformat_minor": 2
}
