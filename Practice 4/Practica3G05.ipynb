{
 "cells": [
  {
   "cell_type": "markdown",
   "metadata": {},
   "source": [
    "# Práctica 3 - Inteligencia Artificial - Parte 2\n",
    "#### G05 - Francisco Javier Blázquez Martínez, Boris Carballa Corredoira, Juan Carlos Villanueva Quirós"
   ]
  },
  {
   "cell_type": "code",
   "execution_count": 1,
   "metadata": {},
   "outputs": [],
   "source": [
    "# from search import *\n",
    "import random\n",
    "import math"
   ]
  },
  {
   "cell_type": "code",
   "execution_count": 2,
   "metadata": {},
   "outputs": [],
   "source": [
    "class Cromosoma(object):\n",
    "    \n",
    "    def __init__(self, tareas_trabajadores, trabajadores_tareasEnOrden):\n",
    "        self.tareas_trab = tareas_trabajadores\n",
    "        self.trab_tareasOrden = trabajadores_tareasEnOrden\n",
    "        \n",
    "    def __str__(self):\n",
    "        return \"Trabajador de la tarea i-ésima: \"+str(self.tareas_trab)+\"\\nLista de tareas (en orden) del trabajador i-ésimo: \"+str(self.trab_tareasOrden)\n",
    "    "
   ]
  },
  {
   "cell_type": "code",
   "execution_count": 3,
   "metadata": {},
   "outputs": [],
   "source": [
    "NOT_QUALIFIED = -1\n",
    "\n",
    "class ProblemaGenetico(object):\n",
    "    def __init__(self, timetable, restricciones):\n",
    "        self.working_board = timetable\n",
    "        self.num_tareas = len(timetable[0])\n",
    "        self.num_trabajadores = len(timetable)\n",
    "        self.restricciones = restricciones\n",
    "        self.restricciones_tarea = [[] for _ in range(self.num_tareas)]\n",
    "        for restriccion in restricciones:\n",
    "            self.restricciones_tarea[restriccion[1]].append(restriccion[0])\n",
    "            \n",
    "    def decodifica(self, cromosoma):\n",
    "        respuesta = \"Reparto:\\n\\n\" + str(cromosoma)\n",
    "        respuesta += \"\\nMomento de inicio de las tareas: \"\n",
    "        vector_finalizaciones = self.fitness1(cromosoma)[1] #self.fitness2(cromosoma)[1]\n",
    "        for i in range(self.num_tareas):\n",
    "            vector_finalizaciones[i] -= self.working_board[cromosoma.tareas_trab[i]][i]\n",
    "        respuesta += str(vector_finalizaciones)\n",
    "        return respuesta\n",
    "    \n",
    "    def muta(self, cromosoma, prob):\n",
    "        # Reemplazo aleatorio: cambiamos el trabajador de una tarea\n",
    "        if (random.random() < prob):\n",
    "            tarea_a_cambiar  = random.choice([i for i in range(self.num_tareas)])\n",
    "            viejo_trabajador = cromosoma.tareas_trab[tarea_a_cambiar]\n",
    "            nuevo_trabajador = random.choice([i for i in range(self.num_trabajadores) if self.working_board[i][tarea_a_cambiar]!=NOT_QUALIFIED])\n",
    "            #Cambiamos cromosoma\n",
    "            cromosoma.tareas_trab[tarea_a_cambiar] = nuevo_trabajador\n",
    "            cromosoma.trab_tareasOrden[viejo_trabajador].remove(tarea_a_cambiar)\n",
    "            cromosoma.trab_tareasOrden[nuevo_trabajador].append(tarea_a_cambiar)\n",
    "        return cromosoma\n",
    "    \n",
    "    def cruza(self, cromosoma1, cromosoma2):  \n",
    "        \n",
    "        hijo1 = Cromosoma([0]*self.num_tareas, [[] for _ in range(self.num_trabajadores)])\n",
    "        hijo2 = Cromosoma([0]*self.num_tareas, [[] for _ in range(self.num_trabajadores)])\n",
    "        \n",
    "        for trabajador in range(self.num_trabajadores):\n",
    "            for tarea in cromosoma1.trab_tareasOrden[trabajador]:\n",
    "                if tarea <= (self.num_tareas//2):\n",
    "                    hijo1.tareas_trab[tarea]=trabajador\n",
    "                    hijo1.trab_tareasOrden[trabajador].append(tarea)\n",
    "                else:\n",
    "                    hijo2.tareas_trab[tarea]=trabajador\n",
    "                    hijo2.trab_tareasOrden[trabajador].append(tarea)\n",
    "                    \n",
    "        for trabajador in range(self.num_trabajadores):\n",
    "            for tarea in cromosoma2.trab_tareasOrden[trabajador]:\n",
    "                if tarea <= (self.num_tareas//2):\n",
    "                    hijo2.tareas_trab[tarea]=trabajador\n",
    "                    hijo2.trab_tareasOrden[trabajador].append(tarea)\n",
    "                else:\n",
    "                    hijo1.tareas_trab[tarea]=trabajador\n",
    "                    hijo1.trab_tareasOrden[trabajador].append(tarea)\n",
    "    \n",
    "        return [hijo1,hijo2]\n",
    "    \n",
    "    # Hicimos dos bastante diferentes pero válidos ambos\n",
    "    def fitness(self, cromosoma):\n",
    "        return self.fitness1(cromosoma)[0]\n",
    "        #return self.fitness2(cromosoma)[0]\n",
    "    \n",
    "    ##Fitness: dado un cromosoma, devuelve su fitness, es decir el tiempo que se tarda en hacerse todas las tareas\n",
    "    # Vamos iterando por los trabajadores, estableciendo la hora de inicio de su siguiente tarea \n",
    "    # si la anterior tarea de ese trabajador y las tareas de las restricciones ya han finalizado.\n",
    "    # Si todos los trabajadores están esperando a otro, hay un deadlock y el fitness es +infinito.\n",
    "    def fitness1(self, cromosoma):    \n",
    "        tareas_tiempoFinalizacion = [-1 for _ in range(self.num_tareas)]\n",
    "        trab_tiempoOcupacion = [0 for _ in range(self.num_trabajadores)]\n",
    "        \n",
    "        tareasCalculadas = 0\n",
    "        hayCambio = True\n",
    "        \n",
    "        while (hayCambio and tareasCalculadas<self.num_tareas):\n",
    "            hayCambio = False\n",
    "            \n",
    "            for i in range(self.num_trabajadores):\n",
    "                \n",
    "                tareas_pendientes = [k for k in cromosoma.trab_tareasOrden[i] if tareas_tiempoFinalizacion[k]==-1]\n",
    "                \n",
    "                if(not(tareas_pendientes)):\n",
    "                    continue\n",
    "                \n",
    "                for j in tareas_pendientes:\n",
    "                    ## Si tiene alguna dependencia por ejecutar paramos y vamos al siguiente trabajador\n",
    "                    if(len([k for k in self.restricciones_tarea[j] if tareas_tiempoFinalizacion[k]==-1])>0):\n",
    "                        break\n",
    "                    ## Si no la ejecutamos\n",
    "                    else:\n",
    "                        tareasCalculadas += 1\n",
    "                        hayCambio = True\n",
    "                        \n",
    "                        ## Aux1 = máximo tiempo de finalización de las dependencias\n",
    "                        aux1 = max([tareas_tiempoFinalizacion[k] for k in self.restricciones_tarea[j]], default=0)\n",
    "                        ## Aux2 = cuándo queda libre el trabajador que hace la tarea\n",
    "                        aux2 = trab_tiempoOcupacion[i]\n",
    "                        aux3 = max(aux1,aux2)\n",
    "                        \n",
    "                        tareas_tiempoFinalizacion[j] = aux3 + self.working_board[i][j]\n",
    "                        trab_tiempoOcupacion[i] = aux3 + self.working_board[i][j]\n",
    "        \n",
    "        if tareasCalculadas<self.num_tareas:\n",
    "            #print(\"Hemos llegado a una estado no válido:\")\n",
    "            #print(cromosoma)\n",
    "            return (math.inf,[])\n",
    "        else:\n",
    "            return (max(tareas_tiempoFinalizacion),tareas_tiempoFinalizacion)\n",
    "        \n",
    "    # funcion auxiliar de fitness2\n",
    "    # calcula el número de restricciones de la tarea pasada y la guarda en num_restri_tareas\n",
    "    def fitness2_num_restricciones(self, tarea, num_restri_tareas, restricciones_tareas):\n",
    "        # -1 => no calculado, -2 => en proceso (sirve como un control de repetidos de coste cte)\n",
    "        if num_restri_tareas[tarea] ==-2: # ya esta repetido\n",
    "            num_restri_tareas[tarea] = math.inf\n",
    "            return math.inf\n",
    "        elif num_restri_tareas[tarea] == -1:\n",
    "            num_restri_tareas[tarea] = -2\n",
    "            num = 0\n",
    "            for restriccion in restricciones_tareas[tarea]:\n",
    "                num = max(num,1+self.fitness2_num_restricciones(restriccion,num_restri_tareas,restricciones_tareas))\n",
    "            num_restri_tareas[tarea] = num\n",
    "            return num\n",
    "        else:\n",
    "            return num_restri_tareas[tarea]\n",
    "        \n",
    "    # Calculamos para cada tarea cuantas restricciones tiene, incluyendo como restriccion la de ir antes que su \n",
    "    # anterior por el orden de las tareas del trabajador. Calculamos el máximo de la cadena de restricciones que\n",
    "    # tiene que realizarse para que esté lista para iniciarse. Iteramos por las tareas, empezando por las que\n",
    "    # tienen menos restricciones. Si calculando el máximo anterior pasamos por la misma restricción, hay un deadlock\n",
    "    # y devolvemos +infinito.\n",
    "    def fitness2(self, cromosoma):\n",
    "        tiempoFinTareas = [0 for _ in range(self.num_tareas)]\n",
    "        \n",
    "        restricciones_tareas = [[] for _ in range(self.num_tareas)]\n",
    "        for restriccion in self.restricciones:\n",
    "            restricciones_tareas[restriccion[1]].append(restriccion[0])\n",
    "        for trabajador in range(self.num_trabajadores):\n",
    "            tarea_anterior = -1\n",
    "            for tarea in cromosoma.trab_tareasOrden[trabajador]:\n",
    "                if tarea_anterior != -1:\n",
    "                    restricciones_tareas[tarea].append(tarea_anterior)\n",
    "                tarea_anterior = tarea\n",
    "        \n",
    "        #Calculamos el nº de restricciones de cada tarea\n",
    "        num_restri_tareas = [-1 for _ in range(self.num_tareas)]\n",
    "        for i in range(self.num_tareas):\n",
    "            if num_restri_tareas[i] == -1:\n",
    "                self.fitness2_num_restricciones(i,num_restri_tareas,restricciones_tareas)\n",
    "            if num_restri_tareas[i] == math.inf: #Hay un deadlock\n",
    "                return (math.inf,[])\n",
    "                \n",
    "        #Las calculamos en orden\n",
    "        lista_pares = [(i,num_restri_tareas[i]) for i in range(self.num_tareas)]\n",
    "        lista_pares.sort(key=lambda tup: tup[0])\n",
    "        for tupla in lista_pares:\n",
    "            tarea = tupla[0]\n",
    "            trabajador = cromosoma.tareas_trab[tarea]\n",
    "            inicio = 0\n",
    "            for tarea_ant in restricciones_tareas[tarea]:\n",
    "                inicio = max(inicio,tiempoFinTareas[tarea_ant])\n",
    "            tiempoFinTareas[tarea] = inicio + self.working_board[trabajador][tarea]\n",
    "            \n",
    "        return (max(tiempoFinTareas), tiempoFinTareas)\n"
   ]
  },
  {
   "cell_type": "code",
   "execution_count": 4,
   "metadata": {},
   "outputs": [
    {
     "data": {
      "text/plain": [
       "60"
      ]
     },
     "execution_count": 4,
     "metadata": {},
     "output_type": "execute_result"
    }
   ],
   "source": [
    "#Ejemplo función de fitness\n",
    "cromosoma = Cromosoma([0,0,1],[[0,1],[2]])\n",
    "grid = [[10,20,-1],[-1,-1,30]]\n",
    "problemaAux = ProblemaGenetico(grid, [(1,2)])\n",
    "problemaAux.fitness(cromosoma)"
   ]
  },
  {
   "cell_type": "code",
   "execution_count": 5,
   "metadata": {},
   "outputs": [],
   "source": [
    "## Elegimos de entre los trabajadores cualificados para una determinada tarea uno al azar.\n",
    "def poblacion_inicial(problema_genetico, size):\n",
    "    nueva_poblacion = []\n",
    "    for i in range(size):\n",
    "        genotipo = Cromosoma([0]*problema_genetico.num_tareas, [[] for _ in range(problema_genetico.num_trabajadores)])\n",
    "        \n",
    "        ## Si queremos que de verdad sea aleatorio tenemos que hacer shuffle de cada lista de genotipo!\n",
    "        for j in range(problema_genetico.num_tareas):\n",
    "            worker = random.choice([i for i in range(problema_genetico.num_trabajadores) if problema_genetico.working_board[i][j]!=NOT_QUALIFIED])\n",
    "            genotipo.tareas_trab[j] = worker\n",
    "            genotipo.trab_tareasOrden[worker].append(j)\n",
    "        \n",
    "        nueva_poblacion.append(genotipo)\n",
    "    return nueva_poblacion"
   ]
  },
  {
   "cell_type": "code",
   "execution_count": 6,
   "metadata": {},
   "outputs": [
    {
     "name": "stdout",
     "output_type": "stream",
     "text": [
      "Trabajador de la tarea i-ésima: [1, 0, 0, 1]\n",
      "Lista de tareas (en orden) del trabajador i-ésimo: [[1, 2], [0, 3], []]\n",
      "Trabajador de la tarea i-ésima: [1, 1, 0, 0]\n",
      "Lista de tareas (en orden) del trabajador i-ésimo: [[2, 3], [0, 1], []]\n"
     ]
    }
   ],
   "source": [
    "#Ejemplo función poblacion_inicial\n",
    "grid = [[1,1,1,1],[2,2,2,2],[NOT_QUALIFIED,1,NOT_QUALIFIED,1]]\n",
    "problema = ProblemaGenetico(grid, [])\n",
    "poblacion_ini = poblacion_inicial(problema, 2)\n",
    "print(poblacion_ini[0])\n",
    "print(poblacion_ini[1])"
   ]
  },
  {
   "cell_type": "code",
   "execution_count": 7,
   "metadata": {},
   "outputs": [],
   "source": [
    "## La primera mitad de las tareas las realiza el trabajador que decida el padre,\n",
    "## la segunda mitad quien diga la madre\n",
    "\n",
    "def cruza_padres(problema_genetico,padres):\n",
    "    nueva_poblacion = []\n",
    "    for i in range(0,len(padres),2):\n",
    "        nueva_poblacion += problema_genetico.cruza(padres[i],padres[i+1])\n",
    "    return nueva_poblacion"
   ]
  },
  {
   "cell_type": "code",
   "execution_count": 8,
   "metadata": {},
   "outputs": [
    {
     "name": "stdout",
     "output_type": "stream",
     "text": [
      "Padres:\n",
      "\n",
      "Trabajador de la tarea i-ésima: [1, 0, 0, 1]\n",
      "Lista de tareas (en orden) del trabajador i-ésimo: [[1, 2], [0, 3], []]\n",
      "Trabajador de la tarea i-ésima: [1, 1, 0, 0]\n",
      "Lista de tareas (en orden) del trabajador i-ésimo: [[2, 3], [0, 1], []]\n",
      "\n",
      "Hijos\n",
      "\n",
      "Trabajador de la tarea i-ésima: [1, 0, 0, 0]\n",
      "Lista de tareas (en orden) del trabajador i-ésimo: [[1, 2, 3], [0], []]\n",
      "Trabajador de la tarea i-ésima: [1, 1, 0, 1]\n",
      "Lista de tareas (en orden) del trabajador i-ésimo: [[2], [3, 0, 1], []]\n"
     ]
    }
   ],
   "source": [
    "#Ejemplo función cruza_padres\n",
    "nueva_poblacion = cruza_padres(problema, poblacion_ini)\n",
    "print(\"Padres:\\n\")\n",
    "print(poblacion_ini[0])\n",
    "print(poblacion_ini[1])\n",
    "print(\"\\nHijos\\n\")\n",
    "print(nueva_poblacion[0])\n",
    "print(nueva_poblacion[1])"
   ]
  },
  {
   "cell_type": "code",
   "execution_count": 9,
   "metadata": {},
   "outputs": [],
   "source": [
    "## Muta todos los individuos con una cierta probabilidad\n",
    "\n",
    "def muta_individuos(problema_genetico, poblacion, prob):\n",
    "    nueva_poblacion = []\n",
    "    for individuo in poblacion:\n",
    "        nueva_poblacion.append(problema_genetico.muta(individuo,prob))\n",
    "    return nueva_poblacion"
   ]
  },
  {
   "cell_type": "code",
   "execution_count": 10,
   "metadata": {},
   "outputs": [
    {
     "name": "stdout",
     "output_type": "stream",
     "text": [
      "Antes\n",
      "\n",
      "Trabajador de la tarea i-ésima: [1, 0, 0, 1]\n",
      "Lista de tareas (en orden) del trabajador i-ésimo: [[1, 2], [0, 3], []]\n",
      "\n",
      "Después\n",
      "\n",
      "Trabajador de la tarea i-ésima: [1, 0, 0, 1]\n",
      "Lista de tareas (en orden) del trabajador i-ésimo: [[1, 2], [0, 3], []]\n"
     ]
    }
   ],
   "source": [
    "#Ejemplo función muta_individuos\n",
    "print(\"Antes\\n\")\n",
    "print(poblacion_ini[0])\n",
    "print(\"\\nDespués\\n\")\n",
    "mutado = muta_individuos(problema,[poblacion_ini[0]],0.5)\n",
    "print(mutado[0])"
   ]
  },
  {
   "cell_type": "code",
   "execution_count": 11,
   "metadata": {},
   "outputs": [],
   "source": [
    "## Elige n elementos por torneo de k candidatos (grupos de torneo aleatorios)\n",
    "\n",
    "def seleccion_por_torneo(problema_genetico, poblacion, n, k):\n",
    "    seleccionados = []\n",
    "    for i in range(n):\n",
    "        participantes = random.sample(poblacion,k)\n",
    "        seleccionado = min(participantes, key=problema_genetico.fitness)\n",
    "        seleccionados.append(seleccionado)\n",
    "    return seleccionados  "
   ]
  },
  {
   "cell_type": "code",
   "execution_count": 12,
   "metadata": {},
   "outputs": [
    {
     "name": "stdout",
     "output_type": "stream",
     "text": [
      "Población de tamaño: 5\n",
      "\n",
      "Trabajador de la tarea i-ésima: [0, 1, 0, 1]\n",
      "Lista de tareas (en orden) del trabajador i-ésimo: [[0, 2], [1, 3], []]\n",
      "Trabajador de la tarea i-ésima: [0, 1, 1, 1]\n",
      "Lista de tareas (en orden) del trabajador i-ésimo: [[0], [1, 2, 3], []]\n",
      "Trabajador de la tarea i-ésima: [0, 0, 0, 1]\n",
      "Lista de tareas (en orden) del trabajador i-ésimo: [[0, 1, 2], [3], []]\n",
      "Trabajador de la tarea i-ésima: [0, 0, 1, 1]\n",
      "Lista de tareas (en orden) del trabajador i-ésimo: [[0, 1], [2, 3], []]\n",
      "Trabajador de la tarea i-ésima: [0, 0, 1, 1]\n",
      "Lista de tareas (en orden) del trabajador i-ésimo: [[0, 1], [2, 3], []]\n",
      "\n",
      "Seleccionamos 3 aleatoriamente y cogemos el mejor, así 3 veces\n",
      "\n",
      "Trabajador de la tarea i-ésima: [0, 0, 1, 1]\n",
      "Lista de tareas (en orden) del trabajador i-ésimo: [[0, 1], [2, 3], []]\n",
      "Trabajador de la tarea i-ésima: [0, 0, 0, 1]\n",
      "Lista de tareas (en orden) del trabajador i-ésimo: [[0, 1, 2], [3], []]\n",
      "Trabajador de la tarea i-ésima: [0, 0, 0, 1]\n",
      "Lista de tareas (en orden) del trabajador i-ésimo: [[0, 1, 2], [3], []]\n"
     ]
    }
   ],
   "source": [
    "#Ejemplo función seleccion_por_torneo\n",
    "tam_poblacion = 5\n",
    "poblacion_ini = poblacion_inicial(problema, tam_poblacion)\n",
    "print(\"Población de tamaño: \"+str(tam_poblacion)+\"\\n\")\n",
    "for i in range(tam_poblacion):\n",
    "    print(poblacion_ini[i])\n",
    "    \n",
    "tam_seleccionados = 3\n",
    "mejor_entre_k = 3\n",
    "print(\"\\nSeleccionamos \"+str(mejor_entre_k)+\" aleatoriamente y cogemos el mejor, así \"+str(tam_seleccionados)+\" veces\\n\")\n",
    "seleccionados = seleccion_por_torneo(problema,poblacion_ini,tam_seleccionados,mejor_entre_k)\n",
    "for i in range(tam_seleccionados):\n",
    "    print(seleccionados[i])"
   ]
  },
  {
   "cell_type": "code",
   "execution_count": 13,
   "metadata": {},
   "outputs": [],
   "source": [
    "def nueva_generacion(problema_genetico, k, poblacion, n_padres, n_directos, prob_mutar):\n",
    "    ## Realizamos la selección por torneo\n",
    "    padres2 = seleccion_por_torneo(problema_genetico, poblacion, n_directos, k) \n",
    "    padres1 = seleccion_por_torneo(problema_genetico, poblacion, n_padres ,  k)\n",
    "    ## Realizamos los cruces, la siguiente generación son los cruces de los padres y\n",
    "    ## k elementos seleccionados por torneo de los no padres\n",
    "    cruces =  cruza_padres(problema_genetico,padres1)\n",
    "    generacion = padres2+cruces\n",
    "    ## Aplicamos mutaciones\n",
    "    resultado_mutaciones = muta_individuos(problema_genetico, generacion, prob_mutar)\n",
    "    return resultado_mutaciones"
   ]
  },
  {
   "cell_type": "code",
   "execution_count": 14,
   "metadata": {},
   "outputs": [],
   "source": [
    "# Sus argumentos son:\n",
    "# problema_genetico: una instancia de la clase ProblemaGenetico con la representación adecuada del problema de optimización \n",
    "# que se quiere resolver.\n",
    "# k: número de participantes en los torneos de selección.\n",
    "# nGen: número de generaciones (que se usa como condición de terminación)\n",
    "# size: número de individuos en cada generación\n",
    "# prop_cruce: proporción del total de la población que serán padres. \n",
    "# prob_mutación: probabilidad de realizar una mutación de un gen.\n",
    "\n",
    "def algoritmo_genetico(problema_genetico,k,ngen,size,prop_cruces,prob_mutar):\n",
    "    ## Generamos una población inicial\n",
    "    poblacion= poblacion_inicial(problema_genetico,size)\n",
    "    \n",
    "    ## Tomamos el número de padres (siempre par) y no padres en base a la proporción dada\n",
    "    n_padres=round(size*prop_cruces)\n",
    "    n_padres= int(n_padres if n_padres%2==0 else n_padres-1)\n",
    "    n_directos = size-n_padres\n",
    "    \n",
    "    ## Hacemos avanzar ngen generaciones nuestra población\n",
    "    for _ in range(ngen):\n",
    "        poblacion=nueva_generacion(problema_genetico,k,poblacion,n_padres, n_directos,prob_mutar)\n",
    "    \n",
    "    ## Nos quedamos con el mejor individuo en base a nuestra función de fitness\n",
    "    ## devolvemos su fenotipo (decodificación) y valor (función fitness)\n",
    "    mejor_cr= min(poblacion, key=problema_genetico.fitness)\n",
    "    mejor=problema_genetico.decodifica(mejor_cr)\n",
    "    return (mejor,problema_genetico.fitness(mejor_cr))\n"
   ]
  },
  {
   "cell_type": "code",
   "execution_count": 15,
   "metadata": {},
   "outputs": [
    {
     "name": "stdout",
     "output_type": "stream",
     "text": [
      "Reparto:\n",
      "\n",
      "Trabajador de la tarea i-ésima: [0, 0, 1]\n",
      "Lista de tareas (en orden) del trabajador i-ésimo: [[1, 0], [2]]\n",
      "Momento de inicio de las tareas: [20, 0, 20]\n",
      "\n",
      "Mejor tiempo: 50\n",
      "\n"
     ]
    }
   ],
   "source": [
    "grid = [[10,20,-1],[-1,-1,30]]\n",
    "problemaAux = ProblemaGenetico(grid, [(1,2)])\n",
    "\n",
    "#algoritmo_genetico(problema_genetico,k,ngen,size,prop_cruces,prob_mutar):\n",
    "solucion = algoritmo_genetico(problemaAux,3,20,10,0.7,0.1)\n",
    "print(str(solucion[0])+\"\\n\")\n",
    "print(\"Mejor tiempo: \"+ str(solucion[1])+\"\\n\")"
   ]
  },
  {
   "cell_type": "code",
   "execution_count": null,
   "metadata": {},
   "outputs": [],
   "source": []
  },
  {
   "cell_type": "code",
   "execution_count": null,
   "metadata": {},
   "outputs": [],
   "source": []
  },
  {
   "cell_type": "code",
   "execution_count": null,
   "metadata": {},
   "outputs": [],
   "source": []
  }
 ],
 "metadata": {
  "kernelspec": {
   "display_name": "Python 3",
   "language": "python",
   "name": "python3"
  },
  "language_info": {
   "codemirror_mode": {
    "name": "ipython",
    "version": 3
   },
   "file_extension": ".py",
   "mimetype": "text/x-python",
   "name": "python",
   "nbconvert_exporter": "python",
   "pygments_lexer": "ipython3",
   "version": "3.6.9"
  }
 },
 "nbformat": 4,
 "nbformat_minor": 2
}
