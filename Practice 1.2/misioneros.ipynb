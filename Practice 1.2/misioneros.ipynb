{
 "cells": [
  {
   "cell_type": "markdown",
   "metadata": {},
   "source": [
    "## EL PROBLEMA DE LOS MISIONEROS --- PRÁCTICA 2 IA GRUPO 5"
   ]
  },
  {
   "cell_type": "markdown",
   "metadata": {},
   "source": [
    "### Definición del problema siguiendo el esquema proporcionado por AIMA"
   ]
  },
  {
   "cell_type": "code",
   "execution_count": 1,
   "metadata": {},
   "outputs": [],
   "source": [
    "# Importamos la librería search de AIMA\n",
    "from search import *"
   ]
  },
  {
   "cell_type": "code",
   "execution_count": 2,
   "metadata": {},
   "outputs": [],
   "source": [
    "# Definición del problema de los misioneros según el esquema de AIMA\n",
    "class ProblemaMisioneros(Problem):\n",
    "    ''' Clase problema (formalizacion de nuestro problema) siguiendo la\n",
    "        estructura que aima espera que tengan los problemas.'''\n",
    "    def __init__(self, initial, goal=None):\n",
    "        '''Inicializacion de nuestro problema.'''\n",
    "        Problem.__init__(self, initial, goal)\n",
    "        # cada accion tiene un texto para identificar al operador y despues una tupla con la\n",
    "        # cantidad de misioneros y canibales que se mueven en la canoa\n",
    "        self._actions = [('1c', (0,1)), ('1m', (1, 0)), ('2c', (0, 2)), ('2m', (2, 0)), ('1m1c', (1, 1))]\n",
    "\n",
    "    def actions(self, s):\n",
    "        '''Devuelve las acciones validas para un estado.'''\n",
    "        # las acciones validas para un estado son aquellas que al aplicarse\n",
    "        # nos dejan en otro estado valido\n",
    "        return [a for a in self._actions if self._is_valid(self.result(s, a))]\n",
    "\n",
    "    def _is_valid(self, s):\n",
    "        '''Determina si un estado es valido o no.'''\n",
    "        # un estado es valido si no hay mas canibales que misioneros en ninguna\n",
    "        # orilla, y si las cantidades estan entre 0 y 3\n",
    "        return (s[0] >= s[1] or s[0] == 0) and ((3 - s[0]) >= (3 - s[1]) or s[0] == 3) and (0 <= s[0] <= 3) and (0 <= s[1] <= 3)\n",
    "\n",
    "    def result(self, s, a):\n",
    "        '''Devuelve el estado resultante de aplicar una accion a un estado\n",
    "           determinado.'''\n",
    "        # el estado resultante tiene la canoa en el lado opuesto, y con las\n",
    "        # cantidades de misioneros y canibales actualizadas segun la cantidad\n",
    "        # que viajaron en la canoa\n",
    "        if s[2] == 0:\n",
    "            return (s[0] - a[1][0], s[1] - a[1][1], 1)\n",
    "        else:\n",
    "            return (s[0] + a[1][0], s[1] + a[1][1], 0)\n",
    "\n"
   ]
  },
  {
   "cell_type": "code",
   "execution_count": 3,
   "metadata": {},
   "outputs": [],
   "source": [
    "# Creación del problema dado un estado inicial y un estado objetivo\n",
    "estado = ProblemaMisioneros((3, 3, 0), (0, 0, 1))"
   ]
  },
  {
   "cell_type": "markdown",
   "metadata": {},
   "source": [
    "### a) Resolved el problema por los distintos métodos de búsqueda vistos:"
   ]
  },
  {
   "cell_type": "code",
   "execution_count": 4,
   "metadata": {},
   "outputs": [
    {
     "data": {
      "text/plain": [
       "[('2c', (0, 2)),\n",
       " ('1c', (0, 1)),\n",
       " ('2c', (0, 2)),\n",
       " ('1c', (0, 1)),\n",
       " ('2m', (2, 0)),\n",
       " ('1m1c', (1, 1)),\n",
       " ('2m', (2, 0)),\n",
       " ('1c', (0, 1)),\n",
       " ('2c', (0, 2)),\n",
       " ('1c', (0, 1)),\n",
       " ('2c', (0, 2))]"
      ]
     },
     "execution_count": 4,
     "metadata": {},
     "output_type": "execute_result"
    }
   ],
   "source": [
    "# Solución por búsqueda en anchura sin control de estados repetidos\n",
    "breadth_first_tree_search(estado).solution()"
   ]
  },
  {
   "cell_type": "code",
   "execution_count": 5,
   "metadata": {},
   "outputs": [
    {
     "data": {
      "text/plain": [
       "[('2c', (0, 2)),\n",
       " ('1c', (0, 1)),\n",
       " ('2c', (0, 2)),\n",
       " ('1c', (0, 1)),\n",
       " ('2m', (2, 0)),\n",
       " ('1m1c', (1, 1)),\n",
       " ('2m', (2, 0)),\n",
       " ('1c', (0, 1)),\n",
       " ('2c', (0, 2)),\n",
       " ('1c', (0, 1)),\n",
       " ('2c', (0, 2))]"
      ]
     },
     "execution_count": 5,
     "metadata": {},
     "output_type": "execute_result"
    }
   ],
   "source": [
    "# Solución por búsqueda en anchura con control de estados repetidos\n",
    "breadth_first_graph_search(estado).solution()"
   ]
  },
  {
   "cell_type": "code",
   "execution_count": 6,
   "metadata": {},
   "outputs": [
    {
     "data": {
      "text/plain": [
       "[('1m1c', (1, 1)),\n",
       " ('1m', (1, 0)),\n",
       " ('2c', (0, 2)),\n",
       " ('1c', (0, 1)),\n",
       " ('2m', (2, 0)),\n",
       " ('1m1c', (1, 1)),\n",
       " ('2m', (2, 0)),\n",
       " ('1c', (0, 1)),\n",
       " ('2c', (0, 2)),\n",
       " ('1m', (1, 0)),\n",
       " ('1m1c', (1, 1))]"
      ]
     },
     "execution_count": 6,
     "metadata": {},
     "output_type": "execute_result"
    }
   ],
   "source": [
    "# Solución por búsqueda en profundidad sin control de estados repetidos\n",
    "depth_first_graph_search(estado).solution()"
   ]
  },
  {
   "cell_type": "code",
   "execution_count": 7,
   "metadata": {},
   "outputs": [],
   "source": [
    "# ------------- NO FINALIZA --------------\n",
    "# Solución por búsqueda en profundidad sin control de estados repetidos\n",
    "# depth_first_tree_search(estado).solution()"
   ]
  },
  {
   "cell_type": "markdown",
   "metadata": {},
   "source": [
    "### b) Analizad el coste de las soluciones encontradas:"
   ]
  },
  {
   "cell_type": "markdown",
   "metadata": {},
   "source": [
    "####  Búsqueda en anchura sin control de repetidos:\n",
    "\n",
    "Encuentra una solución que requiere de once operaciones. Además, suponiendo que cuando hablamos del coste nos referimos al número de operaciones ejecutadas (con cada operación por tanto de coste uno), el algoritmo de búsqueda en anchura alcanza siempre una solución óptima. La solución dada requiere el mínimo número de operaciones para llegar al estado objetivo."
   ]
  },
  {
   "cell_type": "markdown",
   "metadata": {},
   "source": [
    "####  Búsqueda en anchura con control de repetidos:\n",
    "\n",
    "Encuentra una solución que requiere de once operaciones, de hecho, encuentra la misma que el algoritmo que no\n",
    "controla nodos repetidos. Esto es lógico porque la naturaleza del algoritmo es la misma, completo, por lo que siempre que exista solución encuentra una solución y óptimo (gracias a que suponemos el coste igual al número de operaciones), por lo que encuentra una solución que requiere el mínimo número de operaciones.\n",
    "\n",
    "¿Qué diferencia hallamos entonces entre estos dos algoritmos hermanos? El primero al no requerir de estructuras\n",
    "de datos adicionales para el control de nodos repetidos ni requerir de operaciones adicionales de comprobación es un algoritmo válido e incluso más rápido cuando existen soluciones con un bajo número de operaciones. Cuando este no es el caso, el algoritmo analiza árboles de exploración enteros repetidas veces (árboles que crecen exponencialmente) por lo que el coste en tiempo es mayor."
   ]
  },
  {
   "cell_type": "markdown",
   "metadata": {},
   "source": [
    "####  Búsqueda en profundidad sin control de repetidos:\n",
    "\n",
    "En este caso el algoritmo no es capaz de hallar una solución al problema ni de terminar su ejecución. Esto es \n",
    "debido a que al no existir un control de nodos explorados y, más especialmente, a la existencia de operaciones inversas el algoritmo puede caer en bucles infinitos explorando ciclos.\n",
    "\n",
    "\n",
    "Por ejemplo, la siguiente secuencia no atraviesa estados prohibidos y genera un bucle:\n",
    "\n",
    "S0 -> Mover dos caníbales derecha -> Mover dos caníbales izquierda -> S0"
   ]
  },
  {
   "cell_type": "markdown",
   "metadata": {},
   "source": [
    "####  Búsqueda en profundidad con control de repetidos:\n",
    "\n",
    "Al añadir el control de nodos repetidos el algoritmo nunca examinará un nodo ya explorado lo que impide que se \n",
    "creen bucles infinitos debidos a la exploración de ciclos en el grafo de estados y operaciones de nuestro \n",
    "problema. Con este algoritmo se halla una solución de coste once operaciones por lo que sabemos que es óptima."
   ]
  },
  {
   "cell_type": "markdown",
   "metadata": {},
   "source": [
    "### c)  Analizad el coste en memoria de los distintos algoritmos y la causa de sus diferencias:"
   ]
  },
  {
   "cell_type": "markdown",
   "metadata": {},
   "source": [
    "#### -------------------------------------------------------------------------------------------------------------------------------------------------------"
   ]
  },
  {
   "cell_type": "code",
   "execution_count": 8,
   "metadata": {},
   "outputs": [],
   "source": [
    "# Ampliamos la clase con atributos para realizar las métricas de memoria:\n",
    "class ProblemaConMetricas(Problem):\n",
    "\n",
    "    \"\"\"Clase extendida para incorporar atributos para la medida del coste de ejecución\"\"\" \n",
    "         \n",
    "    def __init__(self, problem):\n",
    "        self.initial = problem.initial\n",
    "        self.problem = problem\n",
    "        self.analizados  = 0\n",
    "        self.goal = problem.goal\n",
    "\n",
    "    def actions(self, estado):\n",
    "        return self.problem.actions(estado)\n",
    "    \n",
    "    def _is_valid(self, estado):\n",
    "        return self.problem._is_valid(estado)\n",
    "\n",
    "    def result(self, estado, accion):\n",
    "        return self.problem.result(estado, accion)\n",
    "\n",
    "    def goal_test(self, estado):\n",
    "        self.analizados += 1\n",
    "        return self.problem.goal_test(estado)\n",
    "\n",
    "    def coste_de_aplicar_accion(self, estado, accion):\n",
    "        return self.problem.coste_de_aplicar_accion(estado,accion)"
   ]
  },
  {
   "cell_type": "code",
   "execution_count": 40,
   "metadata": {},
   "outputs": [],
   "source": [
    "def resuelve_y_muestra_metricas(problema, algoritmo, h=None):\n",
    "    \n",
    "    if h: sol= algoritmo(problema, h).solution()\n",
    "    else: sol= algoritmo(problema).solution()\n",
    "        \n",
    "    print(\"Longitud de la solución: {0}. Nodos analizados: {1}\".format(len(sol),problema.analizados))"
   ]
  },
  {
   "cell_type": "code",
   "execution_count": 41,
   "metadata": {},
   "outputs": [],
   "source": [
    "problema_misioneros = ProblemaMisioneros((3, 3, 0), (0, 0, 1))"
   ]
  },
  {
   "cell_type": "markdown",
   "metadata": {},
   "source": [
    "#### -------------------------------------------------------------------------------------------------------------------------------------------------------"
   ]
  },
  {
   "cell_type": "markdown",
   "metadata": {},
   "source": [
    "##### Búsqueda en anchura sin control de repetidos:"
   ]
  },
  {
   "cell_type": "code",
   "execution_count": 11,
   "metadata": {
    "scrolled": false
   },
   "outputs": [
    {
     "name": "stdout",
     "output_type": "stream",
     "text": [
      "CPU times: user 113 ms, sys: 772 µs, total: 114 ms\n",
      "Wall time: 113 ms\n"
     ]
    },
    {
     "data": {
      "text/plain": [
       "[('2c', (0, 2)),\n",
       " ('1c', (0, 1)),\n",
       " ('2c', (0, 2)),\n",
       " ('1c', (0, 1)),\n",
       " ('2m', (2, 0)),\n",
       " ('1m1c', (1, 1)),\n",
       " ('2m', (2, 0)),\n",
       " ('1c', (0, 1)),\n",
       " ('2c', (0, 2)),\n",
       " ('1c', (0, 1)),\n",
       " ('2c', (0, 2))]"
      ]
     },
     "execution_count": 11,
     "metadata": {},
     "output_type": "execute_result"
    }
   ],
   "source": [
    "%%time\n",
    "breadth_first_tree_search(estado).solution()"
   ]
  },
  {
   "cell_type": "code",
   "execution_count": 12,
   "metadata": {
    "scrolled": false
   },
   "outputs": [
    {
     "name": "stdout",
     "output_type": "stream",
     "text": [
      "10 loops, best of 3: 67.3 ms per loop\n"
     ]
    }
   ],
   "source": [
    "%%timeit\n",
    "breadth_first_tree_search(estado).solution()"
   ]
  },
  {
   "cell_type": "code",
   "execution_count": 42,
   "metadata": {
    "scrolled": true
   },
   "outputs": [
    {
     "name": "stdout",
     "output_type": "stream",
     "text": [
      "Longitud de la solución: 11. Nodos analizados: 11878\n"
     ]
    }
   ],
   "source": [
    "problema_metricas   = ProblemaConMetricas(problema_misioneros)\n",
    "resuelve_y_muestra_metricas(problema_metricas, breadth_first_tree_search)"
   ]
  },
  {
   "cell_type": "markdown",
   "metadata": {},
   "source": [
    "##### Búsqueda en anchura con control de repetidos:"
   ]
  },
  {
   "cell_type": "code",
   "execution_count": 50,
   "metadata": {},
   "outputs": [
    {
     "name": "stdout",
     "output_type": "stream",
     "text": [
      "CPU times: user 154 µs, sys: 6 µs, total: 160 µs\n",
      "Wall time: 164 µs\n"
     ]
    },
    {
     "data": {
      "text/plain": [
       "[('2c', (0, 2)),\n",
       " ('1c', (0, 1)),\n",
       " ('2c', (0, 2)),\n",
       " ('1c', (0, 1)),\n",
       " ('2m', (2, 0)),\n",
       " ('1m1c', (1, 1)),\n",
       " ('2m', (2, 0)),\n",
       " ('1c', (0, 1)),\n",
       " ('2c', (0, 2)),\n",
       " ('1c', (0, 1)),\n",
       " ('2c', (0, 2))]"
      ]
     },
     "execution_count": 50,
     "metadata": {},
     "output_type": "execute_result"
    }
   ],
   "source": [
    "%%time\n",
    "breadth_first_graph_search(estado).solution()"
   ]
  },
  {
   "cell_type": "code",
   "execution_count": 18,
   "metadata": {},
   "outputs": [
    {
     "name": "stdout",
     "output_type": "stream",
     "text": [
      "10000 loops, best of 3: 79.6 µs per loop\n"
     ]
    }
   ],
   "source": [
    "%%timeit\n",
    "breadth_first_graph_search(estado).solution()"
   ]
  },
  {
   "cell_type": "code",
   "execution_count": 43,
   "metadata": {},
   "outputs": [
    {
     "name": "stdout",
     "output_type": "stream",
     "text": [
      "Longitud de la solución: 11. Nodos analizados: 15\n"
     ]
    }
   ],
   "source": [
    "problema_metricas   = ProblemaConMetricas(problema_misioneros)\n",
    "resuelve_y_muestra_metricas(problema_metricas, breadth_first_graph_search)"
   ]
  },
  {
   "cell_type": "markdown",
   "metadata": {},
   "source": [
    "##### Búsqueda en profundidad con control de repetidos:"
   ]
  },
  {
   "cell_type": "code",
   "execution_count": 51,
   "metadata": {},
   "outputs": [
    {
     "name": "stdout",
     "output_type": "stream",
     "text": [
      "CPU times: user 151 µs, sys: 6 µs, total: 157 µs\n",
      "Wall time: 160 µs\n"
     ]
    },
    {
     "data": {
      "text/plain": [
       "[('1m1c', (1, 1)),\n",
       " ('1m', (1, 0)),\n",
       " ('2c', (0, 2)),\n",
       " ('1c', (0, 1)),\n",
       " ('2m', (2, 0)),\n",
       " ('1m1c', (1, 1)),\n",
       " ('2m', (2, 0)),\n",
       " ('1c', (0, 1)),\n",
       " ('2c', (0, 2)),\n",
       " ('1m', (1, 0)),\n",
       " ('1m1c', (1, 1))]"
      ]
     },
     "execution_count": 51,
     "metadata": {},
     "output_type": "execute_result"
    }
   ],
   "source": [
    "%%time\n",
    "depth_first_graph_search(estado).solution()"
   ]
  },
  {
   "cell_type": "code",
   "execution_count": 20,
   "metadata": {},
   "outputs": [
    {
     "name": "stdout",
     "output_type": "stream",
     "text": [
      "10000 loops, best of 3: 78.4 µs per loop\n"
     ]
    }
   ],
   "source": [
    "%%timeit\n",
    "depth_first_graph_search(estado).solution()"
   ]
  },
  {
   "cell_type": "code",
   "execution_count": 48,
   "metadata": {},
   "outputs": [
    {
     "name": "stdout",
     "output_type": "stream",
     "text": [
      "Longitud de la solución: 11. Nodos analizados: 12\n"
     ]
    }
   ],
   "source": [
    "problema_metricas   = ProblemaConMetricas(problema_misioneros)\n",
    "resuelve_y_muestra_metricas(problema_metricas, depth_first_graph_search)"
   ]
  },
  {
   "cell_type": "markdown",
   "metadata": {},
   "source": [
    "##### Búsqueda en profundidad sin control de repetidos:"
   ]
  },
  {
   "cell_type": "code",
   "execution_count": null,
   "metadata": {
    "scrolled": true
   },
   "outputs": [],
   "source": [
    "# ------------- NO FINALIZA --------------\n",
    "# %%time\n",
    "# depth_first_tree_search(estado).solution()"
   ]
  },
  {
   "cell_type": "code",
   "execution_count": null,
   "metadata": {
    "scrolled": true
   },
   "outputs": [],
   "source": [
    "# ------------- NO FINALIZA --------------\n",
    "# %%timeit\n",
    "# depth_first_tree_search(estado).solution()"
   ]
  },
  {
   "cell_type": "code",
   "execution_count": null,
   "metadata": {},
   "outputs": [],
   "source": [
    "# ------------- NO FINALIZA --------------\n",
    "# problema_metricas   = ProblemaConMetricas(problema_misioneros)\n",
    "# resuelve_y_muestra_metricas(problema_metricas, depth_first_tree_search)"
   ]
  },
  {
   "cell_type": "markdown",
   "metadata": {},
   "source": [
    "### d) ¿Qué algoritmo consideras mejor? Razonad la respuesta:"
   ]
  },
  {
   "cell_type": "markdown",
   "metadata": {},
   "source": [
    "Está claro en esta situación que el algoritmo de búsqueda en profundidad sin control de repetidos no puede ser el mejor por no ser ni siquiera válido. De los restantes observamos que la búsqueda en anchura sin control de repetidos genera también una enorme cantidad de nodos explorados (12000 frente a los 12 de la búsqueda en profundidad con control de repetidos) y que a su vez su tiempo de ejecución es también del orden de mil veces mayor a su versión con control de ciclos. Esto es debido a que gracias a la representación tan sencilla del problema (con a penas tres valores enteros) las comprobaciones son de bajísimo coste algorítmico.\n",
    "\n",
    "Por tanto, para este problema queda patente que el control de ciclos incrementa el coste de las iteraciones ridículamente y reduce en órdenes exponenciales (en función de la profundidad de las soluciones encontradas) el número de nodos analizados. De los dos alogritmos con control de repeticiones el de búsqueda en profundidad parece ser el mejor debido a la existencia de múltiples soluciones distribuidas por el árbol de exploración. La existencia de soluciones a baja profundidad hace la búsqueda en anchura también una opción válida y eficaz.\n"
   ]
  },
  {
   "cell_type": "markdown",
   "metadata": {},
   "source": [
    "### Ejercicio opcional. Define alguna heurística y estudia las propiedades del algoritmo A*"
   ]
  },
  {
   "cell_type": "markdown",
   "metadata": {},
   "source": [
    "La lógica parece indicarnos que cuantos más misioneros y caníbales haya en la orilla derecha más cerca de la solución estamos. Como bien se explica en el temario de la asignatura, dentro de las propias condiciones del problema se especifica que no se puede llevar a más de dos personas en la lancha. Es por esto que para llevar k personas de la orilla izquierda a la derecha necesitaremos como mínimo k/2 viajes en la lancha (de hecho generalmente podríamos crear una heurística más informada gracias a que únicamente tenemos una balsa y, por tanto, los viajes de vuelta serán imprescindibles en ciertos casos). Necesitar como mínimo k/2 viajes (con k el número de personas en la orilla izquierda) nos hace ver que la heurística definida es en efecto consistente."
   ]
  },
  {
   "cell_type": "code",
   "execution_count": 29,
   "metadata": {},
   "outputs": [],
   "source": [
    "## Heurística elegida: (Número de personas en la orilla izquierda) / (2 = Capacidad de la barca)\n",
    "def heuristica(node):\n",
    "    state = node.state\n",
    "    return (state[0] + state[1])/2"
   ]
  },
  {
   "cell_type": "code",
   "execution_count": 30,
   "metadata": {},
   "outputs": [
    {
     "data": {
      "text/plain": [
       "[('1m1c', (1, 1)),\n",
       " ('1m', (1, 0)),\n",
       " ('2c', (0, 2)),\n",
       " ('1c', (0, 1)),\n",
       " ('2m', (2, 0)),\n",
       " ('1m1c', (1, 1)),\n",
       " ('2m', (2, 0)),\n",
       " ('1c', (0, 1)),\n",
       " ('2c', (0, 2)),\n",
       " ('1c', (0, 1)),\n",
       " ('2c', (0, 2))]"
      ]
     },
     "execution_count": 30,
     "metadata": {},
     "output_type": "execute_result"
    }
   ],
   "source": [
    "astar_search(problema_misioneros, heuristica).solution()"
   ]
  },
  {
   "cell_type": "markdown",
   "metadata": {},
   "source": [
    "#### Estudiamos ahora las propiedades de la heurística dada"
   ]
  },
  {
   "cell_type": "code",
   "execution_count": 46,
   "metadata": {},
   "outputs": [
    {
     "name": "stdout",
     "output_type": "stream",
     "text": [
      "CPU times: user 470 µs, sys: 24 µs, total: 494 µs\n",
      "Wall time: 501 µs\n"
     ]
    },
    {
     "data": {
      "text/plain": [
       "[('1m1c', (1, 1)),\n",
       " ('1m', (1, 0)),\n",
       " ('2c', (0, 2)),\n",
       " ('1c', (0, 1)),\n",
       " ('2m', (2, 0)),\n",
       " ('1m1c', (1, 1)),\n",
       " ('2m', (2, 0)),\n",
       " ('1c', (0, 1)),\n",
       " ('2c', (0, 2)),\n",
       " ('1c', (0, 1)),\n",
       " ('2c', (0, 2))]"
      ]
     },
     "execution_count": 46,
     "metadata": {},
     "output_type": "execute_result"
    }
   ],
   "source": [
    "%%time\n",
    "astar_search(estado, heuristica).solution()"
   ]
  },
  {
   "cell_type": "code",
   "execution_count": 49,
   "metadata": {},
   "outputs": [
    {
     "name": "stdout",
     "output_type": "stream",
     "text": [
      "10000 loops, best of 3: 143 µs per loop\n"
     ]
    }
   ],
   "source": [
    "%%timeit\n",
    "astar_search(estado, heuristica).solution()"
   ]
  },
  {
   "cell_type": "code",
   "execution_count": 47,
   "metadata": {},
   "outputs": [
    {
     "name": "stdout",
     "output_type": "stream",
     "text": [
      "Longitud de la solución: 11. Nodos analizados: 14\n"
     ]
    }
   ],
   "source": [
    "problema_metricas   = ProblemaConMetricas(problema_misioneros)\n",
    "resuelve_y_muestra_metricas(problema_metricas, astar_search, heuristica)"
   ]
  },
  {
   "cell_type": "markdown",
   "metadata": {},
   "source": [
    "Los resultados muestran que la búsqueda ciega en profundidad analiza menos nodos que la búsqueda guiada por nuestra heurística. Esto, junto con el mayor coste algorítmico causado por el añadido de complejidad de la heurística hace que también en los tiempos de ejecución se refleje un empeoramiento con respecto a los métodos de búsqueda no informados.\n",
    "\n",
    "La conclusión que podemos obtener es que, dada la escasa complejidad (en cuanto a tamaño del árbol de exploración) del problema y dada la existencia de soluciones a baja profundidad (con un bajo número de operaciones), el uso de una heurística si bien no supone un empeoramiento sustancial del tiempo ni memoria empleada en la resolución del problema (gracias a que la heurística es de cómputo en coste constante y bajo), si que es innecesaria para este problema en concreto.\n",
    "\n",
    "Si en vez de tratar el problema de los misioneros (3 misioneros y 3 caníbales) tratásemos el problema de las Jornadas Mundiales de la Juventud (JMJ, con 3000 misioneros y 3000 jóvenes caníbales) el uso de una heurística sería absolutamente imprescindible y los métodos de búsqueda ciega resultarían inaplicables."
   ]
  },
  {
   "cell_type": "markdown",
   "metadata": {},
   "source": [
    "##### Autores: Francisco Javier Blázquez Martínez, Boris Carballa Corredoira, Juan Carlos Villanueva Quirós"
   ]
  }
 ],
 "metadata": {
  "kernelspec": {
   "display_name": "Python 3",
   "language": "python",
   "name": "python3"
  },
  "language_info": {
   "codemirror_mode": {
    "name": "ipython",
    "version": 3
   },
   "file_extension": ".py",
   "mimetype": "text/x-python",
   "name": "python",
   "nbconvert_exporter": "python",
   "pygments_lexer": "ipython3",
   "version": "3.6.8"
  }
 },
 "nbformat": 4,
 "nbformat_minor": 2
}
