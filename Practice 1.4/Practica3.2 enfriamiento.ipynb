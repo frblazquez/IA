{
 "cells": [
  {
   "cell_type": "markdown",
   "metadata": {},
   "source": [
    "#### What's up bros? Editar este encabezado"
   ]
  },
  {
   "cell_type": "code",
   "execution_count": 4,
   "metadata": {},
   "outputs": [],
   "source": [
    "from search import *"
   ]
  },
  {
   "cell_type": "code",
   "execution_count": 8,
   "metadata": {},
   "outputs": [],
   "source": [
    "NOT_QUALIFIED = -1\n",
    "\n",
    "class WorkersOrganizationProblem(Problem):\n",
    "    \"\"\"Problem of finding how to organize workers for doing some tasks as quick as possible\"\"\"\n",
    "\n",
    "    def __init__(self, initial, timetable, task_restrictions):\n",
    "        Problem.__init__(self, initial)\n",
    "        \n",
    "        self.workers_time = timetable           ## Time for each worker for doing each task (can be NOT_QUALIFIED)\n",
    "        self.num_tasks    = len(timetable)      ## Number of tasks (number of columns of the timetable)\n",
    "        self.num_workers  = len(timetable[0])   ## Number of workers (number of rows of the timetable)\n",
    "        #self.restrictions = task_restrictions  ## Pairs (i,j) which means task i has to end it's execution before task j starts\n",
    "        assert self.n > 0\n",
    "        assert self.m > 0\n",
    "        \n",
    "        ## Si para muchas comprobaciones suponemos que las tareas, numeradas en base a su índice de columna\n",
    "        ## de la tabla timetable ya están ordenadas por restricciones, aquí debemos asegurar esto.\n",
    "        \n",
    "        ## Si consideramos una forma más eficiente para nuestras comprobaciones de organizar las restricciones\n",
    "        ## como puede ser tener una lista de listas, aquí es el momento de inicializar esta.\n",
    "        \n",
    "        self.restrictions = [] ## self.restrictions[i] = tareas que deben terminar antes de ejecutar la tarea i\n",
    "        \n",
    "        for j in range(self.num_tasks):\n",
    "            restrictions_j = []\n",
    "            for i in range(len(task_restrictions)):\n",
    "                if (i,j) in task_restrictions:\n",
    "                    restrictions_j.append(i)\n",
    "            self.restrictions.append(restrictions_j)\n",
    "                \n",
    "        \n",
    "    def actions(self, state):\n",
    "        \"\"\"Returns the list of actions which are allowed to be taken from the given state\"\"\"\n",
    "        allowed_actions = []\n",
    "        for action in self.defined_actions:\n",
    "            next_state = vector_add(state, self.defined_actions[action])\n",
    "            if next_state[0] >= 0 and next_state[1] >= 0 and next_state[0] < self.n and next_state[1] < self.m:\n",
    "                allowed_actions.append(action)\n",
    "\n",
    "        return allowed_actions\n",
    "\n",
    "    def result(self, state, action):\n",
    "        \"\"\"Moves in the direction specified by action\"\"\"\n",
    "        return vector_add(state, self.defined_actions[action])\n",
    "\n",
    "    def value(self, state):\n",
    "        \"\"\"Value of a state is the value it is the index to\"\"\"\n",
    "        x, y = state\n",
    "        assert 0 <= x < self.n\n",
    "        assert 0 <= y < self.m\n",
    "        return self.grid[x][y]"
   ]
  },
  {
   "cell_type": "code",
   "execution_count": null,
   "metadata": {},
   "outputs": [],
   "source": []
  }
 ],
 "metadata": {
  "kernelspec": {
   "display_name": "Python 3",
   "language": "python",
   "name": "python3"
  },
  "language_info": {
   "codemirror_mode": {
    "name": "ipython",
    "version": 3
   },
   "file_extension": ".py",
   "mimetype": "text/x-python",
   "name": "python",
   "nbconvert_exporter": "python",
   "pygments_lexer": "ipython3",
   "version": "3.6.9"
  }
 },
 "nbformat": 4,
 "nbformat_minor": 2
}
