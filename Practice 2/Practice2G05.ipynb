{
 "cells": [
  {
   "cell_type": "markdown",
   "metadata": {},
   "source": [
    "# Práctica 2.A Toma de contacto con AIMA"
   ]
  },
  {
   "cell_type": "markdown",
   "metadata": {},
   "source": [
    "La práctica está organizada en 3 partes. En la primera se muestra a través de ejemplos cómo se implementan algunos problemas clásicos como el de las jarras o el problema del ocho puzzle. En la segunda parte se muestra el uso de los algoritmos de búsqueda. En la tercera parte aprenderemos a medir las propiedades de los algoritmos.\n",
    "En el notebook encontraras claramente identificados los lugares en los que debes incluir código o comentarios. "
   ]
  },
  {
   "cell_type": "markdown",
   "metadata": {},
   "source": [
    "## Parte I: Representación de problemas de espacios de estados.\n",
    "\n",
    "### El primer paso es importar el código que necesitamos de search.py de AIMA y usar la clase Problem. En esta parte en vez de importarla la hemos copiado aquí para la explicación."
   ]
  },
  {
   "cell_type": "markdown",
   "metadata": {},
   "source": [
    "Como hemos visto en clase la representación de un problema de espacio de estados consiste en:\n",
    "* Representar estados y acciones mediante una estructura de datos.\n",
    "* Definir: estado_inicial, es_estado_final(_), acciones(_), aplica(_,_) y\n",
    "  coste_de_aplicar_accion, si el problema tiene coste.\n",
    "\n",
    " La siguiente clase Problem representa este esquema general de cualquier\n",
    " problema de espacio de estados. Un problema concreto será una subclase de\n",
    " Problema, y requerirá implementar acciones, aplica y eventualmente __init__, actions,\n",
    " goal_test. La función coste_de_aplicar_accion la hemos incluido nosotros."
   ]
  },
  {
   "cell_type": "code",
   "execution_count": 1,
   "metadata": {},
   "outputs": [],
   "source": [
    "from search import *"
   ]
  },
  {
   "cell_type": "code",
   "execution_count": 2,
   "metadata": {},
   "outputs": [],
   "source": [
    "   class Problem(object):\n",
    "\n",
    "    \"\"\"The abstract class for a formal problem. You should subclass\n",
    "    this and implement the methods actions and result, and possibly\n",
    "    __init__, goal_test, and path_cost. Then you will create instances\n",
    "    of your subclass and solve them with the various search functions.\"\"\"\n",
    "\n",
    "    def __init__(self, initial, goal=None):\n",
    "        \"\"\"The constructor specifies the initial state, and possibly a goal\n",
    "        state, if there is a unique goal. Your subclass's constructor can add\n",
    "        other arguments.\"\"\"\n",
    "        self.initial = initial\n",
    "        self.goal = goal\n",
    "\n",
    "    def actions(self, state):\n",
    "        \"\"\"Return the actions that can be executed in the given\n",
    "        state. The result would typically be a list, but if there are\n",
    "        many actions, consider yielding them one at a time in an\n",
    "        iterator, rather than building them all at once.\"\"\"\n",
    "        raise NotImplementedError\n",
    "\n",
    "    def result(self, state, action):\n",
    "        \"\"\"Return the state that results from executing the given\n",
    "        action in the given state. The action must be one of\n",
    "        self.actions(state).\"\"\"\n",
    "        raise NotImplementedError\n",
    "\n",
    "    def goal_test(self, state):\n",
    "        \"\"\"Return True if the state is a goal. The default method compares the\n",
    "        state to self.goal or checks for state in self.goal if it is a\n",
    "        list, as specified in the constructor. Override this method if\n",
    "        checking against a single self.goal is not enough.\"\"\"\n",
    "        if isinstance(self.goal, list):\n",
    "            return is_in(state, self.goal)\n",
    "        else:\n",
    "            return state == self.goal\n",
    "\n",
    "    def path_cost(self, c, state1, action, state2):\n",
    "        \"\"\"Return the cost of a solution path that arrives at state2 from\n",
    "        state1 via action, assuming cost c to get up to state1. If the problem\n",
    "        is such that the path doesn't matter, this function will only look at\n",
    "        state2.  If the path does matter, it will consider c and maybe state1\n",
    "        and action. The default method costs 1 for every step in the path.\"\"\"\n",
    "        return c + 1\n",
    "\n",
    "    def value(self, state):\n",
    "        \"\"\"For optimization problems, each state has a value.  Hill-climbing\n",
    "        and related algorithms try to maximize this value.\"\"\"\n",
    "        raise NotImplementedError\n",
    "\n",
    "    def coste_de_aplicar_accion(self, estado, accion):\n",
    "        \"\"\"Hemos incluido está función que devuelve el coste de un único operador (aplicar accion a estado). Por defecto, este\n",
    "        coste es 1. Reimplementar si el problema define otro coste \"\"\" \n",
    "        return 1"
   ]
  },
  {
   "cell_type": "markdown",
   "metadata": {},
   "source": [
    "Ahora vamos a ver un ejemplo de cómo definir un problema como subclase\n",
    "de problema. En concreto, el problema de las jarras, visto en clase que es muy sencillo. "
   ]
  },
  {
   "cell_type": "code",
   "execution_count": 3,
   "metadata": {},
   "outputs": [],
   "source": [
    "class Jarras(Problem):\n",
    "    \"\"\"Problema de las jarras:\n",
    "    Representaremos los estados como tuplas (x,y) de dos números enteros,\n",
    "    donde x es el número de litros de la jarra de 4 e y es el número de litros\n",
    "    de la jarra de 3\"\"\"\n",
    "\n",
    "    \n",
    "    def __init__(self):\n",
    "        self.initial = (0,0)\n",
    "\n",
    "    def actions(self,estado):\n",
    "        jarra_de_4=estado[0]\n",
    "        jarra_de_3=estado[1]\n",
    "        accs=list()\n",
    "        if jarra_de_4 > 0:\n",
    "            accs.append(\"vaciar jarra de 4\")\n",
    "            if jarra_de_3 < 3:\n",
    "                accs.append(\"trasvasar de jarra de 4 a jarra de 3\")\n",
    "        if jarra_de_4 < 4:\n",
    "            accs.append(\"llenar jarra de 4\")\n",
    "            if jarra_de_3 > 0:\n",
    "                accs.append(\"trasvasar de jarra de 3 a jarra de 4\")\n",
    "        if jarra_de_3 > 0:\n",
    "            accs.append(\"vaciar jarra de 3\")\n",
    "        if jarra_de_3 < 3:\n",
    "            accs.append(\"llenar jarra de 3\")\n",
    "        return accs\n",
    "\n",
    "    def result(self,estado,accion):\n",
    "        j4=estado[0]\n",
    "        j3=estado[1]\n",
    "        if accion==\"llenar jarra de 4\":\n",
    "            return (4,j3)\n",
    "        elif accion==\"llenar jarra de 3\":\n",
    "            return (j4,3)\n",
    "        elif accion==\"vaciar jarra de 4\":\n",
    "            return (0,j3)\n",
    "        elif accion==\"vaciar jarra de 3\":\n",
    "            return (j4,0)\n",
    "        elif accion==\"trasvasar de jarra de 4 a jarra de 3\":\n",
    "            return (j4-3+j3,3) if j3+j4 >= 3 else (0,j3+j4)\n",
    "        else: #  \"trasvasar de jarra de 3 a jarra de 4\"\n",
    "            return (j3+j4,0) if j3+j4 <= 4 else (4,j3-4+j4)\n",
    "\n",
    "    def goal_test(self,estado):\n",
    "        return estado[0]==2\n"
   ]
  },
  {
   "cell_type": "markdown",
   "metadata": {},
   "source": [
    "Vamos a probar algunos ejemplos."
   ]
  },
  {
   "cell_type": "code",
   "execution_count": 4,
   "metadata": {},
   "outputs": [
    {
     "data": {
      "text/plain": [
       "(0, 0)"
      ]
     },
     "execution_count": 4,
     "metadata": {},
     "output_type": "execute_result"
    }
   ],
   "source": [
    "p =Jarras()\n",
    "p.initial"
   ]
  },
  {
   "cell_type": "code",
   "execution_count": 5,
   "metadata": {},
   "outputs": [
    {
     "data": {
      "text/plain": [
       "['llenar jarra de 4', 'llenar jarra de 3']"
      ]
     },
     "execution_count": 5,
     "metadata": {},
     "output_type": "execute_result"
    }
   ],
   "source": [
    "p.actions(p.initial)"
   ]
  },
  {
   "cell_type": "code",
   "execution_count": 6,
   "metadata": {},
   "outputs": [
    {
     "data": {
      "text/plain": [
       "(4, 0)"
      ]
     },
     "execution_count": 6,
     "metadata": {},
     "output_type": "execute_result"
    }
   ],
   "source": [
    "p.result(p.initial,\"llenar jarra de 4\")"
   ]
  },
  {
   "cell_type": "code",
   "execution_count": 7,
   "metadata": {},
   "outputs": [
    {
     "data": {
      "text/plain": [
       "1"
      ]
     },
     "execution_count": 7,
     "metadata": {},
     "output_type": "execute_result"
    }
   ],
   "source": [
    "p.coste_de_aplicar_accion(p.initial,\"llenar jarra de 4\")"
   ]
  },
  {
   "cell_type": "code",
   "execution_count": 8,
   "metadata": {},
   "outputs": [
    {
     "data": {
      "text/plain": [
       "False"
      ]
     },
     "execution_count": 8,
     "metadata": {},
     "output_type": "execute_result"
    }
   ],
   "source": [
    "p.goal_test(p.initial)"
   ]
  },
  {
   "cell_type": "markdown",
   "metadata": {},
   "source": [
    "# Representa el problema del puzzle de 8"
   ]
  },
  {
   "cell_type": "markdown",
   "metadata": {},
   "source": [
    "Ahora vamos a definir la clase Ocho_Puzzle, que implementa la representación del problema del 8-puzzle visto en clase. \n",
    "Se os proporciona una versión incompleta y tendréis que completar el código que se presenta a continuación, en los lugares marcados con interrogantes."
   ]
  },
  {
   "cell_type": "markdown",
   "metadata": {},
   "source": [
    "### 8 Puzzle \n",
    "\n",
    "Tablero 3x3 cuyo objetivo es mover la configuración de las piezas desde un estado inicial dado a un estado objetivo moviendo las fichas al espacio en blanco. \n",
    "\n",
    "ejemplo:- \n",
    "\n",
    "                  Inicial                             Goal \n",
    "              | 7 | 2 | 4 |                       | 1 | 2 | 3 |\n",
    "              | 5 | 0 | 6 |                       | 4 | 5 | 6 |\n",
    "              | 8 | 3 | 1 |                       | 7 | 8 | 0 |\n",
    "              \n",
    "Hay 9! configuraciones iniciales pero ojo! porque no todas tienen solución. Tenlo en cuenta al hacer las pruebas. "
   ]
  },
  {
   "cell_type": "markdown",
   "metadata": {},
   "source": [
    "### EJERCICIO 1. COMPLETA LA DEFINICIÓN DE LOS OPERADORES. "
   ]
  },
  {
   "cell_type": "code",
   "execution_count": 9,
   "metadata": {},
   "outputs": [],
   "source": [
    "class Ocho_Puzzle(Problem):\n",
    "    \"\"\"Problema a del 8-puzzle.  Los estados serán tuplas de nueve elementos,\n",
    "    permutaciones de los números del 0 al 8 (el 0 es el hueco). Representan la\n",
    "    disposición de las fichas en el tablero, leídas por filas de arriba a\n",
    "    abajo, y dentro de cada fila, de izquierda a derecha. Las cuatro\n",
    "    acciones del problema las representaremos mediante las cadenas:\n",
    "    \"Mover hueco arriba\", \"Mover hueco abajo\", \"Mover hueco izquierda\" y\n",
    "    \"Mover hueco derecha\", respectivamente.\"\"\"\"\"\n",
    "\n",
    "    def __init__(self, initial, goal=(1, 2, 3, 4, 5, 6, 7, 8, 0)):\n",
    "        \"\"\" Define goal state and initialize a problem \"\"\"\n",
    "        self.goal = goal\n",
    "        Problem.__init__(self, initial, goal)\n",
    "    \n",
    "    def actions(self,estado):\n",
    "        pos_hueco=estado.index(0) # busco la posicion del 0\n",
    "        accs=list()\n",
    "        if pos_hueco not in (0,1,2):\n",
    "            accs.append(\"Mover hueco arriba\")\n",
    "        \n",
    "        ### EJERCICIO 1.1. COMPLETA LA DEFINICIÓN DE LOS OPERADORES. \n",
    "        \n",
    "        if pos_hueco not in (0, 3, 6):\n",
    "            accs.append(\"Mover hueco izquierda\")\n",
    "        \n",
    "        if pos_hueco not in (6, 7, 8):\n",
    "            accs.append(\"Mover hueco abajo\")\n",
    "        \n",
    "        if pos_hueco not in (2, 5, 8):\n",
    "            accs.append(\"Mover hueco derecha\")\n",
    "        return accs     \n",
    "\n",
    "    def result(self,estado,accion):\n",
    "        pos_hueco = estado.index(0)\n",
    "        l = list(estado)\n",
    "        if accion == \"Mover hueco arriba\":\n",
    "            l[pos_hueco] = l[pos_hueco-3]\n",
    "            l[pos_hueco-3] = 0\n",
    "        \n",
    "       ### EJERCICIO 1.2. COMPLETA LA DEFINICIÓN DE LOS OPERADORES. \n",
    "        \n",
    "        if accion == \"Mover hueco izquierda\":\n",
    "            l[pos_hueco] = l[pos_hueco-1]\n",
    "            l[pos_hueco-1] = 0\n",
    "        if accion == \"Mover hueco abajo\":\n",
    "            l[pos_hueco] = l[pos_hueco+3]\n",
    "            l[pos_hueco+3] = 0\n",
    "        if accion == \"Mover hueco derecha\":\n",
    "            l[pos_hueco] = l[pos_hueco+1]\n",
    "            l[pos_hueco+1] = 0\n",
    "            \n",
    "        return tuple(l)\n",
    "    \n",
    "    def h(self, node):\n",
    "        #\"Return the heuristic value for a given state\". \n",
    "        return 1"
   ]
  },
  {
   "cell_type": "markdown",
   "metadata": {},
   "source": [
    "### Ejercicio 1.3. Probar los siguientes ejemplos que se pueden ejecutar una vez se ha definido la clase:"
   ]
  },
  {
   "cell_type": "code",
   "execution_count": 10,
   "metadata": {},
   "outputs": [
    {
     "data": {
      "text/plain": [
       "(2, 8, 3, 1, 6, 4, 7, 0, 5)"
      ]
     },
     "execution_count": 10,
     "metadata": {},
     "output_type": "execute_result"
    }
   ],
   "source": [
    "p8 = Ocho_Puzzle((2, 8, 3, 1, 6, 4, 7, 0, 5))\n",
    "p8.initial"
   ]
  },
  {
   "cell_type": "code",
   "execution_count": 11,
   "metadata": {},
   "outputs": [
    {
     "data": {
      "text/plain": [
       "['Mover hueco arriba', 'Mover hueco izquierda', 'Mover hueco derecha']"
      ]
     },
     "execution_count": 11,
     "metadata": {},
     "output_type": "execute_result"
    }
   ],
   "source": [
    "p8.actions(p8.initial)\n",
    "#Respuesta: ['Mover hueco arriba', 'Mover hueco izquierda', 'Mover hueco derecha']"
   ]
  },
  {
   "cell_type": "code",
   "execution_count": 12,
   "metadata": {},
   "outputs": [
    {
     "data": {
      "text/plain": [
       "(2, 8, 3, 1, 0, 4, 7, 6, 5)"
      ]
     },
     "execution_count": 12,
     "metadata": {},
     "output_type": "execute_result"
    }
   ],
   "source": [
    "p8.result(p8.initial,\"Mover hueco arriba\")"
   ]
  },
  {
   "cell_type": "code",
   "execution_count": 13,
   "metadata": {},
   "outputs": [],
   "source": [
    "# Crash debido a que no puede moverse hacia abajo\n",
    "# p8.result(p8.initial,\"Mover hueco abajo\")"
   ]
  },
  {
   "cell_type": "code",
   "execution_count": 14,
   "metadata": {},
   "outputs": [
    {
     "data": {
      "text/plain": [
       "(2, 8, 3, 1, 6, 4, 7, 5, 0)"
      ]
     },
     "execution_count": 14,
     "metadata": {},
     "output_type": "execute_result"
    }
   ],
   "source": [
    "p8.result(p8.initial,\"Mover hueco derecha\")"
   ]
  },
  {
   "cell_type": "code",
   "execution_count": 15,
   "metadata": {},
   "outputs": [
    {
     "data": {
      "text/plain": [
       "1"
      ]
     },
     "execution_count": 15,
     "metadata": {},
     "output_type": "execute_result"
    }
   ],
   "source": [
    "p8.coste_de_aplicar_accion(p8.initial,\"Mover hueco abajo\")"
   ]
  },
  {
   "cell_type": "markdown",
   "metadata": {},
   "source": [
    "## Parte II: Experimentación con los algoritmos implementados. Ejecución de los algoritmos de búsqueda de soluciones para una instancia del Problema."
   ]
  },
  {
   "cell_type": "markdown",
   "metadata": {},
   "source": [
    "### Usaremos búsqueda en anchura y en profundidad para encontrar soluciones tanto al problema de las jarras como al problema del ocho puzzle con distintos estados iniciales."
   ]
  },
  {
   "cell_type": "code",
   "execution_count": 16,
   "metadata": {},
   "outputs": [],
   "source": [
    "# Cargamos el módulo con los algoritmos de búsqueda.\n",
    "from search import *\n",
    "from search import breadth_first_tree_search, depth_first_tree_search, depth_first_graph_search, breadth_first_graph_search"
   ]
  },
  {
   "cell_type": "code",
   "execution_count": 17,
   "metadata": {},
   "outputs": [
    {
     "data": {
      "text/plain": [
       "['llenar jarra de 4',\n",
       " 'trasvasar de jarra de 4 a jarra de 3',\n",
       " 'vaciar jarra de 3',\n",
       " 'trasvasar de jarra de 4 a jarra de 3',\n",
       " 'llenar jarra de 4',\n",
       " 'trasvasar de jarra de 4 a jarra de 3']"
      ]
     },
     "execution_count": 17,
     "metadata": {},
     "output_type": "execute_result"
    }
   ],
   "source": [
    "breadth_first_tree_search(Jarras()).solution()"
   ]
  },
  {
   "cell_type": "code",
   "execution_count": 18,
   "metadata": {},
   "outputs": [
    {
     "data": {
      "text/plain": [
       "['llenar jarra de 3',\n",
       " 'trasvasar de jarra de 3 a jarra de 4',\n",
       " 'llenar jarra de 3',\n",
       " 'trasvasar de jarra de 3 a jarra de 4',\n",
       " 'vaciar jarra de 4',\n",
       " 'trasvasar de jarra de 3 a jarra de 4']"
      ]
     },
     "execution_count": 18,
     "metadata": {},
     "output_type": "execute_result"
    }
   ],
   "source": [
    "depth_first_graph_search(Jarras()).solution()"
   ]
  },
  {
   "cell_type": "markdown",
   "metadata": {},
   "source": [
    "### Ejercicio 2. Prueba los algoritmos de búsqueda ciega con el puzzle de 8"
   ]
  },
  {
   "cell_type": "code",
   "execution_count": 19,
   "metadata": {},
   "outputs": [
    {
     "data": {
      "text/plain": [
       "(2, 8, 3, 1, 6, 4, 7, 0, 5)"
      ]
     },
     "execution_count": 19,
     "metadata": {},
     "output_type": "execute_result"
    }
   ],
   "source": [
    "p8 = Ocho_Puzzle((2, 8, 3, 1, 6, 4, 7, 0, 5))\n",
    "p8.initial"
   ]
  },
  {
   "cell_type": "code",
   "execution_count": 20,
   "metadata": {},
   "outputs": [
    {
     "data": {
      "text/plain": [
       "(1, 2, 3, 4, 5, 6, 7, 8, 0)"
      ]
     },
     "execution_count": 20,
     "metadata": {},
     "output_type": "execute_result"
    }
   ],
   "source": [
    "p8.goal"
   ]
  },
  {
   "cell_type": "code",
   "execution_count": 21,
   "metadata": {},
   "outputs": [],
   "source": [
    "# ------------- NO FINALIZA --------------\n",
    "# Busqueda en anchura sin control de repetidos.  \n",
    "# Busqueda en anchura es completo.. debería terminar...  ¿qué crees que está pasando?\n",
    "#\n",
    "# breadth_first_tree_search(Ocho_Puzzle((2, 8, 3, 1, 6, 4, 7, 0, 5))).solution()"
   ]
  },
  {
   "cell_type": "markdown",
   "metadata": {},
   "source": [
    "Que la búsqueda en anchura sea completa significa que, de haber solución, la encuentra. Sin embargo, dado ese estado inicial, el problema no tiene solución (comprobado en la funcion check_solvability). Por lo tanto no para de generar nodos y no acabará nunca (o cuando se quede sin memoria)"
   ]
  },
  {
   "cell_type": "code",
   "execution_count": 22,
   "metadata": {},
   "outputs": [
    {
     "data": {
      "text/plain": [
       "['Mover hueco derecha', 'Mover hueco derecha']"
      ]
     },
     "execution_count": 22,
     "metadata": {},
     "output_type": "execute_result"
    }
   ],
   "source": [
    "breadth_first_tree_search(Ocho_Puzzle((1,2,3,4,5,6,0,7,8))).solution()"
   ]
  },
  {
   "cell_type": "code",
   "execution_count": 23,
   "metadata": {},
   "outputs": [],
   "source": [
    "estado = Ocho_Puzzle((2, 4, 3, 1, 5, 6, 7, 8, 0))"
   ]
  },
  {
   "cell_type": "code",
   "execution_count": 24,
   "metadata": {
    "scrolled": true
   },
   "outputs": [
    {
     "data": {
      "text/plain": [
       "['Mover hueco arriba',\n",
       " 'Mover hueco izquierda',\n",
       " 'Mover hueco arriba',\n",
       " 'Mover hueco izquierda',\n",
       " 'Mover hueco abajo',\n",
       " 'Mover hueco derecha',\n",
       " 'Mover hueco derecha',\n",
       " 'Mover hueco abajo']"
      ]
     },
     "execution_count": 24,
     "metadata": {},
     "output_type": "execute_result"
    }
   ],
   "source": [
    "breadth_first_tree_search(estado).solution()\n",
    "# Respuesta: ['UP', 'LEFT', 'UP', 'LEFT', 'DOWN', 'RIGHT', 'RIGHT', 'DOWN']"
   ]
  },
  {
   "cell_type": "code",
   "execution_count": 25,
   "metadata": {},
   "outputs": [],
   "source": [
    "# ------------- NO FINALIZA --------------\n",
    "# Ver conclusiones expuestas más abajo para más información\n",
    "#\n",
    "# depth_first_graph_search(estado).solution()"
   ]
  },
  {
   "cell_type": "code",
   "execution_count": 26,
   "metadata": {},
   "outputs": [
    {
     "data": {
      "text/plain": [
       "['Mover hueco arriba',\n",
       " 'Mover hueco izquierda',\n",
       " 'Mover hueco arriba',\n",
       " 'Mover hueco izquierda',\n",
       " 'Mover hueco abajo',\n",
       " 'Mover hueco derecha',\n",
       " 'Mover hueco derecha',\n",
       " 'Mover hueco abajo']"
      ]
     },
     "execution_count": 26,
     "metadata": {},
     "output_type": "execute_result"
    }
   ],
   "source": [
    "breadth_first_graph_search(estado).solution()"
   ]
  },
  {
   "cell_type": "markdown",
   "metadata": {},
   "source": [
    "#### En este ejercicio se ha podido observar los resultados y tiempo de la ejecución de los algoritmos de búsqueda ciega.  Escribe aquí tus conclusiones:\n",
    "\n",
    "La llamada a breadth_first_tree_search(estado).solution() nos muestra la solución más corta.\n",
    "La llamada a breadth_first_graph_search(estado).solution() tiene control de repetidos, por lo que para casos grandes será mas rápida que la anterior (en casos pequeños puede no compensar por el coste de controlar los nodos repetidos). En este caso sin embargo ambos algoritmos muestran la misma solución.\n",
    "\n",
    "Analicemos un poco más a fondo depth_first_graph_search(estado).solution():\n",
    "Como la funcion actions devuelve las posibles acciones en este orden: arriba,izquierda,abajo,derecha hará (arriba,arriba,...) y tiene que calcular todas las hojas posibles antes de pasar a la rama (arriba, izquierda,...) por lo que tiene que calcular una gran parte del árbol total antes de encontrar la solución. Sin embargo, tiene que terminar en algún momento ya que tiene control de repetidos y tiene solución."
   ]
  },
  {
   "cell_type": "markdown",
   "metadata": {},
   "source": [
    "### Ejercicio 3: definir al menos las siguientes funciones heurísticas para el 8 puzzle:\n",
    "* linear(node): cuenta el número de casillas mal colocadas respecto al estado final.\n",
    "* manhattan(node): suma la distancia Manhattan desde cada casilla a la posición en la que debería estar en el estado final.\n",
    "* max_heuristic(node: maximo de las dos anteriores\n",
    "* sqrt_manhattan(node):  raíz cuadrada de la distancia Manhattan"
   ]
  },
  {
   "cell_type": "code",
   "execution_count": 27,
   "metadata": {},
   "outputs": [],
   "source": [
    "# Heuristicas para el 8 Puzzle \n",
    "\n",
    "def linear(node):\n",
    "    #goal = node.state.goal\n",
    "    bad = 0\n",
    "    goal = (1,2,3,4,5,6,7,8,0)\n",
    "    state = node.state\n",
    "    for i in range(0,8):\n",
    "        if state[i]!=goal[i]:\n",
    "            bad += 1\n",
    "            \n",
    "    return bad\n",
    "\n",
    "def manhattan(node):\n",
    "    state = node.state\n",
    "    goal = (1,2,3,4,5,6,7,8,0)\n",
    "    mhd = 0\n",
    "    for i in range(0,8): # columnas y filas empiezan en 0\n",
    "        row_i = i // 3\n",
    "        col_i = i % 3\n",
    "        num = state[i]\n",
    "        if num != 0:\n",
    "            row_goal_num = (num-1) // 3 #division entera, se resta 1 porque goal no empieza en 0\n",
    "            col_goal_num = (num-1) % 3\n",
    "        else: # el 0 es un caso distinto porque no está colocado en goal en su sitio 'natural'\n",
    "            row_goal_num = 2\n",
    "            col_goal_num = 2\n",
    "        mhd += abs(row_goal_num - row_i) + abs(col_goal_num - col_i)\n",
    "    \n",
    "    return mhd\n",
    "\n",
    "def sqrt_manhattan(node):\n",
    "    #state = node.state\n",
    "    \n",
    "    mhd = manhattan(node)\n",
    "    \n",
    "    return math.sqrt(mhd)\n",
    "\n",
    "def max_heuristic(node):\n",
    "    score1 = manhattan(node)\n",
    "    score2 = linear(node)\n",
    "    return max(score1, score2)\n",
    "        "
   ]
  },
  {
   "cell_type": "markdown",
   "metadata": {},
   "source": [
    "### Ejercicio 4. \n",
    "Usar las implementaciones de los algoritmos que correspondan a búsqueda_coste_uniforme, busqueda_primero_el_mejor y búsqueda_a_estrella (con las heurísticas anteriores) para resolver el problema del 8 puzzle para el siguiente estado inicial y comparar los costes temporales usando %timeit y comentar los resultados.\n",
    "\n",
    "              +---+---+---+\n",
    "              | 2 | 4 | 3 |\n",
    "              +---+---+---+\n",
    "              | 1 | 5 | 6 |\n",
    "              +---+---+---+\n",
    "              | 7 | 8 | H |\n",
    "              +---+---+---+\n"
   ]
  },
  {
   "cell_type": "code",
   "execution_count": 28,
   "metadata": {},
   "outputs": [
    {
     "data": {
      "text/plain": [
       "['Mover hueco arriba',\n",
       " 'Mover hueco izquierda',\n",
       " 'Mover hueco arriba',\n",
       " 'Mover hueco izquierda',\n",
       " 'Mover hueco abajo',\n",
       " 'Mover hueco derecha',\n",
       " 'Mover hueco derecha',\n",
       " 'Mover hueco abajo']"
      ]
     },
     "execution_count": 28,
     "metadata": {},
     "output_type": "execute_result"
    }
   ],
   "source": [
    "puzle = Ocho_Puzzle((2, 4, 3, 1, 5, 6, 7, 8, 0)) \n",
    "astar_search(puzle).solution()"
   ]
  },
  {
   "cell_type": "code",
   "execution_count": 29,
   "metadata": {},
   "outputs": [
    {
     "data": {
      "text/plain": [
       "['Mover hueco arriba',\n",
       " 'Mover hueco izquierda',\n",
       " 'Mover hueco arriba',\n",
       " 'Mover hueco izquierda',\n",
       " 'Mover hueco abajo',\n",
       " 'Mover hueco derecha',\n",
       " 'Mover hueco derecha',\n",
       " 'Mover hueco abajo']"
      ]
     },
     "execution_count": 29,
     "metadata": {},
     "output_type": "execute_result"
    }
   ],
   "source": [
    "astar_search(puzle,manhattan).solution()"
   ]
  },
  {
   "cell_type": "code",
   "execution_count": 30,
   "metadata": {},
   "outputs": [
    {
     "data": {
      "text/plain": [
       "(2, 4, 3, 1, 5, 6, 7, 8, 0)"
      ]
     },
     "execution_count": 30,
     "metadata": {},
     "output_type": "execute_result"
    }
   ],
   "source": [
    "puzle.initial"
   ]
  },
  {
   "cell_type": "code",
   "execution_count": 31,
   "metadata": {},
   "outputs": [
    {
     "data": {
      "text/plain": [
       "(1, 2, 3, 4, 5, 6, 7, 8, 0)"
      ]
     },
     "execution_count": 31,
     "metadata": {},
     "output_type": "execute_result"
    }
   ],
   "source": [
    "puzle.goal"
   ]
  },
  {
   "cell_type": "code",
   "execution_count": 32,
   "metadata": {},
   "outputs": [
    {
     "data": {
      "text/plain": [
       "['Mover hueco arriba',\n",
       " 'Mover hueco izquierda',\n",
       " 'Mover hueco arriba',\n",
       " 'Mover hueco izquierda',\n",
       " 'Mover hueco abajo',\n",
       " 'Mover hueco derecha',\n",
       " 'Mover hueco derecha',\n",
       " 'Mover hueco abajo']"
      ]
     },
     "execution_count": 32,
     "metadata": {},
     "output_type": "execute_result"
    }
   ],
   "source": [
    "astar_search(puzle,linear).solution()"
   ]
  },
  {
   "cell_type": "code",
   "execution_count": 33,
   "metadata": {},
   "outputs": [
    {
     "data": {
      "text/plain": [
       "['Mover hueco arriba',\n",
       " 'Mover hueco izquierda',\n",
       " 'Mover hueco arriba',\n",
       " 'Mover hueco izquierda',\n",
       " 'Mover hueco abajo',\n",
       " 'Mover hueco derecha',\n",
       " 'Mover hueco derecha',\n",
       " 'Mover hueco abajo']"
      ]
     },
     "execution_count": 33,
     "metadata": {},
     "output_type": "execute_result"
    }
   ],
   "source": [
    "astar_search(puzle,max_heuristic).solution()"
   ]
  },
  {
   "cell_type": "markdown",
   "metadata": {},
   "source": [
    "¿Has notado diferencias en los tiempos de ejecución? Vamos a medirlo.Aunque las heurísticas no afectan a la solución obtenida sí hay diferencias importantes en el tiempo de cálculo\n",
    "<br>"
   ]
  },
  {
   "cell_type": "code",
   "execution_count": 34,
   "metadata": {},
   "outputs": [],
   "source": [
    "puzzle_1 = Ocho_Puzzle((2, 4, 3, 1, 5, 6, 7, 8, 0))\n",
    "puzzle_2 = Ocho_Puzzle((1, 2, 3, 4, 5, 6, 0, 7, 8))\n",
    "puzzle_3 = Ocho_Puzzle((1, 2, 3, 4, 5, 7, 8, 6, 0))"
   ]
  },
  {
   "cell_type": "code",
   "execution_count": 35,
   "metadata": {},
   "outputs": [
    {
     "name": "stdout",
     "output_type": "stream",
     "text": [
      "100 loops, best of 3: 2.91 ms per loop\n"
     ]
    }
   ],
   "source": [
    "%%timeit\n",
    "astar_search(puzzle_1, linear)\n",
    "astar_search(puzzle_2, linear)\n",
    "astar_search(puzzle_3, linear)"
   ]
  },
  {
   "cell_type": "code",
   "execution_count": 36,
   "metadata": {},
   "outputs": [
    {
     "name": "stdout",
     "output_type": "stream",
     "text": [
      "100 loops, best of 3: 2.6 ms per loop\n"
     ]
    }
   ],
   "source": [
    "%%timeit\n",
    "astar_search(puzzle_1, manhattan)\n",
    "astar_search(puzzle_2, manhattan)\n",
    "astar_search(puzzle_3, manhattan)"
   ]
  },
  {
   "cell_type": "code",
   "execution_count": 37,
   "metadata": {},
   "outputs": [
    {
     "name": "stdout",
     "output_type": "stream",
     "text": [
      "10 loops, best of 3: 30.2 ms per loop\n"
     ]
    }
   ],
   "source": [
    "%%timeit\n",
    "astar_search(puzzle_1, sqrt_manhattan)\n",
    "astar_search(puzzle_2, sqrt_manhattan)\n",
    "astar_search(puzzle_3, sqrt_manhattan)"
   ]
  },
  {
   "cell_type": "code",
   "execution_count": 38,
   "metadata": {},
   "outputs": [
    {
     "name": "stdout",
     "output_type": "stream",
     "text": [
      "100 loops, best of 3: 2.91 ms per loop\n"
     ]
    }
   ],
   "source": [
    "%%timeit\n",
    "astar_search(puzzle_1, max_heuristic)\n",
    "astar_search(puzzle_2, max_heuristic)\n",
    "astar_search(puzzle_3, max_heuristic)"
   ]
  },
  {
   "cell_type": "code",
   "execution_count": 39,
   "metadata": {},
   "outputs": [
    {
     "name": "stdout",
     "output_type": "stream",
     "text": [
      "10 loops, best of 3: 69.9 ms per loop\n"
     ]
    }
   ],
   "source": [
    "%%timeit\n",
    "best_first_graph_search(puzzle_1, linear)\n",
    "best_first_graph_search(puzzle_2, linear)\n",
    "best_first_graph_search(puzzle_3, linear)"
   ]
  },
  {
   "cell_type": "code",
   "execution_count": 40,
   "metadata": {},
   "outputs": [
    {
     "name": "stdout",
     "output_type": "stream",
     "text": [
      "100 loops, best of 3: 2.37 ms per loop\n"
     ]
    }
   ],
   "source": [
    "%%timeit\n",
    "best_first_graph_search(puzzle_1, manhattan)\n",
    "best_first_graph_search(puzzle_2, manhattan)\n",
    "best_first_graph_search(puzzle_3, manhattan)"
   ]
  },
  {
   "cell_type": "code",
   "execution_count": 41,
   "metadata": {},
   "outputs": [
    {
     "name": "stdout",
     "output_type": "stream",
     "text": [
      "100 loops, best of 3: 2.4 ms per loop\n"
     ]
    }
   ],
   "source": [
    "%%timeit\n",
    "best_first_graph_search(puzzle_1, sqrt_manhattan)\n",
    "best_first_graph_search(puzzle_2, sqrt_manhattan)\n",
    "best_first_graph_search(puzzle_3, sqrt_manhattan)"
   ]
  },
  {
   "cell_type": "code",
   "execution_count": 42,
   "metadata": {},
   "outputs": [
    {
     "name": "stdout",
     "output_type": "stream",
     "text": [
      "100 loops, best of 3: 2.57 ms per loop\n"
     ]
    }
   ],
   "source": [
    "%%timeit\n",
    "best_first_graph_search(puzzle_1, max_heuristic)\n",
    "best_first_graph_search(puzzle_2, max_heuristic)\n",
    "best_first_graph_search(puzzle_3, max_heuristic)"
   ]
  },
  {
   "cell_type": "code",
   "execution_count": 43,
   "metadata": {},
   "outputs": [
    {
     "name": "stdout",
     "output_type": "stream",
     "text": [
      "1 loop, best of 3: 380 ms per loop\n"
     ]
    }
   ],
   "source": [
    "%%timeit\n",
    "uniform_cost_search(puzzle_1)\n",
    "uniform_cost_search(puzzle_2)\n",
    "uniform_cost_search(puzzle_3)"
   ]
  },
  {
   "cell_type": "markdown",
   "metadata": {},
   "source": [
    "#### Escribe aquí tus conclusiones sobre qué heurística es mejor y por qué.\n",
    "\n",
    "La heurística con el mejor tiempo siempre es la manhattan, que resulta de sumar las distancias Manhattan de cada elemento a su posicion final.\n",
    "La manhattan es más informada que la lineal, ya que para las celdas bien colocadas ambas asignan 0 y para las mal colocadas lineal asigna 1 y manhattan >=1 (y luego suman estos valores), luego lineal <= manhattan.\n",
    "También la manhattan es mejor que su raíz pues también es más informada (para valores >=1 sqrt(alpha)<=alpha) y además ahorra el cálculo de la raíz.\n",
    "Tiene sentido que la heurística max_heuristic no compense: tiene que calcular siempre dos heurísticas, linear y manhattan, para acabar cogiendo la manhattan."
   ]
  },
  {
   "cell_type": "markdown",
   "metadata": {},
   "source": [
    "## Parte III:  Calcular estadísticas sobre la ejecución de los algoritmos para resolución de problemas de ocho puzzle. "
   ]
  },
  {
   "cell_type": "markdown",
   "metadata": {},
   "source": [
    "### El objetivo es comprobar experimentalmente las propiedades teóricas de los algoritmos vistas en clase.\n",
    "Usaremos la función %timeit para medir los tiempos y para el espacio una version modificada de Problema que almacena el número de nodos."
   ]
  },
  {
   "cell_type": "markdown",
   "metadata": {},
   "source": [
    "En la clase modificada también vamos a incluir el calculo que nos diga si un cierto tablero tiene solución o no. Esto es muy útil.. como hemos comentado al principio solo algunos tableros tienen solucion.\n",
    "En el caso del puzle de 8 un tablero se ha demostrado que se puede comprobar calculando el número de inversiones. Si es impar el tablero no tiene solución. \n",
    "\n",
    "The solvability of a configuration can be checked by calculating the Inversion Permutation. If the total Inversion Permutation is even then the initial configuration is solvable else the initial configuration is not solvable which means that only 9!/2 initial states lead to a solution."
   ]
  },
  {
   "cell_type": "code",
   "execution_count": 44,
   "metadata": {},
   "outputs": [],
   "source": [
    "# Hacemos una definición ampliada de la clase Problem de AIMA que nos va a permitir experimentar con distintos\n",
    "# estados iniciales, algoritmos y heurísticas, para resolver el 8-puzzle. \n",
    "# Añadimos en la clase ampliada la capacidad para contar el número de nodos analizados durante la\n",
    "# búsqueda:\n",
    "\n",
    "\n",
    "class Problema_con_Analizados(Problem):\n",
    "\n",
    "    \"\"\"Es un problema que se comporta exactamente igual que el que recibe al\n",
    "       inicializarse, y además incorpora unos atributos nuevos para almacenar el\n",
    "       número de nodos analizados durante la búsqueda. De esta manera, no\n",
    "       tenemos que modificar el código del algoritmo de búsqueda.\"\"\" \n",
    "         \n",
    "    def __init__(self, problem):\n",
    "        self.initial = problem.initial\n",
    "        self.problem = problem\n",
    "        self.analizados  = 0\n",
    "        self.goal = problem.goal\n",
    "\n",
    "    def actions(self, estado):\n",
    "        return self.problem.actions(estado)\n",
    "\n",
    "    def result(self, estado, accion):\n",
    "        return self.problem.result(estado, accion)\n",
    "\n",
    "    def goal_test(self, estado):\n",
    "        self.analizados += 1\n",
    "        return self.problem.goal_test(estado)\n",
    "\n",
    "    def coste_de_aplicar_accion(self, estado, accion):\n",
    "        return self.problem.coste_de_aplicar_accion(estado,accion)\n",
    "    \n",
    "    def check_solvability(self, state):\n",
    "        \"\"\" Checks if the given state is solvable \"\"\"\n",
    "\n",
    "        inversion = 0\n",
    "        for i in range(len(state)):\n",
    "            for j in range(i+1, len(state)):\n",
    "                if (state[i] > state[j]) and state[i] != 0 and state[j]!= 0:\n",
    "                    inversion += 1\n",
    "        \n",
    "        return inversion % 2 == 0        "
   ]
  },
  {
   "cell_type": "code",
   "execution_count": 45,
   "metadata": {},
   "outputs": [],
   "source": [
    "estado_inicial = (1,2,3,4,5,6,7,0,8)\n",
    "p8p=Problema_con_Analizados(Ocho_Puzzle(estado_inicial))\n",
    "p8 = Ocho_Puzzle(estado_inicial)"
   ]
  },
  {
   "cell_type": "code",
   "execution_count": 46,
   "metadata": {},
   "outputs": [
    {
     "data": {
      "text/plain": [
       "(1, 2, 3, 4, 5, 6, 7, 0, 8)"
      ]
     },
     "execution_count": 46,
     "metadata": {},
     "output_type": "execute_result"
    }
   ],
   "source": [
    "p8p.initial"
   ]
  },
  {
   "cell_type": "code",
   "execution_count": 47,
   "metadata": {},
   "outputs": [
    {
     "data": {
      "text/plain": [
       "(1, 2, 3, 4, 5, 6, 7, 8, 0)"
      ]
     },
     "execution_count": 47,
     "metadata": {},
     "output_type": "execute_result"
    }
   ],
   "source": [
    "p8p.goal"
   ]
  },
  {
   "cell_type": "code",
   "execution_count": 48,
   "metadata": {},
   "outputs": [
    {
     "data": {
      "text/plain": [
       "['Mover hueco arriba',\n",
       " 'Mover hueco izquierda',\n",
       " 'Mover hueco arriba',\n",
       " 'Mover hueco izquierda',\n",
       " 'Mover hueco abajo',\n",
       " 'Mover hueco derecha',\n",
       " 'Mover hueco derecha',\n",
       " 'Mover hueco abajo']"
      ]
     },
     "execution_count": 48,
     "metadata": {},
     "output_type": "execute_result"
    }
   ],
   "source": [
    "puzzle_1 = Ocho_Puzzle((2, 4, 3, 1, 5, 6, 7, 8, 0))\n",
    "astar_search(puzzle_1, manhattan).solution()"
   ]
  },
  {
   "cell_type": "code",
   "execution_count": 49,
   "metadata": {},
   "outputs": [
    {
     "data": {
      "text/plain": [
       "['Mover hueco derecha']"
      ]
     },
     "execution_count": 49,
     "metadata": {},
     "output_type": "execute_result"
    }
   ],
   "source": [
    "astar_search(p8, manhattan).solution()"
   ]
  },
  {
   "cell_type": "code",
   "execution_count": 50,
   "metadata": {},
   "outputs": [
    {
     "data": {
      "text/plain": [
       "['Mover hueco derecha']"
      ]
     },
     "execution_count": 50,
     "metadata": {},
     "output_type": "execute_result"
    }
   ],
   "source": [
    "astar_search(p8p, manhattan).solution()"
   ]
  },
  {
   "cell_type": "code",
   "execution_count": 51,
   "metadata": {},
   "outputs": [],
   "source": [
    "def resuelve_ocho_puzzle(estado_inicial, algoritmo, h=None):\n",
    "    \"\"\"Función para aplicar un algoritmo de búsqueda dado al problema del ocho\n",
    "       puzzle, con un estado inicial dado y (cuando el algoritmo lo necesite)\n",
    "       una heurística dada.\n",
    "       Ejemplo de uso:\n",
    "           puzzle_1 = (2, 4, 3, 1, 5, 6, 7, 8, 0)\n",
    "           resuelve_ocho_puzzle(puzzle_1,astar_search,h2_ocho_puzzle)\n",
    "        Solución: ['Mover hueco arriba', 'Mover hueco izquierda', 'Mover hueco arriba', \n",
    "        'Mover hueco izquierda', 'Mover hueco abajo', 'Mover hueco derecha', 'Mover hueco derecha', 'Mover hueco abajo']\n",
    "        Algoritmo: astar_search\n",
    "        Heurística: h2_ocho_puzzle\n",
    "        Longitud de la solución: 8. Nodos analizados: 11\n",
    "       \"\"\"\n",
    "\n",
    "    p8p=Problema_con_Analizados(Ocho_Puzzle(estado_inicial))\n",
    "    if p8p.check_solvability(estado_inicial):\n",
    "        if h: \n",
    "            sol= algoritmo(p8p,h).solution()\n",
    "        else: \n",
    "            sol= algoritmo(p8p).solution()\n",
    "        print(\"Solución: {0}\".format(sol))\n",
    "        print(\"Algoritmo: {0}\".format(algoritmo.__name__))\n",
    "        if h: \n",
    "            print(\"Heurística: {0}\".format(h.__name__))\n",
    "        else:\n",
    "            pass\n",
    "        print(\"Longitud de la solución: {0}. Nodos analizados: {1}\".format(len(sol),p8p.analizados))\n",
    "    else: \n",
    "        print(\"Este problema no tiene solucion. \")\n"
   ]
  },
  {
   "cell_type": "code",
   "execution_count": 52,
   "metadata": {},
   "outputs": [
    {
     "name": "stdout",
     "output_type": "stream",
     "text": [
      "Solución: ['Mover hueco derecha']\n",
      "Algoritmo: astar_search\n",
      "Heurística: manhattan\n",
      "Longitud de la solución: 1. Nodos analizados: 2\n"
     ]
    }
   ],
   "source": [
    "resuelve_ocho_puzzle(estado_inicial,astar_search,manhattan)"
   ]
  },
  {
   "cell_type": "code",
   "execution_count": 62,
   "metadata": {},
   "outputs": [
    {
     "name": "stdout",
     "output_type": "stream",
     "text": [
      "Solución: ['Mover hueco derecha', 'Mover hueco arriba', 'Mover hueco izquierda', 'Mover hueco abajo', 'Mover hueco izquierda', 'Mover hueco abajo', 'Mover hueco derecha', 'Mover hueco derecha', 'Mover hueco arriba', 'Mover hueco arriba', 'Mover hueco izquierda', 'Mover hueco abajo', 'Mover hueco abajo', 'Mover hueco izquierda', 'Mover hueco arriba', 'Mover hueco arriba', 'Mover hueco derecha', 'Mover hueco abajo', 'Mover hueco derecha', 'Mover hueco abajo']\n",
      "Algoritmo: astar_search\n",
      "Heurística: manhattan\n",
      "Longitud de la solución: 20. Nodos analizados: 1636\n",
      "CPU times: user 702 ms, sys: 9 µs, total: 702 ms\n",
      "Wall time: 701 ms\n"
     ]
    }
   ],
   "source": [
    "%%time\n",
    "estado_inicial = (4,5,6,1,0,3,7,8,2)\n",
    "resuelve_ocho_puzzle(estado_inicial, astar_search, manhattan)"
   ]
  },
  {
   "cell_type": "markdown",
   "metadata": {},
   "source": [
    "#### Ejercicio 5\n",
    "\n",
    "#Intentar resolver usando las distintas búsquedas y en su caso, las distintas\n",
    "#heurísticas, el problema del 8 puzzle para los siguientes estados iniciales:\n",
    "\n",
    " E1 = (2,1,3,4,8,6,7,0,5)\n",
    " E2 = (1,0,3,4,8,6,7,2,5)\n",
    " E3 = (4,5,6,1,0,3,7,8,2)\n",
    " E4 = (1,2,3,0,5,6,4,7,8)\n",
    "   \n",
    " Se pide, en cada caso, obtener detalles del tiempo y espacio necesario para la resolución de estos estados.\n",
    " Hacerlo con la función resuelve_ocho_puzzle, para\n",
    " obtener, además de la solución, la longitud (el coste) de la solución\n",
    " obtenida y el número de nodos analizados. Anotar los resultados en la\n",
    " siguiente tabla (L, longitud de la solución, NA, nodos analizados, T, tiempo, y\n",
    " justificarlos con las distintas propiedades teóricas estudiadas.\n",
    "\n",
    "-----------------------------------------------------------------------------------------\n",
    "                                       E1           E2           E3          E4\n",
    "    Anchura                            L= 17        L= 11        L= 20       L= 3\n",
    "                                       T= 6.39s     T= 57.7ms    T= 1m26s    T= 184mics\n",
    "                                       NA= 14017    NA= 1234     NA= 52506   NA= 13\n",
    "   \n",
    "    Profundidad                        L= 56963     L= 42141     L= 65020    L= 27 \n",
    "                                       T= 19m16s    T= 4m42s     T= 14m 37s  T= 1mms\n",
    "                                       NA= 125976   NA= 45939    NA= 85654   NA= 28\n",
    "                                       \n",
    "    Coste Uniforme                     L= 17        L= 11        L= 20       L= 3\n",
    "                                       T= 44.1s     T= 170ms     T= 9m2s     T= 319mics  \n",
    "                                       NA= 14092    NA= 870      NA= 48428   NA= 13\n",
    "                                       \n",
    "    Primero el mejor (linear)          L= 39        L= 33        L= 76       L= 3\n",
    "                                       T= 8.99ms    T= 2.45ms    T= 131ms    T= 226mics  \n",
    "                                       NA= 171      NA= 78       NA= 747     NA= 4\n",
    "                                                                            \n",
    "    Primero el mejor (manhattan)       L= 25        L= 15        L= 38       L= 3\n",
    "                                       T= 9.04ms    T= 1.64ms    T= 13.9ms   T= 247mics \n",
    "                                       NA= 175      NA= 53       NA= 220     NA= 4\n",
    "                                                                             \n",
    "    A* (linear)                        L= 17        L= 11        L= 20       L= 3\n",
    "                                       T= 164ms     T= 2.63ms    T= 2.21s    T= 239mics\n",
    "                                       NA= 835      NA= 74       NA= 3230    NA= 4\n",
    "                                                                             \n",
    "     A* (manhattan)                    L= 17        L= 11        L= 20       L= 3\n",
    "                                       T= 50.6ms    T= 1.59ms    T= 633ms    T= 249mics \n",
    "                                       NA= 433      NA= 49       NA= 1636    NA= 4\n",
    "\n",
    " -----------------------------------------------------------------------------------------\n",
    "\n",
    "\n"
   ]
  },
  {
   "cell_type": "markdown",
   "metadata": {},
   "source": [
    "Tras ejecutar los distintos algoritmos de búsqueda y anotar los respectivos resultados, observamos que la diferencia entre las búsquedas ciegas y las búsquedas con heurísticas es abismal. Mientras que el algoritmo de búsqueda en profundidad ha llegado a tardar 19 minutos y 16 segundos teniendo que analizar 125.976 nodos, las búsquedas heurísticas han llegado a encontrar una solución en tan solo 8.99 microsegundos. Se confirman pues, las distintas propiedades teóricas estudiadas: los algoritmos de búsqueda no informados son muy ineficientes en la mayoría de los casos y ante la explosión combinatoria, la fuerza bruta es impracticable. Pero las búsquedas heurísticas, mejorando sustancialmente la eficiencia, nos arrojan un rayo de luz que nos ilumina entre tanta oscuridad."
   ]
  },
  {
   "cell_type": "markdown",
   "metadata": {},
   "source": [
    "### Ejercicio 6: [OPCIONAL] Definir una heurística más informada y completa la tabla anterior para ver cómo afecta al número de nodos generados por los algoritmos"
   ]
  },
  {
   "cell_type": "markdown",
   "metadata": {},
   "source": [
    "La heurística manhattan se puede ver como una simplificación del problema en el que todas las casillas están vacias salvo una por lo que podemos llevar esta a su posición de destino con únicamente k movimientos, siendo k la distancia manhattan pues no permitimos movimientos en diagonal.\n",
    "\n",
    "Nosotros hemos planteado, para idear una heurística más informada, calcular cuando una pieza en su desplazamiento hasta su casilla de destino va a obligar a moverse a algunas casillas ya colocadas. Consideremos el siguiente ejemplo:\n"
   ]
  },
  {
   "cell_type": "markdown",
   "metadata": {},
   "source": [
    "                     Disposición tablero   Numeración diagonales\n",
    "                        +---+---+---+        +---+---+---+\n",
    "                        | - | 2 | 3 |        | D | 1 | 2 |\n",
    "                        +---+---+---+        +---+---+---+\n",
    "                        | 4 | 5 | 6 |        | 1 | 2 | 3 |\n",
    "                        +---+---+---+        +---+---+---+\n",
    "                        | 7 | 8 | 1 |        | 2 | 3 | O |\n",
    "                        +---+---+---+        +---+---+---+"
   ]
  },
  {
   "cell_type": "markdown",
   "metadata": {},
   "source": [
    "Todas las piezas se encuentran en su posición de destino salvo la pieza 1, por tanto, con esta disposición del tablero la heurística manhattan nos daría un valor de 4. Sin embargo, es fácil ver que, para llegar del punto O al punto D (figura de numeración de diagonales), necesariamente tenemos que atravesar las diagonales 1, 2 y 3 de la figura y, dado que en cada movimiento únicamente podemos colocar en su casilla de destino una pieza, esto nos implica que vamos a tener que descolocar como mínimo una pieza de estas diagonales y luego volver a colocarla. \n",
    "\n",
    "En definitiva, si identificamos una pieza que debe atravesar k diagonales con todas sus piezas correctamente colocadas podemos sumar a la distancia manhattan 2*k unidades. Es claro por tanto con el razonamiento anterior que es consistente, nuestra heurística sigue acotando en todo caso inferiormente el número de unidades y, además, por su propio cálculo es claro que es más informada que la heurística manhattan. \n",
    "\n",
    "Nuestra heurística por tanto va a tratar de dejarse engañar por estados cercanos al estado final pero con piezas muy alejadas de su posición de destino pues, en estos casos, para llegar a la solución, pese a que nuestro tablero muestre un estado de casi resolución, es necesario descolocar piezas ya situadas. Implementamos ahora esta heurística y analizamos sus propiedades:"
   ]
  },
  {
   "cell_type": "code",
   "execution_count": 54,
   "metadata": {},
   "outputs": [],
   "source": [
    "# Por simplicidad esta heurística únicamente contempla las diagonales 1 2 y 3 de la \n",
    "# figura anteriormente mostrada. Se penaliza alejar mucho los elementos de sus casillas\n",
    "# pese a tener un gran número de piezas colocadas.\n",
    "\n",
    "def manhattan_improved(node):\n",
    "    state = node.state\n",
    "    goal = (1,2,3,4,5,6,7,8,0)\n",
    "    \n",
    "    # 1.- Cálculo de la distancia manhattan\n",
    "    mhd = 0\n",
    "    for i in range(0,8): # columnas y filas empiezan en 0\n",
    "        row_i = i // 3\n",
    "        col_i = i % 3\n",
    "        num = state[i]\n",
    "        if num != 0:\n",
    "            row_goal_num = (num-1) // 3 #division entera, se resta 1 porque goal no empieza en 0\n",
    "            col_goal_num = (num-1) % 3\n",
    "        else: # el 0 es un caso distinto porque no está colocado en goal en su sitio 'natural'\n",
    "            row_goal_num = 2\n",
    "            col_goal_num = 2\n",
    "        mhd += abs(row_goal_num - row_i) + abs(col_goal_num - col_i)\n",
    "        \n",
    "    # 2.- Análisis por diagonales\n",
    "    \n",
    "    # 2.1.- Primera diagonal colocada y el uno descolocado:\n",
    "    if state[1]==2 and state[3]==4 and state[0]!=1:\n",
    "        mhd +=2\n",
    "    # 2.2.- Segunda diagonal colocada y las piezas 1 2 o 4 teniendo que atravesar esta diagonal:\n",
    "    if state[2]==3 and state[5]==5 and state[6]==7 and bool({1,2,4} & {state[5], state[7],state[8]}) :\n",
    "           mhd += 2\n",
    "    # 2.3.- Tercera diagonal colocada (y suponemos no solución):\n",
    "    if state[5]==6 and state[7]==8:\n",
    "        mhd +=2\n",
    "    \n",
    "    return mhd"
   ]
  },
  {
   "cell_type": "markdown",
   "metadata": {},
   "source": [
    "#### Análisis de las propiedades:"
   ]
  },
  {
   "cell_type": "code",
   "execution_count": 63,
   "metadata": {},
   "outputs": [
    {
     "name": "stdout",
     "output_type": "stream",
     "text": [
      "Solución: ['Mover hueco izquierda', 'Mover hueco arriba', 'Mover hueco arriba', 'Mover hueco derecha', 'Mover hueco derecha', 'Mover hueco abajo', 'Mover hueco izquierda', 'Mover hueco izquierda', 'Mover hueco abajo', 'Mover hueco derecha', 'Mover hueco derecha', 'Mover hueco arriba', 'Mover hueco arriba', 'Mover hueco izquierda', 'Mover hueco abajo', 'Mover hueco abajo', 'Mover hueco derecha']\n",
      "Algoritmo: astar_search\n",
      "Heurística: manhattan_improved\n",
      "Longitud de la solución: 17. Nodos analizados: 410\n",
      "CPU times: user 65.5 ms, sys: 0 ns, total: 65.5 ms\n",
      "Wall time: 64.3 ms\n"
     ]
    }
   ],
   "source": [
    "%%time\n",
    "\n",
    "# E1 = (2,1,3,4,8,6,7,0,5) \n",
    "estado_inicial = (2,1,3,4,8,6,7,0,5)\n",
    "resuelve_ocho_puzzle(estado_inicial, astar_search, manhattan_improved)"
   ]
  },
  {
   "cell_type": "code",
   "execution_count": 64,
   "metadata": {},
   "outputs": [
    {
     "name": "stdout",
     "output_type": "stream",
     "text": [
      "Solución: ['Mover hueco derecha', 'Mover hueco abajo', 'Mover hueco izquierda', 'Mover hueco abajo', 'Mover hueco derecha', 'Mover hueco arriba', 'Mover hueco arriba', 'Mover hueco izquierda', 'Mover hueco abajo', 'Mover hueco abajo', 'Mover hueco derecha']\n",
      "Algoritmo: astar_search\n",
      "Heurística: manhattan_improved\n",
      "Longitud de la solución: 11. Nodos analizados: 48\n",
      "CPU times: user 3.47 ms, sys: 0 ns, total: 3.47 ms\n",
      "Wall time: 3.34 ms\n"
     ]
    }
   ],
   "source": [
    "%%time\n",
    "\n",
    "# E2 = (1,0,3,4,8,6,7,2,5)\n",
    "estado_inicial = (1,0,3,4,8,6,7,2,5)\n",
    "resuelve_ocho_puzzle(estado_inicial, astar_search, manhattan_improved)"
   ]
  },
  {
   "cell_type": "code",
   "execution_count": 60,
   "metadata": {},
   "outputs": [
    {
     "name": "stdout",
     "output_type": "stream",
     "text": [
      "Solución: ['Mover hueco derecha', 'Mover hueco arriba', 'Mover hueco izquierda', 'Mover hueco abajo', 'Mover hueco izquierda', 'Mover hueco abajo', 'Mover hueco derecha', 'Mover hueco derecha', 'Mover hueco arriba', 'Mover hueco arriba', 'Mover hueco izquierda', 'Mover hueco abajo', 'Mover hueco abajo', 'Mover hueco izquierda', 'Mover hueco arriba', 'Mover hueco arriba', 'Mover hueco derecha', 'Mover hueco abajo', 'Mover hueco derecha', 'Mover hueco abajo']\n",
      "Algoritmo: astar_search\n",
      "Heurística: manhattan_improved\n",
      "Longitud de la solución: 20. Nodos analizados: 1528\n",
      "CPU times: user 602 ms, sys: 46 µs, total: 602 ms\n",
      "Wall time: 601 ms\n"
     ]
    }
   ],
   "source": [
    "%%time\n",
    "\n",
    "#  E3 = (4,5,6,1,0,3,7,8,2)\n",
    "estado_inicial = (4,5,6,1,0,3,7,8,2)\n",
    "resuelve_ocho_puzzle(estado_inicial, astar_search, manhattan_improved)"
   ]
  },
  {
   "cell_type": "code",
   "execution_count": 61,
   "metadata": {},
   "outputs": [
    {
     "name": "stdout",
     "output_type": "stream",
     "text": [
      "Solución: ['Mover hueco abajo', 'Mover hueco derecha', 'Mover hueco derecha']\n",
      "Algoritmo: astar_search\n",
      "Heurística: manhattan_improved\n",
      "Longitud de la solución: 3. Nodos analizados: 4\n",
      "CPU times: user 512 µs, sys: 0 ns, total: 512 µs\n",
      "Wall time: 453 µs\n"
     ]
    }
   ],
   "source": [
    "%%time\n",
    "\n",
    "# E4 = (1,2,3,0,5,6,4,7,8)\n",
    "estado_inicial = (1,2,3,0,5,6,4,7,8)\n",
    "resuelve_ocho_puzzle(estado_inicial, astar_search, manhattan_improved)"
   ]
  },
  {
   "cell_type": "markdown",
   "metadata": {},
   "source": [
    "##### Conclusiones:"
   ]
  },
  {
   "cell_type": "markdown",
   "metadata": {},
   "source": [
    "     A* (manhattan_improved)           L= 17        L= 11        L= 20       L= 3\n",
    "                                       T= 65.5 ms   T= 3.1 ms    T= 602 ms   T= 512 µs \n",
    "                                       NA= 410      NA= 48       NA= 1528    NA= 4"
   ]
  },
  {
   "cell_type": "markdown",
   "metadata": {},
   "source": [
    "En definitiva podemos apreciar que para casos de escasa complejidad, con estados iniciales muy cercanos a una solución, el incremento de coste de cómputo de la heurística no se ve reflejado en una mejora del tiempo de ejecución. Sin embargo, en casos de distribución aleatoria de las piezas sí que se aprecia una mejora significativa del tiempo de ejecución. Además se aprecia que en todos los ejemplos se analiza un número menor de nodos. \n",
    "\n",
    "La heurística definida mejora a la heurística manhattan en tableros totalmente desordenados."
   ]
  },
  {
   "cell_type": "markdown",
   "metadata": {},
   "source": [
    "##### Francisco Javier Blázquez Martínez, Boris Carballa Corredoira, Juan Carlos Villanueva Quirós"
   ]
  }
 ],
 "metadata": {
  "kernelspec": {
   "display_name": "Python 3",
   "language": "python",
   "name": "python3"
  },
  "language_info": {
   "codemirror_mode": {
    "name": "ipython",
    "version": 3
   },
   "file_extension": ".py",
   "mimetype": "text/x-python",
   "name": "python",
   "nbconvert_exporter": "python",
   "pygments_lexer": "ipython3",
   "version": "3.7.4"
  }
 },
 "nbformat": 4,
 "nbformat_minor": 2
}
