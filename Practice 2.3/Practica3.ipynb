{
 "cells": [
  {
   "cell_type": "markdown",
   "metadata": {},
   "source": [
    "# Práctica 3. Consultas SPARQL sobre Wikidata."
   ]
  },
  {
   "cell_type": "markdown",
   "metadata": {},
   "source": [
    "En esta práctica vamos a usar el punto de acceso [SPARQL](https://query.wikidata.org/) de Wikidata para contestar las preguntas que se formulan a continuación. Cada pregunta debe ser respondida realizando una única consulta SPARQL. Para cada una de las entidades recuperadas se mostrará tanto su identificador como su etiqueta (nombre de la entidad en lenguaje natural). \n",
    "\n",
    "Te proporcionamos un notebook a modo de plantilla para que pegues en él cada una de las consultas que realices con la correspondiente respuesta que te devuelva el punto de acceso de Wikidata. Para cada una de las preguntas debes mostrar tanto la consulta como la respuesta obtenida.\n",
    "\n",
    " - La __consulta__ debe estar en una celda de tipo _Raw NBConvert_ para que jupyter no trate de interpretarla. Cada tripleta de la consulta debe tener un breve comentario a la derecha que la explique (con # empieza un comentario). \n",
    " - La __respuesta__ debe estar en una celda de tipo _Markdown_. Puedes descargar las respuestas usando la opción _Descargar >> HTML Table_ y copiar el código HTML en esta celda. Al ejecutar la celda se mostrará en forma de tabla.\n",
    " - Si lo consideras necesario, puedes añadir celdas adicionales en formato _Markdown_ para explicar decisiones que hayas tomado al crear la consulta o cualquier otro dato que consideres interesante.\n",
    " \n",
    " \n",
    "__Para resolver estas consultas necesitarás aprender algo más de SPARQL de lo que hemos contado en clase__. Los dos recursos que te recomendamos consultar son:\n",
    "\n",
    "- [Este tutorial de SPARQL](https://www.wikidata.org/wiki/Wikidata:SPARQL_tutorial).\n",
    "- [Esta recopilación de ejemplos](https://www.wikidata.org/wiki/Wikidata:SPARQL_query_service/queries/examples)"
   ]
  },
  {
   "cell_type": "markdown",
   "metadata": {},
   "source": [
    "### Consulta 1\n",
    "\n",
    "[Hans Zimmer (Q76364)](https://www.wikidata.org/wiki/Q76364) es un famoso compositor de muchas bandas sonoras de películas. Vamos a comenzar por averiguar su fecha y lugar de nacimiento."
   ]
  },
  {
   "cell_type": "raw",
   "metadata": {},
   "source": [
    "SELECT ?bdate ?bplaceName\n",
    "WHERE\n",
    "{\n",
    "  wd:Q76364 wdt:P569 ?bdate;        # Fecha de nacimiento\n",
    "            wdt:P19  [wdt:P1448  ?bplaceName]. # Cogemos el lugar de nacimiento y obtenemos su nombre oficial\n",
    "}"
   ]
  },
  {
   "cell_type": "markdown",
   "metadata": {},
   "source": [
    "#### **DUDA: Ponemos las fechas más bonitas?**"
   ]
  },
  {
   "cell_type": "markdown",
   "metadata": {},
   "source": [
    "<html><head><meta charset=\"utf-8\"></head><body><table><thead><tr><th>bdate</th><th>bplaceName</th></tr></thead><tbody><tr><td>1957-09-12T00:00:00Z</td><td>Frankfurt am Main</td></tr></tbody></table></body></html>"
   ]
  },
  {
   "cell_type": "markdown",
   "metadata": {},
   "source": [
    "### Consulta 2\n",
    "\n",
    "A continuación vamos a averiguar los instrumentos que toca. Queremos obtener los resultados ordenados alfabéticamente por el nombre del instrumento."
   ]
  },
  {
   "cell_type": "markdown",
   "metadata": {},
   "source": [
    "DUDA: Hay manera de no tener que coger los nombres por medio de rdfs:label? es que no encuentro ningun wdt:P... para coger solo el nombre del instrumento, luego tengo que coger sus labels en todos los idiomas y luego filtrar solo los españoles... no se si sera ineficiente, en la guia dice que no :P"
   ]
  },
  {
   "cell_type": "raw",
   "metadata": {},
   "source": [
    "SELECT ?nombreInstr \n",
    "WHERE\n",
    "{\n",
    "  wd:Q76364 wdt:P1303 [rdfs:label ?nombreInstr] #Cogemos los nombres (en todos los idiomas) de los instrumentos que tocaba Hans Zimmer\n",
    "  FILTER(LANG(?nombreInstr) = \"es\"). #Filtramos para tener solo los nombres en Español\n",
    "}\n",
    "ORDER BY ASC(?nombreInstr) #Ordenamos los nombres alfabeticamente"
   ]
  },
  {
   "cell_type": "markdown",
   "metadata": {},
   "source": [
    "<html><head><meta charset=\"utf-8\"></head><body><table><thead><tr><th>nombreInstr</th></tr></thead><tbody><tr><td>banjo</td></tr><tr><td>guitarra</td></tr><tr><td>guitarra bajo</td></tr><tr><td>piano</td></tr><tr><td>sintetizador</td></tr><tr><td>teclado</td></tr></tbody></table></body></html>"
   ]
  },
  {
   "cell_type": "markdown",
   "metadata": {},
   "source": [
    "### Consulta 3\n",
    "\n",
    "¿Cuales de los instrumentos que toca son instrumentos de cuerda? Ten en cuenta que los instrumentos pueden ser indirectamente de cuerda a través de varias relaciones _subclase_."
   ]
  },
  {
   "cell_type": "raw",
   "metadata": {},
   "source": []
  },
  {
   "cell_type": "markdown",
   "metadata": {},
   "source": []
  },
  {
   "cell_type": "markdown",
   "metadata": {},
   "source": [
    "### Consulta 4\n",
    "\n",
    "Zimmer ha recibido muchas nominaciones y premios a lo largo de su carrera. Queremos obtener una lista de nominaciones y para cada una de ellas el trabajo por el cual fue nominado. Para resolver esta consulta necesitarás acceder a los cualificadores de nodos sentencia y necesitarás entender los prefijos que usa Wikidata."
   ]
  },
  {
   "cell_type": "markdown",
   "metadata": {},
   "source": [
    "#### **DUDA: Revisadla bien, esta es sin duda de la que menos me fío?**"
   ]
  },
  {
   "cell_type": "raw",
   "metadata": {},
   "source": [
    "SELECT DISTINCT ?workTitle\n",
    "WHERE\n",
    "{\n",
    "  wd:Q76364 p:P1411 [pq:P1686 ?work].   # Trabajos por los que fue nominado\n",
    "  ?work wdt:P1476 ?workTitle            # Nombre de estas producciones\n",
    "}"
   ]
  },
  {
   "cell_type": "markdown",
   "metadata": {},
   "source": [
    "<html><head><meta charset=\"utf-8\"></head><body><table><thead><tr><th>workTitle</th></tr></thead><tbody><tr><td>The Lion King</td></tr><tr><td>Sherlock Holmes</td></tr><tr><td>Gladiator</td></tr><tr><td>Inception</td></tr><tr><td>The Prince of Egypt</td></tr><tr><td>As Good as It Gets</td></tr><tr><td>Interstellar</td></tr><tr><td>The Thin Red Line</td></tr><tr><td>The Preacher's Wife</td></tr><tr><td>Rain Man</td></tr></tbody></table></body></html>"
   ]
  },
  {
   "cell_type": "markdown",
   "metadata": {},
   "source": [
    "### Consulta 5\n",
    "\n",
    "Ahora queremos conocer el título de todas las películas en las que Zimmer ha colaborado como compositor. Se mostrarán ordenadas alfabéticamente y debes tener cuidado de no mostrar resultados repetidos."
   ]
  },
  {
   "cell_type": "raw",
   "metadata": {},
   "source": [
    "SELECT DISTINCT ?filmTitle\n",
    "WHERE\n",
    "{\n",
    "  ?film wdt:P31 wd:Q11424;        # Película\n",
    "        wdt:P86 wd:Q76364;        # Compuesta por Hans Zimmer\n",
    "        wdt:P1476 ?filmTitle.     # Capturar título\n",
    "}\n",
    "ORDER BY ?filmTitle"
   ]
  },
  {
   "cell_type": "markdown",
   "metadata": {},
   "source": [
    "<html><head><meta charset=\"utf-8\"></head><body><table><thead><tr><th>filmTitle</th></tr></thead><tbody><tr><td>12 Years a Slave</td></tr><tr><td>A League of Their Own</td></tr><tr><td>A World Apart</td></tr><tr><td>An Everlasting Piece</td></tr><tr><td>Angels &amp; Demons</td></tr><tr><td>As Good as It Gets</td></tr><tr><td>Backdraft</td></tr><tr><td>Batkid</td></tr><tr><td>Batman Begins</td></tr><tr><td>Batman v Superman: Dawn of Justice</td></tr><tr><td>Believer</td></tr><tr><td>Beyond Rangoon</td></tr><tr><td>Bird on a Wire</td></tr><tr><td>Black Hawk Down</td></tr><tr><td>Black Rain</td></tr><tr><td>Blade Runner 2049</td></tr><tr><td>Broken Arrow</td></tr><tr><td>Burning Secret</td></tr><tr><td>Calendar Girl</td></tr><tr><td>Chappie</td></tr><tr><td>Chicago Joe and the Showgirl</td></tr><tr><td>Chill Factor</td></tr><tr><td>Crimson Tide</td></tr><tr><td>Dark Obsession</td></tr><tr><td>Dark Phoenix</td></tr><tr><td>Days of Thunder</td></tr><tr><td>Driving Miss Daisy</td></tr><tr><td>Drop Zone</td></tr><tr><td>Dune</td></tr><tr><td>Dunkirk</td></tr><tr><td>Fools of Fortune</td></tr><tr><td>Freeheld</td></tr><tr><td>Frost/Nixon</td></tr><tr><td>Gladiator</td></tr><tr><td>Green Card</td></tr><tr><td>Hannibal</td></tr><tr><td>Hidden Figures</td></tr><tr><td>How Do You Know</td></tr><tr><td>I'll Do Anything</td></tr><tr><td>Inception</td></tr><tr><td>Inferno</td></tr><tr><td>Interstellar</td></tr><tr><td>Invincible</td></tr><tr><td>It's Complicated</td></tr><tr><td>King Arthur</td></tr><tr><td>Man of Steel</td></tr><tr><td>Matchstick Men</td></tr><tr><td>Mission: Impossible II</td></tr><tr><td>Mr. Morgan's Last Love</td></tr><tr><td>Nightmare at Noon</td></tr><tr><td>Nine Months</td></tr><tr><td>No Time to Die</td></tr><tr><td>Pacific Heights</td></tr><tr><td>Pearl Harbor</td></tr><tr><td>Pirates of the Caribbean: Dead Man's Chest</td></tr><tr><td>Pirates of the Caribbean: The Curse of the Black Pearl</td></tr><tr><td>Point of No Return</td></tr><tr><td>Radio Flyer</td></tr><tr><td>Rain Man</td></tr><tr><td>Regarding Henry</td></tr><tr><td>Renaissance Man</td></tr><tr><td>Riding in Cars with Boys</td></tr><tr><td>Rush</td></tr><tr><td>Separate Vacations</td></tr><tr><td>Sherlock Holmes</td></tr><tr><td>Sherlock Holmes: A Game of Shadows</td></tr><tr><td>Something to Talk About</td></tr><tr><td>Something's Gotta Give</td></tr><tr><td>Son of God</td></tr><tr><td>Son of Morning</td></tr><tr><td>Spanglish</td></tr><tr><td>Tears of the Sun</td></tr><tr><td>Terminal Exposure</td></tr><tr><td>The Amazing Spider-Man 2</td></tr><tr><td>The Boat That Rocked</td></tr><tr><td>The Da Vinci Code</td></tr><tr><td>The Dark Knight</td></tr><tr><td>The Dark Knight Rises</td></tr><tr><td>The Dilemma</td></tr><tr><td>The Fan</td></tr><tr><td>The Fruit Machine</td></tr><tr><td>The Holiday</td></tr><tr><td>The House of the Spirits</td></tr><tr><td>The Last Days</td></tr><tr><td>The Last Face</td></tr><tr><td>The Last Samurai</td></tr><tr><td>The Lightship</td></tr><tr><td>The Lion King</td></tr><tr><td>The Peacemaker</td></tr><tr><td>The Power of One</td></tr><tr><td>The Preacher's Wife</td></tr><tr><td>The Ring</td></tr><tr><td>The Road of Love</td></tr><tr><td>The Rock</td></tr><tr><td>The SpongeBob Movie: Sponge on the Run</td></tr><tr><td>The Thin Red Line</td></tr><tr><td>The Weather Man</td></tr><tr><td>The Wind</td></tr><tr><td>The Woman in Gold</td></tr><tr><td>The Zero Boys</td></tr><tr><td>Thelma &amp; Louise</td></tr><tr><td>Top Gun: Maverick</td></tr><tr><td>Toys</td></tr><tr><td>True Romance</td></tr><tr><td>Twister</td></tr><tr><td>Two Deaths</td></tr><tr><td>Widows</td></tr><tr><td>Winter's Tale</td></tr><tr><td>Wonder Woman 1984</td></tr><tr><td>Younger and Younger</td></tr><tr><td>آغاز ایده</td></tr><tr><td>جاده عشق</td></tr><tr><td>貞子3D</td></tr></tbody></table></body></html>"
   ]
  },
  {
   "cell_type": "markdown",
   "metadata": {},
   "source": [
    "### Consulta 6\n",
    "\n",
    "Zimmer es sin duda un compositor prolífico. ¿Exactamente en cuentas películas ha participado como compositor?"
   ]
  },
  {
   "cell_type": "raw",
   "metadata": {},
   "source": [
    "SELECT (COUNT(DISTINCT ?film) AS ?nFilms)\n",
    "WHERE\n",
    "{\n",
    "  ?film wdt:P31 wd:Q11424;        # Película\n",
    "        wdt:P86 wd:Q76364.        # Compuesta por Hans Zimmer\n",
    "}"
   ]
  },
  {
   "cell_type": "markdown",
   "metadata": {},
   "source": [
    "<html><head><meta charset=\"utf-8\"></head><body><table><thead><tr><th>nFilms</th></tr></thead><tbody><tr><td>111</td></tr></tbody></table></body></html>"
   ]
  },
  {
   "cell_type": "markdown",
   "metadata": {},
   "source": [
    "### Consulta 7\n",
    "\n",
    "Es importante que las películas tengan una duración adecuada, ni muy cortas ni demasiado largas. De todas las películas en las que ha colaborado Zimmer como compositor, ¿cuales duran entre 90 y 120 minutos? Muestra los resultados ordenados alfabéticamente. Para cada película muestra el título y la duración.\n",
    "\n",
    "Algunas películas (como *Salto al peligro*) pueden tener varias duraciones (supongo que son distintas versiones de la película). En este apartado no importa si aparecen varias veces en los resultados."
   ]
  },
  {
   "cell_type": "raw",
   "metadata": {},
   "source": [
    "SELECT ?filmTitle ?duration\n",
    "WHERE\n",
    "{\n",
    "  ?film wdt:P31 wd:Q11424;        # Película\n",
    "        wdt:P86 wd:Q76364;        # Compuesta por Hans Zimmer\n",
    "        wdt:P1476 ?filmTitle;     # Capturar título\n",
    "        wdt:P2047 ?duration.      # Capturar duración\n",
    "  FILTER(?duration >= 90 && ?duration <= 120)\n",
    "}\n",
    "ORDER BY ?filmTitle"
   ]
  },
  {
   "cell_type": "markdown",
   "metadata": {},
   "source": [
    "<html><head><meta charset=\"utf-8\"></head><body><table><thead><tr><th>filmTitle</th><th>duration</th></tr></thead><tbody><tr><td>A World Apart</td><td>112</td></tr><tr><td>An Everlasting Piece</td><td>108</td></tr><tr><td>Beyond Rangoon</td><td>95</td></tr><tr><td>Bird on a Wire</td><td>110</td></tr><tr><td>Broken Arrow</td><td>110</td></tr><tr><td>Chappie</td><td>120</td></tr><tr><td>Chicago Joe and the Showgirl</td><td>103</td></tr><tr><td>Chill Factor</td><td>101</td></tr><tr><td>Crimson Tide</td><td>111</td></tr><tr><td>Dark Phoenix</td><td>114</td></tr><tr><td>Days of Thunder</td><td>107</td></tr><tr><td>Driving Miss Daisy</td><td>99</td></tr><tr><td>Drop Zone</td><td>98</td></tr><tr><td>Drop Zone</td><td>101</td></tr><tr><td>Drop Zone</td><td>102</td></tr><tr><td>Dunkirk</td><td>106</td></tr><tr><td>Freeheld</td><td>103</td></tr><tr><td>Green Card</td><td>102</td></tr><tr><td>How Do You Know</td><td>116</td></tr><tr><td>I'll Do Anything</td><td>115</td></tr><tr><td>It's Complicated</td><td>118</td></tr><tr><td>Matchstick Men</td><td>111</td></tr><tr><td>Mr. Morgan's Last Love</td><td>116</td></tr><tr><td>Nightmare at Noon</td><td>96</td></tr><tr><td>Nine Months</td><td>103</td></tr><tr><td>Pacific Heights</td><td>103</td></tr><tr><td>Point of No Return</td><td>103</td></tr><tr><td>Radio Flyer</td><td>114</td></tr><tr><td>Regarding Henry</td><td>108</td></tr><tr><td>Renaissance Man</td><td>117</td></tr><tr><td>Something to Talk About</td><td>106</td></tr><tr><td>The Dilemma</td><td>111</td></tr><tr><td>The Fan</td><td>111</td></tr><tr><td>The Lightship</td><td>92</td></tr><tr><td>The Lion King</td><td>118</td></tr><tr><td>The Peacemaker</td><td>118</td></tr><tr><td>The Preacher's Wife</td><td>119</td></tr><tr><td>The Ring</td><td>116</td></tr><tr><td>The Weather Man</td><td>102</td></tr><tr><td>The Woman in Gold</td><td>109</td></tr><tr><td>Toys</td><td>116</td></tr><tr><td>True Romance</td><td>120</td></tr><tr><td>Twister</td><td>93</td></tr><tr><td>Two Deaths</td><td>102</td></tr><tr><td>Winter's Tale</td><td>118</td></tr><tr><td>貞子3D</td><td>96</td></tr></tbody></table></body></html>"
   ]
  },
  {
   "cell_type": "markdown",
   "metadata": {},
   "source": [
    "### Consulta 8\n",
    "\n",
    "Vamos a recuperar ahora las películas más actuales en las que Zimmer ha colaborado como compositor. Estamos interesados específicamente en películas que se hayan estrenado a partir de 2005.\n",
    "\n",
    "Seguramente, en tu primer intento verás que cada película aparece repetida varias veces con fechas distintas porque Wikidata contiene las fechas de estreno en cada país. Vamos a considerar que la fecha real de estreno de la película es la fecha más antigua de todas ellas.\n",
    "\n",
    "Para que cada película aparezca sólo una vez con la fecha correcta necesitarás agrupar las respuestas por película y título, y aplicar una función de agregación sobre las fechas de publicación. Los resultados se tienen que mostrar ordenados alfabéticamente."
   ]
  },
  {
   "cell_type": "raw",
   "metadata": {},
   "source": [
    "SELECT ?filmTitle (MIN(?filmDate) AS ?minFilmDate)\n",
    "WHERE\n",
    "{\n",
    "  ?film wdt:P31 wd:Q11424;        # Película\n",
    "        wdt:P86 wd:Q76364;        # Compuesta por Hans Zimmer\n",
    "        wdt:P577 ?filmDate;       # Capturar su fecha de publicación\n",
    "        wdt:P1476 ?filmTitle.     # Capturar título\n",
    "  \n",
    "  FILTER(\"2005-01-01\"^^xsd:dateTime <= ?filmDate) #Filtramos las fechas que sean posteriores a 2005. (Con este formato es mucho más rapido)\n",
    "}\n",
    "GROUP BY ?filmTitle #Agrupamos los resultados por titulos, para coger la fecha más antigua\n",
    "ORDER BY ASC(?filmTitle) #Ordenamos los títulos alfabeticamente"
   ]
  },
  {
   "cell_type": "markdown",
   "metadata": {},
   "source": [
    "<html><head><meta charset=\"utf-8\"></head><body><table><thead><tr><th>filmTitle</th><th>minFilmDate</th></tr></thead><tbody><tr><td>12 Years a Slave</td><td>2013-08-30T00:00:00Z</td></tr><tr><td>Angels &amp; Demons</td><td>2009-01-01T00:00:00Z</td></tr><tr><td>Batkid</td><td>2015-01-01T00:00:00Z</td></tr><tr><td>Batman Begins</td><td>2005-06-15T00:00:00Z</td></tr><tr><td>Batman v Superman: Dawn of Justice</td><td>2016-03-23T00:00:00Z</td></tr><tr><td>Believer</td><td>2018-01-01T00:00:00Z</td></tr><tr><td>Blade Runner 2049</td><td>2017-10-03T00:00:00Z</td></tr><tr><td>Chappie</td><td>2015-03-05T00:00:00Z</td></tr><tr><td>Dark Phoenix</td><td>2019-06-05T00:00:00Z</td></tr><tr><td>Dune</td><td>2020-01-01T00:00:00Z</td></tr><tr><td>Dunkirk</td><td>2017-07-13T00:00:00Z</td></tr><tr><td>Freeheld</td><td>2015-01-01T00:00:00Z</td></tr><tr><td>Frost/Nixon</td><td>2008-10-15T00:00:00Z</td></tr><tr><td>Hidden Figures</td><td>2016-12-26T00:00:00Z</td></tr><tr><td>How Do You Know</td><td>2010-01-01T00:00:00Z</td></tr><tr><td>Inception</td><td>2010-07-08T00:00:00Z</td></tr><tr><td>Inferno</td><td>2016-10-13T00:00:00Z</td></tr><tr><td>Interstellar</td><td>2014-10-26T00:00:00Z</td></tr><tr><td>It's Complicated</td><td>2009-12-24T00:00:00Z</td></tr><tr><td>Man of Steel</td><td>2013-06-10T00:00:00Z</td></tr><tr><td>Mr. Morgan's Last Love</td><td>2013-06-01T00:00:00Z</td></tr><tr><td>No Time to Die</td><td>2020-11-12T00:00:00Z</td></tr><tr><td>Pirates of the Caribbean: Dead Man's Chest</td><td>2006-07-07T00:00:00Z</td></tr><tr><td>Rush</td><td>2013-09-02T00:00:00Z</td></tr><tr><td>Sherlock Holmes</td><td>2009-12-24T00:00:00Z</td></tr><tr><td>Sherlock Holmes: A Game of Shadows</td><td>2011-12-16T00:00:00Z</td></tr><tr><td>Son of God</td><td>2014-02-28T00:00:00Z</td></tr><tr><td>Son of Morning</td><td>2011-01-01T00:00:00Z</td></tr><tr><td>Spanglish</td><td>2005-04-07T00:00:00Z</td></tr><tr><td>The Amazing Spider-Man 2</td><td>2014-04-17T00:00:00Z</td></tr><tr><td>The Boat That Rocked</td><td>2009-01-01T00:00:00Z</td></tr><tr><td>The Da Vinci Code</td><td>2006-05-17T00:00:00Z</td></tr><tr><td>The Dark Knight</td><td>2008-07-18T00:00:00Z</td></tr><tr><td>The Dark Knight Rises</td><td>2012-07-20T00:00:00Z</td></tr><tr><td>The Dilemma</td><td>2011-01-01T00:00:00Z</td></tr><tr><td>The Holiday</td><td>2006-12-05T00:00:00Z</td></tr><tr><td>The Last Face</td><td>2015-01-01T00:00:00Z</td></tr><tr><td>The Lion King</td><td>2019-07-17T00:00:00Z</td></tr><tr><td>The SpongeBob Movie: Sponge on the Run</td><td>2020-01-01T00:00:00Z</td></tr><tr><td>The Weather Man</td><td>2005-01-01T00:00:00Z</td></tr><tr><td>The Woman in Gold</td><td>2015-02-09T00:00:00Z</td></tr><tr><td>Top Gun: Maverick</td><td>2020-07-15T00:00:00Z</td></tr><tr><td>Widows</td><td>2018-11-06T00:00:00Z</td></tr><tr><td>Winter's Tale</td><td>2014-02-10T00:00:00Z</td></tr><tr><td>Wonder Woman 1984</td><td>2020-06-05T00:00:00Z</td></tr><tr><td>آغاز ایده</td><td>2010-07-08T00:00:00Z</td></tr><tr><td>貞子3D</td><td>2012-05-12T00:00:00Z</td></tr></tbody></table></body></html>"
   ]
  },
  {
   "cell_type": "markdown",
   "metadata": {},
   "source": [
    "### Consulta 9\n",
    "\n",
    "En una película pueden colaborar varios músicos. ¿Qué otros compositores han compuesto junto a Zimmer en una película? Para cada uno de ellos muestra su nombre, la fecha de nacimiento y (si ha fallecido) la fecha de defunción. Los resultados deben aparecer ordenados alfabéticamente."
   ]
  },
  {
   "cell_type": "raw",
   "metadata": {},
   "source": []
  },
  {
   "cell_type": "markdown",
   "metadata": {},
   "source": []
  },
  {
   "cell_type": "markdown",
   "metadata": {},
   "source": [
    "### Consulta 10\n",
    "\n",
    "¿Cuántos asertos hay sobre Zimmer en Wikidata? Ten en cuenta que Zimmer puede aparece tanto como sujeto como objeto de cada tripleta."
   ]
  },
  {
   "cell_type": "markdown",
   "metadata": {},
   "source": [
    "#### **DUDA: Borrar?**"
   ]
  },
  {
   "cell_type": "raw",
   "metadata": {},
   "source": [
    "# Este cuenta todas las referencias Hans Zimmer en wikipedia\n",
    "SELECT (COUNT(?c1) + COUNT(?c2) as ?referencias)\n",
    "WHERE\n",
    "{\n",
    "  ?c1 ?p1 wd:Q76364.    # Apariciones como objeto\n",
    "  wd:Q76364 ?p2 ?c2.    # Apariciones como sujeto\n",
    "}"
   ]
  },
  {
   "cell_type": "raw",
   "metadata": {},
   "source": [
    "# Este cuenta todas las propiedades registradas en la BC sobre Hans Zimmer\n",
    "SELECT (COUNT(DISTINCT ?p1) + COUNT(DISTINCT ?p2) as ?asertos)\n",
    "WHERE\n",
    "{\n",
    "  ?c1 ?p1 wd:Q76364.    # Apariciones como objeto\n",
    "  wd:Q76364 ?p2 ?c2.    # Apariciones como sujeto\n",
    "}"
   ]
  },
  {
   "cell_type": "markdown",
   "metadata": {},
   "source": [
    "<html><head><meta charset=\"utf-8\"></head><body><table><thead><tr><th>asertos</th></tr></thead><tbody><tr><td>296</td></tr></tbody></table></body></html>"
   ]
  }
 ],
 "metadata": {
  "kernelspec": {
   "display_name": "Python 3",
   "language": "python",
   "name": "python3"
  },
  "language_info": {
   "codemirror_mode": {
    "name": "ipython",
    "version": 3
   },
   "file_extension": ".py",
   "mimetype": "text/x-python",
   "name": "python",
   "nbconvert_exporter": "python",
   "pygments_lexer": "ipython3",
   "version": "3.7.4"
  }
 },
 "nbformat": 4,
 "nbformat_minor": 4
}
