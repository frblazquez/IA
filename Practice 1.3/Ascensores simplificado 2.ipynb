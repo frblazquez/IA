{
 "cells": [
  {
   "cell_type": "markdown",
   "metadata": {},
   "source": [
    "# Problema de los ascensores"
   ]
  },
  {
   "cell_type": "markdown",
   "metadata": {},
   "source": [
    "#### G05 - Boris Carballa Corredoira, Juan Carlos Villanueva Quirós, Francisco Javier Blázquez Martínez"
   ]
  },
  {
   "cell_type": "markdown",
   "metadata": {},
   "source": [
    "Segunda aproximación al problema, el edificio consta de un único bloque con varios ascensores."
   ]
  },
  {
   "cell_type": "code",
   "execution_count": 1,
   "metadata": {},
   "outputs": [],
   "source": [
    "from search import *\n",
    "import copy"
   ]
  },
  {
   "cell_type": "code",
   "execution_count": 2,
   "metadata": {},
   "outputs": [],
   "source": [
    "# CONSTANTES\n",
    "NUM_PLANTAS    = 5 #No se usa\n",
    "NUM_ASCENSORES = 3\n",
    "NUM_PERSONAS   = 10 #Se usa en quita_dejar_coger_inutiles_acciones\n",
    "CAP_ASCENSOR   = 2\n",
    "EN_ASCENSOR    = -1\n",
    "NINGUNA        = -1\n",
    "EN_DESTINO     = -2"
   ]
  },
  {
   "cell_type": "code",
   "execution_count": 3,
   "metadata": {},
   "outputs": [],
   "source": [
    "%run SolutionManager.ipynb"
   ]
  },
  {
   "cell_type": "code",
   "execution_count": 4,
   "metadata": {},
   "outputs": [],
   "source": [
    "# El estado de un nodo del espacio de exploración se compone de:\n",
    "# ascensor_pos      -> Lista con plantas en las que se encuentran los ascensores\n",
    "# ascensor_personas -> Lista de listas, con las personas en cada ascensor\n",
    "# personas          -> Lista con planta en la que se encuentra cada persona \n",
    "#                      (Pueden ser EN_ASCENSOR o EN_DESTINO)\n",
    "class NodeState:\n",
    "\n",
    "    def __init__(self, init_personas):\n",
    "        self.personas = init_personas\n",
    "        self.ascensor_pos = [0 for _ in range(NUM_ASCENSORES)]       # Los ascensores empiezan en la planta cero\n",
    "        self.ascensor_personas = [[] for _ in range(NUM_ASCENSORES)] # Los ascensores empiezan vacíos\n",
    "        \n",
    "    def __eq__(self, nodo):\n",
    "        return self.personas==nodo.personas and self.ascensor_pos==nodo.ascensor_pos and self.ascensor_personas==nodo.ascensor_personas\n",
    "    \n",
    "    # Función necesaria para los algoritmos con control de repetidos\n",
    "    def __hash__(self):\n",
    "        return hash((tuple(self.personas), tuple(self.ascensor_pos), tuple(tuple(x) for x in self.ascensor_personas)))\n",
    "    \n",
    "    # Función necesaria para algoritmos como astar_search()\n",
    "    def __lt__(self,nodo):\n",
    "        return True"
   ]
  },
  {
   "cell_type": "code",
   "execution_count": 5,
   "metadata": {},
   "outputs": [],
   "source": [
    "# Definimos la clase para la representación del problema. \n",
    "\n",
    "class AscensoresSimplificado(Problem) :    \n",
    "   \n",
    "    def __init__(self, initial, goal=None):        \n",
    "        self.initial = initial    # NodeState\n",
    "        self.goal = goal          # Lista enteros\n",
    "        self.analizados = 0\n",
    "\n",
    "    # Codificación acciones:\n",
    "    # (BAJAR, i, j) -> El ascensor i baja j plantas\n",
    "    # (SUBIR, i, j) -> El ascensor i sube j plantas\n",
    "    # (COGER_PERSONA, i, j) -> El ascensor i coge a la persona j\n",
    "    # (DEJAR_PERSONA, i, j) -> El ascensor i deja a la persona j\n",
    "    def actions(self, state):\n",
    "        \n",
    "        accs = list()\n",
    "        personas = state.personas\n",
    "        \n",
    "        for num_ascensor in range(0,NUM_ASCENSORES):\n",
    "            # Parámetros relativos al ascensor a evaluar\n",
    "            ascensor_pos      = state.ascensor_pos[num_ascensor]      # Planta del ascensor\n",
    "            ascensor_personas = state.ascensor_personas[num_ascensor] # Personas dentro del ascensor\n",
    "            ascensor_vacio    = not ascensor_personas\n",
    "            ascensor_lleno    = (len(ascensor_personas)==CAP_ASCENSOR)\n",
    "            \n",
    "            # Personas en la misma planta en la que se encuentra el ascensor que suben y bajan\n",
    "            personas_esta_planta_suben = [i for i in range(len(personas)) if personas[i]==ascensor_pos and self.goal[i]>ascensor_pos]\n",
    "            personas_esta_planta_bajan = [i for i in range(len(personas)) if personas[i]==ascensor_pos and self.goal[i]<ascensor_pos]\n",
    "\n",
    "\n",
    "            # 1.- Si alguien ha llegado a su destino, forzamos que baje del ascensor\n",
    "            for persona in ascensor_personas:\n",
    "                if ascensor_pos==self.goal[persona]:\n",
    "                    return [(DEJAR_PERSONA,num_ascensor,persona)]\n",
    "\n",
    "\n",
    "            # 2.- Para la acción subir requerimos que haya que coger o dejar a alguien\n",
    "            #     más arriba de donde se encuentra el ascensor. Nunca subimos con gente\n",
    "            #     que desea bajar plantas y además, un ascensor no sube si tiene capacidad\n",
    "            #     para más personas y en esa planta hay alguien que desea subir (eliminación\n",
    "            #     de ramas sin perder optimaldad).\n",
    "\n",
    "            persona_menos_arriba = min([person for person in personas if person>ascensor_pos and person!=EN_ASCENSOR and person!=EN_DESTINO], default=NINGUNA)\n",
    "\n",
    "            # Si el ascensor está vacío sólo subimos si hay alguna persona por arriba \n",
    "            # y no hay gente en esta planta que quiera subir\n",
    "            if ascensor_vacio:\n",
    "                if persona_menos_arriba!=NINGUNA and not(personas_esta_planta_suben):\n",
    "                    accs.append((SUBIR,num_ascensor,persona_menos_arriba-ascensor_pos))\n",
    "\n",
    "            # Si el ascensor no está vacío comprobamos que sus personas suben y vamos\n",
    "            # al mínimo entre a donde suben estas y donde hay una persona por encima\n",
    "            # siempre que no nos quede espacio o no haya gente en esa planta que quiere subir\n",
    "            elif self.goal[ascensor_personas[0]]>ascensor_pos:\n",
    "                destino_menos_arriba = min([self.goal[i] for i in ascensor_personas])\n",
    "\n",
    "                if ascensor_lleno or not(personas_esta_planta_suben):\n",
    "                    if persona_menos_arriba==NINGUNA:\n",
    "                        accs.append((SUBIR,num_ascensor,destino_menos_arriba-ascensor_pos))\n",
    "                    else:\n",
    "                        accs.append((SUBIR,num_ascensor,min(persona_menos_arriba, destino_menos_arriba)-ascensor_pos))\n",
    "\n",
    "\n",
    "            # 3.- La acción bajar es totalmente dual a la acción subir, misma lógica en\n",
    "            #     las condiciones. \n",
    "\n",
    "            persona_menos_abajo = max([person for person in personas if person<ascensor_pos and person!=EN_ASCENSOR and person!=EN_DESTINO], default=NINGUNA)\n",
    "\n",
    "            # Si el ascensor está vacío sólo bajamos si hay alguna persona por abajo\n",
    "            if ascensor_vacio:\n",
    "                if persona_menos_abajo!=NINGUNA and not(personas_esta_planta_bajan):\n",
    "                    accs.append((BAJAR,num_ascensor,ascensor_pos-persona_menos_abajo))\n",
    "            elif self.goal[ascensor_personas[0]]<ascensor_pos:\n",
    "                destino_menos_abajo = max([self.goal[i] for i in ascensor_personas])\n",
    "\n",
    "                if ascensor_lleno or not(personas_esta_planta_bajan):\n",
    "                    if persona_menos_abajo==NINGUNA:\n",
    "                        accs.append((BAJAR,num_ascensor,ascensor_pos-destino_menos_abajo))\n",
    "                    else:\n",
    "                        accs.append((BAJAR,num_ascensor,ascensor_pos-max(persona_menos_abajo, destino_menos_abajo)))\n",
    "\n",
    "            # 4.- Acción dejar persona:\n",
    "            for personaInterior in ascensor_personas:\n",
    "                accs.append((DEJAR_PERSONA,num_ascensor,personaInterior))\n",
    "\n",
    "            # 5.- Acción coger persona. Sólo cogemos a personas que suben o bajan, no ambas\n",
    "            if not ascensor_lleno:\n",
    "                if ascensor_vacio:\n",
    "                    for persona in personas_esta_planta_suben:\n",
    "                        accs.append((COGER_PERSONA,num_ascensor,persona))\n",
    "                    for persona in personas_esta_planta_bajan:\n",
    "                        accs.append((COGER_PERSONA,num_ascensor,persona))\n",
    "                else:\n",
    "                    if self.goal[ascensor_personas[0]]<ascensor_pos:\n",
    "                        for persona in personas_esta_planta_bajan:\n",
    "                            accs.append((COGER_PERSONA,num_ascensor,persona))\n",
    "                    else:\n",
    "                        for persona in personas_esta_planta_suben:\n",
    "                            accs.append((COGER_PERSONA,num_ascensor,persona))\n",
    "\n",
    "        return accs\n",
    "\n",
    "    def result(self, state, action):\n",
    "        estado_nuevo = copy.deepcopy(state)\n",
    "        ascensor = action[1]\n",
    "        \n",
    "        if action[0]==BAJAR:\n",
    "            estado_nuevo.ascensor_pos[ascensor] -= action[2]\n",
    "        elif action[0]==SUBIR:\n",
    "            estado_nuevo.ascensor_pos[ascensor] += action[2]\n",
    "        elif action[0]==COGER_PERSONA:\n",
    "            estado_nuevo.ascensor_personas[ascensor].append(action[2])\n",
    "            estado_nuevo.personas[action[2]] = EN_ASCENSOR\n",
    "        else:\n",
    "            estado_nuevo.ascensor_personas[ascensor].remove(action[2])\n",
    "            \n",
    "            if self.goal[action[2]]==state.ascensor_pos[ascensor]:\n",
    "                estado_nuevo.personas[action[2]] = EN_DESTINO\n",
    "            else:\n",
    "                estado_nuevo.personas[action[2]] = state.ascensor_pos[ascensor]\n",
    "        \n",
    "        return estado_nuevo\n",
    "    \n",
    "    def goal_test(self, state):\n",
    "        self.analizados +=1\n",
    "        return state.personas == [EN_DESTINO for persona in state.personas]\n",
    "\n",
    "    def path_cost(self, c, state1, action, state2):\n",
    "        if action[0]==BAJAR or action[0]==SUBIR:\n",
    "            return c + action[2]\n",
    "        else:\n",
    "            return c\n",
    "    \n",
    "    def h(self,node):\n",
    "        suma = sum([abs(self.goal[i]-node.state.personas[i]) for i in range(0,len(node.state.personas)) if node.state.personas[i]!=EN_DESTINO and node.state.personas[i]!=EN_ASCENSOR])\n",
    "        for ascensor in range(0, NUM_ASCENSORES):\n",
    "            suma += sum([abs(self.goal[persona]-node.state.ascensor_pos[ascensor]) for persona in node.state.ascensor_personas[ascensor]])\n",
    "        return suma\n",
    "        \n",
    "    def value(self, state):\n",
    "        raise NotImplementedError"
   ]
  },
  {
   "cell_type": "code",
   "execution_count": 6,
   "metadata": {},
   "outputs": [],
   "source": [
    "init = NodeState([3,5,8,2,3,0,1,9,6,7])\n",
    "goal = [0,0,9,0,9,5,5,5,5,5]\n",
    "problem = AscensoresSimplificado(init, goal)"
   ]
  },
  {
   "cell_type": "code",
   "execution_count": 7,
   "metadata": {},
   "outputs": [
    {
     "ename": "KeyboardInterrupt",
     "evalue": "",
     "output_type": "error",
     "traceback": [
      "\u001b[1;31m---------------------------------------------------------------------------\u001b[0m",
      "\u001b[1;31mKeyboardInterrupt\u001b[0m                         Traceback (most recent call last)",
      "\u001b[1;32m<ipython-input-7-c05b8df64320>\u001b[0m in \u001b[0;36m<module>\u001b[1;34m\u001b[0m\n\u001b[1;32m----> 1\u001b[1;33m \u001b[0macciones\u001b[0m \u001b[1;33m=\u001b[0m \u001b[0mcocina_acciones\u001b[0m\u001b[1;33m(\u001b[0m\u001b[0mbreadth_first_graph_search\u001b[0m\u001b[1;33m(\u001b[0m\u001b[0mproblem\u001b[0m\u001b[1;33m)\u001b[0m\u001b[1;33m.\u001b[0m\u001b[0msolution\u001b[0m\u001b[1;33m(\u001b[0m\u001b[1;33m)\u001b[0m\u001b[1;33m)\u001b[0m\u001b[1;33m\u001b[0m\u001b[1;33m\u001b[0m\u001b[0m\n\u001b[0m\u001b[0;32m      2\u001b[0m \u001b[0mdecodificador_acciones\u001b[0m\u001b[1;33m(\u001b[0m\u001b[0macciones\u001b[0m\u001b[1;33m)\u001b[0m\u001b[1;33m\u001b[0m\u001b[1;33m\u001b[0m\u001b[0m\n",
      "\u001b[1;32m~\\PHYTON\\PRACTICA 2B ASCENSORES\\search.py\u001b[0m in \u001b[0;36mbreadth_first_graph_search\u001b[1;34m(problem)\u001b[0m\n\u001b[0;32m    247\u001b[0m         \u001b[0mexplored\u001b[0m\u001b[1;33m.\u001b[0m\u001b[0madd\u001b[0m\u001b[1;33m(\u001b[0m\u001b[0mnode\u001b[0m\u001b[1;33m.\u001b[0m\u001b[0mstate\u001b[0m\u001b[1;33m)\u001b[0m\u001b[1;33m\u001b[0m\u001b[1;33m\u001b[0m\u001b[0m\n\u001b[0;32m    248\u001b[0m         \u001b[1;32mfor\u001b[0m \u001b[0mchild\u001b[0m \u001b[1;32min\u001b[0m \u001b[0mnode\u001b[0m\u001b[1;33m.\u001b[0m\u001b[0mexpand\u001b[0m\u001b[1;33m(\u001b[0m\u001b[0mproblem\u001b[0m\u001b[1;33m)\u001b[0m\u001b[1;33m:\u001b[0m\u001b[1;33m\u001b[0m\u001b[1;33m\u001b[0m\u001b[0m\n\u001b[1;32m--> 249\u001b[1;33m             \u001b[1;32mif\u001b[0m \u001b[0mchild\u001b[0m\u001b[1;33m.\u001b[0m\u001b[0mstate\u001b[0m \u001b[1;32mnot\u001b[0m \u001b[1;32min\u001b[0m \u001b[0mexplored\u001b[0m \u001b[1;32mand\u001b[0m \u001b[0mchild\u001b[0m \u001b[1;32mnot\u001b[0m \u001b[1;32min\u001b[0m \u001b[0mfrontier\u001b[0m\u001b[1;33m:\u001b[0m\u001b[1;33m\u001b[0m\u001b[1;33m\u001b[0m\u001b[0m\n\u001b[0m\u001b[0;32m    250\u001b[0m                 \u001b[1;32mif\u001b[0m \u001b[0mproblem\u001b[0m\u001b[1;33m.\u001b[0m\u001b[0mgoal_test\u001b[0m\u001b[1;33m(\u001b[0m\u001b[0mchild\u001b[0m\u001b[1;33m.\u001b[0m\u001b[0mstate\u001b[0m\u001b[1;33m)\u001b[0m\u001b[1;33m:\u001b[0m\u001b[1;33m\u001b[0m\u001b[1;33m\u001b[0m\u001b[0m\n\u001b[0;32m    251\u001b[0m                     \u001b[1;32mreturn\u001b[0m \u001b[0mchild\u001b[0m\u001b[1;33m\u001b[0m\u001b[1;33m\u001b[0m\u001b[0m\n",
      "\u001b[1;32m~\\PHYTON\\PRACTICA 2B ASCENSORES\\search.py\u001b[0m in \u001b[0;36m__eq__\u001b[1;34m(self, other)\u001b[0m\n\u001b[0;32m    132\u001b[0m     \u001b[1;31m# want in other contexts.]\u001b[0m\u001b[1;33m\u001b[0m\u001b[1;33m\u001b[0m\u001b[1;33m\u001b[0m\u001b[0m\n\u001b[0;32m    133\u001b[0m \u001b[1;33m\u001b[0m\u001b[0m\n\u001b[1;32m--> 134\u001b[1;33m     \u001b[1;32mdef\u001b[0m \u001b[0m__eq__\u001b[0m\u001b[1;33m(\u001b[0m\u001b[0mself\u001b[0m\u001b[1;33m,\u001b[0m \u001b[0mother\u001b[0m\u001b[1;33m)\u001b[0m\u001b[1;33m:\u001b[0m\u001b[1;33m\u001b[0m\u001b[1;33m\u001b[0m\u001b[0m\n\u001b[0m\u001b[0;32m    135\u001b[0m         \u001b[1;32mreturn\u001b[0m \u001b[0misinstance\u001b[0m\u001b[1;33m(\u001b[0m\u001b[0mother\u001b[0m\u001b[1;33m,\u001b[0m \u001b[0mNode\u001b[0m\u001b[1;33m)\u001b[0m \u001b[1;32mand\u001b[0m \u001b[0mself\u001b[0m\u001b[1;33m.\u001b[0m\u001b[0mstate\u001b[0m \u001b[1;33m==\u001b[0m \u001b[0mother\u001b[0m\u001b[1;33m.\u001b[0m\u001b[0mstate\u001b[0m\u001b[1;33m\u001b[0m\u001b[1;33m\u001b[0m\u001b[0m\n\u001b[0;32m    136\u001b[0m \u001b[1;33m\u001b[0m\u001b[0m\n",
      "\u001b[1;31mKeyboardInterrupt\u001b[0m: "
     ]
    }
   ],
   "source": [
    "acciones = cocina_acciones(breadth_first_graph_search(problem).solution())\n",
    "decodificador_acciones(acciones)"
   ]
  },
  {
   "cell_type": "code",
   "execution_count": 8,
   "metadata": {},
   "outputs": [
    {
     "data": {
      "text/plain": [
       "31521"
      ]
     },
     "execution_count": 8,
     "metadata": {},
     "output_type": "execute_result"
    }
   ],
   "source": [
    "problem.analizados"
   ]
  },
  {
   "cell_type": "code",
   "execution_count": 9,
   "metadata": {},
   "outputs": [
    {
     "ename": "NameError",
     "evalue": "name 'acciones' is not defined",
     "output_type": "error",
     "traceback": [
      "\u001b[1;31m---------------------------------------------------------------------------\u001b[0m",
      "\u001b[1;31mNameError\u001b[0m                                 Traceback (most recent call last)",
      "\u001b[1;32m<ipython-input-9-8f72e0302fa5>\u001b[0m in \u001b[0;36m<module>\u001b[1;34m\u001b[0m\n\u001b[1;32m----> 1\u001b[1;33m \u001b[0mcoste_acciones\u001b[0m\u001b[1;33m(\u001b[0m\u001b[0macciones\u001b[0m\u001b[1;33m)\u001b[0m\u001b[1;33m\u001b[0m\u001b[1;33m\u001b[0m\u001b[0m\n\u001b[0m",
      "\u001b[1;31mNameError\u001b[0m: name 'acciones' is not defined"
     ]
    }
   ],
   "source": [
    "coste_acciones(acciones)"
   ]
  },
  {
   "cell_type": "code",
   "execution_count": 10,
   "metadata": {
    "scrolled": false
   },
   "outputs": [
    {
     "name": "stdout",
     "output_type": "stream",
     "text": [
      "El ascensor 2 coge a la persona 5\n",
      "El ascensor 2 sube 1 plantas\n",
      "El ascensor 2 coge a la persona 6\n",
      "El ascensor 2 sube 4 plantas\n",
      "El ascensor 2 deja a la persona 5\n",
      "El ascensor 2 deja a la persona 6\n",
      "El ascensor 2 coge a la persona 1\n",
      "El ascensor 2 baja 2 plantas\n",
      "El ascensor 2 coge a la persona 0\n",
      "El ascensor 2 baja 3 plantas\n",
      "El ascensor 2 deja a la persona 1\n",
      "El ascensor 2 deja a la persona 0\n",
      "El ascensor 1 sube 3 plantas\n",
      "El ascensor 1 coge a la persona 4\n",
      "El ascensor 1 sube 5 plantas\n",
      "El ascensor 1 coge a la persona 2\n",
      "El ascensor 1 sube 1 plantas\n",
      "El ascensor 1 deja a la persona 4\n",
      "El ascensor 1 deja a la persona 2\n",
      "El ascensor 1 coge a la persona 7\n",
      "El ascensor 1 baja 2 plantas\n",
      "El ascensor 1 coge a la persona 9\n",
      "El ascensor 1 baja 2 plantas\n",
      "El ascensor 1 deja a la persona 7\n",
      "El ascensor 1 deja a la persona 9\n",
      "El ascensor 1 sube 1 plantas\n",
      "El ascensor 1 coge a la persona 8\n",
      "El ascensor 0 sube 2 plantas\n",
      "El ascensor 0 coge a la persona 3\n",
      "El ascensor 1 baja 1 plantas\n",
      "El ascensor 1 deja a la persona 8\n",
      "El ascensor 0 baja 2 plantas\n",
      "El ascensor 0 deja a la persona 3\n"
     ]
    }
   ],
   "source": [
    "problem.analizados=0\n",
    "acciones = cocina_acciones(astar_search(problem).solution())\n",
    "decodificador_acciones(acciones)"
   ]
  },
  {
   "cell_type": "code",
   "execution_count": 11,
   "metadata": {},
   "outputs": [
    {
     "data": {
      "text/plain": [
       "248"
      ]
     },
     "execution_count": 11,
     "metadata": {},
     "output_type": "execute_result"
    }
   ],
   "source": [
    "problem.analizados"
   ]
  },
  {
   "cell_type": "code",
   "execution_count": null,
   "metadata": {},
   "outputs": [],
   "source": [
    "coste_acciones(acciones)"
   ]
  }
 ],
 "metadata": {
  "kernelspec": {
   "display_name": "Python 3",
   "language": "python",
   "name": "python3"
  },
  "language_info": {
   "codemirror_mode": {
    "name": "ipython",
    "version": 3
   },
   "file_extension": ".py",
   "mimetype": "text/x-python",
   "name": "python",
   "nbconvert_exporter": "python",
   "pygments_lexer": "ipython3",
   "version": "3.6.8"
  }
 },
 "nbformat": 4,
 "nbformat_minor": 2
}
