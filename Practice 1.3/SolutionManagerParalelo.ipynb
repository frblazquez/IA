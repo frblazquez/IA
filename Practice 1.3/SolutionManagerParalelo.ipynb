{
 "cells": [
  {
   "cell_type": "markdown",
   "metadata": {},
   "source": [
    "#### Codificación acciones_ampliadas:\n",
    " + ((BAJAR, i, j),[a,b]) &rArr; El ascensor i baja j plantas desde el instante a y tarda b-a segundos\n",
    " + ((SUBIR, i, j),[a,b]) &rArr; El ascensor i sube j plantas desde el instante a y tarda b-a segundos\n",
    " + ((COGER_PERSONA, i, j=[]),[a]) &rArr; El ascensor i coge a las personas de la lista j en el instante a\n",
    " + ((DEJAR_PERSONA, i, j=[]),[a]) &rArr; El ascensor i deja a las personas de la lista j en el instante a\n",
    " + ((ESPERAR, i),[a,b]) &rArr; El ascensor i espera desde el instante a y tarda b-a segundos"
   ]
  },
  {
   "cell_type": "markdown",
   "metadata": {},
   "source": [
    "#### CÓDIGOS OPERACIONES"
   ]
  },
  {
   "cell_type": "code",
   "execution_count": 54,
   "metadata": {},
   "outputs": [],
   "source": [
    "BAJAR=0\n",
    "SUBIR=1\n",
    "COGER_PERSONA=2\n",
    "DEJAR_PERSONA=3\n",
    "ESPERAR=4 #Solo internamente en decodificador"
   ]
  },
  {
   "cell_type": "markdown",
   "metadata": {},
   "source": [
    "***decodificador_acciones_paralelas***: Hace legible la lista de acciones"
   ]
  },
  {
   "cell_type": "code",
   "execution_count": 55,
   "metadata": {},
   "outputs": [],
   "source": [
    "def decodificador_acciones_paralelas(acciones_ampliadas):\n",
    "    lista_imprimir = []\n",
    "    \n",
    "    #Pasar de tener instantes a tener rangos [inicio,fin], comparando con la anterior (se presupone ordenado)\n",
    "    #Añade la accion de ESPERA\n",
    "    prev_instante = 0\n",
    "    for i in range(len(acciones_ampliadas)):\n",
    "        acc_ampl = acciones_ampliadas[i]\n",
    "        accion = acc_ampl[0]\n",
    "        instante = acc_ampl[1]\n",
    "        if i > 0 and accion[1] != acciones_ampliadas[i - 1][0][1]:\n",
    "            prev_instante = 0\n",
    "        if accion[0] == COGER_PERSONA and instante > prev_instante:\n",
    "            lista_imprimir.append(((ESPERAR, accion[1]), [prev_instante, instante]))\n",
    "        if accion[0] == COGER_PERSONA or accion[0] == DEJAR_PERSONA:\n",
    "            lista_imprimir.append((accion, [instante]))\n",
    "        else:\n",
    "            lista_imprimir.append((accion, [prev_instante, instante]))\n",
    "        prev_instante = instante\n",
    "        \n",
    "    #Imprimir\n",
    "    for accion_ampl_tiempo in lista_imprimir:\n",
    "        tiempo = \"[\" + ','.join([str(t) for t in accion_ampl_tiempo[1]]) + \"] -> \"\n",
    "        accion = accion_ampl_tiempo[0]\n",
    "        if accion[0]==ESPERAR:\n",
    "            accion_impresa = \"El ascensor \"+str(accion[1])+\" espera\"\n",
    "        else:\n",
    "            #Decodificador_acciones pero sin hacer print\n",
    "            if accion[0]==BAJAR or accion[0]==SUBIR:\n",
    "                if accion[0]==BAJAR:\n",
    "                    sube_baja = \" baja \"\n",
    "                else:\n",
    "                    sube_baja = \" sube \"\n",
    "                if accion[2]>1:\n",
    "                    plantas = \" plantas\"\n",
    "                else:\n",
    "                    plantas = \" planta\"\n",
    "                accion_impresa = \"El ascensor \"+str(accion[1])+sube_baja+str(accion[2])+plantas\n",
    "            else:\n",
    "                if accion[0]==COGER_PERSONA:\n",
    "                    coge_deja = \" coge a \"\n",
    "                else:\n",
    "                    coge_deja = \" deja a \"\n",
    "                lista_gente = [str(num) for num in accion[2]]\n",
    "                if len(lista_gente)>1:\n",
    "                    gente = \"las personas \"\n",
    "                else:\n",
    "                    gente = \"la persona \"\n",
    "                accion_impresa = \"El ascensor \"+str(accion[1])+coge_deja+gente+\", \".join(lista_gente)\n",
    "        print(tiempo+accion_impresa)\n",
    "    "
   ]
  },
  {
   "cell_type": "markdown",
   "metadata": {},
   "source": [
    "***reordenar_acciones_paralelas***: Ordena las acciones poniéndolas agrupadas por ascensores"
   ]
  },
  {
   "cell_type": "code",
   "execution_count": 56,
   "metadata": {},
   "outputs": [],
   "source": [
    "def reordenar_acciones_paralelas(acciones_ampliadas):\n",
    "    clasificar_por_ascensor = [[] for _ in range(NUM_ASCENSORES)]\n",
    "    for acc_ampl in acciones_ampliadas: #tuplas (accion,instante)\n",
    "        clasificar_por_ascensor[acc_ampl[0][1]].append(acc_ampl)\n",
    "    return [acc_ampl for lista_ascensor in clasificar_por_ascensor for acc_ampl in lista_ascensor] #[[]] a []"
   ]
  },
  {
   "cell_type": "markdown",
   "metadata": {},
   "source": [
    "***quita_dejar_coger_inutiles_acciones_paralelas***: Quita si hay una cadena dejar-coger o coger-dejar para un mismo ascensor y persona sin que ese ascensor suba o baje en el medio"
   ]
  },
  {
   "cell_type": "code",
   "execution_count": 57,
   "metadata": {},
   "outputs": [],
   "source": [
    "def quita_dejar_coger_inutiles_acciones_paralelas(acciones_ampliadas):\n",
    "    index_ultimo_dejar_por_ascensor = [[-1 for _ in range(NUM_PERSONAS)] for _ in range(NUM_ASCENSORES)]\n",
    "    indexes_a_borrar = set()\n",
    "    for i, accion_ampliada in enumerate(acciones_ampliadas):\n",
    "        accion = accion_ampliada[0]\n",
    "        if accion[0]==DEJAR_PERSONA or accion[0]==COGER_PERSONA:\n",
    "            if index_ultimo_dejar_por_ascensor[accion[1]][accion[2]]==-1:\n",
    "                index_ultimo_dejar_por_ascensor[accion[1]][accion[2]]=i\n",
    "            else:\n",
    "                supuestamente_inverso = acciones_ampliadas[index_ultimo_dejar_por_ascensor[accion[1]][accion[2]]][0]\n",
    "                if supuestamente_inverso[0] != accion[0]:\n",
    "                    indexes_a_borrar.add(index_ultimo_dejar_por_ascensor[accion[1]][accion[2]])\n",
    "                    indexes_a_borrar.add(i)\n",
    "                    index_ultimo_dejar_por_ascensor[accion[1]][accion[2]]=-1\n",
    "                else: #IMPOSIBLE, cogeríamos (respect. dejaríamos) a la misma persona en el mismo ascensor dos veces\n",
    "                    index_ultimo_dejar_por_ascensor[accion[1]][accion[2]]=i\n",
    "                    \n",
    "        else:\n",
    "            index_ultimo_dejar_por_ascensor[accion[1]] = [-1 for _ in range(NUM_PERSONAS)] #Ya no cancelables\n",
    "    \n",
    "    nuevas_acciones = []\n",
    "    for i in range(len(acciones)):\n",
    "        if not(i in indexes_a_borrar): #asi mejor para que no se corran los indices y porque del/remove/pop tienen coste lineal\n",
    "            nuevas_acciones.append(acciones_ampliadas[i])\n",
    "    \n",
    "    return nuevas_acciones"
   ]
  },
  {
   "cell_type": "markdown",
   "metadata": {},
   "source": [
    "***fusionador_acciones_paralelas***: Junta dos acciones iguales seguidas:\n",
    " + Si un mismo ascensor coge (o deja persona) a m y n seguidamente: aparecerá que se cogió a las personas m,n\n",
    " + Si un mismo ascensor sube (o baja) a m y a n seguidamente: aparecerá que subió m+n plantas"
   ]
  },
  {
   "cell_type": "code",
   "execution_count": 58,
   "metadata": {},
   "outputs": [],
   "source": [
    "def fusionador_acciones_paralelas(acciones_ampliadas):\n",
    "    nuevas_acciones = []\n",
    "    for acc_ampl in acciones_ampliadas:\n",
    "        accion = acc_ampl[0]\n",
    "        instante = acc_ampl[1]\n",
    "        if accion[0]==COGER_PERSONA or accion[0]==DEJAR_PERSONA:\n",
    "            accion = (accion[0],accion[1],[accion[2]])\n",
    "            \n",
    "        if bool(nuevas_acciones) and (accion[0] == nuevas_acciones[-1][0][0] and accion[1] == nuevas_acciones[-1][0][1]):\n",
    "            if accion[0]==SUBIR or accion[0]==BAJAR:\n",
    "                nuevo_instante = nuevas_acciones[-1][1]+instante\n",
    "            else:\n",
    "                nuevo_instante = instante\n",
    "            # Si es SUBIR o BAJAR suma las plantas, si es COGER o DEJAR concatena las listas de personas\n",
    "            nuevas_acciones[-1] = ((nuevas_acciones[-1][0][0], nuevas_acciones[-1][0][1], nuevas_acciones[-1][0][2] + accion[2]), nuevo_instante)\n",
    "        else:\n",
    "            nuevas_acciones.append((accion,instante))\n",
    "    return nuevas_acciones"
   ]
  },
  {
   "cell_type": "markdown",
   "metadata": {},
   "source": [
    "***cocina_acciones_paralelas***: Reduce la lista de acciones lo máximo posible"
   ]
  },
  {
   "cell_type": "code",
   "execution_count": 59,
   "metadata": {},
   "outputs": [],
   "source": [
    "def cocina_acciones_paralelas(acciones_ampliadas):\n",
    "    acciones_amp1 = reordenar_acciones_paralelas(acciones_ampliadas)\n",
    "    acciones_amp2 = quita_dejar_coger_inutiles_acciones_paralelas(acciones_amp1)\n",
    "    acciones_amp3 = fusionador_acciones_paralelas(acciones_amp2)\n",
    "    return acciones_amp3"
   ]
  },
  {
   "cell_type": "markdown",
   "metadata": {},
   "source": [
    "***coste_acciones_paralelas***: Calcula el coste paralelo, esto es, el máximo entre los tiempos de finalización de cada ascensor"
   ]
  },
  {
   "cell_type": "code",
   "execution_count": 60,
   "metadata": {},
   "outputs": [],
   "source": [
    "def coste_acciones_paralelas(init,acciones):\n",
    "    state = init\n",
    "    for acc in acciones:\n",
    "        state = problem.result(state,acc)\n",
    "    return max(state.ascensores_tiempo_llegada)"
   ]
  },
  {
   "cell_type": "markdown",
   "metadata": {},
   "source": [
    "***ampliadas_acciones_paralelas***: Dada la lista de acciones de la solución, devuelve una lista de las mismas acciones con el instante en el que se ejecuta esa acción en la solución "
   ]
  },
  {
   "cell_type": "code",
   "execution_count": 61,
   "metadata": {},
   "outputs": [],
   "source": [
    "def ampliadas_acciones_paralelas(init,acciones):\n",
    "    state = init\n",
    "    acciones_ampliadas = []\n",
    "    for acc in acciones:\n",
    "        state = problem.result(state,acc)\n",
    "        acciones_ampliadas.append((acc,state.ascensores_tiempo_llegada[acc[1]]))\n",
    "    return acciones_ampliadas"
   ]
  }
 ],
 "metadata": {
  "kernelspec": {
   "display_name": "Python 3",
   "language": "python",
   "name": "python3"
  },
  "language_info": {
   "codemirror_mode": {
    "name": "ipython",
    "version": 3
   },
   "file_extension": ".py",
   "mimetype": "text/x-python",
   "name": "python",
   "nbconvert_exporter": "python",
   "pygments_lexer": "ipython3",
   "version": "3.7.3"
  }
 },
 "nbformat": 4,
 "nbformat_minor": 2
}
